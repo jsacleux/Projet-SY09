{
 "cells": [
  {
   "cell_type": "markdown",
   "metadata": {},
   "source": [
    "# Import des librairies nécessaires "
   ]
  },
  {
   "cell_type": "code",
   "execution_count": 1,
   "metadata": {
    "ExecuteTime": {
     "end_time": "2024-06-06T13:22:56.923752Z",
     "start_time": "2024-06-06T13:22:56.911717Z"
    }
   },
   "outputs": [],
   "source": [
    "import pandas as pd\n",
    "import numpy as np\n",
    "import seaborn as sns\n",
    "import matplotlib.pyplot as plt\n",
    "import plotly.express as px\n",
    "from sklearn.model_selection import train_test_split\n",
    "from sklearn.metrics import classification_report\n",
    "from sklearn.metrics import confusion_matrix\n",
    "from sklearn.metrics import accuracy_score, f1_score, recall_score, precision_score\n",
    "from utils import *"
   ]
  },
  {
   "cell_type": "markdown",
   "metadata": {},
   "source": [
    "# Sommaire\n",
    "\n",
    "1. Partition\n",
    "2. Best features selection\n",
    "3. KNN\n",
    "4. LDA, QDA, NB\n",
    "5. Logistic regression\n",
    "6. Decision trees"
   ]
  },
  {
   "cell_type": "markdown",
   "metadata": {},
   "source": [
    "## Partition"
   ]
  },
  {
   "cell_type": "code",
   "execution_count": 2,
   "metadata": {
    "ExecuteTime": {
     "end_time": "2024-06-06T13:22:59.119566Z",
     "start_time": "2024-06-06T13:22:59.092825Z"
    }
   },
   "outputs": [],
   "source": [
    "data = pd.read_csv(\"fetal_health.csv\")\n",
    "data.fetal_health = pd.Categorical(data.fetal_health, categories=[1.0, 2.0, 3.0], ordered=True)"
   ]
  },
  {
   "cell_type": "code",
   "execution_count": 3,
   "metadata": {
    "ExecuteTime": {
     "end_time": "2024-06-06T13:22:59.165397Z",
     "start_time": "2024-06-06T13:22:59.144203Z"
    }
   },
   "outputs": [
    {
     "name": "stdout",
     "output_type": "stream",
     "text": [
      "(2126, 21)\n",
      "(2126,)\n"
     ]
    }
   ],
   "source": [
    "# Création de deux DF (un de labels et un de données)\n",
    "labels = data.fetal_health\n",
    "features = data.drop('fetal_health', axis=1)\n",
    "print(features.shape)\n",
    "print(labels.shape)"
   ]
  },
  {
   "cell_type": "markdown",
   "metadata": {},
   "source": [
    "Les dimensions sont cohérentes"
   ]
  },
  {
   "cell_type": "code",
   "execution_count": 4,
   "metadata": {
    "ExecuteTime": {
     "end_time": "2024-06-06T13:22:59.308480Z",
     "start_time": "2024-06-06T13:22:59.289855Z"
    }
   },
   "outputs": [
    {
     "name": "stdout",
     "output_type": "stream",
     "text": [
      "(1700, 21) (1700,)\n",
      "(426, 21) (426,)\n"
     ]
    }
   ],
   "source": [
    "data_train, data_test, labels_train, labels_test = train_test_split(features, labels, test_size=0.2, random_state=123, shuffle=True, stratify=labels)\n",
    "\n",
    "print(data_train.shape, labels_train.shape)\n",
    "print(data_test.shape, labels_test.shape)"
   ]
  },
  {
   "cell_type": "markdown",
   "metadata": {},
   "source": [
    "Création d'une partition des données avec une proportion 80/20, random state spécifié pour avoir la même partition à chauqe appel, stratify= labels pour conserver les proportions de nos labels "
   ]
  },
  {
   "cell_type": "markdown",
   "metadata": {},
   "source": [
    "## Best features selection"
   ]
  },
  {
   "cell_type": "code",
   "execution_count": 5,
   "metadata": {
    "ExecuteTime": {
     "end_time": "2024-06-06T13:23:00.151790Z",
     "start_time": "2024-06-06T13:22:59.446427Z"
    }
   },
   "outputs": [
    {
     "name": "stderr",
     "output_type": "stream",
     "text": [
      "C:\\Users\\samma\\AppData\\Local\\Temp\\ipykernel_83136\\2833312938.py:1: FutureWarning: The default value of numeric_only in DataFrame.corr is deprecated. In a future version, it will default to False. Select only valid columns or specify the value of numeric_only to silence this warning.\n",
      "  correlation_df = data.corr()[['fetal_health']].drop('fetal_health')\n"
     ]
    },
    {
     "ename": "KeyError",
     "evalue": "\"None of [Index(['fetal_health'], dtype='object')] are in the [columns]\"",
     "output_type": "error",
     "traceback": [
      "\u001b[1;31m---------------------------------------------------------------------------\u001b[0m",
      "\u001b[1;31mKeyError\u001b[0m                                  Traceback (most recent call last)",
      "Cell \u001b[1;32mIn[5], line 1\u001b[0m\n\u001b[1;32m----> 1\u001b[0m correlation_df \u001b[38;5;241m=\u001b[39m \u001b[43mdata\u001b[49m\u001b[38;5;241;43m.\u001b[39;49m\u001b[43mcorr\u001b[49m\u001b[43m(\u001b[49m\u001b[43m)\u001b[49m\u001b[43m[\u001b[49m\u001b[43m[\u001b[49m\u001b[38;5;124;43m'\u001b[39;49m\u001b[38;5;124;43mfetal_health\u001b[39;49m\u001b[38;5;124;43m'\u001b[39;49m\u001b[43m]\u001b[49m\u001b[43m]\u001b[49m\u001b[38;5;241m.\u001b[39mdrop(\u001b[38;5;124m'\u001b[39m\u001b[38;5;124mfetal_health\u001b[39m\u001b[38;5;124m'\u001b[39m)\n\u001b[0;32m      3\u001b[0m \u001b[38;5;66;03m# Heatmap plot\u001b[39;00m\n\u001b[0;32m      4\u001b[0m plt\u001b[38;5;241m.\u001b[39mfigure(figsize\u001b[38;5;241m=\u001b[39m(\u001b[38;5;241m3\u001b[39m, \u001b[38;5;241m5\u001b[39m))\n",
      "File \u001b[1;32mc:\\Users\\samma\\AppData\\Local\\Programs\\Python\\Python310\\lib\\site-packages\\pandas\\core\\frame.py:3813\u001b[0m, in \u001b[0;36mDataFrame.__getitem__\u001b[1;34m(self, key)\u001b[0m\n\u001b[0;32m   3811\u001b[0m     \u001b[38;5;28;01mif\u001b[39;00m is_iterator(key):\n\u001b[0;32m   3812\u001b[0m         key \u001b[38;5;241m=\u001b[39m \u001b[38;5;28mlist\u001b[39m(key)\n\u001b[1;32m-> 3813\u001b[0m     indexer \u001b[38;5;241m=\u001b[39m \u001b[38;5;28;43mself\u001b[39;49m\u001b[38;5;241;43m.\u001b[39;49m\u001b[43mcolumns\u001b[49m\u001b[38;5;241;43m.\u001b[39;49m\u001b[43m_get_indexer_strict\u001b[49m\u001b[43m(\u001b[49m\u001b[43mkey\u001b[49m\u001b[43m,\u001b[49m\u001b[43m \u001b[49m\u001b[38;5;124;43m\"\u001b[39;49m\u001b[38;5;124;43mcolumns\u001b[39;49m\u001b[38;5;124;43m\"\u001b[39;49m\u001b[43m)\u001b[49m[\u001b[38;5;241m1\u001b[39m]\n\u001b[0;32m   3815\u001b[0m \u001b[38;5;66;03m# take() does not accept boolean indexers\u001b[39;00m\n\u001b[0;32m   3816\u001b[0m \u001b[38;5;28;01mif\u001b[39;00m \u001b[38;5;28mgetattr\u001b[39m(indexer, \u001b[38;5;124m\"\u001b[39m\u001b[38;5;124mdtype\u001b[39m\u001b[38;5;124m\"\u001b[39m, \u001b[38;5;28;01mNone\u001b[39;00m) \u001b[38;5;241m==\u001b[39m \u001b[38;5;28mbool\u001b[39m:\n",
      "File \u001b[1;32mc:\\Users\\samma\\AppData\\Local\\Programs\\Python\\Python310\\lib\\site-packages\\pandas\\core\\indexes\\base.py:6070\u001b[0m, in \u001b[0;36mIndex._get_indexer_strict\u001b[1;34m(self, key, axis_name)\u001b[0m\n\u001b[0;32m   6067\u001b[0m \u001b[38;5;28;01melse\u001b[39;00m:\n\u001b[0;32m   6068\u001b[0m     keyarr, indexer, new_indexer \u001b[38;5;241m=\u001b[39m \u001b[38;5;28mself\u001b[39m\u001b[38;5;241m.\u001b[39m_reindex_non_unique(keyarr)\n\u001b[1;32m-> 6070\u001b[0m \u001b[38;5;28;43mself\u001b[39;49m\u001b[38;5;241;43m.\u001b[39;49m\u001b[43m_raise_if_missing\u001b[49m\u001b[43m(\u001b[49m\u001b[43mkeyarr\u001b[49m\u001b[43m,\u001b[49m\u001b[43m \u001b[49m\u001b[43mindexer\u001b[49m\u001b[43m,\u001b[49m\u001b[43m \u001b[49m\u001b[43maxis_name\u001b[49m\u001b[43m)\u001b[49m\n\u001b[0;32m   6072\u001b[0m keyarr \u001b[38;5;241m=\u001b[39m \u001b[38;5;28mself\u001b[39m\u001b[38;5;241m.\u001b[39mtake(indexer)\n\u001b[0;32m   6073\u001b[0m \u001b[38;5;28;01mif\u001b[39;00m \u001b[38;5;28misinstance\u001b[39m(key, Index):\n\u001b[0;32m   6074\u001b[0m     \u001b[38;5;66;03m# GH 42790 - Preserve name from an Index\u001b[39;00m\n",
      "File \u001b[1;32mc:\\Users\\samma\\AppData\\Local\\Programs\\Python\\Python310\\lib\\site-packages\\pandas\\core\\indexes\\base.py:6130\u001b[0m, in \u001b[0;36mIndex._raise_if_missing\u001b[1;34m(self, key, indexer, axis_name)\u001b[0m\n\u001b[0;32m   6128\u001b[0m     \u001b[38;5;28;01mif\u001b[39;00m use_interval_msg:\n\u001b[0;32m   6129\u001b[0m         key \u001b[38;5;241m=\u001b[39m \u001b[38;5;28mlist\u001b[39m(key)\n\u001b[1;32m-> 6130\u001b[0m     \u001b[38;5;28;01mraise\u001b[39;00m \u001b[38;5;167;01mKeyError\u001b[39;00m(\u001b[38;5;124mf\u001b[39m\u001b[38;5;124m\"\u001b[39m\u001b[38;5;124mNone of [\u001b[39m\u001b[38;5;132;01m{\u001b[39;00mkey\u001b[38;5;132;01m}\u001b[39;00m\u001b[38;5;124m] are in the [\u001b[39m\u001b[38;5;132;01m{\u001b[39;00maxis_name\u001b[38;5;132;01m}\u001b[39;00m\u001b[38;5;124m]\u001b[39m\u001b[38;5;124m\"\u001b[39m)\n\u001b[0;32m   6132\u001b[0m not_found \u001b[38;5;241m=\u001b[39m \u001b[38;5;28mlist\u001b[39m(ensure_index(key)[missing_mask\u001b[38;5;241m.\u001b[39mnonzero()[\u001b[38;5;241m0\u001b[39m]]\u001b[38;5;241m.\u001b[39munique())\n\u001b[0;32m   6133\u001b[0m \u001b[38;5;28;01mraise\u001b[39;00m \u001b[38;5;167;01mKeyError\u001b[39;00m(\u001b[38;5;124mf\u001b[39m\u001b[38;5;124m\"\u001b[39m\u001b[38;5;132;01m{\u001b[39;00mnot_found\u001b[38;5;132;01m}\u001b[39;00m\u001b[38;5;124m not in index\u001b[39m\u001b[38;5;124m\"\u001b[39m)\n",
      "\u001b[1;31mKeyError\u001b[0m: \"None of [Index(['fetal_health'], dtype='object')] are in the [columns]\""
     ]
    }
   ],
   "source": [
    "#correlation_df = data.corr()[['fetal_health']].drop('fetal_health')\n",
    "\n",
    "# Heatmap plot\n",
    "plt.figure(figsize=(3, 5))\n",
    "sns.heatmap(correlation_df, cmap='coolwarm', linewidths=0.5, annot=True)\n",
    "plt.title('Corrélation entre chaque variable et fetal_health')\n",
    "plt.show()"
   ]
  },
  {
   "cell_type": "markdown",
   "metadata": {},
   "source": [
    "On remarque que les variables \"accelerations\",\"prolongued_decelerations\", \"abnormal_short_term_variability\", \"percentage_of_time_with_abnormal_long_term_variability\" et \"mean_value_of_long_term_variability\" sont celles qui sont le plus corrélé  à la santé du foetus\n",
    "\n",
    "Nous allons regarder avec d'autres méthodes si ce sont les best features à utiliser"
   ]
  },
  {
   "cell_type": "code",
   "execution_count": 9,
   "metadata": {
    "ExecuteTime": {
     "end_time": "2024-06-06T13:23:00.836263Z",
     "start_time": "2024-06-06T13:23:00.156687Z"
    }
   },
   "outputs": [
    {
     "data": {
      "image/png": "[encoded data removed]",
      "text/plain": [
       "<Figure size 700x700 with 1 Axes>"
      ]
     },
     "metadata": {},
     "output_type": "display_data"
    }
   ],
   "source": [
    "from sklearn.feature_selection import SelectKBest, f_classif\n",
    "\n",
    "X = features\n",
    "Y = labels\n",
    "\n",
    "# f_classif correspond a un test d'ANOVA\n",
    "best_features = SelectKBest(score_func=f_classif, k='all')\n",
    "\n",
    "fit = best_features.fit(X,Y)\n",
    "\n",
    "# résultats \n",
    "df_scores = pd.DataFrame(fit.scores_)\n",
    "df_columns = pd.DataFrame(X.columns)\n",
    "\n",
    "feature_scores = pd.concat([df_columns,df_scores],axis=1)\n",
    "feature_scores.columns = ['Feature','Score'] \n",
    "\n",
    "#Visualize the feature scores\n",
    "fig, ax=plt.subplots(figsize=(7,7))\n",
    "plot=sns.barplot(data=feature_scores, x='Score', y='Feature',linewidth=0.5, orient='h')\n"
   ]
  },
  {
   "cell_type": "markdown",
   "metadata": {},
   "source": [
    "En faisant ce test nous réalisons une analyse de la variance entre chaque variable et nos labels. Avec cela nous calculons un score qui montre les variables qui ont eu le meilleur \"score\" sur le test."
   ]
  },
  {
   "cell_type": "code",
   "execution_count": 7,
   "metadata": {
    "ExecuteTime": {
     "end_time": "2024-06-06T13:23:00.869337Z",
     "start_time": "2024-06-06T13:23:00.839160Z"
    }
   },
   "outputs": [
    {
     "data": {
      "text/html": [
       "<div>\n",
       "<style scoped>\n",
       "    .dataframe tbody tr th:only-of-type {\n",
       "        vertical-align: middle;\n",
       "    }\n",
       "\n",
       "    .dataframe tbody tr th {\n",
       "        vertical-align: top;\n",
       "    }\n",
       "\n",
       "    .dataframe thead th {\n",
       "        text-align: right;\n",
       "    }\n",
       "</style>\n",
       "<table border=\"1\" class=\"dataframe\">\n",
       "  <thead>\n",
       "    <tr style=\"text-align: right;\">\n",
       "      <th></th>\n",
       "      <th>prolongued_decelerations</th>\n",
       "      <th>abnormal_short_term_variability</th>\n",
       "      <th>percentage_of_time_with_abnormal_long_term_variability</th>\n",
       "      <th>histogram_mode</th>\n",
       "      <th>histogram_mean</th>\n",
       "      <th>histogram_median</th>\n",
       "      <th>fetal_health</th>\n",
       "    </tr>\n",
       "  </thead>\n",
       "  <tbody>\n",
       "    <tr>\n",
       "      <th>0</th>\n",
       "      <td>0.0</td>\n",
       "      <td>73.0</td>\n",
       "      <td>43.0</td>\n",
       "      <td>120.0</td>\n",
       "      <td>137.0</td>\n",
       "      <td>121.0</td>\n",
       "      <td>2.0</td>\n",
       "    </tr>\n",
       "    <tr>\n",
       "      <th>1</th>\n",
       "      <td>0.0</td>\n",
       "      <td>17.0</td>\n",
       "      <td>0.0</td>\n",
       "      <td>141.0</td>\n",
       "      <td>136.0</td>\n",
       "      <td>140.0</td>\n",
       "      <td>1.0</td>\n",
       "    </tr>\n",
       "    <tr>\n",
       "      <th>2</th>\n",
       "      <td>0.0</td>\n",
       "      <td>16.0</td>\n",
       "      <td>0.0</td>\n",
       "      <td>141.0</td>\n",
       "      <td>135.0</td>\n",
       "      <td>138.0</td>\n",
       "      <td>1.0</td>\n",
       "    </tr>\n",
       "    <tr>\n",
       "      <th>3</th>\n",
       "      <td>0.0</td>\n",
       "      <td>16.0</td>\n",
       "      <td>0.0</td>\n",
       "      <td>137.0</td>\n",
       "      <td>134.0</td>\n",
       "      <td>137.0</td>\n",
       "      <td>1.0</td>\n",
       "    </tr>\n",
       "    <tr>\n",
       "      <th>4</th>\n",
       "      <td>0.0</td>\n",
       "      <td>16.0</td>\n",
       "      <td>0.0</td>\n",
       "      <td>137.0</td>\n",
       "      <td>136.0</td>\n",
       "      <td>138.0</td>\n",
       "      <td>1.0</td>\n",
       "    </tr>\n",
       "  </tbody>\n",
       "</table>\n",
       "</div>"
      ],
      "text/plain": [
       "   prolongued_decelerations  abnormal_short_term_variability  \\\n",
       "0                       0.0                             73.0   \n",
       "1                       0.0                             17.0   \n",
       "2                       0.0                             16.0   \n",
       "3                       0.0                             16.0   \n",
       "4                       0.0                             16.0   \n",
       "\n",
       "   percentage_of_time_with_abnormal_long_term_variability  histogram_mode  \\\n",
       "0                                               43.0                120.0   \n",
       "1                                                0.0                141.0   \n",
       "2                                                0.0                141.0   \n",
       "3                                                0.0                137.0   \n",
       "4                                                0.0                137.0   \n",
       "\n",
       "   histogram_mean  histogram_median fetal_health  \n",
       "0           137.0             121.0          2.0  \n",
       "1           136.0             140.0          1.0  \n",
       "2           135.0             138.0          1.0  \n",
       "3           134.0             137.0          1.0  \n",
       "4           136.0             138.0          1.0  "
      ]
     },
     "execution_count": 7,
     "metadata": {},
     "output_type": "execute_result"
    }
   ],
   "source": [
    "# On sélectionne les variables avec un score >= 200\n",
    "selection = list(feature_scores[feature_scores['Score']>=200]['Feature'])\n",
    "selection.append('fetal_health')\n",
    "\n",
    "# On crée un nouveau dataset avec les variables qui nous intéressent\n",
    "data_selected = data[selection]\n",
    "data_selected.head()"
   ]
  },
  {
   "cell_type": "code",
   "execution_count": 10,
   "metadata": {},
   "outputs": [
    {
     "ename": "NameError",
     "evalue": "name 'featureScores' is not defined",
     "output_type": "error",
     "traceback": [
      "\u001b[1;31m---------------------------------------------------------------------------\u001b[0m",
      "\u001b[1;31mNameError\u001b[0m                                 Traceback (most recent call last)",
      "Cell \u001b[1;32mIn[10], line 1\u001b[0m\n\u001b[1;32m----> 1\u001b[0m score_features \u001b[38;5;241m=\u001b[39m \u001b[43mfeatureScores\u001b[49m[featureScores[\u001b[38;5;124m'\u001b[39m\u001b[38;5;124mScore\u001b[39m\u001b[38;5;124m'\u001b[39m]\u001b[38;5;241m>\u001b[39m\u001b[38;5;241m=\u001b[39m\u001b[38;5;241m200\u001b[39m]\n",
      "\u001b[1;31mNameError\u001b[0m: name 'featureScores' is not defined"
     ]
    }
   ],
   "source": [
    "score_features = featureScores[featureScores['Score']>=200]"
   ]
  },
  {
   "cell_type": "code",
   "execution_count": null,
   "metadata": {},
   "outputs": [
    {
     "data": {
      "text/html": [
       "<div>\n",
       "<style scoped>\n",
       "    .dataframe tbody tr th:only-of-type {\n",
       "        vertical-align: middle;\n",
       "    }\n",
       "\n",
       "    .dataframe tbody tr th {\n",
       "        vertical-align: top;\n",
       "    }\n",
       "\n",
       "    .dataframe thead th {\n",
       "        text-align: right;\n",
       "    }\n",
       "</style>\n",
       "<table border=\"1\" class=\"dataframe\">\n",
       "  <thead>\n",
       "    <tr style=\"text-align: right;\">\n",
       "      <th></th>\n",
       "      <th>Feature</th>\n",
       "      <th>Score</th>\n",
       "    </tr>\n",
       "  </thead>\n",
       "  <tbody>\n",
       "    <tr>\n",
       "      <th>6</th>\n",
       "      <td>prolongued_decelerations</td>\n",
       "      <td>505.853206</td>\n",
       "    </tr>\n",
       "    <tr>\n",
       "      <th>7</th>\n",
       "      <td>abnormal_short_term_variability</td>\n",
       "      <td>343.820419</td>\n",
       "    </tr>\n",
       "    <tr>\n",
       "      <th>9</th>\n",
       "      <td>percentage_of_time_with_abnormal_long_term_var...</td>\n",
       "      <td>345.156385</td>\n",
       "    </tr>\n",
       "    <tr>\n",
       "      <th>16</th>\n",
       "      <td>histogram_mode</td>\n",
       "      <td>275.117696</td>\n",
       "    </tr>\n",
       "    <tr>\n",
       "      <th>17</th>\n",
       "      <td>histogram_mean</td>\n",
       "      <td>297.625497</td>\n",
       "    </tr>\n",
       "    <tr>\n",
       "      <th>18</th>\n",
       "      <td>histogram_median</td>\n",
       "      <td>248.772237</td>\n",
       "    </tr>\n",
       "  </tbody>\n",
       "</table>\n",
       "</div>"
      ],
      "text/plain": [
       "                                              Feature       Score\n",
       "6                            prolongued_decelerations  505.853206\n",
       "7                     abnormal_short_term_variability  343.820419\n",
       "9   percentage_of_time_with_abnormal_long_term_var...  345.156385\n",
       "16                                     histogram_mode  275.117696\n",
       "17                                     histogram_mean  297.625497\n",
       "18                                   histogram_median  248.772237"
      ]
     },
     "execution_count": 438,
     "metadata": {},
     "output_type": "execute_result"
    }
   ],
   "source": [
    "score_features"
   ]
  },
  {
   "cell_type": "markdown",
   "metadata": {},
   "source": [
    "On voit que les variables sélectionnées sont en parties communes à celles montrées auparavant"
   ]
  },
  {
   "cell_type": "code",
   "execution_count": null,
   "metadata": {
    "ExecuteTime": {
     "end_time": "2024-06-06T13:23:00.902040Z",
     "start_time": "2024-06-06T13:23:00.871158Z"
    }
   },
   "outputs": [],
   "source": [
    "# Création de deux DF\n",
    "labels_selected = data_selected.fetal_health\n",
    "features_selected = data_selected.drop('fetal_health', axis=1)\n",
    "\n",
    "data_train_selected, data_test_selected, labels_train_selected, labels_test_selected = train_test_split(features_selected, labels_selected, test_size=0.2, random_state=123, shuffle=True, stratify=labels_selected)\n"
   ]
  },
  {
   "cell_type": "markdown",
   "metadata": {},
   "source": [
    "# Création d'un dataframe pour stocker les résultats"
   ]
  },
  {
   "cell_type": "code",
   "execution_count": null,
   "metadata": {
    "ExecuteTime": {
     "end_time": "2024-06-06T13:23:00.936278Z",
     "start_time": "2024-06-06T13:23:00.904877Z"
    }
   },
   "outputs": [],
   "source": [
    "accuracies_dataframe = pd.DataFrame(columns=['Algorithm', 'FeatureSelection', 'Standardization', 'Costs', 'Acc_train', 'Acc_test', 'Recall_Pathologic', 'Pathological predicted as Pathological or Suspect'])\n",
    "\n",
    "def update_line(\n",
    "        dataframe, \n",
    "        algorithm, \n",
    "        feature_selection, \n",
    "        standardization, \n",
    "        costs, \n",
    "        acc_train, \n",
    "        acc_test, \n",
    "        recall_pathologic, \n",
    "        patho_suspect\n",
    "):\n",
    "    # Rechercher les lignes correspondant à la clé primaire\n",
    "    index_lignes = dataframe.loc[(dataframe['Algorithm'] == algorithm) &\n",
    "                                   (dataframe['FeatureSelection'] == feature_selection) &\n",
    "                                   (dataframe['Standardization'] == standardization) &\n",
    "                                   (dataframe['Costs'] == costs)].index\n",
    "\n",
    "    # Si la clé primaire n'existe pas, ajouter une nouvelle ligne\n",
    "    if len(index_lignes) == 0:\n",
    "        nouvelle_ligne = pd.DataFrame({\n",
    "            'Algorithm': [algorithm],\n",
    "            'FeatureSelection': [feature_selection],\n",
    "            'Standardization': [standardization],\n",
    "            'Costs':[costs],\n",
    "            'Acc_train': [acc_train],\n",
    "            'Acc_test': [acc_test],\n",
    "            'Recall_Pathologic': [recall_pathologic],\n",
    "            'Pathological predicted as Pathological or Suspect': [patho_suspect]\n",
    "        })\n",
    "        dataframe = pd.concat([dataframe, nouvelle_ligne], ignore_index=True)\n",
    "\n",
    "    # Sinon, mettre à jour les valeurs existantes\n",
    "    else:\n",
    "        index_ligne = index_lignes[0]\n",
    "        dataframe.loc[index_ligne, 'Acc_train'] = acc_train\n",
    "        dataframe.loc[index_ligne, 'Acc_test'] = acc_test\n",
    "        dataframe.loc[index_ligne, 'Recall_Pathologic'] = recall_pathologic\n",
    "        dataframe.loc[index_ligne, 'Pathological predicted as Pathological or Suspect'] = patho_suspect\n",
    "\n",
    "    return dataframe\n"
   ]
  },
  {
   "cell_type": "markdown",
   "metadata": {},
   "source": [
    "## KNeighbors (sans selection des var)"
   ]
  },
  {
   "cell_type": "code",
   "execution_count": null,
   "metadata": {
    "ExecuteTime": {
     "end_time": "2024-06-06T13:23:00.952800Z",
     "start_time": "2024-06-06T13:23:00.939188Z"
    }
   },
   "outputs": [],
   "source": [
    "from sklearn.neighbors import KNeighborsClassifier"
   ]
  },
  {
   "cell_type": "markdown",
   "metadata": {},
   "source": [
    "### Sélection du Kopt"
   ]
  },
  {
   "cell_type": "code",
   "execution_count": null,
   "metadata": {
    "ExecuteTime": {
     "end_time": "2024-06-06T13:23:12.053961Z",
     "start_time": "2024-06-06T13:23:00.957124Z"
    }
   },
   "outputs": [
    {
     "data": {
      "text/html": [
       "<div>\n",
       "<style scoped>\n",
       "    .dataframe tbody tr th:only-of-type {\n",
       "        vertical-align: middle;\n",
       "    }\n",
       "\n",
       "    .dataframe tbody tr th {\n",
       "        vertical-align: top;\n",
       "    }\n",
       "\n",
       "    .dataframe thead th {\n",
       "        text-align: right;\n",
       "    }\n",
       "</style>\n",
       "<table border=\"1\" class=\"dataframe\">\n",
       "  <thead>\n",
       "    <tr style=\"text-align: right;\">\n",
       "      <th></th>\n",
       "      <th># neighbors</th>\n",
       "      <th>accuracy</th>\n",
       "    </tr>\n",
       "  </thead>\n",
       "  <tbody>\n",
       "    <tr>\n",
       "      <th>0</th>\n",
       "      <td>1</td>\n",
       "      <td>[0.9058823529411765, 0.8647058823529412, 0.882...</td>\n",
       "    </tr>\n",
       "    <tr>\n",
       "      <th>1</th>\n",
       "      <td>2</td>\n",
       "      <td>[0.888235294117647, 0.8647058823529412, 0.9, 0...</td>\n",
       "    </tr>\n",
       "    <tr>\n",
       "      <th>2</th>\n",
       "      <td>3</td>\n",
       "      <td>[0.9, 0.8588235294117647, 0.9, 0.8764705882352...</td>\n",
       "    </tr>\n",
       "    <tr>\n",
       "      <th>3</th>\n",
       "      <td>4</td>\n",
       "      <td>[0.9, 0.8705882352941177, 0.888235294117647, 0...</td>\n",
       "    </tr>\n",
       "    <tr>\n",
       "      <th>4</th>\n",
       "      <td>5</td>\n",
       "      <td>[0.9, 0.8705882352941177, 0.888235294117647, 0...</td>\n",
       "    </tr>\n",
       "    <tr>\n",
       "      <th>...</th>\n",
       "      <td>...</td>\n",
       "      <td>...</td>\n",
       "    </tr>\n",
       "    <tr>\n",
       "      <th>66</th>\n",
       "      <td>389</td>\n",
       "      <td>[0.7705882352941177, 0.7411764705882353, 0.794...</td>\n",
       "    </tr>\n",
       "    <tr>\n",
       "      <th>67</th>\n",
       "      <td>414</td>\n",
       "      <td>[0.7705882352941177, 0.7411764705882353, 0.794...</td>\n",
       "    </tr>\n",
       "    <tr>\n",
       "      <th>68</th>\n",
       "      <td>441</td>\n",
       "      <td>[0.7705882352941177, 0.7411764705882353, 0.794...</td>\n",
       "    </tr>\n",
       "    <tr>\n",
       "      <th>69</th>\n",
       "      <td>470</td>\n",
       "      <td>[0.7705882352941177, 0.7411764705882353, 0.794...</td>\n",
       "    </tr>\n",
       "    <tr>\n",
       "      <th>70</th>\n",
       "      <td>500</td>\n",
       "      <td>[0.7705882352941177, 0.7411764705882353, 0.794...</td>\n",
       "    </tr>\n",
       "  </tbody>\n",
       "</table>\n",
       "<p>71 rows × 2 columns</p>\n",
       "</div>"
      ],
      "text/plain": [
       "    # neighbors                                           accuracy\n",
       "0             1  [0.9058823529411765, 0.8647058823529412, 0.882...\n",
       "1             2  [0.888235294117647, 0.8647058823529412, 0.9, 0...\n",
       "2             3  [0.9, 0.8588235294117647, 0.9, 0.8764705882352...\n",
       "3             4  [0.9, 0.8705882352941177, 0.888235294117647, 0...\n",
       "4             5  [0.9, 0.8705882352941177, 0.888235294117647, 0...\n",
       "..          ...                                                ...\n",
       "66          389  [0.7705882352941177, 0.7411764705882353, 0.794...\n",
       "67          414  [0.7705882352941177, 0.7411764705882353, 0.794...\n",
       "68          441  [0.7705882352941177, 0.7411764705882353, 0.794...\n",
       "69          470  [0.7705882352941177, 0.7411764705882353, 0.794...\n",
       "70          500  [0.7705882352941177, 0.7411764705882353, 0.794...\n",
       "\n",
       "[71 rows x 2 columns]"
      ]
     },
     "execution_count": 442,
     "metadata": {},
     "output_type": "execute_result"
    }
   ],
   "source": [
    "n_folds = 10\n",
    "n_neighbors_list = np.unique(np.round(np.geomspace(1, 500, 100)).astype(int))\n",
    "\n",
    "gen = knn_cross_validation2(data_train, labels_train, n_folds, n_neighbors_list)\n",
    "df = pd.DataFrame(gen, columns=[\"# neighbors\", \"accuracy\"])\n",
    "df"
   ]
  },
  {
   "cell_type": "code",
   "execution_count": null,
   "metadata": {
    "ExecuteTime": {
     "end_time": "2024-06-06T13:23:12.070438Z",
     "start_time": "2024-06-06T13:23:12.053961Z"
    }
   },
   "outputs": [
    {
     "name": "stdout",
     "output_type": "stream",
     "text": [
      "Le meilleur nombre de voisins est: 7 avec une accuracy moyenne de: 0.8953\n"
     ]
    }
   ],
   "source": [
    "# Calculer l'accuracy moyenne pour chaque ligne\n",
    "df['mean_accuracy'] = df['accuracy'].apply(lambda acc_list: sum(acc_list) / len(acc_list))\n",
    "\n",
    "# Trouver le nombre de voisins avec l'accuracy moyenne maximale\n",
    "max_mean_accuracy = df['mean_accuracy'].max()\n",
    "best_n_neighbors = df.loc[df['mean_accuracy'] == max_mean_accuracy, '# neighbors'].values[0]\n",
    "\n",
    "print(f\"Le meilleur nombre de voisins est: {best_n_neighbors} avec une accuracy moyenne de: {max_mean_accuracy:.4f}\")"
   ]
  },
  {
   "cell_type": "code",
   "execution_count": null,
   "metadata": {
    "ExecuteTime": {
     "end_time": "2024-06-06T13:23:12.136136Z",
     "start_time": "2024-06-06T13:23:12.071030Z"
    }
   },
   "outputs": [],
   "source": [
    "clf = KNeighborsClassifier(n_neighbors=5)\n",
    "clf.fit(data_train, labels_train)\n",
    "prediction = clf.predict(data_test)"
   ]
  },
  {
   "cell_type": "code",
   "execution_count": null,
   "metadata": {
    "ExecuteTime": {
     "end_time": "2024-06-06T13:23:12.169186Z",
     "start_time": "2024-06-06T13:23:12.139965Z"
    }
   },
   "outputs": [
    {
     "data": {
      "text/plain": [
       "array([1., 3., 1., 1., 1., 1., 1., 1., 1., 1., 1., 1., 1., 1., 1., 1., 1.,\n",
       "       2., 2., 1., 3., 1., 1., 1., 1., 2., 1., 3., 1., 1., 1., 1., 1., 1.,\n",
       "       1., 1., 1., 1., 1., 1., 1., 1., 2., 1., 1., 3., 1., 1., 2., 1., 1.,\n",
       "       1., 1., 1., 2., 1., 3., 1., 1., 1., 1., 1., 1., 1., 2., 1., 1., 1.,\n",
       "       1., 1., 1., 1., 1., 1., 3., 1., 1., 3., 3., 1., 1., 1., 1., 1., 1.,\n",
       "       1., 1., 1., 1., 1., 3., 1., 1., 1., 2., 1., 1., 1., 1., 1., 1., 1.,\n",
       "       2., 1., 2., 1., 1., 1., 3., 1., 1., 1., 1., 1., 1., 1., 1., 1., 2.,\n",
       "       1., 2., 1., 1., 3., 1., 2., 1., 3., 1., 2., 1., 1., 2., 1., 1., 1.,\n",
       "       1., 1., 1., 2., 1., 2., 1., 2., 1., 1., 1., 2., 1., 1., 1., 3., 1.,\n",
       "       1., 1., 3., 1., 1., 1., 1., 1., 1., 1., 1., 3., 1., 1., 1., 1., 1.,\n",
       "       3., 1., 1., 1., 1., 1., 1., 1., 1., 1., 1., 1., 1., 1., 3., 1., 2.,\n",
       "       1., 1., 1., 1., 1., 1., 1., 1., 1., 1., 1., 2., 1., 1., 1., 2., 1.,\n",
       "       2., 1., 1., 1., 1., 2., 1., 1., 1., 1., 1., 1., 3., 1., 1., 1., 1.,\n",
       "       1., 1., 1., 1., 2., 1., 1., 1., 1., 3., 1., 1., 1., 1., 1., 1., 1.,\n",
       "       1., 1., 1., 1., 1., 1., 1., 1., 1., 1., 1., 3., 1., 1., 1., 2., 1.,\n",
       "       1., 2., 1., 2., 1., 1., 1., 1., 2., 1., 1., 1., 1., 1., 1., 1., 1.,\n",
       "       3., 1., 1., 1., 1., 1., 1., 1., 2., 1., 1., 1., 2., 1., 1., 1., 1.,\n",
       "       1., 1., 2., 1., 1., 1., 1., 1., 1., 1., 1., 1., 1., 1., 1., 1., 1.,\n",
       "       1., 1., 1., 1., 1., 1., 1., 1., 1., 1., 1., 1., 2., 2., 2., 1., 2.,\n",
       "       1., 1., 1., 1., 2., 2., 1., 1., 3., 1., 1., 1., 1., 1., 1., 1., 1.,\n",
       "       1., 2., 1., 2., 1., 3., 2., 1., 1., 1., 3., 1., 2., 1., 1., 1., 1.,\n",
       "       1., 1., 1., 1., 1., 1., 3., 1., 1., 2., 1., 1., 1., 1., 1., 2., 1.,\n",
       "       1., 1., 1., 1., 1., 1., 1., 1., 1., 1., 1., 2., 1., 1., 3., 1., 1.,\n",
       "       1., 1., 1., 1., 1., 1., 3., 2., 1., 1., 1., 1., 1., 1., 1., 1., 1.,\n",
       "       2., 2., 1., 1., 1., 1., 1., 1., 1., 3., 1., 1., 1., 1., 1., 2., 1.,\n",
       "       1.])"
      ]
     },
     "execution_count": 445,
     "metadata": {},
     "output_type": "execute_result"
    }
   ],
   "source": [
    "prediction"
   ]
  },
  {
   "cell_type": "code",
   "execution_count": null,
   "metadata": {
    "ExecuteTime": {
     "end_time": "2024-06-06T13:23:12.185971Z",
     "start_time": "2024-06-06T13:23:12.170362Z"
    }
   },
   "outputs": [],
   "source": [
    "prediction = pd.Categorical(prediction, categories=[1.0, 2.0, 3.0], ordered=True)"
   ]
  },
  {
   "cell_type": "code",
   "execution_count": null,
   "metadata": {
    "ExecuteTime": {
     "end_time": "2024-06-06T13:23:12.437242Z",
     "start_time": "2024-06-06T13:23:12.188408Z"
    }
   },
   "outputs": [
    {
     "name": "stdout",
     "output_type": "stream",
     "text": [
      "Accuracy globale\n",
      "Accuracy données d'entrainements: 0.9188235294117647\n",
      "Accuracy données de test: 0.8849765258215962\n"
     ]
    }
   ],
   "source": [
    "print(\"Accuracy globale\")\n",
    "print(f\"Accuracy données d'entrainements: {clf.score(data_train, labels_train)}\")\n",
    "print(f\"Accuracy données de test: {clf.score(data_test, labels_test)}\")"
   ]
  },
  {
   "cell_type": "code",
   "execution_count": null,
   "metadata": {
    "ExecuteTime": {
     "end_time": "2024-06-06T13:23:12.503382Z",
     "start_time": "2024-06-06T13:23:12.437326Z"
    }
   },
   "outputs": [
    {
     "name": "stdout",
     "output_type": "stream",
     "text": [
      "Accuracy pour les labels 3\n",
      "Score données d'entrainements: 0.8156028368794326\n",
      "Score données de test: 0.7428571428571429\n"
     ]
    }
   ],
   "source": [
    "print(\"Accuracy pour les labels 3\")\n",
    "print(f\"Score données d'entrainements: {clf.score(data_train[labels_train == 3], labels_train[labels_train == 3])}\")\n",
    "print(f\"Score données de test: {clf.score(data_test[labels_test == 3], labels_test[labels_test == 3])}\")"
   ]
  },
  {
   "cell_type": "code",
   "execution_count": null,
   "metadata": {
    "ExecuteTime": {
     "end_time": "2024-06-06T13:23:12.569022Z",
     "start_time": "2024-06-06T13:23:12.504087Z"
    }
   },
   "outputs": [
    {
     "name": "stdout",
     "output_type": "stream",
     "text": [
      "Accuracy pour les labels 2\n",
      "Score données d'entrainements: 0.6864406779661016\n",
      "Score données de test: 0.559322033898305\n"
     ]
    }
   ],
   "source": [
    "print(\"Accuracy pour les labels 2\")\n",
    "print(f\"Score données d'entrainements: {clf.score(data_train[labels_train == 2], labels_train[labels_train == 2])}\")\n",
    "print(f\"Score données de test: {clf.score(data_test[labels_test == 2], labels_test[labels_test == 2])}\")\n"
   ]
  },
  {
   "cell_type": "code",
   "execution_count": null,
   "metadata": {
    "ExecuteTime": {
     "end_time": "2024-06-06T13:23:12.752622Z",
     "start_time": "2024-06-06T13:23:12.570716Z"
    }
   },
   "outputs": [
    {
     "name": "stdout",
     "output_type": "stream",
     "text": [
      "Accuracy pour les labels 1\n",
      "Score données d'entrainements: 0.9712773998488284\n",
      "Score données de test: 0.9578313253012049\n"
     ]
    }
   ],
   "source": [
    "print(\"Accuracy pour les labels 1\")\n",
    "print(f\"Score données d'entrainements: {clf.score(data_train[labels_train == 1], labels_train[labels_train == 1])}\")\n",
    "print(f\"Score données de test: {clf.score(data_test[labels_test == 1], labels_test[labels_test == 1])}\")"
   ]
  },
  {
   "cell_type": "code",
   "execution_count": null,
   "metadata": {
    "ExecuteTime": {
     "end_time": "2024-06-06T13:23:12.769555Z",
     "start_time": "2024-06-06T13:23:12.753916Z"
    }
   },
   "outputs": [
    {
     "data": {
      "text/plain": [
       "array([[318,  13,   1],\n",
       "       [ 25,  33,   1],\n",
       "       [  6,   3,  26]], dtype=int64)"
      ]
     },
     "execution_count": 451,
     "metadata": {},
     "output_type": "execute_result"
    }
   ],
   "source": [
    "cm = confusion_matrix(labels_test, prediction)\n",
    "cm"
   ]
  },
  {
   "cell_type": "code",
   "execution_count": null,
   "metadata": {
    "ExecuteTime": {
     "end_time": "2024-06-06T13:23:12.819167Z",
     "start_time": "2024-06-06T13:23:12.770605Z"
    }
   },
   "outputs": [
    {
     "name": "stdout",
     "output_type": "stream",
     "text": [
      "              precision    recall  f1-score   support\n",
      "\n",
      "      Normal       0.91      0.96      0.93       332\n",
      "     Suspect       0.67      0.56      0.61        59\n",
      "  Pathologic       0.93      0.74      0.83        35\n",
      "\n",
      "    accuracy                           0.88       426\n",
      "   macro avg       0.84      0.75      0.79       426\n",
      "weighted avg       0.88      0.88      0.88       426\n",
      "\n"
     ]
    }
   ],
   "source": [
    "report = classification_report(labels_test, prediction, target_names=['Normal', 'Suspect', 'Pathologic'])\n",
    "report_dict = classification_report(labels_test, prediction, target_names=['Normal', 'Suspect', 'Pathologic'], output_dict=True)\n",
    "print(report)"
   ]
  },
  {
   "cell_type": "code",
   "execution_count": null,
   "metadata": {
    "ExecuteTime": {
     "end_time": "2024-06-06T13:23:13.052422Z",
     "start_time": "2024-06-06T13:23:12.820761Z"
    }
   },
   "outputs": [
    {
     "name": "stderr",
     "output_type": "stream",
     "text": [
      "C:\\Users\\Juliette\\AppData\\Local\\Temp\\ipykernel_13640\\2914909400.py:32: FutureWarning:\n",
      "\n",
      "The behavior of DataFrame concatenation with empty or all-NA entries is deprecated. In a future version, this will no longer exclude empty or all-NA columns when determining the result dtypes. To retain the old behavior, exclude the relevant entries before the concat operation.\n",
      "\n"
     ]
    },
    {
     "data": {
      "text/html": [
       "<div>\n",
       "<style scoped>\n",
       "    .dataframe tbody tr th:only-of-type {\n",
       "        vertical-align: middle;\n",
       "    }\n",
       "\n",
       "    .dataframe tbody tr th {\n",
       "        vertical-align: top;\n",
       "    }\n",
       "\n",
       "    .dataframe thead th {\n",
       "        text-align: right;\n",
       "    }\n",
       "</style>\n",
       "<table border=\"1\" class=\"dataframe\">\n",
       "  <thead>\n",
       "    <tr style=\"text-align: right;\">\n",
       "      <th></th>\n",
       "      <th>Algorithm</th>\n",
       "      <th>FeatureSelection</th>\n",
       "      <th>Standardization</th>\n",
       "      <th>Costs</th>\n",
       "      <th>Acc_train</th>\n",
       "      <th>Acc_test</th>\n",
       "      <th>Recall_Pathologic</th>\n",
       "      <th>Pathological predicted as Pathological or Suspect</th>\n",
       "    </tr>\n",
       "  </thead>\n",
       "  <tbody>\n",
       "    <tr>\n",
       "      <th>0</th>\n",
       "      <td>Knn</td>\n",
       "      <td>False</td>\n",
       "      <td>False</td>\n",
       "      <td>False</td>\n",
       "      <td>0.918824</td>\n",
       "      <td>0.884977</td>\n",
       "      <td>0.742857</td>\n",
       "      <td>0.828571</td>\n",
       "    </tr>\n",
       "  </tbody>\n",
       "</table>\n",
       "</div>"
      ],
      "text/plain": [
       "  Algorithm FeatureSelection Standardization  Costs  Acc_train  Acc_test  \\\n",
       "0       Knn            False           False  False   0.918824  0.884977   \n",
       "\n",
       "   Recall_Pathologic  Pathological predicted as Pathological or Suspect  \n",
       "0           0.742857                                           0.828571  "
      ]
     },
     "execution_count": 453,
     "metadata": {},
     "output_type": "execute_result"
    }
   ],
   "source": [
    "patho_predicted_as_patho_or_suspect = (cm[2,1]+cm[2,2])/sum(cm[2])\n",
    "\n",
    "accuracies_dataframe = update_line(\n",
    "    accuracies_dataframe, \n",
    "    'Knn', \n",
    "    False, \n",
    "    False, \n",
    "    False, \n",
    "    clf.score(data_train, labels_train), \n",
    "    clf.score(data_test, labels_test), \n",
    "    report_dict['Pathologic']['recall'], \n",
    "    patho_predicted_as_patho_or_suspect\n",
    ")\n",
    "accuracies_dataframe"
   ]
  },
  {
   "cell_type": "markdown",
   "metadata": {},
   "source": [
    "On réalise donc un K plus proches voisins (k=5) sur l'ensemble d'entrainement et nous utilisons ce modèle (clf) pour prédire les data de tests. En calculant les scores (proportions de bonnes prédictions) nous avons 92% et 89% pour les prédictions de test. La prédiction est donc bonne et se généralise bien à de nouvelles données (pas d'overfitting). "
   ]
  },
  {
   "cell_type": "markdown",
   "metadata": {},
   "source": [
    "Par contre en regardant le score pour chaque classe, on remarque que celui-ci est très bon pour la classe 1 mais beaucoup moins bon pour la classe 2 et 3"
   ]
  },
  {
   "cell_type": "code",
   "execution_count": null,
   "metadata": {
    "ExecuteTime": {
     "end_time": "2024-06-06T13:23:13.255127Z",
     "start_time": "2024-06-06T13:23:13.053891Z"
    }
   },
   "outputs": [
    {
     "data": {
      "application/vnd.plotly.v1+json": {
       "config": {
        "plotlyServerURL": "https://plot.ly"
       },
       "data": [
        {
         "hovertemplate": "color=1.0<br>PC1=%{x}<br>PC2=%{y}<extra></extra>",
         "legendgroup": "1.0",
         "marker": {
          "color": "#636efa",
          "symbol": "circle"
         },
         "mode": "markers",
         "name": "1.0",
         "orientation": "v",
         "showlegend": true,
         "type": "scatter",
         "x": [
          -16.364616495138602,
          31.912274931351796,
          -24.93195487687468,
          51.912917775529216,
          93.94754548513498,
          39.3474353787553,
          -56.80922002963463,
          50.8478824028598,
          -67.22068602544142,
          51.491166235636896,
          -38.013009903637624,
          -31.734939680335188,
          -19.193190733252447,
          -7.345916156168546,
          -47.59548613415564,
          51.49683513749258,
          -75.41059980474796,
          -35.42057281744453,
          65.5117795474289,
          31.698292324904415,
          45.79400202255744,
          57.301845560331344,
          51.47414838853715,
          -63.42483791556172,
          23.76458940955049,
          -36.83849303771775,
          -65.82077259414055,
          -24.413545355507132,
          66.57637530590961,
          -25.896665609421333,
          44.067360646834466,
          67.09898114831105,
          0.8257926669286834,
          3.403113989266284,
          3.688206304679456,
          -64.41329409502397,
          58.22454148854083,
          15.847630978110882,
          -56.559896531304005,
          14.913586105265722,
          43.409511067810286,
          -4.307709262345948,
          29.172031048476786,
          97.12518284518659,
          1.7604104970824932,
          61.005612776318934,
          41.978550102501345,
          -7.836881194064255,
          -5.6001642138347885,
          14.346312709476287,
          -21.802492307586466,
          121.52068955314364,
          48.225372007578365,
          -23.80115493150138,
          20.274122124650376,
          26.06253932232234,
          20.054843153588493,
          -94.19653277149338,
          38.5196369616847,
          15.174596116970664,
          -45.834071863584676,
          -62.203178960327364,
          44.38344814532771,
          -18.630213877461856,
          -21.52781566568457,
          -3.462175053655191,
          13.630007463743954,
          20.991885817101053,
          -15.25898685095144,
          -56.137425146968596,
          34.3791264375755,
          -26.931524515413564,
          -42.337516893052864,
          12.098105679822806,
          52.11779988746037,
          27.496347401856198,
          25.557149193224664,
          -5.891790984268888,
          12.625253412392583,
          -61.51848837030708,
          -1.9576284538745696,
          -50.67020708801763,
          -38.989937332662734,
          -21.152983259900406,
          35.861860092473634,
          22.015416459073844,
          27.73673827365407,
          29.563832208473805,
          -14.261434437856582,
          86.89275209509496,
          38.573496109816986,
          -30.664687138529196,
          44.28469197569764,
          -60.79937453798684,
          57.09569737179589,
          48.19052378902794,
          34.29294275174919,
          -42.202847386286784,
          12.366598316931269,
          6.053532827995968,
          -18.270005735011427,
          10.066541301763849,
          -8.54526872879624,
          42.05637785569313,
          13.472349626271171,
          -36.837172593738984,
          -51.772172309203654,
          45.004012025688446,
          -56.785501047561006,
          -48.9911603516402,
          31.00530744679052,
          -42.7315449159559,
          82.10923823308815,
          72.16435908484794,
          96.20002113818411,
          24.408265239631046,
          -49.83181908762176,
          88.85889855263869,
          21.65797997455518,
          5.599007885946457,
          90.58468365663431,
          75.23568420865752,
          -54.09806854364638,
          -45.65916879899825,
          -4.652703042454246,
          37.94757819709247,
          36.106918562847824,
          -34.588395402136136,
          -64.95496122916495,
          -42.19601802618691,
          -40.92021954265805,
          -66.21195857492985,
          74.83465315718446,
          -61.267303891318164,
          -34.600100256510615,
          19.469054659501403,
          29.238677435099717,
          -41.44875915461659,
          88.5158213160284,
          -78.81805750794787,
          -27.36125380495236,
          -8.234132285579618,
          60.95515338134041,
          -62.10308989495342,
          75.68685742478509,
          -63.52947539244649,
          74.99147365900107,
          -36.580638163284334,
          -8.325914608636168,
          -28.50185845944977,
          -47.30923133045214,
          -78.66452957658007,
          38.24093653002557,
          49.64943763828225,
          41.88024356678039,
          -22.615030711307426,
          76.75480797739714,
          -52.67915179177552,
          18.966367824040734,
          -60.67718367606071,
          119.61329670199602,
          -36.05623993613671,
          5.3249190579015595,
          50.421929622484946,
          -29.609456675042097,
          39.63548142902876,
          43.39497255424908,
          -25.667041691439422,
          29.38373473293886,
          88.30592353703425,
          -16.219347511311703,
          88.63791794228621,
          99.7043237030521,
          -71.85267900002584,
          89.19812280968513,
          -33.699070864469256,
          39.97174263899928,
          -46.22752815815875,
          -40.036374290723266,
          24.205937656406693,
          45.15543927217989,
          -51.53495002702524,
          15.684043657180418,
          67.32841540495633,
          -45.546469986896746,
          -3.484059409216966,
          -16.590222373368917,
          -33.173321080097864,
          -36.54762982577652,
          -0.10549413216391444,
          -44.22243834926708,
          57.41789294145401,
          48.4141874487163,
          26.1314944393078,
          -53.306683234575665,
          -68.22901010508474,
          65.26323731556414,
          -9.327006062481386,
          56.77532679510912,
          -26.93243441142072,
          -59.42393341232098,
          -17.596722735263608,
          -17.95053056036192,
          -43.541811572793215,
          -55.35339950710801,
          23.074298762334404,
          80.74658713570203,
          -41.26347427046422,
          90.02167628669035,
          -66.79149887284153,
          -47.882762199120556,
          50.43736280131294,
          20.860153192207342,
          35.136748411163495,
          -24.418643026209306,
          28.187928550957555,
          -28.647492233943417,
          84.46315665988232,
          -85.58989273208974,
          76.46058685205259,
          -31.29607537646034,
          5.819358092809384,
          70.66252018561217,
          21.81387108757757,
          62.689561738901496,
          -49.38654101589542,
          62.166114832002364,
          57.769085766214275,
          -45.25628758503591,
          -59.397516543660934,
          43.23204204313058,
          21.383937307084096,
          20.030423409166012,
          -24.618710773863977,
          -50.56581911642238,
          31.635753932040927,
          -8.603179163553445,
          54.9383334609984,
          -36.88293178569539,
          50.23807650131207,
          -49.001561720608926,
          81.34844002824508,
          47.69003115996192,
          51.0335737325432,
          91.7689462290986,
          -19.413736729884775,
          -26.164656872491452,
          29.626182747569953,
          69.530755183257,
          -34.55121098941303,
          -51.42889450870058,
          51.843320790086565,
          16.120830329792113,
          -52.04196644835074,
          71.11247931261416,
          -27.850650702471476,
          -45.17188801105085,
          -64.37045858284604,
          11.51688088728949,
          -78.76325505972778,
          -32.691912461397415,
          -50.28850861278865,
          -43.60538921366198,
          -34.61803691328577,
          71.83827318595475,
          71.79497631128278,
          -61.933885081517104,
          -31.474622841638684,
          24.030447878362434,
          -19.059096555400295,
          -67.48103992492064,
          -41.208355640362626,
          -37.73795701561592,
          56.1765761947692,
          63.87661290640185,
          64.72858228084405,
          -30.12782112769516,
          62.9740459312341,
          26.376286629648085,
          -53.13203095543815,
          27.63468764538381,
          -58.00850963411935,
          37.39700691526324,
          10.73195687819902,
          67.5614743131403,
          61.49431752675422,
          -30.506224544333453,
          22.03131471365609,
          60.99306886966376,
          -69.12833571506783,
          16.36098160954137,
          -50.427840590368675,
          -50.270014017987194,
          64.16961847957248,
          -43.46617519649779,
          -25.019401203162825,
          2.992438855792566,
          -53.341729266099414,
          -70.87510957511195,
          43.29291606899962,
          -48.567919674300164,
          43.64992392709666,
          -32.33681227971479,
          98.91244480477383,
          -54.47809690321756,
          61.862538164492854,
          -36.727723880222435,
          -38.394367625081365,
          34.538638383475856,
          -55.01970342586846,
          -12.721323663030965,
          43.87031931407446,
          -55.74930498987096,
          83.31440236935208,
          8.079624292054845,
          2.8891634681644502,
          -74.32263615169208,
          4.640948250271488,
          47.89494556526523,
          23.786355671960028,
          73.29513223386375,
          -41.16874531990578,
          57.99720589123207,
          16.570135008819666,
          -69.24337390367945,
          -30.484401463527018,
          -45.75869398448293,
          -42.77165563402277,
          9.950080890045074,
          -64.01018062372056,
          -53.60519169591403,
          4.865247913687072
         ],
         "xaxis": "x",
         "y": [
          32.57542374723837,
          -1.1963426220077207,
          52.098012648449945,
          6.748052135508755,
          -12.222100942799319,
          -25.646170454151843,
          1.2463551753800302,
          -7.923633941257583,
          -4.926726518949733,
          -11.231649861720607,
          69.77616913474425,
          26.265350033865143,
          16.439579296128876,
          -17.516824565886772,
          14.835229484674283,
          -33.14463481658972,
          11.471756494951237,
          41.34101072946074,
          -14.248748464952229,
          22.54215542892249,
          -19.821565129098772,
          64.52209636508877,
          -0.4432499575713672,
          -9.152833290925876,
          -14.894629280765649,
          -20.813796693629254,
          -12.61307678016116,
          -34.87317983725231,
          3.2614317210162502,
          59.17670321268067,
          -8.393371372875285,
          2.100144718099192,
          -24.366082045516116,
          21.053378846938905,
          11.12740635030121,
          -8.505448922145685,
          -4.769018118056357,
          37.65416509729821,
          20.778239032655446,
          -6.893636394150382,
          -6.966164310996075,
          35.534503686483276,
          22.573437637907507,
          -41.52016997451957,
          -22.02333957446775,
          30.5017796329371,
          -36.372959552511205,
          -50.34734140553091,
          5.528428541643775,
          12.571807190079396,
          -5.864639199696902,
          -33.34131436627308,
          -6.036332140952124,
          -26.659978774774114,
          9.43268714133763,
          5.316148319232151,
          6.184255676238493,
          -36.91670959559287,
          -21.294401201101916,
          -15.082324044365706,
          9.325341052814561,
          -7.466912684870142,
          -40.849392585577654,
          -15.537213381681877,
          -1.601791015180785,
          16.112657754660873,
          -18.456818014162714,
          18.446566738855612,
          43.64406182831969,
          -39.60876172903085,
          25.12221198070564,
          28.63961185563778,
          -8.846589171701035,
          39.11752495472891,
          -3.151313321310763,
          -22.970726764596023,
          -2.172060475369421,
          -3.5735659652267375,
          34.09801771980245,
          25.80106911214708,
          -10.298852286178477,
          -32.30432217841828,
          -38.68229660490783,
          -35.186268795548806,
          1.83116396027036,
          -2.2949533537184745,
          25.40644971514961,
          0.7870373693866461,
          22.762875024704055,
          -18.59765874687035,
          -9.38654785120629,
          48.54727821772388,
          -5.216721544924841,
          -58.353478440539774,
          9.467200085713612,
          17.237974580204757,
          -48.59687648622185,
          -27.053045776282357,
          31.070552188902116,
          -14.29595705975761,
          -2.6004144075150286,
          -19.2904506708974,
          10.870007728099136,
          -7.452689919427585,
          19.9397938645223,
          41.896443461616364,
          42.00451887560087,
          -14.844918432597318,
          3.6454901287507306,
          46.97258971479808,
          5.7851208721646,
          32.0545949418982,
          -4.976006241052191,
          -65.70515839573676,
          -21.22712933638505,
          30.400598732484685,
          12.175413604452602,
          -17.951416334277425,
          -15.03279501767301,
          1.1417790639728904,
          2.4016329895320325,
          -25.63529782656041,
          31.525015514106286,
          4.21039083081101,
          8.637729256305077,
          23.292094373121813,
          -20.171134270163964,
          33.31049496773654,
          23.76675878852954,
          -6.621761610239142,
          -17.87216759685281,
          -13.542049238194783,
          -44.673626239304255,
          -45.51283046206816,
          -17.289972486431385,
          23.443873085148706,
          45.611202628425076,
          21.457491095582867,
          15.303183711473462,
          -36.330603082406235,
          26.173320082059828,
          37.97331243528388,
          -3.379919624341602,
          20.75847480997846,
          -53.04072806000537,
          19.579061897882543,
          -31.78870940673791,
          30.625409460355286,
          -28.754556315079046,
          -33.11094702616567,
          7.57693456603415,
          -1.287863688860879,
          -21.001400628355498,
          -22.369293115297307,
          -36.44125035452331,
          46.58548246835131,
          -38.33903691268964,
          -13.936324201204835,
          37.24036056241419,
          -59.252625341020924,
          2.394970684264003,
          -37.04814723843068,
          -53.84425874324559,
          -63.107466055904695,
          14.564651656945593,
          1.1914379093124345,
          22.241146860038565,
          -35.27589673119419,
          15.6403698990419,
          -7.019724849280123,
          8.074114822034597,
          -75.51949927857848,
          -3.6472809202990066,
          -3.3525781586651373,
          14.18005402911386,
          46.00076261446842,
          29.902254738589267,
          58.72832438339878,
          17.344836774180106,
          8.088407380593996,
          -35.16042880292664,
          1.0034985407257413,
          -36.92247017393648,
          -23.146411330808824,
          11.426158359029714,
          9.334135768334658,
          25.7897564269918,
          33.896274913058164,
          -20.701290023275806,
          -27.833081106752097,
          37.718426964283765,
          -9.992564120166701,
          12.813570051823191,
          55.48096747858513,
          4.076635293058039,
          -29.543621482079505,
          1.1855816997427167,
          -0.030364910552667396,
          -8.569780803339372,
          26.497568637659278,
          -6.876373816401022,
          14.781145310268885,
          16.404713589485556,
          58.997207327290646,
          -30.811035462589068,
          43.77342281768879,
          -57.45354791594352,
          45.27250974749757,
          -17.686977150269,
          19.846003790845927,
          -5.07082070189846,
          15.725075377131256,
          -27.936277735607405,
          -12.952227394510786,
          -26.172072383991583,
          -22.262404430436444,
          13.921166120396528,
          -29.252912296979364,
          -27.553717379959703,
          18.894738753338828,
          4.768132484722877,
          13.895755486550224,
          -3.074594572702674,
          42.352411267628675,
          2.9490620186557455,
          -32.830743340794584,
          -1.2034527666310855,
          -7.628132336682332,
          47.75148666135484,
          22.92643972240435,
          -28.58248749651111,
          -14.340659586930443,
          37.49024016732162,
          -21.304094728175663,
          17.38011032222778,
          19.501009009071584,
          -6.1973446058849335,
          18.913222934758164,
          66.58058742265878,
          -22.313374826634217,
          -1.5502807395550444,
          -17.44169725759702,
          17.055892993620255,
          -3.148771342830365,
          -4.085285777336919,
          17.062476791306796,
          -44.55497636178288,
          -6.6989113358471375,
          -7.230229170015112,
          -7.881278623828375,
          -51.79240398864275,
          -34.063179631320104,
          30.08144240303736,
          -28.23298568320643,
          -3.4017647923359764,
          -11.957214402349457,
          5.181662253028505,
          -38.2315832964871,
          -12.155338958603947,
          -34.376323219670425,
          11.80107908090035,
          6.468867622722484,
          13.134846741789886,
          9.022214011438093,
          8.177519343742153,
          -2.2706316435803693,
          -6.1524245446241075,
          -2.667048409882119,
          21.239934043436204,
          -3.744467504203589,
          21.851377469065568,
          -35.83377457671759,
          3.87707463730881,
          8.603803082872773,
          -25.844793598987955,
          -44.76135431242309,
          -1.582934405330311,
          15.35209909101693,
          -23.62752960139839,
          7.122778286525878,
          39.49856474121143,
          25.425467086016837,
          -11.907255861156958,
          2.34863701475637,
          -47.40152537044646,
          -4.918926120759965,
          37.40598073777529,
          -17.27127283244597,
          14.167931492827663,
          32.299592684226546,
          -13.842655311530715,
          -1.1565594270286774,
          6.618624831634169,
          -43.27325805360872,
          -0.25097293031918905,
          26.133293494345534,
          -19.22331079925224,
          -14.196143705521552,
          -32.44282289595171,
          37.63232810842216,
          -36.65000402311364,
          4.591854009606542,
          2.3147801832026595,
          -48.58079028115906,
          -40.70141622656844,
          -27.29627043567729,
          -19.881701107921092,
          23.91266408843348,
          19.73885765675201,
          3.046041554432552,
          9.31813460776097,
          8.39412090830823,
          2.5093646407393204,
          -6.472773011218611,
          -37.374484045647144,
          25.510015935523516,
          5.501917206228263,
          36.11406129388386,
          -24.436507805937598,
          36.86926505337012,
          3.4467766752340543,
          -23.731000426276534,
          -8.805749978456385,
          -42.93348559434554,
          30.060918873669337,
          -16.183676871291425,
          8.830363235714646,
          4.710192362931909,
          -23.87734463907431,
          11.820886287913632,
          -36.78017786784501,
          -36.50854889384694
         ],
         "yaxis": "y"
        },
        {
         "hovertemplate": "color=3.0<br>PC1=%{x}<br>PC2=%{y}<extra></extra>",
         "legendgroup": "3.0",
         "marker": {
          "color": "#EF553B",
          "symbol": "circle"
         },
         "mode": "markers",
         "name": "3.0",
         "orientation": "v",
         "showlegend": true,
         "type": "scatter",
         "x": [
          -92.54931623665043,
          -84.83867836504629,
          -6.638822054272245,
          -87.71556269334027,
          -78.2834973231075,
          88.93307464541711,
          60.099901657747445,
          108.14062698147838,
          -96.3137542217728,
          77.01012253945287,
          -105.19374333398889,
          95.52638795434714,
          60.8663832090071,
          48.45941775317545,
          46.16636404640107,
          45.916680979593515,
          92.33857497916888,
          29.91389916464476,
          137.20575865251462,
          87.21974106112705,
          -90.92080851457152,
          -62.99630401860139,
          87.992622718781,
          31.06903826403371,
          -68.84136392444762,
          1.5065598378871197,
          72.20631429970607,
          49.15329877320654,
          47.925156482592676,
          2.488181935878444,
          -90.46524809375427,
          41.37879143827285,
          -75.70568675136137,
          124.21435639226517,
          69.65481247453896
         ],
         "xaxis": "x",
         "y": [
          16.228015114138785,
          18.334438254193497,
          3.3092612247957773,
          25.384434588911468,
          -18.932959470189605,
          55.72401899642277,
          37.17646994151945,
          28.184531467294715,
          2.1567204019414787,
          34.300384524437206,
          -17.692400802946693,
          30.394015986971826,
          45.929016878864786,
          55.298867951534625,
          54.55763851333286,
          69.4020498760782,
          45.26009762637623,
          58.030357665895,
          59.824024738549966,
          54.65544021001427,
          -16.734651606120625,
          -40.81808599776911,
          54.495083078071005,
          53.590168619186784,
          38.56590267194327,
          39.029957786272234,
          98.20566734970815,
          67.15686755250526,
          52.42455411417616,
          39.14931912864496,
          11.853898342047016,
          74.06823640058668,
          12.774470685106126,
          9.528516222160999,
          35.86722817483801
         ],
         "yaxis": "y"
        },
        {
         "hovertemplate": "color=2.0<br>PC1=%{x}<br>PC2=%{y}<extra></extra>",
         "legendgroup": "2.0",
         "marker": {
          "color": "#00cc96",
          "symbol": "circle"
         },
         "mode": "markers",
         "name": "2.0",
         "orientation": "v",
         "showlegend": true,
         "type": "scatter",
         "x": [
          -67.45842863022656,
          -8.539722316276682,
          -8.144477787298632,
          101.70800568730455,
          60.60886954632986,
          -61.919763092948884,
          -88.92488982179623,
          -65.1266123903575,
          47.88097279950584,
          -65.14083916099828,
          -67.92063238972834,
          84.18595884349291,
          85.27244420972073,
          -64.56358501164803,
          47.72641422374284,
          -70.65514088338381,
          -89.80049791205809,
          7.16200976606622,
          36.630062019187086,
          -71.22877191248888,
          -70.50471085487997,
          21.607556151016695,
          -75.32801164202013,
          -86.90858449251242,
          63.174303761847135,
          26.1314944393078,
          -72.12558102247878,
          -90.16081150590985,
          -76.30197524241206,
          29.025817841449662,
          -57.02660874309074,
          -14.148547859356293,
          -87.35928469855517,
          21.724493611651457,
          -31.42021994436415,
          -74.65716783370864,
          58.450072584561894,
          -77.99985358821407,
          -77.15838766521318,
          -89.49346214141744,
          -28.205039229402917,
          -78.98485656634047,
          -88.31026797436719,
          -73.93387322979841,
          -1.934546623984825,
          -55.94137420362999,
          -61.48067022243565,
          -33.58586708412857,
          -86.62796764407379,
          -71.48137131116366,
          6.88265209119918,
          -56.8954780373698,
          -3.981813087198188,
          89.7824014386484,
          -0.5737267425973556,
          -25.557453549040133,
          -73.63904575671826,
          -73.94237198014885,
          35.173664123107
         ],
         "xaxis": "x",
         "y": [
          -14.874799558639735,
          -23.828474145204154,
          18.57843930904185,
          -1.9145212189291871,
          -15.959703361296167,
          -2.801935075592872,
          -5.476021811996287,
          20.99322089020022,
          -53.83125664668579,
          -26.69986492628942,
          -3.6625793725232834,
          -14.71115174445473,
          -55.56981478225041,
          -27.344612154825636,
          -41.057019896801236,
          -13.581552279758863,
          -44.67277342733726,
          -15.806551287205266,
          -35.69245215147298,
          -9.837527831816871,
          -4.340598742585273,
          -39.69962019775743,
          -22.25371836575479,
          -10.391251402229702,
          -16.00270332552165,
          55.48096747858513,
          -18.53270862904213,
          -6.733821504693462,
          -20.695517329951254,
          -39.6739852395808,
          9.339278459374073,
          -47.31738949968976,
          -36.51222777400292,
          13.611623390686045,
          5.095334033898385,
          -3.1551728224361795,
          -40.145957246010724,
          15.061590175834281,
          -28.93717686293997,
          -24.712579836564053,
          33.00461788156871,
          -50.13289532786613,
          -11.673410281802278,
          -29.679309734830817,
          -10.105159116175829,
          44.091899375157986,
          9.822496115191392,
          -2.140839723178663,
          -16.924227362052008,
          14.842792982126232,
          -53.74833922662585,
          -26.59070088663654,
          -32.3643485343518,
          -55.500263539700406,
          -2.2364178952286253,
          2.926153819069306,
          -2.4054613581796223,
          13.968812003534447,
          -22.392765668561868
         ],
         "yaxis": "y"
        }
       ],
       "layout": {
        "legend": {
         "title": {
          "text": "color"
         },
         "tracegroupgap": 0
        },
        "margin": {
         "t": 60
        },
        "template": {
         "data": {
          "bar": [
           {
            "error_x": {
             "color": "#2a3f5f"
            },
            "error_y": {
             "color": "#2a3f5f"
            },
            "marker": {
             "line": {
              "color": "#E5ECF6",
              "width": 0.5
             },
             "pattern": {
              "fillmode": "overlay",
              "size": 10,
              "solidity": 0.2
             }
            },
            "type": "bar"
           }
          ],
          "barpolar": [
           {
            "marker": {
             "line": {
              "color": "#E5ECF6",
              "width": 0.5
             },
             "pattern": {
              "fillmode": "overlay",
              "size": 10,
              "solidity": 0.2
             }
            },
            "type": "barpolar"
           }
          ],
          "carpet": [
           {
            "aaxis": {
             "endlinecolor": "#2a3f5f",
             "gridcolor": "white",
             "linecolor": "white",
             "minorgridcolor": "white",
             "startlinecolor": "#2a3f5f"
            },
            "baxis": {
             "endlinecolor": "#2a3f5f",
             "gridcolor": "white",
             "linecolor": "white",
             "minorgridcolor": "white",
             "startlinecolor": "#2a3f5f"
            },
            "type": "carpet"
           }
          ],
          "choropleth": [
           {
            "colorbar": {
             "outlinewidth": 0,
             "ticks": ""
            },
            "type": "choropleth"
           }
          ],
          "contour": [
           {
            "colorbar": {
             "outlinewidth": 0,
             "ticks": ""
            },
            "colorscale": [
             [
              0,
              "#0d0887"
             ],
             [
              0.1111111111111111,
              "#46039f"
             ],
             [
              0.2222222222222222,
              "#7201a8"
             ],
             [
              0.3333333333333333,
              "#9c179e"
             ],
             [
              0.4444444444444444,
              "#bd3786"
             ],
             [
              0.5555555555555556,
              "#d8576b"
             ],
             [
              0.6666666666666666,
              "#ed7953"
             ],
             [
              0.7777777777777778,
              "#fb9f3a"
             ],
             [
              0.8888888888888888,
              "#fdca26"
             ],
             [
              1,
              "#f0f921"
             ]
            ],
            "type": "contour"
           }
          ],
          "contourcarpet": [
           {
            "colorbar": {
             "outlinewidth": 0,
             "ticks": ""
            },
            "type": "contourcarpet"
           }
          ],
          "heatmap": [
           {
            "colorbar": {
             "outlinewidth": 0,
             "ticks": ""
            },
            "colorscale": [
             [
              0,
              "#0d0887"
             ],
             [
              0.1111111111111111,
              "#46039f"
             ],
             [
              0.2222222222222222,
              "#7201a8"
             ],
             [
              0.3333333333333333,
              "#9c179e"
             ],
             [
              0.4444444444444444,
              "#bd3786"
             ],
             [
              0.5555555555555556,
              "#d8576b"
             ],
             [
              0.6666666666666666,
              "#ed7953"
             ],
             [
              0.7777777777777778,
              "#fb9f3a"
             ],
             [
              0.8888888888888888,
              "#fdca26"
             ],
             [
              1,
              "#f0f921"
             ]
            ],
            "type": "heatmap"
           }
          ],
          "heatmapgl": [
           {
            "colorbar": {
             "outlinewidth": 0,
             "ticks": ""
            },
            "colorscale": [
             [
              0,
              "#0d0887"
             ],
             [
              0.1111111111111111,
              "#46039f"
             ],
             [
              0.2222222222222222,
              "#7201a8"
             ],
             [
              0.3333333333333333,
              "#9c179e"
             ],
             [
              0.4444444444444444,
              "#bd3786"
             ],
             [
              0.5555555555555556,
              "#d8576b"
             ],
             [
              0.6666666666666666,
              "#ed7953"
             ],
             [
              0.7777777777777778,
              "#fb9f3a"
             ],
             [
              0.8888888888888888,
              "#fdca26"
             ],
             [
              1,
              "#f0f921"
             ]
            ],
            "type": "heatmapgl"
           }
          ],
          "histogram": [
           {
            "marker": {
             "pattern": {
              "fillmode": "overlay",
              "size": 10,
              "solidity": 0.2
             }
            },
            "type": "histogram"
           }
          ],
          "histogram2d": [
           {
            "colorbar": {
             "outlinewidth": 0,
             "ticks": ""
            },
            "colorscale": [
             [
              0,
              "#0d0887"
             ],
             [
              0.1111111111111111,
              "#46039f"
             ],
             [
              0.2222222222222222,
              "#7201a8"
             ],
             [
              0.3333333333333333,
              "#9c179e"
             ],
             [
              0.4444444444444444,
              "#bd3786"
             ],
             [
              0.5555555555555556,
              "#d8576b"
             ],
             [
              0.6666666666666666,
              "#ed7953"
             ],
             [
              0.7777777777777778,
              "#fb9f3a"
             ],
             [
              0.8888888888888888,
              "#fdca26"
             ],
             [
              1,
              "#f0f921"
             ]
            ],
            "type": "histogram2d"
           }
          ],
          "histogram2dcontour": [
           {
            "colorbar": {
             "outlinewidth": 0,
             "ticks": ""
            },
            "colorscale": [
             [
              0,
              "#0d0887"
             ],
             [
              0.1111111111111111,
              "#46039f"
             ],
             [
              0.2222222222222222,
              "#7201a8"
             ],
             [
              0.3333333333333333,
              "#9c179e"
             ],
             [
              0.4444444444444444,
              "#bd3786"
             ],
             [
              0.5555555555555556,
              "#d8576b"
             ],
             [
              0.6666666666666666,
              "#ed7953"
             ],
             [
              0.7777777777777778,
              "#fb9f3a"
             ],
             [
              0.8888888888888888,
              "#fdca26"
             ],
             [
              1,
              "#f0f921"
             ]
            ],
            "type": "histogram2dcontour"
           }
          ],
          "mesh3d": [
           {
            "colorbar": {
             "outlinewidth": 0,
             "ticks": ""
            },
            "type": "mesh3d"
           }
          ],
          "parcoords": [
           {
            "line": {
             "colorbar": {
              "outlinewidth": 0,
              "ticks": ""
             }
            },
            "type": "parcoords"
           }
          ],
          "pie": [
           {
            "automargin": true,
            "type": "pie"
           }
          ],
          "scatter": [
           {
            "fillpattern": {
             "fillmode": "overlay",
             "size": 10,
             "solidity": 0.2
            },
            "type": "scatter"
           }
          ],
          "scatter3d": [
           {
            "line": {
             "colorbar": {
              "outlinewidth": 0,
              "ticks": ""
             }
            },
            "marker": {
             "colorbar": {
              "outlinewidth": 0,
              "ticks": ""
             }
            },
            "type": "scatter3d"
           }
          ],
          "scattercarpet": [
           {
            "marker": {
             "colorbar": {
              "outlinewidth": 0,
              "ticks": ""
             }
            },
            "type": "scattercarpet"
           }
          ],
          "scattergeo": [
           {
            "marker": {
             "colorbar": {
              "outlinewidth": 0,
              "ticks": ""
             }
            },
            "type": "scattergeo"
           }
          ],
          "scattergl": [
           {
            "marker": {
             "colorbar": {
              "outlinewidth": 0,
              "ticks": ""
             }
            },
            "type": "scattergl"
           }
          ],
          "scattermapbox": [
           {
            "marker": {
             "colorbar": {
              "outlinewidth": 0,
              "ticks": ""
             }
            },
            "type": "scattermapbox"
           }
          ],
          "scatterpolar": [
           {
            "marker": {
             "colorbar": {
              "outlinewidth": 0,
              "ticks": ""
             }
            },
            "type": "scatterpolar"
           }
          ],
          "scatterpolargl": [
           {
            "marker": {
             "colorbar": {
              "outlinewidth": 0,
              "ticks": ""
             }
            },
            "type": "scatterpolargl"
           }
          ],
          "scatterternary": [
           {
            "marker": {
             "colorbar": {
              "outlinewidth": 0,
              "ticks": ""
             }
            },
            "type": "scatterternary"
           }
          ],
          "surface": [
           {
            "colorbar": {
             "outlinewidth": 0,
             "ticks": ""
            },
            "colorscale": [
             [
              0,
              "#0d0887"
             ],
             [
              0.1111111111111111,
              "#46039f"
             ],
             [
              0.2222222222222222,
              "#7201a8"
             ],
             [
              0.3333333333333333,
              "#9c179e"
             ],
             [
              0.4444444444444444,
              "#bd3786"
             ],
             [
              0.5555555555555556,
              "#d8576b"
             ],
             [
              0.6666666666666666,
              "#ed7953"
             ],
             [
              0.7777777777777778,
              "#fb9f3a"
             ],
             [
              0.8888888888888888,
              "#fdca26"
             ],
             [
              1,
              "#f0f921"
             ]
            ],
            "type": "surface"
           }
          ],
          "table": [
           {
            "cells": {
             "fill": {
              "color": "#EBF0F8"
             },
             "line": {
              "color": "white"
             }
            },
            "header": {
             "fill": {
              "color": "#C8D4E3"
             },
             "line": {
              "color": "white"
             }
            },
            "type": "table"
           }
          ]
         },
         "layout": {
          "annotationdefaults": {
           "arrowcolor": "#2a3f5f",
           "arrowhead": 0,
           "arrowwidth": 1
          },
          "autotypenumbers": "strict",
          "coloraxis": {
           "colorbar": {
            "outlinewidth": 0,
            "ticks": ""
           }
          },
          "colorscale": {
           "diverging": [
            [
             0,
             "#8e0152"
            ],
            [
             0.1,
             "#c51b7d"
            ],
            [
             0.2,
             "#de77ae"
            ],
            [
             0.3,
             "#f1b6da"
            ],
            [
             0.4,
             "#fde0ef"
            ],
            [
             0.5,
             "#f7f7f7"
            ],
            [
             0.6,
             "#e6f5d0"
            ],
            [
             0.7,
             "#b8e186"
            ],
            [
             0.8,
             "#7fbc41"
            ],
            [
             0.9,
             "#4d9221"
            ],
            [
             1,
             "#276419"
            ]
           ],
           "sequential": [
            [
             0,
             "#0d0887"
            ],
            [
             0.1111111111111111,
             "#46039f"
            ],
            [
             0.2222222222222222,
             "#7201a8"
            ],
            [
             0.3333333333333333,
             "#9c179e"
            ],
            [
             0.4444444444444444,
             "#bd3786"
            ],
            [
             0.5555555555555556,
             "#d8576b"
            ],
            [
             0.6666666666666666,
             "#ed7953"
            ],
            [
             0.7777777777777778,
             "#fb9f3a"
            ],
            [
             0.8888888888888888,
             "#fdca26"
            ],
            [
             1,
             "#f0f921"
            ]
           ],
           "sequentialminus": [
            [
             0,
             "#0d0887"
            ],
            [
             0.1111111111111111,
             "#46039f"
            ],
            [
             0.2222222222222222,
             "#7201a8"
            ],
            [
             0.3333333333333333,
             "#9c179e"
            ],
            [
             0.4444444444444444,
             "#bd3786"
            ],
            [
             0.5555555555555556,
             "#d8576b"
            ],
            [
             0.6666666666666666,
             "#ed7953"
            ],
            [
             0.7777777777777778,
             "#fb9f3a"
            ],
            [
             0.8888888888888888,
             "#fdca26"
            ],
            [
             1,
             "#f0f921"
            ]
           ]
          },
          "colorway": [
           "#636efa",
           "#EF553B",
           "#00cc96",
           "#ab63fa",
           "#FFA15A",
           "#19d3f3",
           "#FF6692",
           "#B6E880",
           "#FF97FF",
           "#FECB52"
          ],
          "font": {
           "color": "#2a3f5f"
          },
          "geo": {
           "bgcolor": "white",
           "lakecolor": "white",
           "landcolor": "#E5ECF6",
           "showlakes": true,
           "showland": true,
           "subunitcolor": "white"
          },
          "hoverlabel": {
           "align": "left"
          },
          "hovermode": "closest",
          "mapbox": {
           "style": "light"
          },
          "paper_bgcolor": "white",
          "plot_bgcolor": "#E5ECF6",
          "polar": {
           "angularaxis": {
            "gridcolor": "white",
            "linecolor": "white",
            "ticks": ""
           },
           "bgcolor": "#E5ECF6",
           "radialaxis": {
            "gridcolor": "white",
            "linecolor": "white",
            "ticks": ""
           }
          },
          "scene": {
           "xaxis": {
            "backgroundcolor": "#E5ECF6",
            "gridcolor": "white",
            "gridwidth": 2,
            "linecolor": "white",
            "showbackground": true,
            "ticks": "",
            "zerolinecolor": "white"
           },
           "yaxis": {
            "backgroundcolor": "#E5ECF6",
            "gridcolor": "white",
            "gridwidth": 2,
            "linecolor": "white",
            "showbackground": true,
            "ticks": "",
            "zerolinecolor": "white"
           },
           "zaxis": {
            "backgroundcolor": "#E5ECF6",
            "gridcolor": "white",
            "gridwidth": 2,
            "linecolor": "white",
            "showbackground": true,
            "ticks": "",
            "zerolinecolor": "white"
           }
          },
          "shapedefaults": {
           "line": {
            "color": "#2a3f5f"
           }
          },
          "ternary": {
           "aaxis": {
            "gridcolor": "white",
            "linecolor": "white",
            "ticks": ""
           },
           "baxis": {
            "gridcolor": "white",
            "linecolor": "white",
            "ticks": ""
           },
           "bgcolor": "#E5ECF6",
           "caxis": {
            "gridcolor": "white",
            "linecolor": "white",
            "ticks": ""
           }
          },
          "title": {
           "x": 0.05
          },
          "xaxis": {
           "automargin": true,
           "gridcolor": "white",
           "linecolor": "white",
           "ticks": "",
           "title": {
            "standoff": 15
           },
           "zerolinecolor": "white",
           "zerolinewidth": 2
          },
          "yaxis": {
           "automargin": true,
           "gridcolor": "white",
           "linecolor": "white",
           "ticks": "",
           "title": {
            "standoff": 15
           },
           "zerolinecolor": "white",
           "zerolinewidth": 2
          }
         }
        },
        "title": {
         "text": "Original PCA (2D)"
        },
        "width": 650,
        "xaxis": {
         "anchor": "y",
         "domain": [
          0,
          1
         ],
         "title": {
          "text": "PC1"
         }
        },
        "yaxis": {
         "anchor": "x",
         "domain": [
          0,
          1
         ],
         "title": {
          "text": "PC2"
         }
        }
       }
      }
     },
     "metadata": {},
     "output_type": "display_data"
    },
    {
     "data": {
      "application/vnd.plotly.v1+json": {
       "config": {
        "plotlyServerURL": "https://plot.ly"
       },
       "data": [
        {
         "hovertemplate": "color=1.0<br>PC1=%{x}<br>PC2=%{y}<extra></extra>",
         "legendgroup": "1.0",
         "marker": {
          "color": "#636efa",
          "symbol": "circle"
         },
         "mode": "markers",
         "name": "1.0",
         "orientation": "v",
         "showlegend": true,
         "type": "scatter",
         "x": [
          -16.364616495138602,
          31.912274931351796,
          -24.93195487687468,
          51.912917775529216,
          93.94754548513498,
          39.3474353787553,
          -56.80922002963463,
          50.8478824028598,
          -67.22068602544142,
          51.491166235636896,
          -38.013009903637624,
          -31.734939680335188,
          -19.193190733252447,
          -7.345916156168546,
          -47.59548613415564,
          51.49683513749258,
          -35.42057281744453,
          65.5117795474289,
          31.698292324904415,
          -8.539722316276682,
          -8.144477787298632,
          45.79400202255744,
          51.47414838853715,
          -63.42483791556172,
          23.76458940955049,
          101.70800568730455,
          -36.83849303771775,
          -65.82077259414055,
          -24.413545355507132,
          66.57637530590961,
          -25.896665609421333,
          44.067360646834466,
          67.09898114831105,
          0.8257926669286834,
          60.60886954632986,
          3.403113989266284,
          3.688206304679456,
          -64.41329409502397,
          58.22454148854083,
          15.847630978110882,
          -56.559896531304005,
          14.913586105265722,
          43.409511067810286,
          -4.307709262345948,
          29.172031048476786,
          97.12518284518659,
          1.7604104970824932,
          61.005612776318934,
          41.978550102501345,
          -7.836881194064255,
          -5.6001642138347885,
          14.346312709476287,
          -21.802492307586466,
          121.52068955314364,
          48.225372007578365,
          -23.80115493150138,
          20.274122124650376,
          26.06253932232234,
          20.054843153588493,
          -94.19653277149338,
          38.5196369616847,
          15.174596116970664,
          -45.834071863584676,
          -62.203178960327364,
          44.38344814532771,
          47.88097279950584,
          -18.630213877461856,
          -21.52781566568457,
          -3.462175053655191,
          13.630007463743954,
          20.991885817101053,
          -15.25898685095144,
          -56.137425146968596,
          -65.14083916099828,
          -67.92063238972834,
          34.3791264375755,
          -26.931524515413564,
          84.18595884349291,
          -42.337516893052864,
          12.098105679822806,
          52.11779988746037,
          27.496347401856198,
          25.557149193224664,
          -5.891790984268888,
          12.625253412392583,
          47.72641422374284,
          -1.9576284538745696,
          -50.67020708801763,
          -70.65514088338381,
          -38.989937332662734,
          -21.152983259900406,
          35.861860092473634,
          22.015416459073844,
          27.73673827365407,
          29.563832208473805,
          -14.261434437856582,
          86.89275209509496,
          38.573496109816986,
          -30.664687138529196,
          44.28469197569764,
          -60.79937453798684,
          57.09569737179589,
          48.19052378902794,
          34.29294275174919,
          12.366598316931269,
          6.053532827995968,
          -18.270005735011427,
          10.066541301763849,
          -8.54526872879624,
          42.05637785569313,
          13.472349626271171,
          -36.837172593738984,
          -51.772172309203654,
          45.004012025688446,
          -48.9911603516402,
          31.00530744679052,
          -42.7315449159559,
          82.10923823308815,
          72.16435908484794,
          96.20002113818411,
          24.408265239631046,
          -49.83181908762176,
          88.85889855263869,
          21.65797997455518,
          5.599007885946457,
          90.58468365663431,
          75.23568420865752,
          -54.09806854364638,
          -45.65916879899825,
          -4.652703042454246,
          37.94757819709247,
          36.106918562847824,
          -34.588395402136136,
          -64.95496122916495,
          -42.19601802618691,
          -40.92021954265805,
          -66.21195857492985,
          74.83465315718446,
          -61.267303891318164,
          -34.600100256510615,
          63.174303761847135,
          19.469054659501403,
          29.238677435099717,
          -41.44875915461659,
          88.5158213160284,
          -78.81805750794787,
          -27.36125380495236,
          -8.234132285579618,
          26.1314944393078,
          60.95515338134041,
          75.68685742478509,
          -63.52947539244649,
          74.99147365900107,
          -36.580638163284334,
          -8.325914608636168,
          -28.50185845944977,
          -47.30923133045214,
          -78.66452957658007,
          38.24093653002557,
          49.64943763828225,
          41.88024356678039,
          29.91389916464476,
          -22.615030711307426,
          76.75480797739714,
          -52.67915179177552,
          18.966367824040734,
          -60.67718367606071,
          29.025817841449662,
          119.61329670199602,
          -36.05623993613671,
          5.3249190579015595,
          50.421929622484946,
          -29.609456675042097,
          39.63548142902876,
          43.39497255424908,
          -14.148547859356293,
          -87.35928469855517,
          -25.667041691439422,
          29.38373473293886,
          88.30592353703425,
          -16.219347511311703,
          88.63791794228621,
          99.7043237030521,
          89.19812280968513,
          -33.699070864469256,
          39.97174263899928,
          -46.22752815815875,
          -40.036374290723266,
          24.205937656406693,
          45.15543927217989,
          -51.53495002702524,
          15.684043657180418,
          67.32841540495633,
          -45.546469986896746,
          -3.484059409216966,
          -16.590222373368917,
          -33.173321080097864,
          -36.54762982577652,
          -0.10549413216391444,
          -44.22243834926708,
          57.41789294145401,
          48.4141874487163,
          26.1314944393078,
          -53.306683234575665,
          21.724493611651457,
          -68.22901010508474,
          65.26323731556414,
          -9.327006062481386,
          56.77532679510912,
          -26.93243441142072,
          -17.596722735263608,
          -17.95053056036192,
          58.450072584561894,
          -43.541811572793215,
          -55.35339950710801,
          23.074298762334404,
          80.74658713570203,
          -41.26347427046422,
          90.02167628669035,
          -66.79149887284153,
          -47.882762199120556,
          50.43736280131294,
          20.860153192207342,
          35.136748411163495,
          -77.99985358821407,
          -24.418643026209306,
          28.187928550957555,
          31.06903826403371,
          -28.647492233943417,
          84.46315665988232,
          76.46058685205259,
          -31.29607537646034,
          5.819358092809384,
          70.66252018561217,
          21.81387108757757,
          62.689561738901496,
          -49.38654101589542,
          62.166114832002364,
          57.769085766214275,
          -45.25628758503591,
          -59.397516543660934,
          43.23204204313058,
          21.383937307084096,
          20.030423409166012,
          -24.618710773863977,
          -50.56581911642238,
          31.635753932040927,
          -8.603179163553445,
          54.9383334609984,
          -36.88293178569539,
          50.23807650131207,
          -49.001561720608926,
          81.34844002824508,
          47.69003115996192,
          51.0335737325432,
          91.7689462290986,
          -19.413736729884775,
          -26.164656872491452,
          29.626182747569953,
          69.530755183257,
          -34.55121098941303,
          -68.84136392444762,
          -51.42889450870058,
          51.843320790086565,
          1.5065598378871197,
          16.120830329792113,
          -52.04196644835074,
          71.11247931261416,
          -27.850650702471476,
          -45.17188801105085,
          -55.94137420362999,
          11.51688088728949,
          -78.76325505972778,
          -61.48067022243565,
          -33.58586708412857,
          -32.691912461397415,
          -50.28850861278865,
          -43.60538921366198,
          -34.61803691328577,
          71.83827318595475,
          71.79497631128278,
          -31.474622841638684,
          -71.48137131116366,
          -56.8954780373698,
          24.030447878362434,
          -19.059096555400295,
          -67.48103992492064,
          -41.208355640362626,
          -37.73795701561592,
          56.1765761947692,
          2.488181935878444,
          63.87661290640185,
          64.72858228084405,
          -30.12782112769516,
          62.9740459312341,
          26.376286629648085,
          -53.13203095543815,
          27.63468764538381,
          -58.00850963411935,
          37.39700691526324,
          10.73195687819902,
          67.5614743131403,
          61.49431752675422,
          -30.506224544333453,
          22.03131471365609,
          60.99306886966376,
          -25.557453549040133,
          -69.12833571506783,
          16.36098160954137,
          -50.427840590368675,
          -50.270014017987194,
          64.16961847957248,
          -43.46617519649779,
          -25.019401203162825,
          2.992438855792566,
          -53.341729266099414,
          43.29291606899962,
          -48.567919674300164,
          43.64992392709666,
          -32.33681227971479,
          98.91244480477383,
          -75.70568675136137,
          -54.47809690321756,
          61.862538164492854,
          -36.727723880222435,
          -38.394367625081365,
          34.538638383475856,
          -55.01970342586846,
          -12.721323663030965,
          43.87031931407446,
          -55.74930498987096,
          83.31440236935208,
          8.079624292054845,
          2.8891634681644502,
          -73.94237198014885,
          4.640948250271488,
          47.89494556526523,
          23.786355671960028,
          73.29513223386375,
          -41.16874531990578,
          57.99720589123207,
          16.570135008819666,
          -69.24337390367945,
          -30.484401463527018,
          -45.75869398448293,
          -42.77165563402277,
          9.950080890045074,
          -53.60519169591403,
          4.865247913687072
         ],
         "xaxis": "x",
         "y": [
          32.57542374723837,
          -1.1963426220077207,
          52.098012648449945,
          6.748052135508755,
          -12.222100942799319,
          -25.646170454151843,
          1.2463551753800302,
          -7.923633941257583,
          -4.926726518949733,
          -11.231649861720607,
          69.77616913474425,
          26.265350033865143,
          16.439579296128876,
          -17.516824565886772,
          14.835229484674283,
          -33.14463481658972,
          41.34101072946074,
          -14.248748464952229,
          22.54215542892249,
          -23.828474145204154,
          18.57843930904185,
          -19.821565129098772,
          -0.4432499575713672,
          -9.152833290925876,
          -14.894629280765649,
          -1.9145212189291871,
          -20.813796693629254,
          -12.61307678016116,
          -34.87317983725231,
          3.2614317210162502,
          59.17670321268067,
          -8.393371372875285,
          2.100144718099192,
          -24.366082045516116,
          -15.959703361296167,
          21.053378846938905,
          11.12740635030121,
          -8.505448922145685,
          -4.769018118056357,
          37.65416509729821,
          20.778239032655446,
          -6.893636394150382,
          -6.966164310996075,
          35.534503686483276,
          22.573437637907507,
          -41.52016997451957,
          -22.02333957446775,
          30.5017796329371,
          -36.372959552511205,
          -50.34734140553091,
          5.528428541643775,
          12.571807190079396,
          -5.864639199696902,
          -33.34131436627308,
          -6.036332140952124,
          -26.659978774774114,
          9.43268714133763,
          5.316148319232151,
          6.184255676238493,
          -36.91670959559287,
          -21.294401201101916,
          -15.082324044365706,
          9.325341052814561,
          -7.466912684870142,
          -40.849392585577654,
          -53.83125664668579,
          -15.537213381681877,
          -1.601791015180785,
          16.112657754660873,
          -18.456818014162714,
          18.446566738855612,
          43.64406182831969,
          -39.60876172903085,
          -26.69986492628942,
          -3.6625793725232834,
          25.12221198070564,
          28.63961185563778,
          -14.71115174445473,
          -8.846589171701035,
          39.11752495472891,
          -3.151313321310763,
          -22.970726764596023,
          -2.172060475369421,
          -3.5735659652267375,
          34.09801771980245,
          -41.057019896801236,
          -10.298852286178477,
          -32.30432217841828,
          -13.581552279758863,
          -38.68229660490783,
          -35.186268795548806,
          1.83116396027036,
          -2.2949533537184745,
          25.40644971514961,
          0.7870373693866461,
          22.762875024704055,
          -18.59765874687035,
          -9.38654785120629,
          48.54727821772388,
          -5.216721544924841,
          -58.353478440539774,
          9.467200085713612,
          17.237974580204757,
          -48.59687648622185,
          31.070552188902116,
          -14.29595705975761,
          -2.6004144075150286,
          -19.2904506708974,
          10.870007728099136,
          -7.452689919427585,
          19.9397938645223,
          41.896443461616364,
          42.00451887560087,
          -14.844918432597318,
          46.97258971479808,
          5.7851208721646,
          32.0545949418982,
          -4.976006241052191,
          -65.70515839573676,
          -21.22712933638505,
          30.400598732484685,
          12.175413604452602,
          -17.951416334277425,
          -15.03279501767301,
          1.1417790639728904,
          2.4016329895320325,
          -25.63529782656041,
          31.525015514106286,
          4.21039083081101,
          8.637729256305077,
          23.292094373121813,
          -20.171134270163964,
          33.31049496773654,
          23.76675878852954,
          -6.621761610239142,
          -17.87216759685281,
          -13.542049238194783,
          -44.673626239304255,
          -45.51283046206816,
          -17.289972486431385,
          -16.00270332552165,
          23.443873085148706,
          45.611202628425076,
          21.457491095582867,
          15.303183711473462,
          -36.330603082406235,
          26.173320082059828,
          37.97331243528388,
          55.48096747858513,
          -3.379919624341602,
          -53.04072806000537,
          19.579061897882543,
          -31.78870940673791,
          30.625409460355286,
          -28.754556315079046,
          -33.11094702616567,
          7.57693456603415,
          -1.287863688860879,
          -21.001400628355498,
          -22.369293115297307,
          -36.44125035452331,
          58.030357665895,
          46.58548246835131,
          -38.33903691268964,
          -13.936324201204835,
          37.24036056241419,
          -59.252625341020924,
          -39.6739852395808,
          2.394970684264003,
          -37.04814723843068,
          -53.84425874324559,
          -63.107466055904695,
          14.564651656945593,
          1.1914379093124345,
          22.241146860038565,
          -47.31738949968976,
          -36.51222777400292,
          -35.27589673119419,
          15.6403698990419,
          -7.019724849280123,
          8.074114822034597,
          -75.51949927857848,
          -3.6472809202990066,
          14.18005402911386,
          46.00076261446842,
          29.902254738589267,
          58.72832438339878,
          17.344836774180106,
          8.088407380593996,
          -35.16042880292664,
          1.0034985407257413,
          -36.92247017393648,
          -23.146411330808824,
          11.426158359029714,
          9.334135768334658,
          25.7897564269918,
          33.896274913058164,
          -20.701290023275806,
          -27.833081106752097,
          37.718426964283765,
          -9.992564120166701,
          12.813570051823191,
          55.48096747858513,
          4.076635293058039,
          13.611623390686045,
          -29.543621482079505,
          1.1855816997427167,
          -0.030364910552667396,
          -8.569780803339372,
          26.497568637659278,
          14.781145310268885,
          16.404713589485556,
          -40.145957246010724,
          58.997207327290646,
          -30.811035462589068,
          43.77342281768879,
          -57.45354791594352,
          45.27250974749757,
          -17.686977150269,
          19.846003790845927,
          -5.07082070189846,
          15.725075377131256,
          -27.936277735607405,
          -12.952227394510786,
          15.061590175834281,
          -26.172072383991583,
          -22.262404430436444,
          53.590168619186784,
          13.921166120396528,
          -29.252912296979364,
          18.894738753338828,
          4.768132484722877,
          13.895755486550224,
          -3.074594572702674,
          42.352411267628675,
          2.9490620186557455,
          -32.830743340794584,
          -1.2034527666310855,
          -7.628132336682332,
          47.75148666135484,
          22.92643972240435,
          -28.58248749651111,
          -14.340659586930443,
          37.49024016732162,
          -21.304094728175663,
          17.38011032222778,
          19.501009009071584,
          -6.1973446058849335,
          18.913222934758164,
          66.58058742265878,
          -22.313374826634217,
          -1.5502807395550444,
          -17.44169725759702,
          17.055892993620255,
          -3.148771342830365,
          -4.085285777336919,
          17.062476791306796,
          -44.55497636178288,
          -6.6989113358471375,
          -7.230229170015112,
          -7.881278623828375,
          38.56590267194327,
          -51.79240398864275,
          -34.063179631320104,
          39.029957786272234,
          30.08144240303736,
          -28.23298568320643,
          -3.4017647923359764,
          -11.957214402349457,
          5.181662253028505,
          44.091899375157986,
          -12.155338958603947,
          -34.376323219670425,
          9.822496115191392,
          -2.140839723178663,
          11.80107908090035,
          6.468867622722484,
          13.134846741789886,
          9.022214011438093,
          8.177519343742153,
          -2.2706316435803693,
          -2.667048409882119,
          14.842792982126232,
          -26.59070088663654,
          21.239934043436204,
          -3.744467504203589,
          21.851377469065568,
          -35.83377457671759,
          3.87707463730881,
          8.603803082872773,
          39.14931912864496,
          -25.844793598987955,
          -44.76135431242309,
          -1.582934405330311,
          15.35209909101693,
          -23.62752960139839,
          7.122778286525878,
          39.49856474121143,
          25.425467086016837,
          -11.907255861156958,
          2.34863701475637,
          -47.40152537044646,
          -4.918926120759965,
          37.40598073777529,
          -17.27127283244597,
          14.167931492827663,
          2.926153819069306,
          32.299592684226546,
          -13.842655311530715,
          -1.1565594270286774,
          6.618624831634169,
          -43.27325805360872,
          -0.25097293031918905,
          26.133293494345534,
          -19.22331079925224,
          -14.196143705521552,
          37.63232810842216,
          -36.65000402311364,
          4.591854009606542,
          2.3147801832026595,
          -48.58079028115906,
          12.774470685106126,
          -40.70141622656844,
          -27.29627043567729,
          -19.881701107921092,
          23.91266408843348,
          19.73885765675201,
          3.046041554432552,
          9.31813460776097,
          8.39412090830823,
          2.5093646407393204,
          -6.472773011218611,
          -37.374484045647144,
          25.510015935523516,
          13.968812003534447,
          36.11406129388386,
          -24.436507805937598,
          36.86926505337012,
          3.4467766752340543,
          -23.731000426276534,
          -8.805749978456385,
          -42.93348559434554,
          30.060918873669337,
          -16.183676871291425,
          8.830363235714646,
          4.710192362931909,
          -23.87734463907431,
          -36.78017786784501,
          -36.50854889384694
         ],
         "yaxis": "y"
        },
        {
         "hovertemplate": "color=3.0<br>PC1=%{x}<br>PC2=%{y}<extra></extra>",
         "legendgroup": "3.0",
         "marker": {
          "color": "#EF553B",
          "symbol": "circle"
         },
         "mode": "markers",
         "name": "3.0",
         "orientation": "v",
         "showlegend": true,
         "type": "scatter",
         "x": [
          -92.54931623665043,
          -84.83867836504629,
          57.301845560331344,
          -87.71556269334027,
          88.93307464541711,
          60.099901657747445,
          108.14062698147838,
          -96.3137542217728,
          77.01012253945287,
          -105.19374333398889,
          95.52638795434714,
          60.8663832090071,
          -86.90858449251242,
          48.45941775317545,
          46.16636404640107,
          45.916680979593515,
          92.33857497916888,
          137.20575865251462,
          87.21974106112705,
          -90.92080851457152,
          87.992622718781,
          72.20631429970607,
          49.15329877320654,
          47.925156482592676,
          -90.46524809375427,
          41.37879143827285,
          124.21435639226517,
          69.65481247453896
         ],
         "xaxis": "x",
         "y": [
          16.228015114138785,
          18.334438254193497,
          64.52209636508877,
          25.384434588911468,
          55.72401899642277,
          37.17646994151945,
          28.184531467294715,
          2.1567204019414787,
          34.300384524437206,
          -17.692400802946693,
          30.394015986971826,
          45.929016878864786,
          -10.391251402229702,
          55.298867951534625,
          54.55763851333286,
          69.4020498760782,
          45.26009762637623,
          59.824024738549966,
          54.65544021001427,
          -16.734651606120625,
          54.495083078071005,
          98.20566734970815,
          67.15686755250526,
          52.42455411417616,
          11.853898342047016,
          74.06823640058668,
          9.528516222160999,
          35.86722817483801
         ],
         "yaxis": "y"
        },
        {
         "hovertemplate": "color=2.0<br>PC1=%{x}<br>PC2=%{y}<extra></extra>",
         "legendgroup": "2.0",
         "marker": {
          "color": "#00cc96",
          "symbol": "circle"
         },
         "mode": "markers",
         "name": "2.0",
         "orientation": "v",
         "showlegend": true,
         "type": "scatter",
         "x": [
          -75.41059980474796,
          -67.45842863022656,
          -6.638822054272245,
          -61.919763092948884,
          -78.2834973231075,
          -88.92488982179623,
          -65.1266123903575,
          85.27244420972073,
          -64.56358501164803,
          -61.51848837030708,
          -89.80049791205809,
          7.16200976606622,
          36.630062019187086,
          -42.202847386286784,
          -71.22877191248888,
          -70.50471085487997,
          21.607556151016695,
          -56.785501047561006,
          -75.32801164202013,
          -62.10308989495342,
          -72.12558102247878,
          -90.16081150590985,
          -76.30197524241206,
          -57.02660874309074,
          -71.85267900002584,
          -31.42021994436415,
          -59.42393341232098,
          -74.65716783370864,
          -62.99630401860139,
          -85.58989273208974,
          -77.15838766521318,
          -89.49346214141744,
          -28.205039229402917,
          -78.98485656634047,
          -88.31026797436719,
          -73.93387322979841,
          -1.934546623984825,
          -64.37045858284604,
          -61.933885081517104,
          -86.62796764407379,
          6.88265209119918,
          -3.981813087198188,
          89.7824014386484,
          -0.5737267425973556,
          -70.87510957511195,
          -73.63904575671826,
          -74.32263615169208,
          35.173664123107,
          -64.01018062372056
         ],
         "xaxis": "x",
         "y": [
          11.471756494951237,
          -14.874799558639735,
          3.3092612247957773,
          -2.801935075592872,
          -18.932959470189605,
          -5.476021811996287,
          20.99322089020022,
          -55.56981478225041,
          -27.344612154825636,
          25.80106911214708,
          -44.67277342733726,
          -15.806551287205266,
          -35.69245215147298,
          -27.053045776282357,
          -9.837527831816871,
          -4.340598742585273,
          -39.69962019775743,
          3.6454901287507306,
          -22.25371836575479,
          20.75847480997846,
          -18.53270862904213,
          -6.733821504693462,
          -20.695517329951254,
          9.339278459374073,
          -3.3525781586651373,
          5.095334033898385,
          -6.876373816401022,
          -3.1551728224361795,
          -40.81808599776911,
          -27.553717379959703,
          -28.93717686293997,
          -24.712579836564053,
          33.00461788156871,
          -50.13289532786613,
          -11.673410281802278,
          -29.679309734830817,
          -10.105159116175829,
          -38.2315832964871,
          -6.1524245446241075,
          -16.924227362052008,
          -53.74833922662585,
          -32.3643485343518,
          -55.500263539700406,
          -2.2364178952286253,
          -32.44282289595171,
          -2.4054613581796223,
          5.501917206228263,
          -22.392765668561868,
          11.820886287913632
         ],
         "yaxis": "y"
        }
       ],
       "layout": {
        "legend": {
         "title": {
          "text": "color"
         },
         "tracegroupgap": 0
        },
        "margin": {
         "t": 60
        },
        "template": {
         "data": {
          "bar": [
           {
            "error_x": {
             "color": "#2a3f5f"
            },
            "error_y": {
             "color": "#2a3f5f"
            },
            "marker": {
             "line": {
              "color": "#E5ECF6",
              "width": 0.5
             },
             "pattern": {
              "fillmode": "overlay",
              "size": 10,
              "solidity": 0.2
             }
            },
            "type": "bar"
           }
          ],
          "barpolar": [
           {
            "marker": {
             "line": {
              "color": "#E5ECF6",
              "width": 0.5
             },
             "pattern": {
              "fillmode": "overlay",
              "size": 10,
              "solidity": 0.2
             }
            },
            "type": "barpolar"
           }
          ],
          "carpet": [
           {
            "aaxis": {
             "endlinecolor": "#2a3f5f",
             "gridcolor": "white",
             "linecolor": "white",
             "minorgridcolor": "white",
             "startlinecolor": "#2a3f5f"
            },
            "baxis": {
             "endlinecolor": "#2a3f5f",
             "gridcolor": "white",
             "linecolor": "white",
             "minorgridcolor": "white",
             "startlinecolor": "#2a3f5f"
            },
            "type": "carpet"
           }
          ],
          "choropleth": [
           {
            "colorbar": {
             "outlinewidth": 0,
             "ticks": ""
            },
            "type": "choropleth"
           }
          ],
          "contour": [
           {
            "colorbar": {
             "outlinewidth": 0,
             "ticks": ""
            },
            "colorscale": [
             [
              0,
              "#0d0887"
             ],
             [
              0.1111111111111111,
              "#46039f"
             ],
             [
              0.2222222222222222,
              "#7201a8"
             ],
             [
              0.3333333333333333,
              "#9c179e"
             ],
             [
              0.4444444444444444,
              "#bd3786"
             ],
             [
              0.5555555555555556,
              "#d8576b"
             ],
             [
              0.6666666666666666,
              "#ed7953"
             ],
             [
              0.7777777777777778,
              "#fb9f3a"
             ],
             [
              0.8888888888888888,
              "#fdca26"
             ],
             [
              1,
              "#f0f921"
             ]
            ],
            "type": "contour"
           }
          ],
          "contourcarpet": [
           {
            "colorbar": {
             "outlinewidth": 0,
             "ticks": ""
            },
            "type": "contourcarpet"
           }
          ],
          "heatmap": [
           {
            "colorbar": {
             "outlinewidth": 0,
             "ticks": ""
            },
            "colorscale": [
             [
              0,
              "#0d0887"
             ],
             [
              0.1111111111111111,
              "#46039f"
             ],
             [
              0.2222222222222222,
              "#7201a8"
             ],
             [
              0.3333333333333333,
              "#9c179e"
             ],
             [
              0.4444444444444444,
              "#bd3786"
             ],
             [
              0.5555555555555556,
              "#d8576b"
             ],
             [
              0.6666666666666666,
              "#ed7953"
             ],
             [
              0.7777777777777778,
              "#fb9f3a"
             ],
             [
              0.8888888888888888,
              "#fdca26"
             ],
             [
              1,
              "#f0f921"
             ]
            ],
            "type": "heatmap"
           }
          ],
          "heatmapgl": [
           {
            "colorbar": {
             "outlinewidth": 0,
             "ticks": ""
            },
            "colorscale": [
             [
              0,
              "#0d0887"
             ],
             [
              0.1111111111111111,
              "#46039f"
             ],
             [
              0.2222222222222222,
              "#7201a8"
             ],
             [
              0.3333333333333333,
              "#9c179e"
             ],
             [
              0.4444444444444444,
              "#bd3786"
             ],
             [
              0.5555555555555556,
              "#d8576b"
             ],
             [
              0.6666666666666666,
              "#ed7953"
             ],
             [
              0.7777777777777778,
              "#fb9f3a"
             ],
             [
              0.8888888888888888,
              "#fdca26"
             ],
             [
              1,
              "#f0f921"
             ]
            ],
            "type": "heatmapgl"
           }
          ],
          "histogram": [
           {
            "marker": {
             "pattern": {
              "fillmode": "overlay",
              "size": 10,
              "solidity": 0.2
             }
            },
            "type": "histogram"
           }
          ],
          "histogram2d": [
           {
            "colorbar": {
             "outlinewidth": 0,
             "ticks": ""
            },
            "colorscale": [
             [
              0,
              "#0d0887"
             ],
             [
              0.1111111111111111,
              "#46039f"
             ],
             [
              0.2222222222222222,
              "#7201a8"
             ],
             [
              0.3333333333333333,
              "#9c179e"
             ],
             [
              0.4444444444444444,
              "#bd3786"
             ],
             [
              0.5555555555555556,
              "#d8576b"
             ],
             [
              0.6666666666666666,
              "#ed7953"
             ],
             [
              0.7777777777777778,
              "#fb9f3a"
             ],
             [
              0.8888888888888888,
              "#fdca26"
             ],
             [
              1,
              "#f0f921"
             ]
            ],
            "type": "histogram2d"
           }
          ],
          "histogram2dcontour": [
           {
            "colorbar": {
             "outlinewidth": 0,
             "ticks": ""
            },
            "colorscale": [
             [
              0,
              "#0d0887"
             ],
             [
              0.1111111111111111,
              "#46039f"
             ],
             [
              0.2222222222222222,
              "#7201a8"
             ],
             [
              0.3333333333333333,
              "#9c179e"
             ],
             [
              0.4444444444444444,
              "#bd3786"
             ],
             [
              0.5555555555555556,
              "#d8576b"
             ],
             [
              0.6666666666666666,
              "#ed7953"
             ],
             [
              0.7777777777777778,
              "#fb9f3a"
             ],
             [
              0.8888888888888888,
              "#fdca26"
             ],
             [
              1,
              "#f0f921"
             ]
            ],
            "type": "histogram2dcontour"
           }
          ],
          "mesh3d": [
           {
            "colorbar": {
             "outlinewidth": 0,
             "ticks": ""
            },
            "type": "mesh3d"
           }
          ],
          "parcoords": [
           {
            "line": {
             "colorbar": {
              "outlinewidth": 0,
              "ticks": ""
             }
            },
            "type": "parcoords"
           }
          ],
          "pie": [
           {
            "automargin": true,
            "type": "pie"
           }
          ],
          "scatter": [
           {
            "fillpattern": {
             "fillmode": "overlay",
             "size": 10,
             "solidity": 0.2
            },
            "type": "scatter"
           }
          ],
          "scatter3d": [
           {
            "line": {
             "colorbar": {
              "outlinewidth": 0,
              "ticks": ""
             }
            },
            "marker": {
             "colorbar": {
              "outlinewidth": 0,
              "ticks": ""
             }
            },
            "type": "scatter3d"
           }
          ],
          "scattercarpet": [
           {
            "marker": {
             "colorbar": {
              "outlinewidth": 0,
              "ticks": ""
             }
            },
            "type": "scattercarpet"
           }
          ],
          "scattergeo": [
           {
            "marker": {
             "colorbar": {
              "outlinewidth": 0,
              "ticks": ""
             }
            },
            "type": "scattergeo"
           }
          ],
          "scattergl": [
           {
            "marker": {
             "colorbar": {
              "outlinewidth": 0,
              "ticks": ""
             }
            },
            "type": "scattergl"
           }
          ],
          "scattermapbox": [
           {
            "marker": {
             "colorbar": {
              "outlinewidth": 0,
              "ticks": ""
             }
            },
            "type": "scattermapbox"
           }
          ],
          "scatterpolar": [
           {
            "marker": {
             "colorbar": {
              "outlinewidth": 0,
              "ticks": ""
             }
            },
            "type": "scatterpolar"
           }
          ],
          "scatterpolargl": [
           {
            "marker": {
             "colorbar": {
              "outlinewidth": 0,
              "ticks": ""
             }
            },
            "type": "scatterpolargl"
           }
          ],
          "scatterternary": [
           {
            "marker": {
             "colorbar": {
              "outlinewidth": 0,
              "ticks": ""
             }
            },
            "type": "scatterternary"
           }
          ],
          "surface": [
           {
            "colorbar": {
             "outlinewidth": 0,
             "ticks": ""
            },
            "colorscale": [
             [
              0,
              "#0d0887"
             ],
             [
              0.1111111111111111,
              "#46039f"
             ],
             [
              0.2222222222222222,
              "#7201a8"
             ],
             [
              0.3333333333333333,
              "#9c179e"
             ],
             [
              0.4444444444444444,
              "#bd3786"
             ],
             [
              0.5555555555555556,
              "#d8576b"
             ],
             [
              0.6666666666666666,
              "#ed7953"
             ],
             [
              0.7777777777777778,
              "#fb9f3a"
             ],
             [
              0.8888888888888888,
              "#fdca26"
             ],
             [
              1,
              "#f0f921"
             ]
            ],
            "type": "surface"
           }
          ],
          "table": [
           {
            "cells": {
             "fill": {
              "color": "#EBF0F8"
             },
             "line": {
              "color": "white"
             }
            },
            "header": {
             "fill": {
              "color": "#C8D4E3"
             },
             "line": {
              "color": "white"
             }
            },
            "type": "table"
           }
          ]
         },
         "layout": {
          "annotationdefaults": {
           "arrowcolor": "#2a3f5f",
           "arrowhead": 0,
           "arrowwidth": 1
          },
          "autotypenumbers": "strict",
          "coloraxis": {
           "colorbar": {
            "outlinewidth": 0,
            "ticks": ""
           }
          },
          "colorscale": {
           "diverging": [
            [
             0,
             "#8e0152"
            ],
            [
             0.1,
             "#c51b7d"
            ],
            [
             0.2,
             "#de77ae"
            ],
            [
             0.3,
             "#f1b6da"
            ],
            [
             0.4,
             "#fde0ef"
            ],
            [
             0.5,
             "#f7f7f7"
            ],
            [
             0.6,
             "#e6f5d0"
            ],
            [
             0.7,
             "#b8e186"
            ],
            [
             0.8,
             "#7fbc41"
            ],
            [
             0.9,
             "#4d9221"
            ],
            [
             1,
             "#276419"
            ]
           ],
           "sequential": [
            [
             0,
             "#0d0887"
            ],
            [
             0.1111111111111111,
             "#46039f"
            ],
            [
             0.2222222222222222,
             "#7201a8"
            ],
            [
             0.3333333333333333,
             "#9c179e"
            ],
            [
             0.4444444444444444,
             "#bd3786"
            ],
            [
             0.5555555555555556,
             "#d8576b"
            ],
            [
             0.6666666666666666,
             "#ed7953"
            ],
            [
             0.7777777777777778,
             "#fb9f3a"
            ],
            [
             0.8888888888888888,
             "#fdca26"
            ],
            [
             1,
             "#f0f921"
            ]
           ],
           "sequentialminus": [
            [
             0,
             "#0d0887"
            ],
            [
             0.1111111111111111,
             "#46039f"
            ],
            [
             0.2222222222222222,
             "#7201a8"
            ],
            [
             0.3333333333333333,
             "#9c179e"
            ],
            [
             0.4444444444444444,
             "#bd3786"
            ],
            [
             0.5555555555555556,
             "#d8576b"
            ],
            [
             0.6666666666666666,
             "#ed7953"
            ],
            [
             0.7777777777777778,
             "#fb9f3a"
            ],
            [
             0.8888888888888888,
             "#fdca26"
            ],
            [
             1,
             "#f0f921"
            ]
           ]
          },
          "colorway": [
           "#636efa",
           "#EF553B",
           "#00cc96",
           "#ab63fa",
           "#FFA15A",
           "#19d3f3",
           "#FF6692",
           "#B6E880",
           "#FF97FF",
           "#FECB52"
          ],
          "font": {
           "color": "#2a3f5f"
          },
          "geo": {
           "bgcolor": "white",
           "lakecolor": "white",
           "landcolor": "#E5ECF6",
           "showlakes": true,
           "showland": true,
           "subunitcolor": "white"
          },
          "hoverlabel": {
           "align": "left"
          },
          "hovermode": "closest",
          "mapbox": {
           "style": "light"
          },
          "paper_bgcolor": "white",
          "plot_bgcolor": "#E5ECF6",
          "polar": {
           "angularaxis": {
            "gridcolor": "white",
            "linecolor": "white",
            "ticks": ""
           },
           "bgcolor": "#E5ECF6",
           "radialaxis": {
            "gridcolor": "white",
            "linecolor": "white",
            "ticks": ""
           }
          },
          "scene": {
           "xaxis": {
            "backgroundcolor": "#E5ECF6",
            "gridcolor": "white",
            "gridwidth": 2,
            "linecolor": "white",
            "showbackground": true,
            "ticks": "",
            "zerolinecolor": "white"
           },
           "yaxis": {
            "backgroundcolor": "#E5ECF6",
            "gridcolor": "white",
            "gridwidth": 2,
            "linecolor": "white",
            "showbackground": true,
            "ticks": "",
            "zerolinecolor": "white"
           },
           "zaxis": {
            "backgroundcolor": "#E5ECF6",
            "gridcolor": "white",
            "gridwidth": 2,
            "linecolor": "white",
            "showbackground": true,
            "ticks": "",
            "zerolinecolor": "white"
           }
          },
          "shapedefaults": {
           "line": {
            "color": "#2a3f5f"
           }
          },
          "ternary": {
           "aaxis": {
            "gridcolor": "white",
            "linecolor": "white",
            "ticks": ""
           },
           "baxis": {
            "gridcolor": "white",
            "linecolor": "white",
            "ticks": ""
           },
           "bgcolor": "#E5ECF6",
           "caxis": {
            "gridcolor": "white",
            "linecolor": "white",
            "ticks": ""
           }
          },
          "title": {
           "x": 0.05
          },
          "xaxis": {
           "automargin": true,
           "gridcolor": "white",
           "linecolor": "white",
           "ticks": "",
           "title": {
            "standoff": 15
           },
           "zerolinecolor": "white",
           "zerolinewidth": 2
          },
          "yaxis": {
           "automargin": true,
           "gridcolor": "white",
           "linecolor": "white",
           "ticks": "",
           "title": {
            "standoff": 15
           },
           "zerolinecolor": "white",
           "zerolinewidth": 2
          }
         }
        },
        "title": {
         "text": "KNeighbors PCA (2D)"
        },
        "width": 650,
        "xaxis": {
         "anchor": "y",
         "domain": [
          0,
          1
         ],
         "title": {
          "text": "PC1"
         }
        },
        "yaxis": {
         "anchor": "x",
         "domain": [
          0,
          1
         ],
         "title": {
          "text": "PC2"
         }
        }
       }
      }
     },
     "metadata": {},
     "output_type": "display_data"
    }
   ],
   "source": [
    "from sklearn.decomposition import PCA\n",
    "\n",
    "# Réaliser l'analyse en composantes principales (PCA)\n",
    "cls = PCA(n_components=21)\n",
    "pcs = cls.fit_transform(data_test)\n",
    "\n",
    "fig_original = px.scatter(x=pcs.T[0], y=pcs.T[1], color=labels_test, \n",
    "                          labels={'x': 'PC1', 'y': 'PC2'}, width=650)\n",
    "fig_original.update_layout(title=\"Original PCA (2D)\")\n",
    "\n",
    "fig_KNeighbors = px.scatter(x=pcs.T[0], y=pcs.T[1], color=prediction, \n",
    "                            labels={'x': 'PC1', 'y': 'PC2'}, width=650)\n",
    "fig_KNeighbors.update_layout(title=\"KNeighbors PCA (2D)\")\n",
    "\n",
    "# Afficher les figures\n",
    "fig_original.show()\n",
    "fig_KNeighbors.show()\n"
   ]
  },
  {
   "cell_type": "markdown",
   "metadata": {},
   "source": [
    "## KNeighbors (avec selection des var)"
   ]
  },
  {
   "cell_type": "code",
   "execution_count": null,
   "metadata": {
    "ExecuteTime": {
     "end_time": "2024-06-06T13:23:13.286723Z",
     "start_time": "2024-06-06T13:23:13.255127Z"
    }
   },
   "outputs": [
    {
     "data": {
      "text/html": [
       "<div>\n",
       "<style scoped>\n",
       "    .dataframe tbody tr th:only-of-type {\n",
       "        vertical-align: middle;\n",
       "    }\n",
       "\n",
       "    .dataframe tbody tr th {\n",
       "        vertical-align: top;\n",
       "    }\n",
       "\n",
       "    .dataframe thead th {\n",
       "        text-align: right;\n",
       "    }\n",
       "</style>\n",
       "<table border=\"1\" class=\"dataframe\">\n",
       "  <thead>\n",
       "    <tr style=\"text-align: right;\">\n",
       "      <th></th>\n",
       "      <th>prolongued_decelerations</th>\n",
       "      <th>abnormal_short_term_variability</th>\n",
       "      <th>percentage_of_time_with_abnormal_long_term_variability</th>\n",
       "      <th>histogram_mode</th>\n",
       "      <th>histogram_mean</th>\n",
       "      <th>histogram_median</th>\n",
       "    </tr>\n",
       "  </thead>\n",
       "  <tbody>\n",
       "    <tr>\n",
       "      <th>1624</th>\n",
       "      <td>0.000</td>\n",
       "      <td>53.0</td>\n",
       "      <td>0.0</td>\n",
       "      <td>135.0</td>\n",
       "      <td>134.0</td>\n",
       "      <td>140.0</td>\n",
       "    </tr>\n",
       "    <tr>\n",
       "      <th>53</th>\n",
       "      <td>0.000</td>\n",
       "      <td>61.0</td>\n",
       "      <td>40.0</td>\n",
       "      <td>154.0</td>\n",
       "      <td>152.0</td>\n",
       "      <td>154.0</td>\n",
       "    </tr>\n",
       "    <tr>\n",
       "      <th>1082</th>\n",
       "      <td>0.000</td>\n",
       "      <td>28.0</td>\n",
       "      <td>2.0</td>\n",
       "      <td>144.0</td>\n",
       "      <td>141.0</td>\n",
       "      <td>144.0</td>\n",
       "    </tr>\n",
       "    <tr>\n",
       "      <th>1963</th>\n",
       "      <td>0.002</td>\n",
       "      <td>61.0</td>\n",
       "      <td>0.0</td>\n",
       "      <td>125.0</td>\n",
       "      <td>95.0</td>\n",
       "      <td>103.0</td>\n",
       "    </tr>\n",
       "    <tr>\n",
       "      <th>1132</th>\n",
       "      <td>0.000</td>\n",
       "      <td>16.0</td>\n",
       "      <td>0.0</td>\n",
       "      <td>107.0</td>\n",
       "      <td>115.0</td>\n",
       "      <td>115.0</td>\n",
       "    </tr>\n",
       "    <tr>\n",
       "      <th>...</th>\n",
       "      <td>...</td>\n",
       "      <td>...</td>\n",
       "      <td>...</td>\n",
       "      <td>...</td>\n",
       "      <td>...</td>\n",
       "      <td>...</td>\n",
       "    </tr>\n",
       "    <tr>\n",
       "      <th>1070</th>\n",
       "      <td>0.000</td>\n",
       "      <td>16.0</td>\n",
       "      <td>0.0</td>\n",
       "      <td>131.0</td>\n",
       "      <td>138.0</td>\n",
       "      <td>136.0</td>\n",
       "    </tr>\n",
       "    <tr>\n",
       "      <th>396</th>\n",
       "      <td>0.000</td>\n",
       "      <td>51.0</td>\n",
       "      <td>9.0</td>\n",
       "      <td>145.0</td>\n",
       "      <td>147.0</td>\n",
       "      <td>148.0</td>\n",
       "    </tr>\n",
       "    <tr>\n",
       "      <th>194</th>\n",
       "      <td>0.000</td>\n",
       "      <td>56.0</td>\n",
       "      <td>19.0</td>\n",
       "      <td>153.0</td>\n",
       "      <td>157.0</td>\n",
       "      <td>158.0</td>\n",
       "    </tr>\n",
       "    <tr>\n",
       "      <th>630</th>\n",
       "      <td>0.000</td>\n",
       "      <td>48.0</td>\n",
       "      <td>0.0</td>\n",
       "      <td>160.0</td>\n",
       "      <td>150.0</td>\n",
       "      <td>155.0</td>\n",
       "    </tr>\n",
       "    <tr>\n",
       "      <th>789</th>\n",
       "      <td>0.000</td>\n",
       "      <td>56.0</td>\n",
       "      <td>0.0</td>\n",
       "      <td>127.0</td>\n",
       "      <td>129.0</td>\n",
       "      <td>131.0</td>\n",
       "    </tr>\n",
       "  </tbody>\n",
       "</table>\n",
       "<p>1700 rows × 6 columns</p>\n",
       "</div>"
      ],
      "text/plain": [
       "      prolongued_decelerations  abnormal_short_term_variability  \\\n",
       "1624                     0.000                             53.0   \n",
       "53                       0.000                             61.0   \n",
       "1082                     0.000                             28.0   \n",
       "1963                     0.002                             61.0   \n",
       "1132                     0.000                             16.0   \n",
       "...                        ...                              ...   \n",
       "1070                     0.000                             16.0   \n",
       "396                      0.000                             51.0   \n",
       "194                      0.000                             56.0   \n",
       "630                      0.000                             48.0   \n",
       "789                      0.000                             56.0   \n",
       "\n",
       "      percentage_of_time_with_abnormal_long_term_variability  histogram_mode  \\\n",
       "1624                                                0.0                135.0   \n",
       "53                                                 40.0                154.0   \n",
       "1082                                                2.0                144.0   \n",
       "1963                                                0.0                125.0   \n",
       "1132                                                0.0                107.0   \n",
       "...                                                 ...                  ...   \n",
       "1070                                                0.0                131.0   \n",
       "396                                                 9.0                145.0   \n",
       "194                                                19.0                153.0   \n",
       "630                                                 0.0                160.0   \n",
       "789                                                 0.0                127.0   \n",
       "\n",
       "      histogram_mean  histogram_median  \n",
       "1624           134.0             140.0  \n",
       "53             152.0             154.0  \n",
       "1082           141.0             144.0  \n",
       "1963            95.0             103.0  \n",
       "1132           115.0             115.0  \n",
       "...              ...               ...  \n",
       "1070           138.0             136.0  \n",
       "396            147.0             148.0  \n",
       "194            157.0             158.0  \n",
       "630            150.0             155.0  \n",
       "789            129.0             131.0  \n",
       "\n",
       "[1700 rows x 6 columns]"
      ]
     },
     "execution_count": 455,
     "metadata": {},
     "output_type": "execute_result"
    }
   ],
   "source": [
    "data_test_selected\n",
    "data_train_selected"
   ]
  },
  {
   "cell_type": "markdown",
   "metadata": {},
   "source": [
    "### Sélection du k opt"
   ]
  },
  {
   "cell_type": "code",
   "execution_count": null,
   "metadata": {
    "ExecuteTime": {
     "end_time": "2024-06-06T13:23:31.069818Z",
     "start_time": "2024-06-06T13:23:13.287380Z"
    }
   },
   "outputs": [
    {
     "data": {
      "text/html": [
       "<div>\n",
       "<style scoped>\n",
       "    .dataframe tbody tr th:only-of-type {\n",
       "        vertical-align: middle;\n",
       "    }\n",
       "\n",
       "    .dataframe tbody tr th {\n",
       "        vertical-align: top;\n",
       "    }\n",
       "\n",
       "    .dataframe thead th {\n",
       "        text-align: right;\n",
       "    }\n",
       "</style>\n",
       "<table border=\"1\" class=\"dataframe\">\n",
       "  <thead>\n",
       "    <tr style=\"text-align: right;\">\n",
       "      <th></th>\n",
       "      <th># neighbors</th>\n",
       "      <th>accuracy</th>\n",
       "    </tr>\n",
       "  </thead>\n",
       "  <tbody>\n",
       "    <tr>\n",
       "      <th>0</th>\n",
       "      <td>1</td>\n",
       "      <td>[0.9352941176470588, 0.9058823529411765, 0.894...</td>\n",
       "    </tr>\n",
       "    <tr>\n",
       "      <th>1</th>\n",
       "      <td>2</td>\n",
       "      <td>[0.9117647058823529, 0.888235294117647, 0.9, 0...</td>\n",
       "    </tr>\n",
       "    <tr>\n",
       "      <th>2</th>\n",
       "      <td>3</td>\n",
       "      <td>[0.9235294117647059, 0.9058823529411765, 0.9, ...</td>\n",
       "    </tr>\n",
       "    <tr>\n",
       "      <th>3</th>\n",
       "      <td>4</td>\n",
       "      <td>[0.9176470588235294, 0.888235294117647, 0.8941...</td>\n",
       "    </tr>\n",
       "    <tr>\n",
       "      <th>4</th>\n",
       "      <td>5</td>\n",
       "      <td>[0.9117647058823529, 0.9, 0.8941176470588236, ...</td>\n",
       "    </tr>\n",
       "    <tr>\n",
       "      <th>...</th>\n",
       "      <td>...</td>\n",
       "      <td>...</td>\n",
       "    </tr>\n",
       "    <tr>\n",
       "      <th>66</th>\n",
       "      <td>389</td>\n",
       "      <td>[0.8058823529411765, 0.7411764705882353, 0.823...</td>\n",
       "    </tr>\n",
       "    <tr>\n",
       "      <th>67</th>\n",
       "      <td>414</td>\n",
       "      <td>[0.7823529411764706, 0.7411764705882353, 0.8, ...</td>\n",
       "    </tr>\n",
       "    <tr>\n",
       "      <th>68</th>\n",
       "      <td>441</td>\n",
       "      <td>[0.7705882352941177, 0.7411764705882353, 0.794...</td>\n",
       "    </tr>\n",
       "    <tr>\n",
       "      <th>69</th>\n",
       "      <td>470</td>\n",
       "      <td>[0.7705882352941177, 0.7411764705882353, 0.794...</td>\n",
       "    </tr>\n",
       "    <tr>\n",
       "      <th>70</th>\n",
       "      <td>500</td>\n",
       "      <td>[0.7705882352941177, 0.7411764705882353, 0.794...</td>\n",
       "    </tr>\n",
       "  </tbody>\n",
       "</table>\n",
       "<p>71 rows × 2 columns</p>\n",
       "</div>"
      ],
      "text/plain": [
       "    # neighbors                                           accuracy\n",
       "0             1  [0.9352941176470588, 0.9058823529411765, 0.894...\n",
       "1             2  [0.9117647058823529, 0.888235294117647, 0.9, 0...\n",
       "2             3  [0.9235294117647059, 0.9058823529411765, 0.9, ...\n",
       "3             4  [0.9176470588235294, 0.888235294117647, 0.8941...\n",
       "4             5  [0.9117647058823529, 0.9, 0.8941176470588236, ...\n",
       "..          ...                                                ...\n",
       "66          389  [0.8058823529411765, 0.7411764705882353, 0.823...\n",
       "67          414  [0.7823529411764706, 0.7411764705882353, 0.8, ...\n",
       "68          441  [0.7705882352941177, 0.7411764705882353, 0.794...\n",
       "69          470  [0.7705882352941177, 0.7411764705882353, 0.794...\n",
       "70          500  [0.7705882352941177, 0.7411764705882353, 0.794...\n",
       "\n",
       "[71 rows x 2 columns]"
      ]
     },
     "execution_count": 456,
     "metadata": {},
     "output_type": "execute_result"
    }
   ],
   "source": [
    "n_folds = 10\n",
    "n_neighbors_list = np.unique(np.round(np.geomspace(1, 500, 100)).astype(int))\n",
    "\n",
    "gen = knn_cross_validation2(data_train_selected, labels_train_selected, n_folds, n_neighbors_list)\n",
    "df = pd.DataFrame(gen, columns=[\"# neighbors\", \"accuracy\"])\n",
    "df"
   ]
  },
  {
   "cell_type": "code",
   "execution_count": null,
   "metadata": {
    "ExecuteTime": {
     "end_time": "2024-06-06T13:23:31.086703Z",
     "start_time": "2024-06-06T13:23:31.071150Z"
    }
   },
   "outputs": [
    {
     "name": "stdout",
     "output_type": "stream",
     "text": [
      "Le meilleur nombre de voisins est: 3 avec une accuracy moyenne de: 0.9112\n"
     ]
    }
   ],
   "source": [
    "# Calculer l'accuracy moyenne pour chaque ligne\n",
    "df['mean_accuracy'] = df['accuracy'].apply(lambda acc_list: sum(acc_list) / len(acc_list))\n",
    "\n",
    "# Trouver le nombre de voisins avec l'accuracy moyenne maximale\n",
    "max_mean_accuracy = df['mean_accuracy'].max()\n",
    "best_n_neighbors = df.loc[df['mean_accuracy'] == max_mean_accuracy, '# neighbors'].values[0]\n",
    "\n",
    "print(f\"Le meilleur nombre de voisins est: {best_n_neighbors} avec une accuracy moyenne de: {max_mean_accuracy:.4f}\")\n"
   ]
  },
  {
   "cell_type": "markdown",
   "metadata": {},
   "source": [
    "### Knn avec kopt"
   ]
  },
  {
   "cell_type": "code",
   "execution_count": null,
   "metadata": {
    "ExecuteTime": {
     "end_time": "2024-06-06T13:23:31.136633Z",
     "start_time": "2024-06-06T13:23:31.090040Z"
    }
   },
   "outputs": [],
   "source": [
    "clf_selected = KNeighborsClassifier(n_neighbors=best_n_neighbors)\n",
    "clf_selected.fit(data_train_selected, labels_train_selected)\n",
    "prediction_selected = clf_selected.predict(data_test_selected)"
   ]
  },
  {
   "cell_type": "code",
   "execution_count": null,
   "metadata": {
    "ExecuteTime": {
     "end_time": "2024-06-06T13:23:31.153834Z",
     "start_time": "2024-06-06T13:23:31.137997Z"
    }
   },
   "outputs": [],
   "source": [
    "prediction_selected = pd.Categorical(prediction_selected, categories=[1.0, 2.0, 3.0], ordered=True)"
   ]
  },
  {
   "cell_type": "code",
   "execution_count": null,
   "metadata": {
    "ExecuteTime": {
     "end_time": "2024-06-06T13:23:31.337477Z",
     "start_time": "2024-06-06T13:23:31.155319Z"
    }
   },
   "outputs": [
    {
     "name": "stdout",
     "output_type": "stream",
     "text": [
      "Accuracy globale\n",
      "Score données d'entrainements: 0.9470588235294117\n",
      "Score données de test: 0.9014084507042254\n"
     ]
    }
   ],
   "source": [
    "print(\"Accuracy globale\")\n",
    "print(f\"Score données d'entrainements: {clf_selected.score(data_train_selected, labels_train_selected)}\")\n",
    "print(f\"Score données de test: {clf_selected.score(data_test_selected, labels_test_selected)}\")"
   ]
  },
  {
   "cell_type": "code",
   "execution_count": null,
   "metadata": {
    "ExecuteTime": {
     "end_time": "2024-06-06T13:23:31.404326Z",
     "start_time": "2024-06-06T13:23:31.360643Z"
    }
   },
   "outputs": [
    {
     "name": "stdout",
     "output_type": "stream",
     "text": [
      "Accuracy pour les labels 3\n",
      "Score données d'entrainements: 0.8794326241134752\n",
      "Score données de test: 0.7428571428571429\n"
     ]
    }
   ],
   "source": [
    "print(\"Accuracy pour les labels 3\")\n",
    "print(f\"Score données d'entrainements: {clf_selected.score(data_train_selected[labels_train_selected == 3], labels_train_selected[labels_train_selected == 3])}\")\n",
    "print(f\"Score données de test: {clf_selected.score(data_test_selected[labels_test_selected == 3], labels_test_selected[labels_test_selected == 3])}\")"
   ]
  },
  {
   "cell_type": "code",
   "execution_count": null,
   "metadata": {
    "ExecuteTime": {
     "end_time": "2024-06-06T13:23:31.453728Z",
     "start_time": "2024-06-06T13:23:31.405150Z"
    }
   },
   "outputs": [
    {
     "name": "stdout",
     "output_type": "stream",
     "text": [
      "Accuracy pour les labels 2\n",
      "Score données d'entrainements: 0.7838983050847458\n",
      "Score données de test: 0.6779661016949152\n"
     ]
    }
   ],
   "source": [
    "print(\"Accuracy pour les labels 2\")\n",
    "print(f\"Score données d'entrainements: {clf_selected.score(data_train_selected[labels_train_selected == 2], labels_train_selected[labels_train_selected == 2])}\")\n",
    "print(f\"Score données de test: {clf_selected.score(data_test_selected[labels_test_selected == 2], labels_test_selected[labels_test_selected == 2])}\")"
   ]
  },
  {
   "cell_type": "code",
   "execution_count": null,
   "metadata": {
    "ExecuteTime": {
     "end_time": "2024-06-06T13:23:31.620321Z",
     "start_time": "2024-06-06T13:23:31.463173Z"
    }
   },
   "outputs": [
    {
     "name": "stdout",
     "output_type": "stream",
     "text": [
      "Accuracy pour les labels 1\n",
      "Score données d'entrainements: 0.983371126228269\n",
      "Score données de test: 0.9578313253012049\n"
     ]
    }
   ],
   "source": [
    "print(\"Accuracy pour les labels 1\")\n",
    "print(f\"Score données d'entrainements: {clf_selected.score(data_train_selected[labels_train_selected == 1], labels_train_selected[labels_train_selected == 1])}\")\n",
    "print(f\"Score données de test: {clf_selected.score(data_test_selected[labels_test_selected == 1], labels_test_selected[labels_test_selected == 1])}\")"
   ]
  },
  {
   "cell_type": "code",
   "execution_count": null,
   "metadata": {
    "ExecuteTime": {
     "end_time": "2024-06-06T13:23:31.653732Z",
     "start_time": "2024-06-06T13:23:31.623156Z"
    }
   },
   "outputs": [
    {
     "name": "stdout",
     "output_type": "stream",
     "text": [
      "              precision    recall  f1-score   support\n",
      "\n",
      "      Normal       0.94      0.96      0.95       332\n",
      "     Suspect       0.70      0.68      0.69        59\n",
      "  Pathologic       0.90      0.74      0.81        35\n",
      "\n",
      "    accuracy                           0.90       426\n",
      "   macro avg       0.84      0.79      0.82       426\n",
      "weighted avg       0.90      0.90      0.90       426\n",
      "\n"
     ]
    }
   ],
   "source": [
    "report_selected = classification_report(labels_test_selected, prediction_selected, target_names=['Normal', 'Suspect', 'Pathologic'])\n",
    "report_selected_dict = classification_report(labels_test_selected, prediction_selected, target_names=['Normal', 'Suspect', 'Pathologic'], output_dict=True)\n",
    "print(report_selected)"
   ]
  },
  {
   "cell_type": "code",
   "execution_count": null,
   "metadata": {
    "ExecuteTime": {
     "end_time": "2024-06-06T13:23:31.886586Z",
     "start_time": "2024-06-06T13:23:31.655343Z"
    }
   },
   "outputs": [
    {
     "data": {
      "text/html": [
       "<div>\n",
       "<style scoped>\n",
       "    .dataframe tbody tr th:only-of-type {\n",
       "        vertical-align: middle;\n",
       "    }\n",
       "\n",
       "    .dataframe tbody tr th {\n",
       "        vertical-align: top;\n",
       "    }\n",
       "\n",
       "    .dataframe thead th {\n",
       "        text-align: right;\n",
       "    }\n",
       "</style>\n",
       "<table border=\"1\" class=\"dataframe\">\n",
       "  <thead>\n",
       "    <tr style=\"text-align: right;\">\n",
       "      <th></th>\n",
       "      <th>Algorithm</th>\n",
       "      <th>FeatureSelection</th>\n",
       "      <th>Standardization</th>\n",
       "      <th>Costs</th>\n",
       "      <th>Acc_train</th>\n",
       "      <th>Acc_test</th>\n",
       "      <th>Recall_Pathologic</th>\n",
       "      <th>Pathological predicted as Pathological or Suspect</th>\n",
       "    </tr>\n",
       "  </thead>\n",
       "  <tbody>\n",
       "    <tr>\n",
       "      <th>0</th>\n",
       "      <td>Knn</td>\n",
       "      <td>False</td>\n",
       "      <td>False</td>\n",
       "      <td>False</td>\n",
       "      <td>0.918824</td>\n",
       "      <td>0.884977</td>\n",
       "      <td>0.742857</td>\n",
       "      <td>0.828571</td>\n",
       "    </tr>\n",
       "    <tr>\n",
       "      <th>1</th>\n",
       "      <td>Knn</td>\n",
       "      <td>True</td>\n",
       "      <td>False</td>\n",
       "      <td>False</td>\n",
       "      <td>0.947059</td>\n",
       "      <td>0.901408</td>\n",
       "      <td>0.742857</td>\n",
       "      <td>0.885714</td>\n",
       "    </tr>\n",
       "  </tbody>\n",
       "</table>\n",
       "</div>"
      ],
      "text/plain": [
       "  Algorithm FeatureSelection Standardization  Costs  Acc_train  Acc_test  \\\n",
       "0       Knn            False           False  False   0.918824  0.884977   \n",
       "1       Knn             True           False  False   0.947059  0.901408   \n",
       "\n",
       "   Recall_Pathologic  Pathological predicted as Pathological or Suspect  \n",
       "0           0.742857                                           0.828571  \n",
       "1           0.742857                                           0.885714  "
      ]
     },
     "execution_count": 465,
     "metadata": {},
     "output_type": "execute_result"
    }
   ],
   "source": [
    "cm = confusion_matrix(labels_test, prediction_selected)\n",
    "patho_predicted_as_patho_or_suspect = (cm[2,1]+cm[2,2])/sum(cm[2])\n",
    "\n",
    "accuracies_dataframe = update_line(\n",
    "    accuracies_dataframe, \n",
    "    'Knn', \n",
    "    True, \n",
    "    False, \n",
    "    False, \n",
    "    clf_selected.score(data_train_selected, labels_train_selected), \n",
    "    clf_selected.score(data_test_selected, labels_test_selected), \n",
    "    report_selected_dict['Pathologic']['recall'], \n",
    "    patho_predicted_as_patho_or_suspect)\n",
    "accuracies_dataframe"
   ]
  },
  {
   "cell_type": "markdown",
   "metadata": {},
   "source": [
    "En réduisant le nombre de variables nous évitons le fléau de la dimension et nous améliorons donc significativement le résultat de nos prédictions. Par exemple les prédictions du label 3 pour nos données de test passent de 74% à 87% d'accuracy"
   ]
  },
  {
   "cell_type": "code",
   "execution_count": null,
   "metadata": {
    "ExecuteTime": {
     "end_time": "2024-06-06T13:23:32.147544Z",
     "start_time": "2024-06-06T13:23:31.889633Z"
    }
   },
   "outputs": [
    {
     "data": {
      "application/vnd.plotly.v1+json": {
       "config": {
        "plotlyServerURL": "https://plot.ly"
       },
       "data": [
        {
         "hovertemplate": "color=1.0<br>PC1=%{x}<br>PC2=%{y}<extra></extra>",
         "legendgroup": "1.0",
         "marker": {
          "color": "#636efa",
          "symbol": "circle"
         },
         "mode": "markers",
         "name": "1.0",
         "orientation": "v",
         "showlegend": true,
         "type": "scatter",
         "x": [
          -16.364616495138602,
          31.912274931351796,
          -24.93195487687468,
          51.912917775529216,
          93.94754548513498,
          39.3474353787553,
          -56.80922002963463,
          50.8478824028598,
          -67.22068602544142,
          51.491166235636896,
          -38.013009903637624,
          -31.734939680335188,
          -19.193190733252447,
          -7.345916156168546,
          -47.59548613415564,
          51.49683513749258,
          -75.41059980474796,
          -35.42057281744453,
          65.5117795474289,
          31.698292324904415,
          45.79400202255744,
          57.301845560331344,
          51.47414838853715,
          -63.42483791556172,
          23.76458940955049,
          -36.83849303771775,
          -65.82077259414055,
          -24.413545355507132,
          66.57637530590961,
          -25.896665609421333,
          44.067360646834466,
          67.09898114831105,
          0.8257926669286834,
          3.403113989266284,
          3.688206304679456,
          -64.41329409502397,
          58.22454148854083,
          15.847630978110882,
          -56.559896531304005,
          14.913586105265722,
          43.409511067810286,
          -4.307709262345948,
          29.172031048476786,
          97.12518284518659,
          1.7604104970824932,
          61.005612776318934,
          41.978550102501345,
          -7.836881194064255,
          -5.6001642138347885,
          14.346312709476287,
          -21.802492307586466,
          121.52068955314364,
          48.225372007578365,
          -23.80115493150138,
          20.274122124650376,
          26.06253932232234,
          20.054843153588493,
          -94.19653277149338,
          38.5196369616847,
          15.174596116970664,
          -45.834071863584676,
          -62.203178960327364,
          44.38344814532771,
          -18.630213877461856,
          -21.52781566568457,
          -3.462175053655191,
          13.630007463743954,
          20.991885817101053,
          -15.25898685095144,
          -56.137425146968596,
          34.3791264375755,
          -26.931524515413564,
          -42.337516893052864,
          12.098105679822806,
          52.11779988746037,
          27.496347401856198,
          25.557149193224664,
          -5.891790984268888,
          12.625253412392583,
          -61.51848837030708,
          -1.9576284538745696,
          -50.67020708801763,
          -38.989937332662734,
          -21.152983259900406,
          35.861860092473634,
          22.015416459073844,
          27.73673827365407,
          29.563832208473805,
          -14.261434437856582,
          86.89275209509496,
          38.573496109816986,
          -30.664687138529196,
          44.28469197569764,
          -60.79937453798684,
          57.09569737179589,
          48.19052378902794,
          34.29294275174919,
          -42.202847386286784,
          12.366598316931269,
          6.053532827995968,
          -18.270005735011427,
          10.066541301763849,
          -8.54526872879624,
          42.05637785569313,
          13.472349626271171,
          -36.837172593738984,
          -51.772172309203654,
          45.004012025688446,
          -56.785501047561006,
          -48.9911603516402,
          31.00530744679052,
          -42.7315449159559,
          82.10923823308815,
          72.16435908484794,
          96.20002113818411,
          24.408265239631046,
          -49.83181908762176,
          88.85889855263869,
          21.65797997455518,
          5.599007885946457,
          90.58468365663431,
          75.23568420865752,
          -54.09806854364638,
          -45.65916879899825,
          -4.652703042454246,
          37.94757819709247,
          36.106918562847824,
          -34.588395402136136,
          -64.95496122916495,
          -42.19601802618691,
          -40.92021954265805,
          -66.21195857492985,
          74.83465315718446,
          -61.267303891318164,
          -34.600100256510615,
          19.469054659501403,
          29.238677435099717,
          -41.44875915461659,
          88.5158213160284,
          -78.81805750794787,
          -27.36125380495236,
          -8.234132285579618,
          60.95515338134041,
          -62.10308989495342,
          75.68685742478509,
          -63.52947539244649,
          74.99147365900107,
          -36.580638163284334,
          -8.325914608636168,
          -28.50185845944977,
          -47.30923133045214,
          -78.66452957658007,
          38.24093653002557,
          49.64943763828225,
          41.88024356678039,
          -22.615030711307426,
          76.75480797739714,
          -52.67915179177552,
          18.966367824040734,
          -60.67718367606071,
          119.61329670199602,
          -36.05623993613671,
          5.3249190579015595,
          50.421929622484946,
          -29.609456675042097,
          39.63548142902876,
          43.39497255424908,
          -25.667041691439422,
          29.38373473293886,
          88.30592353703425,
          -16.219347511311703,
          88.63791794228621,
          99.7043237030521,
          -71.85267900002584,
          89.19812280968513,
          -33.699070864469256,
          39.97174263899928,
          -46.22752815815875,
          -40.036374290723266,
          24.205937656406693,
          45.15543927217989,
          -51.53495002702524,
          15.684043657180418,
          67.32841540495633,
          -45.546469986896746,
          -3.484059409216966,
          -16.590222373368917,
          -33.173321080097864,
          -36.54762982577652,
          -0.10549413216391444,
          -44.22243834926708,
          57.41789294145401,
          48.4141874487163,
          26.1314944393078,
          -53.306683234575665,
          -68.22901010508474,
          65.26323731556414,
          -9.327006062481386,
          56.77532679510912,
          -26.93243441142072,
          -59.42393341232098,
          -17.596722735263608,
          -17.95053056036192,
          -43.541811572793215,
          -55.35339950710801,
          23.074298762334404,
          80.74658713570203,
          -41.26347427046422,
          90.02167628669035,
          -66.79149887284153,
          -47.882762199120556,
          50.43736280131294,
          20.860153192207342,
          35.136748411163495,
          -24.418643026209306,
          28.187928550957555,
          -28.647492233943417,
          84.46315665988232,
          -85.58989273208974,
          76.46058685205259,
          -31.29607537646034,
          5.819358092809384,
          70.66252018561217,
          21.81387108757757,
          62.689561738901496,
          -49.38654101589542,
          62.166114832002364,
          57.769085766214275,
          -45.25628758503591,
          -59.397516543660934,
          43.23204204313058,
          21.383937307084096,
          20.030423409166012,
          -24.618710773863977,
          -50.56581911642238,
          31.635753932040927,
          -8.603179163553445,
          54.9383334609984,
          -36.88293178569539,
          50.23807650131207,
          -49.001561720608926,
          81.34844002824508,
          47.69003115996192,
          51.0335737325432,
          91.7689462290986,
          -19.413736729884775,
          -26.164656872491452,
          29.626182747569953,
          69.530755183257,
          -34.55121098941303,
          -51.42889450870058,
          51.843320790086565,
          16.120830329792113,
          -52.04196644835074,
          71.11247931261416,
          -27.850650702471476,
          -45.17188801105085,
          -64.37045858284604,
          11.51688088728949,
          -78.76325505972778,
          -32.691912461397415,
          -50.28850861278865,
          -43.60538921366198,
          -34.61803691328577,
          71.83827318595475,
          71.79497631128278,
          -61.933885081517104,
          -31.474622841638684,
          24.030447878362434,
          -19.059096555400295,
          -67.48103992492064,
          -41.208355640362626,
          -37.73795701561592,
          56.1765761947692,
          63.87661290640185,
          64.72858228084405,
          -30.12782112769516,
          62.9740459312341,
          26.376286629648085,
          -53.13203095543815,
          27.63468764538381,
          -58.00850963411935,
          37.39700691526324,
          10.73195687819902,
          67.5614743131403,
          61.49431752675422,
          -30.506224544333453,
          22.03131471365609,
          60.99306886966376,
          -69.12833571506783,
          16.36098160954137,
          -50.427840590368675,
          -50.270014017987194,
          64.16961847957248,
          -43.46617519649779,
          -25.019401203162825,
          2.992438855792566,
          -53.341729266099414,
          -70.87510957511195,
          43.29291606899962,
          -48.567919674300164,
          43.64992392709666,
          -32.33681227971479,
          98.91244480477383,
          -54.47809690321756,
          61.862538164492854,
          -36.727723880222435,
          -38.394367625081365,
          34.538638383475856,
          -55.01970342586846,
          -12.721323663030965,
          43.87031931407446,
          -55.74930498987096,
          83.31440236935208,
          8.079624292054845,
          2.8891634681644502,
          -74.32263615169208,
          4.640948250271488,
          47.89494556526523,
          23.786355671960028,
          73.29513223386375,
          -41.16874531990578,
          57.99720589123207,
          16.570135008819666,
          -69.24337390367945,
          -30.484401463527018,
          -45.75869398448293,
          -42.77165563402277,
          9.950080890045074,
          -64.01018062372056,
          -53.60519169591403,
          4.865247913687072
         ],
         "xaxis": "x",
         "y": [
          32.57542374723837,
          -1.1963426220077207,
          52.098012648449945,
          6.748052135508755,
          -12.222100942799319,
          -25.646170454151843,
          1.2463551753800302,
          -7.923633941257583,
          -4.926726518949733,
          -11.231649861720607,
          69.77616913474425,
          26.265350033865143,
          16.439579296128876,
          -17.516824565886772,
          14.835229484674283,
          -33.14463481658972,
          11.471756494951237,
          41.34101072946074,
          -14.248748464952229,
          22.54215542892249,
          -19.821565129098772,
          64.52209636508877,
          -0.4432499575713672,
          -9.152833290925876,
          -14.894629280765649,
          -20.813796693629254,
          -12.61307678016116,
          -34.87317983725231,
          3.2614317210162502,
          59.17670321268067,
          -8.393371372875285,
          2.100144718099192,
          -24.366082045516116,
          21.053378846938905,
          11.12740635030121,
          -8.505448922145685,
          -4.769018118056357,
          37.65416509729821,
          20.778239032655446,
          -6.893636394150382,
          -6.966164310996075,
          35.534503686483276,
          22.573437637907507,
          -41.52016997451957,
          -22.02333957446775,
          30.5017796329371,
          -36.372959552511205,
          -50.34734140553091,
          5.528428541643775,
          12.571807190079396,
          -5.864639199696902,
          -33.34131436627308,
          -6.036332140952124,
          -26.659978774774114,
          9.43268714133763,
          5.316148319232151,
          6.184255676238493,
          -36.91670959559287,
          -21.294401201101916,
          -15.082324044365706,
          9.325341052814561,
          -7.466912684870142,
          -40.849392585577654,
          -15.537213381681877,
          -1.601791015180785,
          16.112657754660873,
          -18.456818014162714,
          18.446566738855612,
          43.64406182831969,
          -39.60876172903085,
          25.12221198070564,
          28.63961185563778,
          -8.846589171701035,
          39.11752495472891,
          -3.151313321310763,
          -22.970726764596023,
          -2.172060475369421,
          -3.5735659652267375,
          34.09801771980245,
          25.80106911214708,
          -10.298852286178477,
          -32.30432217841828,
          -38.68229660490783,
          -35.186268795548806,
          1.83116396027036,
          -2.2949533537184745,
          25.40644971514961,
          0.7870373693866461,
          22.762875024704055,
          -18.59765874687035,
          -9.38654785120629,
          48.54727821772388,
          -5.216721544924841,
          -58.353478440539774,
          9.467200085713612,
          17.237974580204757,
          -48.59687648622185,
          -27.053045776282357,
          31.070552188902116,
          -14.29595705975761,
          -2.6004144075150286,
          -19.2904506708974,
          10.870007728099136,
          -7.452689919427585,
          19.9397938645223,
          41.896443461616364,
          42.00451887560087,
          -14.844918432597318,
          3.6454901287507306,
          46.97258971479808,
          5.7851208721646,
          32.0545949418982,
          -4.976006241052191,
          -65.70515839573676,
          -21.22712933638505,
          30.400598732484685,
          12.175413604452602,
          -17.951416334277425,
          -15.03279501767301,
          1.1417790639728904,
          2.4016329895320325,
          -25.63529782656041,
          31.525015514106286,
          4.21039083081101,
          8.637729256305077,
          23.292094373121813,
          -20.171134270163964,
          33.31049496773654,
          23.76675878852954,
          -6.621761610239142,
          -17.87216759685281,
          -13.542049238194783,
          -44.673626239304255,
          -45.51283046206816,
          -17.289972486431385,
          23.443873085148706,
          45.611202628425076,
          21.457491095582867,
          15.303183711473462,
          -36.330603082406235,
          26.173320082059828,
          37.97331243528388,
          -3.379919624341602,
          20.75847480997846,
          -53.04072806000537,
          19.579061897882543,
          -31.78870940673791,
          30.625409460355286,
          -28.754556315079046,
          -33.11094702616567,
          7.57693456603415,
          -1.287863688860879,
          -21.001400628355498,
          -22.369293115297307,
          -36.44125035452331,
          46.58548246835131,
          -38.33903691268964,
          -13.936324201204835,
          37.24036056241419,
          -59.252625341020924,
          2.394970684264003,
          -37.04814723843068,
          -53.84425874324559,
          -63.107466055904695,
          14.564651656945593,
          1.1914379093124345,
          22.241146860038565,
          -35.27589673119419,
          15.6403698990419,
          -7.019724849280123,
          8.074114822034597,
          -75.51949927857848,
          -3.6472809202990066,
          -3.3525781586651373,
          14.18005402911386,
          46.00076261446842,
          29.902254738589267,
          58.72832438339878,
          17.344836774180106,
          8.088407380593996,
          -35.16042880292664,
          1.0034985407257413,
          -36.92247017393648,
          -23.146411330808824,
          11.426158359029714,
          9.334135768334658,
          25.7897564269918,
          33.896274913058164,
          -20.701290023275806,
          -27.833081106752097,
          37.718426964283765,
          -9.992564120166701,
          12.813570051823191,
          55.48096747858513,
          4.076635293058039,
          -29.543621482079505,
          1.1855816997427167,
          -0.030364910552667396,
          -8.569780803339372,
          26.497568637659278,
          -6.876373816401022,
          14.781145310268885,
          16.404713589485556,
          58.997207327290646,
          -30.811035462589068,
          43.77342281768879,
          -57.45354791594352,
          45.27250974749757,
          -17.686977150269,
          19.846003790845927,
          -5.07082070189846,
          15.725075377131256,
          -27.936277735607405,
          -12.952227394510786,
          -26.172072383991583,
          -22.262404430436444,
          13.921166120396528,
          -29.252912296979364,
          -27.553717379959703,
          18.894738753338828,
          4.768132484722877,
          13.895755486550224,
          -3.074594572702674,
          42.352411267628675,
          2.9490620186557455,
          -32.830743340794584,
          -1.2034527666310855,
          -7.628132336682332,
          47.75148666135484,
          22.92643972240435,
          -28.58248749651111,
          -14.340659586930443,
          37.49024016732162,
          -21.304094728175663,
          17.38011032222778,
          19.501009009071584,
          -6.1973446058849335,
          18.913222934758164,
          66.58058742265878,
          -22.313374826634217,
          -1.5502807395550444,
          -17.44169725759702,
          17.055892993620255,
          -3.148771342830365,
          -4.085285777336919,
          17.062476791306796,
          -44.55497636178288,
          -6.6989113358471375,
          -7.230229170015112,
          -7.881278623828375,
          -51.79240398864275,
          -34.063179631320104,
          30.08144240303736,
          -28.23298568320643,
          -3.4017647923359764,
          -11.957214402349457,
          5.181662253028505,
          -38.2315832964871,
          -12.155338958603947,
          -34.376323219670425,
          11.80107908090035,
          6.468867622722484,
          13.134846741789886,
          9.022214011438093,
          8.177519343742153,
          -2.2706316435803693,
          -6.1524245446241075,
          -2.667048409882119,
          21.239934043436204,
          -3.744467504203589,
          21.851377469065568,
          -35.83377457671759,
          3.87707463730881,
          8.603803082872773,
          -25.844793598987955,
          -44.76135431242309,
          -1.582934405330311,
          15.35209909101693,
          -23.62752960139839,
          7.122778286525878,
          39.49856474121143,
          25.425467086016837,
          -11.907255861156958,
          2.34863701475637,
          -47.40152537044646,
          -4.918926120759965,
          37.40598073777529,
          -17.27127283244597,
          14.167931492827663,
          32.299592684226546,
          -13.842655311530715,
          -1.1565594270286774,
          6.618624831634169,
          -43.27325805360872,
          -0.25097293031918905,
          26.133293494345534,
          -19.22331079925224,
          -14.196143705521552,
          -32.44282289595171,
          37.63232810842216,
          -36.65000402311364,
          4.591854009606542,
          2.3147801832026595,
          -48.58079028115906,
          -40.70141622656844,
          -27.29627043567729,
          -19.881701107921092,
          23.91266408843348,
          19.73885765675201,
          3.046041554432552,
          9.31813460776097,
          8.39412090830823,
          2.5093646407393204,
          -6.472773011218611,
          -37.374484045647144,
          25.510015935523516,
          5.501917206228263,
          36.11406129388386,
          -24.436507805937598,
          36.86926505337012,
          3.4467766752340543,
          -23.731000426276534,
          -8.805749978456385,
          -42.93348559434554,
          30.060918873669337,
          -16.183676871291425,
          8.830363235714646,
          4.710192362931909,
          -23.87734463907431,
          11.820886287913632,
          -36.78017786784501,
          -36.50854889384694
         ],
         "yaxis": "y"
        },
        {
         "hovertemplate": "color=3.0<br>PC1=%{x}<br>PC2=%{y}<extra></extra>",
         "legendgroup": "3.0",
         "marker": {
          "color": "#EF553B",
          "symbol": "circle"
         },
         "mode": "markers",
         "name": "3.0",
         "orientation": "v",
         "showlegend": true,
         "type": "scatter",
         "x": [
          -92.54931623665043,
          -84.83867836504629,
          -6.638822054272245,
          -87.71556269334027,
          -78.2834973231075,
          88.93307464541711,
          60.099901657747445,
          108.14062698147838,
          -96.3137542217728,
          77.01012253945287,
          -105.19374333398889,
          95.52638795434714,
          60.8663832090071,
          48.45941775317545,
          46.16636404640107,
          45.916680979593515,
          92.33857497916888,
          29.91389916464476,
          137.20575865251462,
          87.21974106112705,
          -90.92080851457152,
          -62.99630401860139,
          87.992622718781,
          31.06903826403371,
          -68.84136392444762,
          1.5065598378871197,
          72.20631429970607,
          49.15329877320654,
          47.925156482592676,
          2.488181935878444,
          -90.46524809375427,
          41.37879143827285,
          -75.70568675136137,
          124.21435639226517,
          69.65481247453896
         ],
         "xaxis": "x",
         "y": [
          16.228015114138785,
          18.334438254193497,
          3.3092612247957773,
          25.384434588911468,
          -18.932959470189605,
          55.72401899642277,
          37.17646994151945,
          28.184531467294715,
          2.1567204019414787,
          34.300384524437206,
          -17.692400802946693,
          30.394015986971826,
          45.929016878864786,
          55.298867951534625,
          54.55763851333286,
          69.4020498760782,
          45.26009762637623,
          58.030357665895,
          59.824024738549966,
          54.65544021001427,
          -16.734651606120625,
          -40.81808599776911,
          54.495083078071005,
          53.590168619186784,
          38.56590267194327,
          39.029957786272234,
          98.20566734970815,
          67.15686755250526,
          52.42455411417616,
          39.14931912864496,
          11.853898342047016,
          74.06823640058668,
          12.774470685106126,
          9.528516222160999,
          35.86722817483801
         ],
         "yaxis": "y"
        },
        {
         "hovertemplate": "color=2.0<br>PC1=%{x}<br>PC2=%{y}<extra></extra>",
         "legendgroup": "2.0",
         "marker": {
          "color": "#00cc96",
          "symbol": "circle"
         },
         "mode": "markers",
         "name": "2.0",
         "orientation": "v",
         "showlegend": true,
         "type": "scatter",
         "x": [
          -67.45842863022656,
          -8.539722316276682,
          -8.144477787298632,
          101.70800568730455,
          60.60886954632986,
          -61.919763092948884,
          -88.92488982179623,
          -65.1266123903575,
          47.88097279950584,
          -65.14083916099828,
          -67.92063238972834,
          84.18595884349291,
          85.27244420972073,
          -64.56358501164803,
          47.72641422374284,
          -70.65514088338381,
          -89.80049791205809,
          7.16200976606622,
          36.630062019187086,
          -71.22877191248888,
          -70.50471085487997,
          21.607556151016695,
          -75.32801164202013,
          -86.90858449251242,
          63.174303761847135,
          26.1314944393078,
          -72.12558102247878,
          -90.16081150590985,
          -76.30197524241206,
          29.025817841449662,
          -57.02660874309074,
          -14.148547859356293,
          -87.35928469855517,
          21.724493611651457,
          -31.42021994436415,
          -74.65716783370864,
          58.450072584561894,
          -77.99985358821407,
          -77.15838766521318,
          -89.49346214141744,
          -28.205039229402917,
          -78.98485656634047,
          -88.31026797436719,
          -73.93387322979841,
          -1.934546623984825,
          -55.94137420362999,
          -61.48067022243565,
          -33.58586708412857,
          -86.62796764407379,
          -71.48137131116366,
          6.88265209119918,
          -56.8954780373698,
          -3.981813087198188,
          89.7824014386484,
          -0.5737267425973556,
          -25.557453549040133,
          -73.63904575671826,
          -73.94237198014885,
          35.173664123107
         ],
         "xaxis": "x",
         "y": [
          -14.874799558639735,
          -23.828474145204154,
          18.57843930904185,
          -1.9145212189291871,
          -15.959703361296167,
          -2.801935075592872,
          -5.476021811996287,
          20.99322089020022,
          -53.83125664668579,
          -26.69986492628942,
          -3.6625793725232834,
          -14.71115174445473,
          -55.56981478225041,
          -27.344612154825636,
          -41.057019896801236,
          -13.581552279758863,
          -44.67277342733726,
          -15.806551287205266,
          -35.69245215147298,
          -9.837527831816871,
          -4.340598742585273,
          -39.69962019775743,
          -22.25371836575479,
          -10.391251402229702,
          -16.00270332552165,
          55.48096747858513,
          -18.53270862904213,
          -6.733821504693462,
          -20.695517329951254,
          -39.6739852395808,
          9.339278459374073,
          -47.31738949968976,
          -36.51222777400292,
          13.611623390686045,
          5.095334033898385,
          -3.1551728224361795,
          -40.145957246010724,
          15.061590175834281,
          -28.93717686293997,
          -24.712579836564053,
          33.00461788156871,
          -50.13289532786613,
          -11.673410281802278,
          -29.679309734830817,
          -10.105159116175829,
          44.091899375157986,
          9.822496115191392,
          -2.140839723178663,
          -16.924227362052008,
          14.842792982126232,
          -53.74833922662585,
          -26.59070088663654,
          -32.3643485343518,
          -55.500263539700406,
          -2.2364178952286253,
          2.926153819069306,
          -2.4054613581796223,
          13.968812003534447,
          -22.392765668561868
         ],
         "yaxis": "y"
        }
       ],
       "layout": {
        "legend": {
         "title": {
          "text": "color"
         },
         "tracegroupgap": 0
        },
        "margin": {
         "t": 60
        },
        "template": {
         "data": {
          "bar": [
           {
            "error_x": {
             "color": "#2a3f5f"
            },
            "error_y": {
             "color": "#2a3f5f"
            },
            "marker": {
             "line": {
              "color": "#E5ECF6",
              "width": 0.5
             },
             "pattern": {
              "fillmode": "overlay",
              "size": 10,
              "solidity": 0.2
             }
            },
            "type": "bar"
           }
          ],
          "barpolar": [
           {
            "marker": {
             "line": {
              "color": "#E5ECF6",
              "width": 0.5
             },
             "pattern": {
              "fillmode": "overlay",
              "size": 10,
              "solidity": 0.2
             }
            },
            "type": "barpolar"
           }
          ],
          "carpet": [
           {
            "aaxis": {
             "endlinecolor": "#2a3f5f",
             "gridcolor": "white",
             "linecolor": "white",
             "minorgridcolor": "white",
             "startlinecolor": "#2a3f5f"
            },
            "baxis": {
             "endlinecolor": "#2a3f5f",
             "gridcolor": "white",
             "linecolor": "white",
             "minorgridcolor": "white",
             "startlinecolor": "#2a3f5f"
            },
            "type": "carpet"
           }
          ],
          "choropleth": [
           {
            "colorbar": {
             "outlinewidth": 0,
             "ticks": ""
            },
            "type": "choropleth"
           }
          ],
          "contour": [
           {
            "colorbar": {
             "outlinewidth": 0,
             "ticks": ""
            },
            "colorscale": [
             [
              0,
              "#0d0887"
             ],
             [
              0.1111111111111111,
              "#46039f"
             ],
             [
              0.2222222222222222,
              "#7201a8"
             ],
             [
              0.3333333333333333,
              "#9c179e"
             ],
             [
              0.4444444444444444,
              "#bd3786"
             ],
             [
              0.5555555555555556,
              "#d8576b"
             ],
             [
              0.6666666666666666,
              "#ed7953"
             ],
             [
              0.7777777777777778,
              "#fb9f3a"
             ],
             [
              0.8888888888888888,
              "#fdca26"
             ],
             [
              1,
              "#f0f921"
             ]
            ],
            "type": "contour"
           }
          ],
          "contourcarpet": [
           {
            "colorbar": {
             "outlinewidth": 0,
             "ticks": ""
            },
            "type": "contourcarpet"
           }
          ],
          "heatmap": [
           {
            "colorbar": {
             "outlinewidth": 0,
             "ticks": ""
            },
            "colorscale": [
             [
              0,
              "#0d0887"
             ],
             [
              0.1111111111111111,
              "#46039f"
             ],
             [
              0.2222222222222222,
              "#7201a8"
             ],
             [
              0.3333333333333333,
              "#9c179e"
             ],
             [
              0.4444444444444444,
              "#bd3786"
             ],
             [
              0.5555555555555556,
              "#d8576b"
             ],
             [
              0.6666666666666666,
              "#ed7953"
             ],
             [
              0.7777777777777778,
              "#fb9f3a"
             ],
             [
              0.8888888888888888,
              "#fdca26"
             ],
             [
              1,
              "#f0f921"
             ]
            ],
            "type": "heatmap"
           }
          ],
          "heatmapgl": [
           {
            "colorbar": {
             "outlinewidth": 0,
             "ticks": ""
            },
            "colorscale": [
             [
              0,
              "#0d0887"
             ],
             [
              0.1111111111111111,
              "#46039f"
             ],
             [
              0.2222222222222222,
              "#7201a8"
             ],
             [
              0.3333333333333333,
              "#9c179e"
             ],
             [
              0.4444444444444444,
              "#bd3786"
             ],
             [
              0.5555555555555556,
              "#d8576b"
             ],
             [
              0.6666666666666666,
              "#ed7953"
             ],
             [
              0.7777777777777778,
              "#fb9f3a"
             ],
             [
              0.8888888888888888,
              "#fdca26"
             ],
             [
              1,
              "#f0f921"
             ]
            ],
            "type": "heatmapgl"
           }
          ],
          "histogram": [
           {
            "marker": {
             "pattern": {
              "fillmode": "overlay",
              "size": 10,
              "solidity": 0.2
             }
            },
            "type": "histogram"
           }
          ],
          "histogram2d": [
           {
            "colorbar": {
             "outlinewidth": 0,
             "ticks": ""
            },
            "colorscale": [
             [
              0,
              "#0d0887"
             ],
             [
              0.1111111111111111,
              "#46039f"
             ],
             [
              0.2222222222222222,
              "#7201a8"
             ],
             [
              0.3333333333333333,
              "#9c179e"
             ],
             [
              0.4444444444444444,
              "#bd3786"
             ],
             [
              0.5555555555555556,
              "#d8576b"
             ],
             [
              0.6666666666666666,
              "#ed7953"
             ],
             [
              0.7777777777777778,
              "#fb9f3a"
             ],
             [
              0.8888888888888888,
              "#fdca26"
             ],
             [
              1,
              "#f0f921"
             ]
            ],
            "type": "histogram2d"
           }
          ],
          "histogram2dcontour": [
           {
            "colorbar": {
             "outlinewidth": 0,
             "ticks": ""
            },
            "colorscale": [
             [
              0,
              "#0d0887"
             ],
             [
              0.1111111111111111,
              "#46039f"
             ],
             [
              0.2222222222222222,
              "#7201a8"
             ],
             [
              0.3333333333333333,
              "#9c179e"
             ],
             [
              0.4444444444444444,
              "#bd3786"
             ],
             [
              0.5555555555555556,
              "#d8576b"
             ],
             [
              0.6666666666666666,
              "#ed7953"
             ],
             [
              0.7777777777777778,
              "#fb9f3a"
             ],
             [
              0.8888888888888888,
              "#fdca26"
             ],
             [
              1,
              "#f0f921"
             ]
            ],
            "type": "histogram2dcontour"
           }
          ],
          "mesh3d": [
           {
            "colorbar": {
             "outlinewidth": 0,
             "ticks": ""
            },
            "type": "mesh3d"
           }
          ],
          "parcoords": [
           {
            "line": {
             "colorbar": {
              "outlinewidth": 0,
              "ticks": ""
             }
            },
            "type": "parcoords"
           }
          ],
          "pie": [
           {
            "automargin": true,
            "type": "pie"
           }
          ],
          "scatter": [
           {
            "fillpattern": {
             "fillmode": "overlay",
             "size": 10,
             "solidity": 0.2
            },
            "type": "scatter"
           }
          ],
          "scatter3d": [
           {
            "line": {
             "colorbar": {
              "outlinewidth": 0,
              "ticks": ""
             }
            },
            "marker": {
             "colorbar": {
              "outlinewidth": 0,
              "ticks": ""
             }
            },
            "type": "scatter3d"
           }
          ],
          "scattercarpet": [
           {
            "marker": {
             "colorbar": {
              "outlinewidth": 0,
              "ticks": ""
             }
            },
            "type": "scattercarpet"
           }
          ],
          "scattergeo": [
           {
            "marker": {
             "colorbar": {
              "outlinewidth": 0,
              "ticks": ""
             }
            },
            "type": "scattergeo"
           }
          ],
          "scattergl": [
           {
            "marker": {
             "colorbar": {
              "outlinewidth": 0,
              "ticks": ""
             }
            },
            "type": "scattergl"
           }
          ],
          "scattermapbox": [
           {
            "marker": {
             "colorbar": {
              "outlinewidth": 0,
              "ticks": ""
             }
            },
            "type": "scattermapbox"
           }
          ],
          "scatterpolar": [
           {
            "marker": {
             "colorbar": {
              "outlinewidth": 0,
              "ticks": ""
             }
            },
            "type": "scatterpolar"
           }
          ],
          "scatterpolargl": [
           {
            "marker": {
             "colorbar": {
              "outlinewidth": 0,
              "ticks": ""
             }
            },
            "type": "scatterpolargl"
           }
          ],
          "scatterternary": [
           {
            "marker": {
             "colorbar": {
              "outlinewidth": 0,
              "ticks": ""
             }
            },
            "type": "scatterternary"
           }
          ],
          "surface": [
           {
            "colorbar": {
             "outlinewidth": 0,
             "ticks": ""
            },
            "colorscale": [
             [
              0,
              "#0d0887"
             ],
             [
              0.1111111111111111,
              "#46039f"
             ],
             [
              0.2222222222222222,
              "#7201a8"
             ],
             [
              0.3333333333333333,
              "#9c179e"
             ],
             [
              0.4444444444444444,
              "#bd3786"
             ],
             [
              0.5555555555555556,
              "#d8576b"
             ],
             [
              0.6666666666666666,
              "#ed7953"
             ],
             [
              0.7777777777777778,
              "#fb9f3a"
             ],
             [
              0.8888888888888888,
              "#fdca26"
             ],
             [
              1,
              "#f0f921"
             ]
            ],
            "type": "surface"
           }
          ],
          "table": [
           {
            "cells": {
             "fill": {
              "color": "#EBF0F8"
             },
             "line": {
              "color": "white"
             }
            },
            "header": {
             "fill": {
              "color": "#C8D4E3"
             },
             "line": {
              "color": "white"
             }
            },
            "type": "table"
           }
          ]
         },
         "layout": {
          "annotationdefaults": {
           "arrowcolor": "#2a3f5f",
           "arrowhead": 0,
           "arrowwidth": 1
          },
          "autotypenumbers": "strict",
          "coloraxis": {
           "colorbar": {
            "outlinewidth": 0,
            "ticks": ""
           }
          },
          "colorscale": {
           "diverging": [
            [
             0,
             "#8e0152"
            ],
            [
             0.1,
             "#c51b7d"
            ],
            [
             0.2,
             "#de77ae"
            ],
            [
             0.3,
             "#f1b6da"
            ],
            [
             0.4,
             "#fde0ef"
            ],
            [
             0.5,
             "#f7f7f7"
            ],
            [
             0.6,
             "#e6f5d0"
            ],
            [
             0.7,
             "#b8e186"
            ],
            [
             0.8,
             "#7fbc41"
            ],
            [
             0.9,
             "#4d9221"
            ],
            [
             1,
             "#276419"
            ]
           ],
           "sequential": [
            [
             0,
             "#0d0887"
            ],
            [
             0.1111111111111111,
             "#46039f"
            ],
            [
             0.2222222222222222,
             "#7201a8"
            ],
            [
             0.3333333333333333,
             "#9c179e"
            ],
            [
             0.4444444444444444,
             "#bd3786"
            ],
            [
             0.5555555555555556,
             "#d8576b"
            ],
            [
             0.6666666666666666,
             "#ed7953"
            ],
            [
             0.7777777777777778,
             "#fb9f3a"
            ],
            [
             0.8888888888888888,
             "#fdca26"
            ],
            [
             1,
             "#f0f921"
            ]
           ],
           "sequentialminus": [
            [
             0,
             "#0d0887"
            ],
            [
             0.1111111111111111,
             "#46039f"
            ],
            [
             0.2222222222222222,
             "#7201a8"
            ],
            [
             0.3333333333333333,
             "#9c179e"
            ],
            [
             0.4444444444444444,
             "#bd3786"
            ],
            [
             0.5555555555555556,
             "#d8576b"
            ],
            [
             0.6666666666666666,
             "#ed7953"
            ],
            [
             0.7777777777777778,
             "#fb9f3a"
            ],
            [
             0.8888888888888888,
             "#fdca26"
            ],
            [
             1,
             "#f0f921"
            ]
           ]
          },
          "colorway": [
           "#636efa",
           "#EF553B",
           "#00cc96",
           "#ab63fa",
           "#FFA15A",
           "#19d3f3",
           "#FF6692",
           "#B6E880",
           "#FF97FF",
           "#FECB52"
          ],
          "font": {
           "color": "#2a3f5f"
          },
          "geo": {
           "bgcolor": "white",
           "lakecolor": "white",
           "landcolor": "#E5ECF6",
           "showlakes": true,
           "showland": true,
           "subunitcolor": "white"
          },
          "hoverlabel": {
           "align": "left"
          },
          "hovermode": "closest",
          "mapbox": {
           "style": "light"
          },
          "paper_bgcolor": "white",
          "plot_bgcolor": "#E5ECF6",
          "polar": {
           "angularaxis": {
            "gridcolor": "white",
            "linecolor": "white",
            "ticks": ""
           },
           "bgcolor": "#E5ECF6",
           "radialaxis": {
            "gridcolor": "white",
            "linecolor": "white",
            "ticks": ""
           }
          },
          "scene": {
           "xaxis": {
            "backgroundcolor": "#E5ECF6",
            "gridcolor": "white",
            "gridwidth": 2,
            "linecolor": "white",
            "showbackground": true,
            "ticks": "",
            "zerolinecolor": "white"
           },
           "yaxis": {
            "backgroundcolor": "#E5ECF6",
            "gridcolor": "white",
            "gridwidth": 2,
            "linecolor": "white",
            "showbackground": true,
            "ticks": "",
            "zerolinecolor": "white"
           },
           "zaxis": {
            "backgroundcolor": "#E5ECF6",
            "gridcolor": "white",
            "gridwidth": 2,
            "linecolor": "white",
            "showbackground": true,
            "ticks": "",
            "zerolinecolor": "white"
           }
          },
          "shapedefaults": {
           "line": {
            "color": "#2a3f5f"
           }
          },
          "ternary": {
           "aaxis": {
            "gridcolor": "white",
            "linecolor": "white",
            "ticks": ""
           },
           "baxis": {
            "gridcolor": "white",
            "linecolor": "white",
            "ticks": ""
           },
           "bgcolor": "#E5ECF6",
           "caxis": {
            "gridcolor": "white",
            "linecolor": "white",
            "ticks": ""
           }
          },
          "title": {
           "x": 0.05
          },
          "xaxis": {
           "automargin": true,
           "gridcolor": "white",
           "linecolor": "white",
           "ticks": "",
           "title": {
            "standoff": 15
           },
           "zerolinecolor": "white",
           "zerolinewidth": 2
          },
          "yaxis": {
           "automargin": true,
           "gridcolor": "white",
           "linecolor": "white",
           "ticks": "",
           "title": {
            "standoff": 15
           },
           "zerolinecolor": "white",
           "zerolinewidth": 2
          }
         }
        },
        "title": {
         "text": "Original PCA (2D)"
        },
        "width": 650,
        "xaxis": {
         "anchor": "y",
         "domain": [
          0,
          1
         ],
         "title": {
          "text": "PC1"
         }
        },
        "yaxis": {
         "anchor": "x",
         "domain": [
          0,
          1
         ],
         "title": {
          "text": "PC2"
         }
        }
       }
      }
     },
     "metadata": {},
     "output_type": "display_data"
    },
    {
     "data": {
      "image/png": "[encoded data removed]",
      "text/plain": [
       "<Figure size 640x480 with 1 Axes>"
      ]
     },
     "metadata": {},
     "output_type": "display_data"
    }
   ],
   "source": [
    "\n",
    "sns.set(style=\"whitegrid\")\n",
    "\n",
    "# Convertir les labels en catégoriels ordonnés\n",
    "labels_test_selected_ordinal = pd.Categorical(labels_test_selected, categories=[1.0, 2.0, 3.0], ordered=True)\n",
    "\n",
    "# Appliquer la PCA sur les données de test sélectionnées\n",
    "cls = PCA(n_components=6)\n",
    "pcs = cls.fit_transform(data_test_selected)\n",
    "\n",
    "# Assurer que 'prediction' est un array numpy ou une série pandas pour l'utilisation des couleurs\n",
    "# Exemple : prediction = np.array([0, 1, 2, ...])  # Remplacer par vos données de prédiction\n",
    "\n",
    "# Créer le scatter plot avec Seaborn\n",
    "fig_KNeighbors = sns.scatterplot(x=pcs[:, 0], y=pcs[:, 1], hue=prediction, style=labels_test_selected_ordinal, palette='viridis')\n",
    "\n",
    "# Ajouter les labels pour les axes\n",
    "fig_KNeighbors.legend(title=' color = prediction / style = reality')\n",
    "fig_KNeighbors.set_xlabel('PC1')\n",
    "fig_KNeighbors.set_ylabel('PC2')\n",
    "\n",
    "# Afficher les figures\n",
    "fig_original.show()\n",
    "#fig_KNeighbors.show()"
   ]
  },
  {
   "cell_type": "code",
   "execution_count": null,
   "metadata": {
    "ExecuteTime": {
     "end_time": "2024-06-06T13:23:32.694518Z",
     "start_time": "2024-06-06T13:23:32.150548Z"
    }
   },
   "outputs": [
    {
     "data": {
      "text/plain": [
       "<Axes: >"
      ]
     },
     "execution_count": 467,
     "metadata": {},
     "output_type": "execute_result"
    },
    {
     "data": {
      "image/png": "[encoded data removed]",
      "text/plain": [
       "<Figure size 640x480 with 2 Axes>"
      ]
     },
     "metadata": {},
     "output_type": "display_data"
    }
   ],
   "source": [
    "# matrice de confusion \n",
    "cf_matrix = confusion_matrix(labels_test_selected, prediction_selected)\n",
    "sns.heatmap(cf_matrix/np.sum(cf_matrix), annot = True, annot_kws = {'size':15})"
   ]
  },
  {
   "cell_type": "code",
   "execution_count": null,
   "metadata": {
    "ExecuteTime": {
     "end_time": "2024-06-06T13:23:32.710029Z",
     "start_time": "2024-06-06T13:23:32.697518Z"
    }
   },
   "outputs": [
    {
     "data": {
      "text/plain": [
       "array([[318,  12,   2],\n",
       "       [ 18,  40,   1],\n",
       "       [  4,   5,  26]], dtype=int64)"
      ]
     },
     "execution_count": 468,
     "metadata": {},
     "output_type": "execute_result"
    }
   ],
   "source": [
    "cf_matrix"
   ]
  },
  {
   "cell_type": "code",
   "execution_count": null,
   "metadata": {
    "ExecuteTime": {
     "end_time": "2024-06-06T13:23:32.975214Z",
     "start_time": "2024-06-06T13:23:32.713544Z"
    }
   },
   "outputs": [
    {
     "name": "stdout",
     "output_type": "stream",
     "text": [
      "              precision    recall  f1-score   support\n",
      "\n",
      "      Normal       0.95      0.95      0.95       332\n",
      "     Suspect       0.65      0.73      0.69        59\n",
      "  Pathologic       0.93      0.71      0.81        35\n",
      "\n",
      "    accuracy                           0.90       426\n",
      "   macro avg       0.84      0.80      0.81       426\n",
      "weighted avg       0.91      0.90      0.90       426\n",
      "\n",
      "Accuracy pour globale\n",
      "Score données d'entrainements: 0.9470588235294117\n",
      "Score données de test: 0.9014084507042254\n",
      "[[316  14   2]\n",
      " [ 16  43   0]\n",
      " [  1   9  25]]\n"
     ]
    }
   ],
   "source": [
    "# Test en attribuant des couts\n",
    "\n",
    "def bayes_decision_rule(y_prob, C):\n",
    "    # Calculer le risque bayésien pour chaque classe\n",
    "    R = np.dot(C, y_prob)\n",
    "\n",
    "    # Classe qui minimise le risque bayésien\n",
    "    y_pred = np.argmin(R)\n",
    "\n",
    "    return y_pred+1\n",
    "\n",
    "# Matrice de couts\n",
    "C = np.array([[0, 1, 5],  # couts pour un individu sain\n",
    "              [1, 0, 1],  # couts pour un individu suspect\n",
    "              [10, 5, 0]])  # couts pour un individu malade\n",
    "\n",
    "clf_selected_costs = KNeighborsClassifier(n_neighbors=best_n_neighbors)\n",
    "clf_selected_costs.fit(data_train_selected, labels_train_selected)\n",
    "\n",
    "y_prob = clf_selected_costs.predict_proba(data_test_selected)\n",
    "\n",
    "prediction_selected = [bayes_decision_rule(y_prob[i], C) for i in range(len(y_prob))]\n",
    "prediction_selected = pd.Categorical(prediction_selected, categories=[1.0, 2.0, 3.0], ordered=True)\n",
    "\n",
    "report_costs = classification_report(labels_test_selected, prediction_selected, target_names=['Normal', 'Suspect', 'Pathologic'])\n",
    "print(report_costs)\n",
    "report_costs_dict = classification_report(labels_test_selected, prediction_selected, target_names=['Normal', 'Suspect', 'Pathologic'], output_dict=True)\n",
    "print(\"Accuracy pour globale\")\n",
    "print(f\"Score données d'entrainements: {clf_selected_costs.score(data_train_selected, labels_train_selected)}\")\n",
    "print(f\"Score données de test: {accuracy_score(labels_test_selected, prediction_selected)}\")\n",
    "\n",
    "\n",
    "print(confusion_matrix(labels_test_selected, prediction_selected))"
   ]
  },
  {
   "cell_type": "markdown",
   "metadata": {},
   "source": [
    "Sensibilité aux pathologiques moins bonne que sans les couts ! (Pourquoi ?)"
   ]
  },
  {
   "cell_type": "code",
   "execution_count": null,
   "metadata": {
    "ExecuteTime": {
     "end_time": "2024-06-06T13:23:33.272337Z",
     "start_time": "2024-06-06T13:23:32.978756Z"
    }
   },
   "outputs": [
    {
     "data": {
      "text/html": [
       "<div>\n",
       "<style scoped>\n",
       "    .dataframe tbody tr th:only-of-type {\n",
       "        vertical-align: middle;\n",
       "    }\n",
       "\n",
       "    .dataframe tbody tr th {\n",
       "        vertical-align: top;\n",
       "    }\n",
       "\n",
       "    .dataframe thead th {\n",
       "        text-align: right;\n",
       "    }\n",
       "</style>\n",
       "<table border=\"1\" class=\"dataframe\">\n",
       "  <thead>\n",
       "    <tr style=\"text-align: right;\">\n",
       "      <th></th>\n",
       "      <th>Algorithm</th>\n",
       "      <th>FeatureSelection</th>\n",
       "      <th>Standardization</th>\n",
       "      <th>Costs</th>\n",
       "      <th>Acc_train</th>\n",
       "      <th>Acc_test</th>\n",
       "      <th>Recall_Pathologic</th>\n",
       "      <th>Pathological predicted as Pathological or Suspect</th>\n",
       "    </tr>\n",
       "  </thead>\n",
       "  <tbody>\n",
       "    <tr>\n",
       "      <th>0</th>\n",
       "      <td>Knn</td>\n",
       "      <td>False</td>\n",
       "      <td>False</td>\n",
       "      <td>False</td>\n",
       "      <td>0.918824</td>\n",
       "      <td>0.884977</td>\n",
       "      <td>0.742857</td>\n",
       "      <td>0.828571</td>\n",
       "    </tr>\n",
       "    <tr>\n",
       "      <th>1</th>\n",
       "      <td>Knn</td>\n",
       "      <td>True</td>\n",
       "      <td>False</td>\n",
       "      <td>False</td>\n",
       "      <td>0.947059</td>\n",
       "      <td>0.901408</td>\n",
       "      <td>0.742857</td>\n",
       "      <td>0.885714</td>\n",
       "    </tr>\n",
       "    <tr>\n",
       "      <th>2</th>\n",
       "      <td>Knn</td>\n",
       "      <td>True</td>\n",
       "      <td>False</td>\n",
       "      <td>True</td>\n",
       "      <td>0.947059</td>\n",
       "      <td>0.901408</td>\n",
       "      <td>0.714286</td>\n",
       "      <td>0.971429</td>\n",
       "    </tr>\n",
       "  </tbody>\n",
       "</table>\n",
       "</div>"
      ],
      "text/plain": [
       "  Algorithm FeatureSelection Standardization  Costs  Acc_train  Acc_test  \\\n",
       "0       Knn            False           False  False   0.918824  0.884977   \n",
       "1       Knn             True           False  False   0.947059  0.901408   \n",
       "2       Knn             True           False   True   0.947059  0.901408   \n",
       "\n",
       "   Recall_Pathologic  Pathological predicted as Pathological or Suspect  \n",
       "0           0.742857                                           0.828571  \n",
       "1           0.742857                                           0.885714  \n",
       "2           0.714286                                           0.971429  "
      ]
     },
     "execution_count": 470,
     "metadata": {},
     "output_type": "execute_result"
    }
   ],
   "source": [
    "cm = confusion_matrix(labels_test_selected, prediction_selected)\n",
    "patho_predicted_as_patho_or_suspect = (cm[2,1]+cm[2,2])/sum(cm[2])\n",
    "\n",
    "accuracies_dataframe = update_line(\n",
    "    accuracies_dataframe, \n",
    "    'Knn', \n",
    "    True, \n",
    "    False, \n",
    "    True, \n",
    "    clf_selected_costs.score(data_train_selected, labels_train_selected), \n",
    "    clf_selected_costs.score(data_test_selected, labels_test_selected), \n",
    "    report_costs_dict['Pathologic']['recall'], \n",
    "    patho_predicted_as_patho_or_suspect\n",
    ")\n",
    "accuracies_dataframe"
   ]
  },
  {
   "cell_type": "markdown",
   "metadata": {},
   "source": [
    "Le nombre de foetus sains prédits sains et de foetus pathologiques prédits pathologique diminuent. Bien que cette diminution soit très faible (318 à 316 et 26 à 25) On aurait préféré que ce ne soit pas le cas. \n",
    "\n",
    "En revanche le nombre de foetus suspects prédits suspects augmente, ce qui est positif.\n",
    "\n",
    "Surtout,  on divise par 4 le nombre de cas pathologiques prédit comme sains, ce qui était l'objectif principal de l'introduciton d'une matrice de couts"
   ]
  },
  {
   "cell_type": "markdown",
   "metadata": {},
   "source": [
    "## Analyse discriminante"
   ]
  },
  {
   "cell_type": "code",
   "execution_count": null,
   "metadata": {
    "ExecuteTime": {
     "end_time": "2024-06-06T13:23:33.287101Z",
     "start_time": "2024-06-06T13:23:33.274337Z"
    }
   },
   "outputs": [],
   "source": [
    "from sklearn.discriminant_analysis import LinearDiscriminantAnalysis\n",
    "from sklearn.discriminant_analysis import QuadraticDiscriminantAnalysis\n",
    "from sklearn.naive_bayes import GaussianNB"
   ]
  },
  {
   "cell_type": "code",
   "execution_count": null,
   "metadata": {
    "ExecuteTime": {
     "end_time": "2024-06-06T13:23:33.302905Z",
     "start_time": "2024-06-06T13:23:33.290101Z"
    }
   },
   "outputs": [],
   "source": [
    "models = [\n",
    " (LinearDiscriminantAnalysis, \"LDA\"),\n",
    " (QuadraticDiscriminantAnalysis, \"QDA\"),\n",
    " (GaussianNB, \"NB\")]\n",
    "\n",
    "def validation_errors(df, models):\n",
    "   y = df['fetal_health']\n",
    "   X = df.drop(columns=[\"fetal_health\"])\n",
    "   for model, name in models:\n",
    "    for acc in cross_val_score(model(), X, y, cv=10):\n",
    "        yield name, acc"
   ]
  },
  {
   "cell_type": "code",
   "execution_count": null,
   "metadata": {
    "ExecuteTime": {
     "end_time": "2024-06-06T13:23:33.867377Z",
     "start_time": "2024-06-06T13:23:33.305892Z"
    }
   },
   "outputs": [
    {
     "data": {
      "image/png": "[encoded data removed]",
      "text/plain": [
       "<Figure size 640x480 with 1 Axes>"
      ]
     },
     "metadata": {},
     "output_type": "display_data"
    }
   ],
   "source": [
    "df = pd.DataFrame(validation_errors(data_selected, models), columns=[\"Model\", \"Acc\"])\n",
    "sns.lineplot(x=\"Model\", y=\"Acc\", data=df, errorbar='sd')\n",
    "plt.show()"
   ]
  },
  {
   "cell_type": "code",
   "execution_count": null,
   "metadata": {
    "ExecuteTime": {
     "end_time": "2024-06-06T13:23:34.151367Z",
     "start_time": "2024-06-06T13:23:33.869376Z"
    }
   },
   "outputs": [
    {
     "name": "stdout",
     "output_type": "stream",
     "text": [
      "              precision    recall  f1-score   support\n",
      "\n",
      "      Normal       0.92      0.93      0.93       332\n",
      "     Suspect       0.52      0.56      0.54        59\n",
      "  Pathologic       0.70      0.54      0.61        35\n",
      "\n",
      "    accuracy                           0.85       426\n",
      "   macro avg       0.71      0.68      0.69       426\n",
      "weighted avg       0.85      0.85      0.85       426\n",
      "\n",
      "Accuracy pour globale\n",
      "Score données d'entrainements: 0.888235294117647\n",
      "Score données de test: 0.8474178403755869\n"
     ]
    },
    {
     "data": {
      "text/html": [
       "<div>\n",
       "<style scoped>\n",
       "    .dataframe tbody tr th:only-of-type {\n",
       "        vertical-align: middle;\n",
       "    }\n",
       "\n",
       "    .dataframe tbody tr th {\n",
       "        vertical-align: top;\n",
       "    }\n",
       "\n",
       "    .dataframe thead th {\n",
       "        text-align: right;\n",
       "    }\n",
       "</style>\n",
       "<table border=\"1\" class=\"dataframe\">\n",
       "  <thead>\n",
       "    <tr style=\"text-align: right;\">\n",
       "      <th></th>\n",
       "      <th>Algorithm</th>\n",
       "      <th>FeatureSelection</th>\n",
       "      <th>Standardization</th>\n",
       "      <th>Costs</th>\n",
       "      <th>Acc_train</th>\n",
       "      <th>Acc_test</th>\n",
       "      <th>Recall_Pathologic</th>\n",
       "      <th>Pathological predicted as Pathological or Suspect</th>\n",
       "    </tr>\n",
       "  </thead>\n",
       "  <tbody>\n",
       "    <tr>\n",
       "      <th>0</th>\n",
       "      <td>Knn</td>\n",
       "      <td>False</td>\n",
       "      <td>False</td>\n",
       "      <td>False</td>\n",
       "      <td>0.918824</td>\n",
       "      <td>0.884977</td>\n",
       "      <td>0.742857</td>\n",
       "      <td>0.828571</td>\n",
       "    </tr>\n",
       "    <tr>\n",
       "      <th>1</th>\n",
       "      <td>Knn</td>\n",
       "      <td>True</td>\n",
       "      <td>False</td>\n",
       "      <td>False</td>\n",
       "      <td>0.947059</td>\n",
       "      <td>0.901408</td>\n",
       "      <td>0.742857</td>\n",
       "      <td>0.885714</td>\n",
       "    </tr>\n",
       "    <tr>\n",
       "      <th>2</th>\n",
       "      <td>Knn</td>\n",
       "      <td>True</td>\n",
       "      <td>False</td>\n",
       "      <td>True</td>\n",
       "      <td>0.947059</td>\n",
       "      <td>0.901408</td>\n",
       "      <td>0.714286</td>\n",
       "      <td>0.971429</td>\n",
       "    </tr>\n",
       "    <tr>\n",
       "      <th>3</th>\n",
       "      <td>LDA</td>\n",
       "      <td>False</td>\n",
       "      <td>False</td>\n",
       "      <td>False</td>\n",
       "      <td>0.888235</td>\n",
       "      <td>0.847418</td>\n",
       "      <td>0.542857</td>\n",
       "      <td>0.885714</td>\n",
       "    </tr>\n",
       "  </tbody>\n",
       "</table>\n",
       "</div>"
      ],
      "text/plain": [
       "  Algorithm FeatureSelection Standardization  Costs  Acc_train  Acc_test  \\\n",
       "0       Knn            False           False  False   0.918824  0.884977   \n",
       "1       Knn             True           False  False   0.947059  0.901408   \n",
       "2       Knn             True           False   True   0.947059  0.901408   \n",
       "3       LDA            False           False  False   0.888235  0.847418   \n",
       "\n",
       "   Recall_Pathologic  Pathological predicted as Pathological or Suspect  \n",
       "0           0.742857                                           0.828571  \n",
       "1           0.742857                                           0.885714  \n",
       "2           0.714286                                           0.971429  \n",
       "3           0.542857                                           0.885714  "
      ]
     },
     "execution_count": 474,
     "metadata": {},
     "output_type": "execute_result"
    }
   ],
   "source": [
    "# LDA Données brutes\n",
    "lda = LinearDiscriminantAnalysis()\n",
    "lda.fit(data_train, labels_train)\n",
    "predicted_labels = lda.predict(data_test)\n",
    "print(classification_report(labels_test, predicted_labels, target_names=['Normal', 'Suspect', 'Pathologic']))\n",
    "print(\"Accuracy pour globale\")\n",
    "print(f\"Score données d'entrainements: {lda.score(data_train, labels_train)}\")\n",
    "print(f\"Score données de test: {lda.score(data_test, labels_test)}\")\n",
    "\n",
    "\n",
    "cm = confusion_matrix(labels_test, predicted_labels)\n",
    "patho_predicted_as_patho_or_suspect = (cm[2,1]+cm[2,2])/sum(cm[2])\n",
    "\n",
    "accuracies_dataframe = update_line(\n",
    "    accuracies_dataframe, \n",
    "    'LDA', \n",
    "    False, \n",
    "    False, \n",
    "    False, \n",
    "    lda.score(data_train, labels_train), \n",
    "    lda.score(data_test, labels_test), \n",
    "    classification_report(labels_test, predicted_labels, target_names=['Normal', 'Suspect', 'Pathologic'], output_dict=True)['Pathologic']['recall'], \n",
    "    patho_predicted_as_patho_or_suspect\n",
    ")\n",
    "accuracies_dataframe"
   ]
  },
  {
   "cell_type": "code",
   "execution_count": null,
   "metadata": {
    "ExecuteTime": {
     "end_time": "2024-06-06T13:23:34.231124Z",
     "start_time": "2024-06-06T13:23:34.154369Z"
    }
   },
   "outputs": [
    {
     "name": "stdout",
     "output_type": "stream",
     "text": [
      "              precision    recall  f1-score   support\n",
      "\n",
      "      Normal       0.90      0.92      0.91       332\n",
      "     Suspect       0.47      0.47      0.47        59\n",
      "  Pathologic       0.65      0.49      0.56        35\n",
      "\n",
      "    accuracy                           0.82       426\n",
      "   macro avg       0.67      0.63      0.65       426\n",
      "weighted avg       0.82      0.82      0.82       426\n",
      "\n",
      "Accuracy pour globale\n",
      "Score données d'entrainements: 0.8605882352941177\n",
      "Score données de test: 0.823943661971831\n"
     ]
    },
    {
     "data": {
      "text/html": [
       "<div>\n",
       "<style scoped>\n",
       "    .dataframe tbody tr th:only-of-type {\n",
       "        vertical-align: middle;\n",
       "    }\n",
       "\n",
       "    .dataframe tbody tr th {\n",
       "        vertical-align: top;\n",
       "    }\n",
       "\n",
       "    .dataframe thead th {\n",
       "        text-align: right;\n",
       "    }\n",
       "</style>\n",
       "<table border=\"1\" class=\"dataframe\">\n",
       "  <thead>\n",
       "    <tr style=\"text-align: right;\">\n",
       "      <th></th>\n",
       "      <th>Algorithm</th>\n",
       "      <th>FeatureSelection</th>\n",
       "      <th>Standardization</th>\n",
       "      <th>Costs</th>\n",
       "      <th>Acc_train</th>\n",
       "      <th>Acc_test</th>\n",
       "      <th>Recall_Pathologic</th>\n",
       "      <th>Pathological predicted as Pathological or Suspect</th>\n",
       "    </tr>\n",
       "  </thead>\n",
       "  <tbody>\n",
       "    <tr>\n",
       "      <th>0</th>\n",
       "      <td>Knn</td>\n",
       "      <td>False</td>\n",
       "      <td>False</td>\n",
       "      <td>False</td>\n",
       "      <td>0.918824</td>\n",
       "      <td>0.884977</td>\n",
       "      <td>0.742857</td>\n",
       "      <td>0.828571</td>\n",
       "    </tr>\n",
       "    <tr>\n",
       "      <th>1</th>\n",
       "      <td>Knn</td>\n",
       "      <td>True</td>\n",
       "      <td>False</td>\n",
       "      <td>False</td>\n",
       "      <td>0.947059</td>\n",
       "      <td>0.901408</td>\n",
       "      <td>0.742857</td>\n",
       "      <td>0.885714</td>\n",
       "    </tr>\n",
       "    <tr>\n",
       "      <th>2</th>\n",
       "      <td>Knn</td>\n",
       "      <td>True</td>\n",
       "      <td>False</td>\n",
       "      <td>True</td>\n",
       "      <td>0.947059</td>\n",
       "      <td>0.901408</td>\n",
       "      <td>0.714286</td>\n",
       "      <td>0.971429</td>\n",
       "    </tr>\n",
       "    <tr>\n",
       "      <th>3</th>\n",
       "      <td>LDA</td>\n",
       "      <td>False</td>\n",
       "      <td>False</td>\n",
       "      <td>False</td>\n",
       "      <td>0.888235</td>\n",
       "      <td>0.847418</td>\n",
       "      <td>0.542857</td>\n",
       "      <td>0.885714</td>\n",
       "    </tr>\n",
       "    <tr>\n",
       "      <th>4</th>\n",
       "      <td>LDA</td>\n",
       "      <td>True</td>\n",
       "      <td>False</td>\n",
       "      <td>False</td>\n",
       "      <td>0.860588</td>\n",
       "      <td>0.823944</td>\n",
       "      <td>0.485714</td>\n",
       "      <td>0.800000</td>\n",
       "    </tr>\n",
       "  </tbody>\n",
       "</table>\n",
       "</div>"
      ],
      "text/plain": [
       "  Algorithm FeatureSelection Standardization  Costs  Acc_train  Acc_test  \\\n",
       "0       Knn            False           False  False   0.918824  0.884977   \n",
       "1       Knn             True           False  False   0.947059  0.901408   \n",
       "2       Knn             True           False   True   0.947059  0.901408   \n",
       "3       LDA            False           False  False   0.888235  0.847418   \n",
       "4       LDA             True           False  False   0.860588  0.823944   \n",
       "\n",
       "   Recall_Pathologic  Pathological predicted as Pathological or Suspect  \n",
       "0           0.742857                                           0.828571  \n",
       "1           0.742857                                           0.885714  \n",
       "2           0.714286                                           0.971429  \n",
       "3           0.542857                                           0.885714  \n",
       "4           0.485714                                           0.800000  "
      ]
     },
     "execution_count": 475,
     "metadata": {},
     "output_type": "execute_result"
    }
   ],
   "source": [
    "# LDA Séléction de variables\n",
    "lda_feature_selection = LinearDiscriminantAnalysis()\n",
    "lda_feature_selection.fit(data_train_selected, labels_train_selected)\n",
    "predicted_labels = lda_feature_selection.predict(data_test_selected)\n",
    "\n",
    "print(classification_report(labels_test_selected, predicted_labels, target_names=['Normal', 'Suspect', 'Pathologic']))\n",
    "print(\"Accuracy pour globale\")\n",
    "print(f\"Score données d'entrainements: {lda_feature_selection.score(data_train_selected, labels_train_selected)}\")\n",
    "print(f\"Score données de test: {lda_feature_selection.score(data_test_selected, labels_test_selected)}\")\n",
    "\n",
    "cm = confusion_matrix(labels_test_selected, predicted_labels)\n",
    "patho_predicted_as_patho_or_suspect = (cm[2,1]+cm[2,2])/sum(cm[2])\n",
    "\n",
    "\n",
    "accuracies_dataframe = update_line(\n",
    "    accuracies_dataframe, \n",
    "    'LDA', \n",
    "    True, \n",
    "    False, \n",
    "    False, \n",
    "    lda_feature_selection.score(data_train_selected, labels_train_selected), \n",
    "    lda_feature_selection.score(data_test_selected, labels_test_selected), \n",
    "    classification_report(labels_test_selected, predicted_labels, target_names=['Normal', 'Suspect', 'Pathologic'], output_dict=True)['Pathologic']['recall'], \n",
    "    patho_predicted_as_patho_or_suspect\n",
    ")\n",
    "accuracies_dataframe"
   ]
  },
  {
   "cell_type": "code",
   "execution_count": null,
   "metadata": {
    "ExecuteTime": {
     "end_time": "2024-06-06T13:23:34.247151Z",
     "start_time": "2024-06-06T13:23:34.234124Z"
    }
   },
   "outputs": [],
   "source": [
    "from sklearn.preprocessing import StandardScaler\n",
    "from sklearn.pipeline import make_pipeline"
   ]
  },
  {
   "cell_type": "code",
   "execution_count": null,
   "metadata": {
    "ExecuteTime": {
     "end_time": "2024-06-06T13:23:34.449692Z",
     "start_time": "2024-06-06T13:23:34.249657Z"
    }
   },
   "outputs": [
    {
     "name": "stdout",
     "output_type": "stream",
     "text": [
      "              precision    recall  f1-score   support\n",
      "\n",
      "      Normal       0.92      0.93      0.93       332\n",
      "     Suspect       0.52      0.56      0.54        59\n",
      "  Pathologic       0.70      0.54      0.61        35\n",
      "\n",
      "    accuracy                           0.85       426\n",
      "   macro avg       0.71      0.68      0.69       426\n",
      "weighted avg       0.85      0.85      0.85       426\n",
      "\n",
      "Accuracy pour globale\n",
      "Score données d'entrainements: 0.888235294117647\n",
      "Score données de test: 0.8474178403755869\n"
     ]
    },
    {
     "data": {
      "text/html": [
       "<div>\n",
       "<style scoped>\n",
       "    .dataframe tbody tr th:only-of-type {\n",
       "        vertical-align: middle;\n",
       "    }\n",
       "\n",
       "    .dataframe tbody tr th {\n",
       "        vertical-align: top;\n",
       "    }\n",
       "\n",
       "    .dataframe thead th {\n",
       "        text-align: right;\n",
       "    }\n",
       "</style>\n",
       "<table border=\"1\" class=\"dataframe\">\n",
       "  <thead>\n",
       "    <tr style=\"text-align: right;\">\n",
       "      <th></th>\n",
       "      <th>Algorithm</th>\n",
       "      <th>FeatureSelection</th>\n",
       "      <th>Standardization</th>\n",
       "      <th>Costs</th>\n",
       "      <th>Acc_train</th>\n",
       "      <th>Acc_test</th>\n",
       "      <th>Recall_Pathologic</th>\n",
       "      <th>Pathological predicted as Pathological or Suspect</th>\n",
       "    </tr>\n",
       "  </thead>\n",
       "  <tbody>\n",
       "    <tr>\n",
       "      <th>0</th>\n",
       "      <td>Knn</td>\n",
       "      <td>False</td>\n",
       "      <td>False</td>\n",
       "      <td>False</td>\n",
       "      <td>0.918824</td>\n",
       "      <td>0.884977</td>\n",
       "      <td>0.742857</td>\n",
       "      <td>0.828571</td>\n",
       "    </tr>\n",
       "    <tr>\n",
       "      <th>1</th>\n",
       "      <td>Knn</td>\n",
       "      <td>True</td>\n",
       "      <td>False</td>\n",
       "      <td>False</td>\n",
       "      <td>0.947059</td>\n",
       "      <td>0.901408</td>\n",
       "      <td>0.742857</td>\n",
       "      <td>0.885714</td>\n",
       "    </tr>\n",
       "    <tr>\n",
       "      <th>2</th>\n",
       "      <td>Knn</td>\n",
       "      <td>True</td>\n",
       "      <td>False</td>\n",
       "      <td>True</td>\n",
       "      <td>0.947059</td>\n",
       "      <td>0.901408</td>\n",
       "      <td>0.714286</td>\n",
       "      <td>0.971429</td>\n",
       "    </tr>\n",
       "    <tr>\n",
       "      <th>3</th>\n",
       "      <td>LDA</td>\n",
       "      <td>False</td>\n",
       "      <td>False</td>\n",
       "      <td>False</td>\n",
       "      <td>0.888235</td>\n",
       "      <td>0.847418</td>\n",
       "      <td>0.542857</td>\n",
       "      <td>0.885714</td>\n",
       "    </tr>\n",
       "    <tr>\n",
       "      <th>4</th>\n",
       "      <td>LDA</td>\n",
       "      <td>True</td>\n",
       "      <td>False</td>\n",
       "      <td>False</td>\n",
       "      <td>0.860588</td>\n",
       "      <td>0.823944</td>\n",
       "      <td>0.485714</td>\n",
       "      <td>0.800000</td>\n",
       "    </tr>\n",
       "    <tr>\n",
       "      <th>5</th>\n",
       "      <td>LDA</td>\n",
       "      <td>False</td>\n",
       "      <td>True</td>\n",
       "      <td>False</td>\n",
       "      <td>0.888235</td>\n",
       "      <td>0.847418</td>\n",
       "      <td>0.542857</td>\n",
       "      <td>0.885714</td>\n",
       "    </tr>\n",
       "  </tbody>\n",
       "</table>\n",
       "</div>"
      ],
      "text/plain": [
       "  Algorithm FeatureSelection Standardization  Costs  Acc_train  Acc_test  \\\n",
       "0       Knn            False           False  False   0.918824  0.884977   \n",
       "1       Knn             True           False  False   0.947059  0.901408   \n",
       "2       Knn             True           False   True   0.947059  0.901408   \n",
       "3       LDA            False           False  False   0.888235  0.847418   \n",
       "4       LDA             True           False  False   0.860588  0.823944   \n",
       "5       LDA            False            True  False   0.888235  0.847418   \n",
       "\n",
       "   Recall_Pathologic  Pathological predicted as Pathological or Suspect  \n",
       "0           0.742857                                           0.828571  \n",
       "1           0.742857                                           0.885714  \n",
       "2           0.714286                                           0.971429  \n",
       "3           0.542857                                           0.885714  \n",
       "4           0.485714                                           0.800000  \n",
       "5           0.542857                                           0.885714  "
      ]
     },
     "execution_count": 477,
     "metadata": {},
     "output_type": "execute_result"
    }
   ],
   "source": [
    "# LDA Données brutes normalisées\n",
    "pipeline_standardized_lda = make_pipeline(StandardScaler(), LinearDiscriminantAnalysis())\n",
    "pipeline_standardized_lda.fit(data_train, labels_train)\n",
    "predicted_labels = pipeline_standardized_lda.predict(data_test)\n",
    "\n",
    "print(classification_report(labels_test, predicted_labels, target_names=['Normal', 'Suspect', 'Pathologic']))\n",
    "print(\"Accuracy pour globale\")\n",
    "print(f\"Score données d'entrainements: {pipeline_standardized_lda.score(data_train, labels_train)}\")\n",
    "print(f\"Score données de test: {pipeline_standardized_lda.score(data_test, labels_test)}\")\n",
    "\n",
    "cm = confusion_matrix(labels_test, predicted_labels)\n",
    "patho_predicted_as_patho_or_suspect = (cm[2,1]+cm[2,2])/sum(cm[2])\n",
    "\n",
    "accuracies_dataframe = update_line(\n",
    "    accuracies_dataframe, \n",
    "    'LDA', \n",
    "    False, \n",
    "    True, \n",
    "    False, \n",
    "    pipeline_standardized_lda.score(data_train, labels_train), \n",
    "    pipeline_standardized_lda.score(data_test, labels_test), \n",
    "    classification_report(labels_test, predicted_labels, target_names=['Normal', 'Suspect', 'Pathologic'], output_dict=True)['Pathologic']['recall'], \n",
    "    patho_predicted_as_patho_or_suspect\n",
    ")\n",
    "accuracies_dataframe"
   ]
  },
  {
   "cell_type": "code",
   "execution_count": null,
   "metadata": {
    "ExecuteTime": {
     "end_time": "2024-06-06T13:23:34.528891Z",
     "start_time": "2024-06-06T13:23:34.451850Z"
    }
   },
   "outputs": [
    {
     "name": "stdout",
     "output_type": "stream",
     "text": [
      "              precision    recall  f1-score   support\n",
      "\n",
      "      Normal       0.90      0.92      0.91       332\n",
      "     Suspect       0.47      0.47      0.47        59\n",
      "  Pathologic       0.65      0.49      0.56        35\n",
      "\n",
      "    accuracy                           0.82       426\n",
      "   macro avg       0.67      0.63      0.65       426\n",
      "weighted avg       0.82      0.82      0.82       426\n",
      "\n",
      "Accuracy pour globale\n",
      "Score données d'entrainements: 0.8605882352941177\n",
      "Score données de test: 0.823943661971831\n"
     ]
    },
    {
     "data": {
      "text/html": [
       "<div>\n",
       "<style scoped>\n",
       "    .dataframe tbody tr th:only-of-type {\n",
       "        vertical-align: middle;\n",
       "    }\n",
       "\n",
       "    .dataframe tbody tr th {\n",
       "        vertical-align: top;\n",
       "    }\n",
       "\n",
       "    .dataframe thead th {\n",
       "        text-align: right;\n",
       "    }\n",
       "</style>\n",
       "<table border=\"1\" class=\"dataframe\">\n",
       "  <thead>\n",
       "    <tr style=\"text-align: right;\">\n",
       "      <th></th>\n",
       "      <th>Algorithm</th>\n",
       "      <th>FeatureSelection</th>\n",
       "      <th>Standardization</th>\n",
       "      <th>Costs</th>\n",
       "      <th>Acc_train</th>\n",
       "      <th>Acc_test</th>\n",
       "      <th>Recall_Pathologic</th>\n",
       "      <th>Pathological predicted as Pathological or Suspect</th>\n",
       "    </tr>\n",
       "  </thead>\n",
       "  <tbody>\n",
       "    <tr>\n",
       "      <th>0</th>\n",
       "      <td>Knn</td>\n",
       "      <td>False</td>\n",
       "      <td>False</td>\n",
       "      <td>False</td>\n",
       "      <td>0.918824</td>\n",
       "      <td>0.884977</td>\n",
       "      <td>0.742857</td>\n",
       "      <td>0.828571</td>\n",
       "    </tr>\n",
       "    <tr>\n",
       "      <th>1</th>\n",
       "      <td>Knn</td>\n",
       "      <td>True</td>\n",
       "      <td>False</td>\n",
       "      <td>False</td>\n",
       "      <td>0.947059</td>\n",
       "      <td>0.901408</td>\n",
       "      <td>0.742857</td>\n",
       "      <td>0.885714</td>\n",
       "    </tr>\n",
       "    <tr>\n",
       "      <th>2</th>\n",
       "      <td>Knn</td>\n",
       "      <td>True</td>\n",
       "      <td>False</td>\n",
       "      <td>True</td>\n",
       "      <td>0.947059</td>\n",
       "      <td>0.901408</td>\n",
       "      <td>0.714286</td>\n",
       "      <td>0.971429</td>\n",
       "    </tr>\n",
       "    <tr>\n",
       "      <th>3</th>\n",
       "      <td>LDA</td>\n",
       "      <td>False</td>\n",
       "      <td>False</td>\n",
       "      <td>False</td>\n",
       "      <td>0.888235</td>\n",
       "      <td>0.847418</td>\n",
       "      <td>0.542857</td>\n",
       "      <td>0.885714</td>\n",
       "    </tr>\n",
       "    <tr>\n",
       "      <th>4</th>\n",
       "      <td>LDA</td>\n",
       "      <td>True</td>\n",
       "      <td>False</td>\n",
       "      <td>False</td>\n",
       "      <td>0.860588</td>\n",
       "      <td>0.823944</td>\n",
       "      <td>0.485714</td>\n",
       "      <td>0.800000</td>\n",
       "    </tr>\n",
       "    <tr>\n",
       "      <th>5</th>\n",
       "      <td>LDA</td>\n",
       "      <td>False</td>\n",
       "      <td>True</td>\n",
       "      <td>False</td>\n",
       "      <td>0.888235</td>\n",
       "      <td>0.847418</td>\n",
       "      <td>0.542857</td>\n",
       "      <td>0.885714</td>\n",
       "    </tr>\n",
       "    <tr>\n",
       "      <th>6</th>\n",
       "      <td>LDA</td>\n",
       "      <td>True</td>\n",
       "      <td>True</td>\n",
       "      <td>False</td>\n",
       "      <td>0.860588</td>\n",
       "      <td>0.823944</td>\n",
       "      <td>0.485714</td>\n",
       "      <td>0.800000</td>\n",
       "    </tr>\n",
       "  </tbody>\n",
       "</table>\n",
       "</div>"
      ],
      "text/plain": [
       "  Algorithm FeatureSelection Standardization  Costs  Acc_train  Acc_test  \\\n",
       "0       Knn            False           False  False   0.918824  0.884977   \n",
       "1       Knn             True           False  False   0.947059  0.901408   \n",
       "2       Knn             True           False   True   0.947059  0.901408   \n",
       "3       LDA            False           False  False   0.888235  0.847418   \n",
       "4       LDA             True           False  False   0.860588  0.823944   \n",
       "5       LDA            False            True  False   0.888235  0.847418   \n",
       "6       LDA             True            True  False   0.860588  0.823944   \n",
       "\n",
       "   Recall_Pathologic  Pathological predicted as Pathological or Suspect  \n",
       "0           0.742857                                           0.828571  \n",
       "1           0.742857                                           0.885714  \n",
       "2           0.714286                                           0.971429  \n",
       "3           0.542857                                           0.885714  \n",
       "4           0.485714                                           0.800000  \n",
       "5           0.542857                                           0.885714  \n",
       "6           0.485714                                           0.800000  "
      ]
     },
     "execution_count": 478,
     "metadata": {},
     "output_type": "execute_result"
    }
   ],
   "source": [
    "# LDA Séléction de variables + Normalisation\n",
    "pipeline_lda = make_pipeline(StandardScaler(), LinearDiscriminantAnalysis())\n",
    "pipeline_lda.fit(data_train_selected, labels_train_selected)\n",
    "predicted_labels = pipeline_lda.predict(data_test_selected)\n",
    "print(classification_report(labels_test_selected, predicted_labels, target_names=['Normal', 'Suspect', 'Pathologic']))\n",
    "print(\"Accuracy pour globale\")\n",
    "print(f\"Score données d'entrainements: {pipeline_lda.score(data_train_selected, labels_train_selected)}\")\n",
    "print(f\"Score données de test: {pipeline_lda.score(data_test_selected, labels_test_selected)}\")\n",
    "\n",
    "cm = confusion_matrix(labels_test_selected, predicted_labels)\n",
    "patho_predicted_as_patho_or_suspect = (cm[2,1]+cm[2,2])/sum(cm[2])\n",
    "\n",
    "accuracies_dataframe = update_line(\n",
    "    accuracies_dataframe, \n",
    "    'LDA', \n",
    "    True, \n",
    "    True, \n",
    "    False, \n",
    "    pipeline_lda.score(data_train_selected, labels_train_selected), \n",
    "    pipeline_lda.score(data_test_selected, labels_test_selected), \n",
    "    classification_report(labels_test_selected, predicted_labels, target_names=['Normal', 'Suspect', 'Pathologic'], output_dict=True)['Pathologic']['recall'], \n",
    "    patho_predicted_as_patho_or_suspect\n",
    ")\n",
    "accuracies_dataframe"
   ]
  },
  {
   "cell_type": "code",
   "execution_count": null,
   "metadata": {
    "ExecuteTime": {
     "end_time": "2024-06-06T13:23:34.622728Z",
     "start_time": "2024-06-06T13:23:34.531895Z"
    }
   },
   "outputs": [
    {
     "name": "stdout",
     "output_type": "stream",
     "text": [
      "              precision    recall  f1-score   support\n",
      "\n",
      "      Normal       0.99      0.70      0.82       332\n",
      "     Suspect       0.33      0.88      0.48        59\n",
      "  Pathologic       0.65      0.63      0.64        35\n",
      "\n",
      "    accuracy                           0.72       426\n",
      "   macro avg       0.66      0.74      0.65       426\n",
      "weighted avg       0.87      0.72      0.76       426\n",
      "\n",
      "Accuracy pour globale\n",
      "Score données d'entrainements: 0.73\n",
      "Score données de test: 0.7206572769953051\n"
     ]
    },
    {
     "name": "stderr",
     "output_type": "stream",
     "text": [
      "c:\\Users\\Juliette\\AppData\\Local\\Programs\\Python\\Python312\\Lib\\site-packages\\sklearn\\discriminant_analysis.py:935: UserWarning:\n",
      "\n",
      "Variables are collinear\n",
      "\n"
     ]
    },
    {
     "data": {
      "text/html": [
       "<div>\n",
       "<style scoped>\n",
       "    .dataframe tbody tr th:only-of-type {\n",
       "        vertical-align: middle;\n",
       "    }\n",
       "\n",
       "    .dataframe tbody tr th {\n",
       "        vertical-align: top;\n",
       "    }\n",
       "\n",
       "    .dataframe thead th {\n",
       "        text-align: right;\n",
       "    }\n",
       "</style>\n",
       "<table border=\"1\" class=\"dataframe\">\n",
       "  <thead>\n",
       "    <tr style=\"text-align: right;\">\n",
       "      <th></th>\n",
       "      <th>Algorithm</th>\n",
       "      <th>FeatureSelection</th>\n",
       "      <th>Standardization</th>\n",
       "      <th>Costs</th>\n",
       "      <th>Acc_train</th>\n",
       "      <th>Acc_test</th>\n",
       "      <th>Recall_Pathologic</th>\n",
       "      <th>Pathological predicted as Pathological or Suspect</th>\n",
       "    </tr>\n",
       "  </thead>\n",
       "  <tbody>\n",
       "    <tr>\n",
       "      <th>0</th>\n",
       "      <td>Knn</td>\n",
       "      <td>False</td>\n",
       "      <td>False</td>\n",
       "      <td>False</td>\n",
       "      <td>0.918824</td>\n",
       "      <td>0.884977</td>\n",
       "      <td>0.742857</td>\n",
       "      <td>0.828571</td>\n",
       "    </tr>\n",
       "    <tr>\n",
       "      <th>1</th>\n",
       "      <td>Knn</td>\n",
       "      <td>True</td>\n",
       "      <td>False</td>\n",
       "      <td>False</td>\n",
       "      <td>0.947059</td>\n",
       "      <td>0.901408</td>\n",
       "      <td>0.742857</td>\n",
       "      <td>0.885714</td>\n",
       "    </tr>\n",
       "    <tr>\n",
       "      <th>2</th>\n",
       "      <td>Knn</td>\n",
       "      <td>True</td>\n",
       "      <td>False</td>\n",
       "      <td>True</td>\n",
       "      <td>0.947059</td>\n",
       "      <td>0.901408</td>\n",
       "      <td>0.714286</td>\n",
       "      <td>0.971429</td>\n",
       "    </tr>\n",
       "    <tr>\n",
       "      <th>3</th>\n",
       "      <td>LDA</td>\n",
       "      <td>False</td>\n",
       "      <td>False</td>\n",
       "      <td>False</td>\n",
       "      <td>0.888235</td>\n",
       "      <td>0.847418</td>\n",
       "      <td>0.542857</td>\n",
       "      <td>0.885714</td>\n",
       "    </tr>\n",
       "    <tr>\n",
       "      <th>4</th>\n",
       "      <td>LDA</td>\n",
       "      <td>True</td>\n",
       "      <td>False</td>\n",
       "      <td>False</td>\n",
       "      <td>0.860588</td>\n",
       "      <td>0.823944</td>\n",
       "      <td>0.485714</td>\n",
       "      <td>0.800000</td>\n",
       "    </tr>\n",
       "    <tr>\n",
       "      <th>5</th>\n",
       "      <td>LDA</td>\n",
       "      <td>False</td>\n",
       "      <td>True</td>\n",
       "      <td>False</td>\n",
       "      <td>0.888235</td>\n",
       "      <td>0.847418</td>\n",
       "      <td>0.542857</td>\n",
       "      <td>0.885714</td>\n",
       "    </tr>\n",
       "    <tr>\n",
       "      <th>6</th>\n",
       "      <td>LDA</td>\n",
       "      <td>True</td>\n",
       "      <td>True</td>\n",
       "      <td>False</td>\n",
       "      <td>0.860588</td>\n",
       "      <td>0.823944</td>\n",
       "      <td>0.485714</td>\n",
       "      <td>0.800000</td>\n",
       "    </tr>\n",
       "    <tr>\n",
       "      <th>7</th>\n",
       "      <td>QDA</td>\n",
       "      <td>False</td>\n",
       "      <td>False</td>\n",
       "      <td>False</td>\n",
       "      <td>0.730000</td>\n",
       "      <td>0.720657</td>\n",
       "      <td>0.628571</td>\n",
       "      <td>1.000000</td>\n",
       "    </tr>\n",
       "  </tbody>\n",
       "</table>\n",
       "</div>"
      ],
      "text/plain": [
       "  Algorithm FeatureSelection Standardization  Costs  Acc_train  Acc_test  \\\n",
       "0       Knn            False           False  False   0.918824  0.884977   \n",
       "1       Knn             True           False  False   0.947059  0.901408   \n",
       "2       Knn             True           False   True   0.947059  0.901408   \n",
       "3       LDA            False           False  False   0.888235  0.847418   \n",
       "4       LDA             True           False  False   0.860588  0.823944   \n",
       "5       LDA            False            True  False   0.888235  0.847418   \n",
       "6       LDA             True            True  False   0.860588  0.823944   \n",
       "7       QDA            False           False  False   0.730000  0.720657   \n",
       "\n",
       "   Recall_Pathologic  Pathological predicted as Pathological or Suspect  \n",
       "0           0.742857                                           0.828571  \n",
       "1           0.742857                                           0.885714  \n",
       "2           0.714286                                           0.971429  \n",
       "3           0.542857                                           0.885714  \n",
       "4           0.485714                                           0.800000  \n",
       "5           0.542857                                           0.885714  \n",
       "6           0.485714                                           0.800000  \n",
       "7           0.628571                                           1.000000  "
      ]
     },
     "execution_count": 479,
     "metadata": {},
     "output_type": "execute_result"
    }
   ],
   "source": [
    "# QDA Données Brutes\n",
    "qda = QuadraticDiscriminantAnalysis()\n",
    "qda.fit(data_train, labels_train)\n",
    "predicted_labels = qda.predict(data_test)\n",
    "print(classification_report(labels_test, predicted_labels, target_names=['Normal', 'Suspect', 'Pathologic']))\n",
    "print(\"Accuracy pour globale\")\n",
    "print(f\"Score données d'entrainements: {qda.score(data_train, labels_train)}\")\n",
    "print(f\"Score données de test: {qda.score(data_test, labels_test)}\")\n",
    "\n",
    "cm = confusion_matrix(labels_test, predicted_labels)\n",
    "patho_predicted_as_patho_or_suspect = (cm[2,1]+cm[2,2])/sum(cm[2])\n",
    "\n",
    "accuracies_dataframe = update_line(\n",
    "    accuracies_dataframe, \n",
    "    'QDA', \n",
    "    False, \n",
    "    False, \n",
    "    False, \n",
    "    qda.score(data_train, labels_train), qda.score(data_test, labels_test), \n",
    "    classification_report(labels_test, predicted_labels, target_names=['Normal', 'Suspect', 'Pathologic'], output_dict=True)['Pathologic']['recall'], \n",
    "    patho_predicted_as_patho_or_suspect\n",
    ")\n",
    "accuracies_dataframe"
   ]
  },
  {
   "cell_type": "code",
   "execution_count": null,
   "metadata": {
    "ExecuteTime": {
     "end_time": "2024-06-06T13:23:34.701008Z",
     "start_time": "2024-06-06T13:23:34.624728Z"
    }
   },
   "outputs": [
    {
     "name": "stdout",
     "output_type": "stream",
     "text": [
      "              precision    recall  f1-score   support\n",
      "\n",
      "      Normal       0.92      0.87      0.89       332\n",
      "     Suspect       0.44      0.56      0.49        59\n",
      "  Pathologic       0.56      0.57      0.56        35\n",
      "\n",
      "    accuracy                           0.80       426\n",
      "   macro avg       0.64      0.67      0.65       426\n",
      "weighted avg       0.82      0.80      0.81       426\n",
      "\n",
      "Accuracy pour globale\n",
      "Score données d'entrainements: 0.8441176470588235\n",
      "Score données de test: 0.8028169014084507\n"
     ]
    },
    {
     "data": {
      "text/html": [
       "<div>\n",
       "<style scoped>\n",
       "    .dataframe tbody tr th:only-of-type {\n",
       "        vertical-align: middle;\n",
       "    }\n",
       "\n",
       "    .dataframe tbody tr th {\n",
       "        vertical-align: top;\n",
       "    }\n",
       "\n",
       "    .dataframe thead th {\n",
       "        text-align: right;\n",
       "    }\n",
       "</style>\n",
       "<table border=\"1\" class=\"dataframe\">\n",
       "  <thead>\n",
       "    <tr style=\"text-align: right;\">\n",
       "      <th></th>\n",
       "      <th>Algorithm</th>\n",
       "      <th>FeatureSelection</th>\n",
       "      <th>Standardization</th>\n",
       "      <th>Costs</th>\n",
       "      <th>Acc_train</th>\n",
       "      <th>Acc_test</th>\n",
       "      <th>Recall_Pathologic</th>\n",
       "      <th>Pathological predicted as Pathological or Suspect</th>\n",
       "    </tr>\n",
       "  </thead>\n",
       "  <tbody>\n",
       "    <tr>\n",
       "      <th>0</th>\n",
       "      <td>Knn</td>\n",
       "      <td>False</td>\n",
       "      <td>False</td>\n",
       "      <td>False</td>\n",
       "      <td>0.918824</td>\n",
       "      <td>0.884977</td>\n",
       "      <td>0.742857</td>\n",
       "      <td>0.828571</td>\n",
       "    </tr>\n",
       "    <tr>\n",
       "      <th>1</th>\n",
       "      <td>Knn</td>\n",
       "      <td>True</td>\n",
       "      <td>False</td>\n",
       "      <td>False</td>\n",
       "      <td>0.947059</td>\n",
       "      <td>0.901408</td>\n",
       "      <td>0.742857</td>\n",
       "      <td>0.885714</td>\n",
       "    </tr>\n",
       "    <tr>\n",
       "      <th>2</th>\n",
       "      <td>Knn</td>\n",
       "      <td>True</td>\n",
       "      <td>False</td>\n",
       "      <td>True</td>\n",
       "      <td>0.947059</td>\n",
       "      <td>0.901408</td>\n",
       "      <td>0.714286</td>\n",
       "      <td>0.971429</td>\n",
       "    </tr>\n",
       "    <tr>\n",
       "      <th>3</th>\n",
       "      <td>LDA</td>\n",
       "      <td>False</td>\n",
       "      <td>False</td>\n",
       "      <td>False</td>\n",
       "      <td>0.888235</td>\n",
       "      <td>0.847418</td>\n",
       "      <td>0.542857</td>\n",
       "      <td>0.885714</td>\n",
       "    </tr>\n",
       "    <tr>\n",
       "      <th>4</th>\n",
       "      <td>LDA</td>\n",
       "      <td>True</td>\n",
       "      <td>False</td>\n",
       "      <td>False</td>\n",
       "      <td>0.860588</td>\n",
       "      <td>0.823944</td>\n",
       "      <td>0.485714</td>\n",
       "      <td>0.800000</td>\n",
       "    </tr>\n",
       "    <tr>\n",
       "      <th>5</th>\n",
       "      <td>LDA</td>\n",
       "      <td>False</td>\n",
       "      <td>True</td>\n",
       "      <td>False</td>\n",
       "      <td>0.888235</td>\n",
       "      <td>0.847418</td>\n",
       "      <td>0.542857</td>\n",
       "      <td>0.885714</td>\n",
       "    </tr>\n",
       "    <tr>\n",
       "      <th>6</th>\n",
       "      <td>LDA</td>\n",
       "      <td>True</td>\n",
       "      <td>True</td>\n",
       "      <td>False</td>\n",
       "      <td>0.860588</td>\n",
       "      <td>0.823944</td>\n",
       "      <td>0.485714</td>\n",
       "      <td>0.800000</td>\n",
       "    </tr>\n",
       "    <tr>\n",
       "      <th>7</th>\n",
       "      <td>QDA</td>\n",
       "      <td>False</td>\n",
       "      <td>False</td>\n",
       "      <td>False</td>\n",
       "      <td>0.730000</td>\n",
       "      <td>0.720657</td>\n",
       "      <td>0.628571</td>\n",
       "      <td>1.000000</td>\n",
       "    </tr>\n",
       "    <tr>\n",
       "      <th>8</th>\n",
       "      <td>QDA</td>\n",
       "      <td>True</td>\n",
       "      <td>False</td>\n",
       "      <td>False</td>\n",
       "      <td>0.844118</td>\n",
       "      <td>0.802817</td>\n",
       "      <td>0.571429</td>\n",
       "      <td>0.885714</td>\n",
       "    </tr>\n",
       "  </tbody>\n",
       "</table>\n",
       "</div>"
      ],
      "text/plain": [
       "  Algorithm FeatureSelection Standardization  Costs  Acc_train  Acc_test  \\\n",
       "0       Knn            False           False  False   0.918824  0.884977   \n",
       "1       Knn             True           False  False   0.947059  0.901408   \n",
       "2       Knn             True           False   True   0.947059  0.901408   \n",
       "3       LDA            False           False  False   0.888235  0.847418   \n",
       "4       LDA             True           False  False   0.860588  0.823944   \n",
       "5       LDA            False            True  False   0.888235  0.847418   \n",
       "6       LDA             True            True  False   0.860588  0.823944   \n",
       "7       QDA            False           False  False   0.730000  0.720657   \n",
       "8       QDA             True           False  False   0.844118  0.802817   \n",
       "\n",
       "   Recall_Pathologic  Pathological predicted as Pathological or Suspect  \n",
       "0           0.742857                                           0.828571  \n",
       "1           0.742857                                           0.885714  \n",
       "2           0.714286                                           0.971429  \n",
       "3           0.542857                                           0.885714  \n",
       "4           0.485714                                           0.800000  \n",
       "5           0.542857                                           0.885714  \n",
       "6           0.485714                                           0.800000  \n",
       "7           0.628571                                           1.000000  \n",
       "8           0.571429                                           0.885714  "
      ]
     },
     "execution_count": 480,
     "metadata": {},
     "output_type": "execute_result"
    }
   ],
   "source": [
    "# QDA Séléction de variables\n",
    "qda_feature_selection = QuadraticDiscriminantAnalysis()\n",
    "qda_feature_selection.fit(data_train_selected, labels_train_selected)\n",
    "predicted_labels = qda_feature_selection.predict(data_test_selected)\n",
    "print(classification_report(labels_test_selected, predicted_labels, target_names=['Normal', 'Suspect', 'Pathologic']))\n",
    "print(\"Accuracy pour globale\")\n",
    "print(f\"Score données d'entrainements: {qda_feature_selection.score(data_train_selected, labels_train_selected)}\")\n",
    "print(f\"Score données de test: {qda_feature_selection.score(data_test_selected, labels_test_selected)}\")\n",
    "\n",
    "cm = confusion_matrix(labels_test_selected, predicted_labels)\n",
    "patho_predicted_as_patho_or_suspect = (cm[2,1]+cm[2,2])/sum(cm[2])\n",
    "\n",
    "accuracies_dataframe = update_line(\n",
    "    accuracies_dataframe, \n",
    "    'QDA', \n",
    "    True, \n",
    "    False, \n",
    "    False, \n",
    "    qda_feature_selection.score(data_train_selected, labels_train_selected), \n",
    "    qda_feature_selection.score(data_test_selected, labels_test_selected), \n",
    "    classification_report(labels_test_selected, predicted_labels, target_names=['Normal', 'Suspect', 'Pathologic'], output_dict=True)['Pathologic']['recall'], \n",
    "    patho_predicted_as_patho_or_suspect\n",
    ")\n",
    "accuracies_dataframe"
   ]
  },
  {
   "cell_type": "code",
   "execution_count": null,
   "metadata": {
    "ExecuteTime": {
     "end_time": "2024-06-06T13:23:34.796170Z",
     "start_time": "2024-06-06T13:23:34.703008Z"
    }
   },
   "outputs": [
    {
     "name": "stdout",
     "output_type": "stream",
     "text": [
      "              precision    recall  f1-score   support\n",
      "\n",
      "      Normal       0.99      0.58      0.74       332\n",
      "     Suspect       0.28      0.97      0.44        59\n",
      "  Pathologic       0.75      0.60      0.67        35\n",
      "\n",
      "    accuracy                           0.64       426\n",
      "   macro avg       0.68      0.72      0.61       426\n",
      "weighted avg       0.88      0.64      0.69       426\n",
      "\n",
      "Accuracy pour globale\n",
      "Score données d'entrainements: 0.6364705882352941\n",
      "Score données de test: 0.6384976525821596\n"
     ]
    },
    {
     "name": "stderr",
     "output_type": "stream",
     "text": [
      "c:\\Users\\Juliette\\AppData\\Local\\Programs\\Python\\Python312\\Lib\\site-packages\\sklearn\\discriminant_analysis.py:935: UserWarning:\n",
      "\n",
      "Variables are collinear\n",
      "\n"
     ]
    },
    {
     "data": {
      "text/html": [
       "<div>\n",
       "<style scoped>\n",
       "    .dataframe tbody tr th:only-of-type {\n",
       "        vertical-align: middle;\n",
       "    }\n",
       "\n",
       "    .dataframe tbody tr th {\n",
       "        vertical-align: top;\n",
       "    }\n",
       "\n",
       "    .dataframe thead th {\n",
       "        text-align: right;\n",
       "    }\n",
       "</style>\n",
       "<table border=\"1\" class=\"dataframe\">\n",
       "  <thead>\n",
       "    <tr style=\"text-align: right;\">\n",
       "      <th></th>\n",
       "      <th>Algorithm</th>\n",
       "      <th>FeatureSelection</th>\n",
       "      <th>Standardization</th>\n",
       "      <th>Costs</th>\n",
       "      <th>Acc_train</th>\n",
       "      <th>Acc_test</th>\n",
       "      <th>Recall_Pathologic</th>\n",
       "      <th>Pathological predicted as Pathological or Suspect</th>\n",
       "    </tr>\n",
       "  </thead>\n",
       "  <tbody>\n",
       "    <tr>\n",
       "      <th>0</th>\n",
       "      <td>Knn</td>\n",
       "      <td>False</td>\n",
       "      <td>False</td>\n",
       "      <td>False</td>\n",
       "      <td>0.918824</td>\n",
       "      <td>0.884977</td>\n",
       "      <td>0.742857</td>\n",
       "      <td>0.828571</td>\n",
       "    </tr>\n",
       "    <tr>\n",
       "      <th>1</th>\n",
       "      <td>Knn</td>\n",
       "      <td>True</td>\n",
       "      <td>False</td>\n",
       "      <td>False</td>\n",
       "      <td>0.947059</td>\n",
       "      <td>0.901408</td>\n",
       "      <td>0.742857</td>\n",
       "      <td>0.885714</td>\n",
       "    </tr>\n",
       "    <tr>\n",
       "      <th>2</th>\n",
       "      <td>Knn</td>\n",
       "      <td>True</td>\n",
       "      <td>False</td>\n",
       "      <td>True</td>\n",
       "      <td>0.947059</td>\n",
       "      <td>0.901408</td>\n",
       "      <td>0.714286</td>\n",
       "      <td>0.971429</td>\n",
       "    </tr>\n",
       "    <tr>\n",
       "      <th>3</th>\n",
       "      <td>LDA</td>\n",
       "      <td>False</td>\n",
       "      <td>False</td>\n",
       "      <td>False</td>\n",
       "      <td>0.888235</td>\n",
       "      <td>0.847418</td>\n",
       "      <td>0.542857</td>\n",
       "      <td>0.885714</td>\n",
       "    </tr>\n",
       "    <tr>\n",
       "      <th>4</th>\n",
       "      <td>LDA</td>\n",
       "      <td>True</td>\n",
       "      <td>False</td>\n",
       "      <td>False</td>\n",
       "      <td>0.860588</td>\n",
       "      <td>0.823944</td>\n",
       "      <td>0.485714</td>\n",
       "      <td>0.800000</td>\n",
       "    </tr>\n",
       "    <tr>\n",
       "      <th>5</th>\n",
       "      <td>LDA</td>\n",
       "      <td>False</td>\n",
       "      <td>True</td>\n",
       "      <td>False</td>\n",
       "      <td>0.888235</td>\n",
       "      <td>0.847418</td>\n",
       "      <td>0.542857</td>\n",
       "      <td>0.885714</td>\n",
       "    </tr>\n",
       "    <tr>\n",
       "      <th>6</th>\n",
       "      <td>LDA</td>\n",
       "      <td>True</td>\n",
       "      <td>True</td>\n",
       "      <td>False</td>\n",
       "      <td>0.860588</td>\n",
       "      <td>0.823944</td>\n",
       "      <td>0.485714</td>\n",
       "      <td>0.800000</td>\n",
       "    </tr>\n",
       "    <tr>\n",
       "      <th>7</th>\n",
       "      <td>QDA</td>\n",
       "      <td>False</td>\n",
       "      <td>False</td>\n",
       "      <td>False</td>\n",
       "      <td>0.730000</td>\n",
       "      <td>0.720657</td>\n",
       "      <td>0.628571</td>\n",
       "      <td>1.000000</td>\n",
       "    </tr>\n",
       "    <tr>\n",
       "      <th>8</th>\n",
       "      <td>QDA</td>\n",
       "      <td>True</td>\n",
       "      <td>False</td>\n",
       "      <td>False</td>\n",
       "      <td>0.844118</td>\n",
       "      <td>0.802817</td>\n",
       "      <td>0.571429</td>\n",
       "      <td>0.885714</td>\n",
       "    </tr>\n",
       "    <tr>\n",
       "      <th>9</th>\n",
       "      <td>QDA</td>\n",
       "      <td>False</td>\n",
       "      <td>True</td>\n",
       "      <td>False</td>\n",
       "      <td>0.636471</td>\n",
       "      <td>0.638498</td>\n",
       "      <td>0.600000</td>\n",
       "      <td>1.000000</td>\n",
       "    </tr>\n",
       "  </tbody>\n",
       "</table>\n",
       "</div>"
      ],
      "text/plain": [
       "  Algorithm FeatureSelection Standardization  Costs  Acc_train  Acc_test  \\\n",
       "0       Knn            False           False  False   0.918824  0.884977   \n",
       "1       Knn             True           False  False   0.947059  0.901408   \n",
       "2       Knn             True           False   True   0.947059  0.901408   \n",
       "3       LDA            False           False  False   0.888235  0.847418   \n",
       "4       LDA             True           False  False   0.860588  0.823944   \n",
       "5       LDA            False            True  False   0.888235  0.847418   \n",
       "6       LDA             True            True  False   0.860588  0.823944   \n",
       "7       QDA            False           False  False   0.730000  0.720657   \n",
       "8       QDA             True           False  False   0.844118  0.802817   \n",
       "9       QDA            False            True  False   0.636471  0.638498   \n",
       "\n",
       "   Recall_Pathologic  Pathological predicted as Pathological or Suspect  \n",
       "0           0.742857                                           0.828571  \n",
       "1           0.742857                                           0.885714  \n",
       "2           0.714286                                           0.971429  \n",
       "3           0.542857                                           0.885714  \n",
       "4           0.485714                                           0.800000  \n",
       "5           0.542857                                           0.885714  \n",
       "6           0.485714                                           0.800000  \n",
       "7           0.628571                                           1.000000  \n",
       "8           0.571429                                           0.885714  \n",
       "9           0.600000                                           1.000000  "
      ]
     },
     "execution_count": 481,
     "metadata": {},
     "output_type": "execute_result"
    }
   ],
   "source": [
    "# QDA Données Brutes normalisées\n",
    "pipeline_standardized_qda = make_pipeline(StandardScaler(),QuadraticDiscriminantAnalysis())\n",
    "pipeline_standardized_qda.fit(data_train, labels_train)\n",
    "predicted_labels = pipeline_standardized_qda.predict(data_test)\n",
    "print(classification_report(labels_test, predicted_labels, target_names=['Normal', 'Suspect', 'Pathologic']))\n",
    "print(\"Accuracy pour globale\")\n",
    "print(f\"Score données d'entrainements: {pipeline_standardized_qda.score(data_train, labels_train)}\")\n",
    "print(f\"Score données de test: {pipeline_standardized_qda.score(data_test, labels_test)}\")\n",
    "\n",
    "cm = confusion_matrix(labels_test, predicted_labels)\n",
    "patho_predicted_as_patho_or_suspect = (cm[2,1]+cm[2,2])/sum(cm[2])\n",
    "\n",
    "accuracies_dataframe = update_line(\n",
    "    accuracies_dataframe, \n",
    "    'QDA', \n",
    "    False, \n",
    "    True, \n",
    "    False, \n",
    "    pipeline_standardized_qda.score(data_train, labels_train), \n",
    "    pipeline_standardized_qda.score(data_test, labels_test), \n",
    "    classification_report(labels_test, predicted_labels, target_names=['Normal', 'Suspect', 'Pathologic'], output_dict=True)['Pathologic']['recall'], \n",
    "    patho_predicted_as_patho_or_suspect\n",
    ")\n",
    "accuracies_dataframe"
   ]
  },
  {
   "cell_type": "code",
   "execution_count": null,
   "metadata": {
    "ExecuteTime": {
     "end_time": "2024-06-06T13:23:34.889078Z",
     "start_time": "2024-06-06T13:23:34.799172Z"
    }
   },
   "outputs": [
    {
     "name": "stdout",
     "output_type": "stream",
     "text": [
      "              precision    recall  f1-score   support\n",
      "\n",
      "      Normal       0.92      0.87      0.89       332\n",
      "     Suspect       0.44      0.56      0.49        59\n",
      "  Pathologic       0.56      0.57      0.56        35\n",
      "\n",
      "    accuracy                           0.80       426\n",
      "   macro avg       0.64      0.67      0.65       426\n",
      "weighted avg       0.82      0.80      0.81       426\n",
      "\n",
      "Accuracy pour globale\n",
      "Score données d'entrainements: 0.8441176470588235\n",
      "Score données de test: 0.8028169014084507\n"
     ]
    },
    {
     "data": {
      "text/html": [
       "<div>\n",
       "<style scoped>\n",
       "    .dataframe tbody tr th:only-of-type {\n",
       "        vertical-align: middle;\n",
       "    }\n",
       "\n",
       "    .dataframe tbody tr th {\n",
       "        vertical-align: top;\n",
       "    }\n",
       "\n",
       "    .dataframe thead th {\n",
       "        text-align: right;\n",
       "    }\n",
       "</style>\n",
       "<table border=\"1\" class=\"dataframe\">\n",
       "  <thead>\n",
       "    <tr style=\"text-align: right;\">\n",
       "      <th></th>\n",
       "      <th>Algorithm</th>\n",
       "      <th>FeatureSelection</th>\n",
       "      <th>Standardization</th>\n",
       "      <th>Costs</th>\n",
       "      <th>Acc_train</th>\n",
       "      <th>Acc_test</th>\n",
       "      <th>Recall_Pathologic</th>\n",
       "      <th>Pathological predicted as Pathological or Suspect</th>\n",
       "    </tr>\n",
       "  </thead>\n",
       "  <tbody>\n",
       "    <tr>\n",
       "      <th>0</th>\n",
       "      <td>Knn</td>\n",
       "      <td>False</td>\n",
       "      <td>False</td>\n",
       "      <td>False</td>\n",
       "      <td>0.918824</td>\n",
       "      <td>0.884977</td>\n",
       "      <td>0.742857</td>\n",
       "      <td>0.828571</td>\n",
       "    </tr>\n",
       "    <tr>\n",
       "      <th>1</th>\n",
       "      <td>Knn</td>\n",
       "      <td>True</td>\n",
       "      <td>False</td>\n",
       "      <td>False</td>\n",
       "      <td>0.947059</td>\n",
       "      <td>0.901408</td>\n",
       "      <td>0.742857</td>\n",
       "      <td>0.885714</td>\n",
       "    </tr>\n",
       "    <tr>\n",
       "      <th>2</th>\n",
       "      <td>Knn</td>\n",
       "      <td>True</td>\n",
       "      <td>False</td>\n",
       "      <td>True</td>\n",
       "      <td>0.947059</td>\n",
       "      <td>0.901408</td>\n",
       "      <td>0.714286</td>\n",
       "      <td>0.971429</td>\n",
       "    </tr>\n",
       "    <tr>\n",
       "      <th>3</th>\n",
       "      <td>LDA</td>\n",
       "      <td>False</td>\n",
       "      <td>False</td>\n",
       "      <td>False</td>\n",
       "      <td>0.888235</td>\n",
       "      <td>0.847418</td>\n",
       "      <td>0.542857</td>\n",
       "      <td>0.885714</td>\n",
       "    </tr>\n",
       "    <tr>\n",
       "      <th>4</th>\n",
       "      <td>LDA</td>\n",
       "      <td>True</td>\n",
       "      <td>False</td>\n",
       "      <td>False</td>\n",
       "      <td>0.860588</td>\n",
       "      <td>0.823944</td>\n",
       "      <td>0.485714</td>\n",
       "      <td>0.800000</td>\n",
       "    </tr>\n",
       "    <tr>\n",
       "      <th>5</th>\n",
       "      <td>LDA</td>\n",
       "      <td>False</td>\n",
       "      <td>True</td>\n",
       "      <td>False</td>\n",
       "      <td>0.888235</td>\n",
       "      <td>0.847418</td>\n",
       "      <td>0.542857</td>\n",
       "      <td>0.885714</td>\n",
       "    </tr>\n",
       "    <tr>\n",
       "      <th>6</th>\n",
       "      <td>LDA</td>\n",
       "      <td>True</td>\n",
       "      <td>True</td>\n",
       "      <td>False</td>\n",
       "      <td>0.860588</td>\n",
       "      <td>0.823944</td>\n",
       "      <td>0.485714</td>\n",
       "      <td>0.800000</td>\n",
       "    </tr>\n",
       "    <tr>\n",
       "      <th>7</th>\n",
       "      <td>QDA</td>\n",
       "      <td>False</td>\n",
       "      <td>False</td>\n",
       "      <td>False</td>\n",
       "      <td>0.730000</td>\n",
       "      <td>0.720657</td>\n",
       "      <td>0.628571</td>\n",
       "      <td>1.000000</td>\n",
       "    </tr>\n",
       "    <tr>\n",
       "      <th>8</th>\n",
       "      <td>QDA</td>\n",
       "      <td>True</td>\n",
       "      <td>False</td>\n",
       "      <td>False</td>\n",
       "      <td>0.844118</td>\n",
       "      <td>0.802817</td>\n",
       "      <td>0.571429</td>\n",
       "      <td>0.885714</td>\n",
       "    </tr>\n",
       "    <tr>\n",
       "      <th>9</th>\n",
       "      <td>QDA</td>\n",
       "      <td>False</td>\n",
       "      <td>True</td>\n",
       "      <td>False</td>\n",
       "      <td>0.636471</td>\n",
       "      <td>0.638498</td>\n",
       "      <td>0.600000</td>\n",
       "      <td>1.000000</td>\n",
       "    </tr>\n",
       "    <tr>\n",
       "      <th>10</th>\n",
       "      <td>QDA</td>\n",
       "      <td>True</td>\n",
       "      <td>True</td>\n",
       "      <td>False</td>\n",
       "      <td>0.844118</td>\n",
       "      <td>0.802817</td>\n",
       "      <td>0.571429</td>\n",
       "      <td>0.885714</td>\n",
       "    </tr>\n",
       "  </tbody>\n",
       "</table>\n",
       "</div>"
      ],
      "text/plain": [
       "   Algorithm FeatureSelection Standardization  Costs  Acc_train  Acc_test  \\\n",
       "0        Knn            False           False  False   0.918824  0.884977   \n",
       "1        Knn             True           False  False   0.947059  0.901408   \n",
       "2        Knn             True           False   True   0.947059  0.901408   \n",
       "3        LDA            False           False  False   0.888235  0.847418   \n",
       "4        LDA             True           False  False   0.860588  0.823944   \n",
       "5        LDA            False            True  False   0.888235  0.847418   \n",
       "6        LDA             True            True  False   0.860588  0.823944   \n",
       "7        QDA            False           False  False   0.730000  0.720657   \n",
       "8        QDA             True           False  False   0.844118  0.802817   \n",
       "9        QDA            False            True  False   0.636471  0.638498   \n",
       "10       QDA             True            True  False   0.844118  0.802817   \n",
       "\n",
       "    Recall_Pathologic  Pathological predicted as Pathological or Suspect  \n",
       "0            0.742857                                           0.828571  \n",
       "1            0.742857                                           0.885714  \n",
       "2            0.714286                                           0.971429  \n",
       "3            0.542857                                           0.885714  \n",
       "4            0.485714                                           0.800000  \n",
       "5            0.542857                                           0.885714  \n",
       "6            0.485714                                           0.800000  \n",
       "7            0.628571                                           1.000000  \n",
       "8            0.571429                                           0.885714  \n",
       "9            0.600000                                           1.000000  \n",
       "10           0.571429                                           0.885714  "
      ]
     },
     "execution_count": 482,
     "metadata": {},
     "output_type": "execute_result"
    }
   ],
   "source": [
    "# QDA : séléction de variables + Normalisation\n",
    "pipeline_qda = make_pipeline(StandardScaler(),QuadraticDiscriminantAnalysis())\n",
    "pipeline_qda.fit(data_train_selected, labels_train_selected)\n",
    "predicted_labels = pipeline_qda.predict(data_test_selected)\n",
    "print(classification_report(labels_test_selected, predicted_labels, target_names=['Normal', 'Suspect', 'Pathologic']))\n",
    "print(\"Accuracy pour globale\")\n",
    "print(f\"Score données d'entrainements: {pipeline_qda.score(data_train_selected, labels_train_selected)}\")\n",
    "print(f\"Score données de test: {pipeline_qda.score(data_test_selected, labels_test_selected)}\")\n",
    "\n",
    "cm = confusion_matrix(labels_test_selected, predicted_labels)\n",
    "patho_predicted_as_patho_or_suspect = (cm[2,1]+cm[2,2])/sum(cm[2])\n",
    "\n",
    "accuracies_dataframe = update_line(accuracies_dataframe, 'QDA', True, True, False, pipeline_qda.score(data_train_selected, labels_train_selected), pipeline_qda.score(data_test_selected, labels_test_selected), classification_report(labels_test_selected, predicted_labels, target_names=['Normal', 'Suspect', 'Pathologic'], output_dict=True)['Pathologic']['recall'], patho_predicted_as_patho_or_suspect)\n",
    "accuracies_dataframe"
   ]
  },
  {
   "cell_type": "code",
   "execution_count": null,
   "metadata": {
    "ExecuteTime": {
     "end_time": "2024-06-06T13:23:34.984132Z",
     "start_time": "2024-06-06T13:23:34.891077Z"
    }
   },
   "outputs": [
    {
     "name": "stdout",
     "output_type": "stream",
     "text": [
      "              precision    recall  f1-score   support\n",
      "\n",
      "      Normal       0.95      0.83      0.88       332\n",
      "     Suspect       0.45      0.76      0.56        59\n",
      "  Pathologic       0.60      0.60      0.60        35\n",
      "\n",
      "    accuracy                           0.80       426\n",
      "   macro avg       0.66      0.73      0.68       426\n",
      "weighted avg       0.85      0.80      0.82       426\n",
      "\n",
      "Accuracy pour globale\n",
      "Score données d'entrainements: 0.8211764705882353\n",
      "Score données de test: 0.8004694835680751\n"
     ]
    },
    {
     "data": {
      "text/html": [
       "<div>\n",
       "<style scoped>\n",
       "    .dataframe tbody tr th:only-of-type {\n",
       "        vertical-align: middle;\n",
       "    }\n",
       "\n",
       "    .dataframe tbody tr th {\n",
       "        vertical-align: top;\n",
       "    }\n",
       "\n",
       "    .dataframe thead th {\n",
       "        text-align: right;\n",
       "    }\n",
       "</style>\n",
       "<table border=\"1\" class=\"dataframe\">\n",
       "  <thead>\n",
       "    <tr style=\"text-align: right;\">\n",
       "      <th></th>\n",
       "      <th>Algorithm</th>\n",
       "      <th>FeatureSelection</th>\n",
       "      <th>Standardization</th>\n",
       "      <th>Costs</th>\n",
       "      <th>Acc_train</th>\n",
       "      <th>Acc_test</th>\n",
       "      <th>Recall_Pathologic</th>\n",
       "      <th>Pathological predicted as Pathological or Suspect</th>\n",
       "    </tr>\n",
       "  </thead>\n",
       "  <tbody>\n",
       "    <tr>\n",
       "      <th>0</th>\n",
       "      <td>Knn</td>\n",
       "      <td>False</td>\n",
       "      <td>False</td>\n",
       "      <td>False</td>\n",
       "      <td>0.918824</td>\n",
       "      <td>0.884977</td>\n",
       "      <td>0.742857</td>\n",
       "      <td>0.828571</td>\n",
       "    </tr>\n",
       "    <tr>\n",
       "      <th>1</th>\n",
       "      <td>Knn</td>\n",
       "      <td>True</td>\n",
       "      <td>False</td>\n",
       "      <td>False</td>\n",
       "      <td>0.947059</td>\n",
       "      <td>0.901408</td>\n",
       "      <td>0.742857</td>\n",
       "      <td>0.885714</td>\n",
       "    </tr>\n",
       "    <tr>\n",
       "      <th>2</th>\n",
       "      <td>Knn</td>\n",
       "      <td>True</td>\n",
       "      <td>False</td>\n",
       "      <td>True</td>\n",
       "      <td>0.947059</td>\n",
       "      <td>0.901408</td>\n",
       "      <td>0.714286</td>\n",
       "      <td>0.971429</td>\n",
       "    </tr>\n",
       "    <tr>\n",
       "      <th>3</th>\n",
       "      <td>LDA</td>\n",
       "      <td>False</td>\n",
       "      <td>False</td>\n",
       "      <td>False</td>\n",
       "      <td>0.888235</td>\n",
       "      <td>0.847418</td>\n",
       "      <td>0.542857</td>\n",
       "      <td>0.885714</td>\n",
       "    </tr>\n",
       "    <tr>\n",
       "      <th>4</th>\n",
       "      <td>LDA</td>\n",
       "      <td>True</td>\n",
       "      <td>False</td>\n",
       "      <td>False</td>\n",
       "      <td>0.860588</td>\n",
       "      <td>0.823944</td>\n",
       "      <td>0.485714</td>\n",
       "      <td>0.800000</td>\n",
       "    </tr>\n",
       "    <tr>\n",
       "      <th>5</th>\n",
       "      <td>LDA</td>\n",
       "      <td>False</td>\n",
       "      <td>True</td>\n",
       "      <td>False</td>\n",
       "      <td>0.888235</td>\n",
       "      <td>0.847418</td>\n",
       "      <td>0.542857</td>\n",
       "      <td>0.885714</td>\n",
       "    </tr>\n",
       "    <tr>\n",
       "      <th>6</th>\n",
       "      <td>LDA</td>\n",
       "      <td>True</td>\n",
       "      <td>True</td>\n",
       "      <td>False</td>\n",
       "      <td>0.860588</td>\n",
       "      <td>0.823944</td>\n",
       "      <td>0.485714</td>\n",
       "      <td>0.800000</td>\n",
       "    </tr>\n",
       "    <tr>\n",
       "      <th>7</th>\n",
       "      <td>QDA</td>\n",
       "      <td>False</td>\n",
       "      <td>False</td>\n",
       "      <td>False</td>\n",
       "      <td>0.730000</td>\n",
       "      <td>0.720657</td>\n",
       "      <td>0.628571</td>\n",
       "      <td>1.000000</td>\n",
       "    </tr>\n",
       "    <tr>\n",
       "      <th>8</th>\n",
       "      <td>QDA</td>\n",
       "      <td>True</td>\n",
       "      <td>False</td>\n",
       "      <td>False</td>\n",
       "      <td>0.844118</td>\n",
       "      <td>0.802817</td>\n",
       "      <td>0.571429</td>\n",
       "      <td>0.885714</td>\n",
       "    </tr>\n",
       "    <tr>\n",
       "      <th>9</th>\n",
       "      <td>QDA</td>\n",
       "      <td>False</td>\n",
       "      <td>True</td>\n",
       "      <td>False</td>\n",
       "      <td>0.636471</td>\n",
       "      <td>0.638498</td>\n",
       "      <td>0.600000</td>\n",
       "      <td>1.000000</td>\n",
       "    </tr>\n",
       "    <tr>\n",
       "      <th>10</th>\n",
       "      <td>QDA</td>\n",
       "      <td>True</td>\n",
       "      <td>True</td>\n",
       "      <td>False</td>\n",
       "      <td>0.844118</td>\n",
       "      <td>0.802817</td>\n",
       "      <td>0.571429</td>\n",
       "      <td>0.885714</td>\n",
       "    </tr>\n",
       "    <tr>\n",
       "      <th>11</th>\n",
       "      <td>GaussianNB</td>\n",
       "      <td>False</td>\n",
       "      <td>False</td>\n",
       "      <td>False</td>\n",
       "      <td>0.821176</td>\n",
       "      <td>0.800469</td>\n",
       "      <td>0.600000</td>\n",
       "      <td>0.942857</td>\n",
       "    </tr>\n",
       "  </tbody>\n",
       "</table>\n",
       "</div>"
      ],
      "text/plain": [
       "     Algorithm FeatureSelection Standardization  Costs  Acc_train  Acc_test  \\\n",
       "0          Knn            False           False  False   0.918824  0.884977   \n",
       "1          Knn             True           False  False   0.947059  0.901408   \n",
       "2          Knn             True           False   True   0.947059  0.901408   \n",
       "3          LDA            False           False  False   0.888235  0.847418   \n",
       "4          LDA             True           False  False   0.860588  0.823944   \n",
       "5          LDA            False            True  False   0.888235  0.847418   \n",
       "6          LDA             True            True  False   0.860588  0.823944   \n",
       "7          QDA            False           False  False   0.730000  0.720657   \n",
       "8          QDA             True           False  False   0.844118  0.802817   \n",
       "9          QDA            False            True  False   0.636471  0.638498   \n",
       "10         QDA             True            True  False   0.844118  0.802817   \n",
       "11  GaussianNB            False           False  False   0.821176  0.800469   \n",
       "\n",
       "    Recall_Pathologic  Pathological predicted as Pathological or Suspect  \n",
       "0            0.742857                                           0.828571  \n",
       "1            0.742857                                           0.885714  \n",
       "2            0.714286                                           0.971429  \n",
       "3            0.542857                                           0.885714  \n",
       "4            0.485714                                           0.800000  \n",
       "5            0.542857                                           0.885714  \n",
       "6            0.485714                                           0.800000  \n",
       "7            0.628571                                           1.000000  \n",
       "8            0.571429                                           0.885714  \n",
       "9            0.600000                                           1.000000  \n",
       "10           0.571429                                           0.885714  \n",
       "11           0.600000                                           0.942857  "
      ]
     },
     "execution_count": 483,
     "metadata": {},
     "output_type": "execute_result"
    }
   ],
   "source": [
    "# NB Donées brutes\n",
    "nb = GaussianNB()\n",
    "nb.fit(data_train, labels_train)\n",
    "predicted_labels = nb.predict(data_test)\n",
    "print(classification_report(labels_test, predicted_labels, target_names=['Normal', 'Suspect', 'Pathologic']))\n",
    "print(\"Accuracy pour globale\")\n",
    "print(f\"Score données d'entrainements: {nb.score(data_train, labels_train)}\")\n",
    "print(f\"Score données de test: {nb.score(data_test, labels_test)}\")\n",
    "\n",
    "cm = confusion_matrix(labels_test, predicted_labels)\n",
    "patho_predicted_as_patho_or_suspect = (cm[2,1]+cm[2,2])/sum(cm[2])\n",
    "\n",
    "accuracies_dataframe = update_line(accuracies_dataframe, 'GaussianNB', False, False, False, nb.score(data_train, labels_train), nb.score(data_test, labels_test), classification_report(labels_test, predicted_labels, target_names=['Normal', 'Suspect', 'Pathologic'], output_dict=True)['Pathologic']['recall'], patho_predicted_as_patho_or_suspect)\n",
    "accuracies_dataframe"
   ]
  },
  {
   "cell_type": "code",
   "execution_count": null,
   "metadata": {
    "ExecuteTime": {
     "end_time": "2024-06-06T13:23:35.076754Z",
     "start_time": "2024-06-06T13:23:34.987136Z"
    }
   },
   "outputs": [
    {
     "name": "stdout",
     "output_type": "stream",
     "text": [
      "              precision    recall  f1-score   support\n",
      "\n",
      "      Normal       0.93      0.89      0.91       332\n",
      "     Suspect       0.51      0.63      0.56        59\n",
      "  Pathologic       0.61      0.63      0.62        35\n",
      "\n",
      "    accuracy                           0.83       426\n",
      "   macro avg       0.68      0.72      0.70       426\n",
      "weighted avg       0.85      0.83      0.84       426\n",
      "\n",
      "Accuracy pour globale\n",
      "Score données d'entrainements: 0.8552941176470589\n",
      "Score données de test: 0.8333333333333334\n"
     ]
    },
    {
     "data": {
      "text/html": [
       "<div>\n",
       "<style scoped>\n",
       "    .dataframe tbody tr th:only-of-type {\n",
       "        vertical-align: middle;\n",
       "    }\n",
       "\n",
       "    .dataframe tbody tr th {\n",
       "        vertical-align: top;\n",
       "    }\n",
       "\n",
       "    .dataframe thead th {\n",
       "        text-align: right;\n",
       "    }\n",
       "</style>\n",
       "<table border=\"1\" class=\"dataframe\">\n",
       "  <thead>\n",
       "    <tr style=\"text-align: right;\">\n",
       "      <th></th>\n",
       "      <th>Algorithm</th>\n",
       "      <th>FeatureSelection</th>\n",
       "      <th>Standardization</th>\n",
       "      <th>Costs</th>\n",
       "      <th>Acc_train</th>\n",
       "      <th>Acc_test</th>\n",
       "      <th>Recall_Pathologic</th>\n",
       "      <th>Pathological predicted as Pathological or Suspect</th>\n",
       "    </tr>\n",
       "  </thead>\n",
       "  <tbody>\n",
       "    <tr>\n",
       "      <th>0</th>\n",
       "      <td>Knn</td>\n",
       "      <td>False</td>\n",
       "      <td>False</td>\n",
       "      <td>False</td>\n",
       "      <td>0.918824</td>\n",
       "      <td>0.884977</td>\n",
       "      <td>0.742857</td>\n",
       "      <td>0.828571</td>\n",
       "    </tr>\n",
       "    <tr>\n",
       "      <th>1</th>\n",
       "      <td>Knn</td>\n",
       "      <td>True</td>\n",
       "      <td>False</td>\n",
       "      <td>False</td>\n",
       "      <td>0.947059</td>\n",
       "      <td>0.901408</td>\n",
       "      <td>0.742857</td>\n",
       "      <td>0.885714</td>\n",
       "    </tr>\n",
       "    <tr>\n",
       "      <th>2</th>\n",
       "      <td>Knn</td>\n",
       "      <td>True</td>\n",
       "      <td>False</td>\n",
       "      <td>True</td>\n",
       "      <td>0.947059</td>\n",
       "      <td>0.901408</td>\n",
       "      <td>0.714286</td>\n",
       "      <td>0.971429</td>\n",
       "    </tr>\n",
       "    <tr>\n",
       "      <th>3</th>\n",
       "      <td>LDA</td>\n",
       "      <td>False</td>\n",
       "      <td>False</td>\n",
       "      <td>False</td>\n",
       "      <td>0.888235</td>\n",
       "      <td>0.847418</td>\n",
       "      <td>0.542857</td>\n",
       "      <td>0.885714</td>\n",
       "    </tr>\n",
       "    <tr>\n",
       "      <th>4</th>\n",
       "      <td>LDA</td>\n",
       "      <td>True</td>\n",
       "      <td>False</td>\n",
       "      <td>False</td>\n",
       "      <td>0.860588</td>\n",
       "      <td>0.823944</td>\n",
       "      <td>0.485714</td>\n",
       "      <td>0.800000</td>\n",
       "    </tr>\n",
       "    <tr>\n",
       "      <th>5</th>\n",
       "      <td>LDA</td>\n",
       "      <td>False</td>\n",
       "      <td>True</td>\n",
       "      <td>False</td>\n",
       "      <td>0.888235</td>\n",
       "      <td>0.847418</td>\n",
       "      <td>0.542857</td>\n",
       "      <td>0.885714</td>\n",
       "    </tr>\n",
       "    <tr>\n",
       "      <th>6</th>\n",
       "      <td>LDA</td>\n",
       "      <td>True</td>\n",
       "      <td>True</td>\n",
       "      <td>False</td>\n",
       "      <td>0.860588</td>\n",
       "      <td>0.823944</td>\n",
       "      <td>0.485714</td>\n",
       "      <td>0.800000</td>\n",
       "    </tr>\n",
       "    <tr>\n",
       "      <th>7</th>\n",
       "      <td>QDA</td>\n",
       "      <td>False</td>\n",
       "      <td>False</td>\n",
       "      <td>False</td>\n",
       "      <td>0.730000</td>\n",
       "      <td>0.720657</td>\n",
       "      <td>0.628571</td>\n",
       "      <td>1.000000</td>\n",
       "    </tr>\n",
       "    <tr>\n",
       "      <th>8</th>\n",
       "      <td>QDA</td>\n",
       "      <td>True</td>\n",
       "      <td>False</td>\n",
       "      <td>False</td>\n",
       "      <td>0.844118</td>\n",
       "      <td>0.802817</td>\n",
       "      <td>0.571429</td>\n",
       "      <td>0.885714</td>\n",
       "    </tr>\n",
       "    <tr>\n",
       "      <th>9</th>\n",
       "      <td>QDA</td>\n",
       "      <td>False</td>\n",
       "      <td>True</td>\n",
       "      <td>False</td>\n",
       "      <td>0.636471</td>\n",
       "      <td>0.638498</td>\n",
       "      <td>0.600000</td>\n",
       "      <td>1.000000</td>\n",
       "    </tr>\n",
       "    <tr>\n",
       "      <th>10</th>\n",
       "      <td>QDA</td>\n",
       "      <td>True</td>\n",
       "      <td>True</td>\n",
       "      <td>False</td>\n",
       "      <td>0.844118</td>\n",
       "      <td>0.802817</td>\n",
       "      <td>0.571429</td>\n",
       "      <td>0.885714</td>\n",
       "    </tr>\n",
       "    <tr>\n",
       "      <th>11</th>\n",
       "      <td>GaussianNB</td>\n",
       "      <td>False</td>\n",
       "      <td>False</td>\n",
       "      <td>False</td>\n",
       "      <td>0.821176</td>\n",
       "      <td>0.800469</td>\n",
       "      <td>0.600000</td>\n",
       "      <td>0.942857</td>\n",
       "    </tr>\n",
       "    <tr>\n",
       "      <th>12</th>\n",
       "      <td>GaussianNB</td>\n",
       "      <td>True</td>\n",
       "      <td>False</td>\n",
       "      <td>False</td>\n",
       "      <td>0.855294</td>\n",
       "      <td>0.833333</td>\n",
       "      <td>0.628571</td>\n",
       "      <td>0.942857</td>\n",
       "    </tr>\n",
       "  </tbody>\n",
       "</table>\n",
       "</div>"
      ],
      "text/plain": [
       "     Algorithm FeatureSelection Standardization  Costs  Acc_train  Acc_test  \\\n",
       "0          Knn            False           False  False   0.918824  0.884977   \n",
       "1          Knn             True           False  False   0.947059  0.901408   \n",
       "2          Knn             True           False   True   0.947059  0.901408   \n",
       "3          LDA            False           False  False   0.888235  0.847418   \n",
       "4          LDA             True           False  False   0.860588  0.823944   \n",
       "5          LDA            False            True  False   0.888235  0.847418   \n",
       "6          LDA             True            True  False   0.860588  0.823944   \n",
       "7          QDA            False           False  False   0.730000  0.720657   \n",
       "8          QDA             True           False  False   0.844118  0.802817   \n",
       "9          QDA            False            True  False   0.636471  0.638498   \n",
       "10         QDA             True            True  False   0.844118  0.802817   \n",
       "11  GaussianNB            False           False  False   0.821176  0.800469   \n",
       "12  GaussianNB             True           False  False   0.855294  0.833333   \n",
       "\n",
       "    Recall_Pathologic  Pathological predicted as Pathological or Suspect  \n",
       "0            0.742857                                           0.828571  \n",
       "1            0.742857                                           0.885714  \n",
       "2            0.714286                                           0.971429  \n",
       "3            0.542857                                           0.885714  \n",
       "4            0.485714                                           0.800000  \n",
       "5            0.542857                                           0.885714  \n",
       "6            0.485714                                           0.800000  \n",
       "7            0.628571                                           1.000000  \n",
       "8            0.571429                                           0.885714  \n",
       "9            0.600000                                           1.000000  \n",
       "10           0.571429                                           0.885714  \n",
       "11           0.600000                                           0.942857  \n",
       "12           0.628571                                           0.942857  "
      ]
     },
     "execution_count": 484,
     "metadata": {},
     "output_type": "execute_result"
    }
   ],
   "source": [
    "# NB Séléction de variables\n",
    "nb_feature_selection = GaussianNB()\n",
    "nb_feature_selection.fit(data_train_selected, labels_train_selected)\n",
    "predicted_labels = nb_feature_selection.predict(data_test_selected)\n",
    "print(classification_report(labels_test_selected, predicted_labels, target_names=['Normal', 'Suspect', 'Pathologic']))\n",
    "print(\"Accuracy pour globale\")\n",
    "print(f\"Score données d'entrainements: {nb_feature_selection.score(data_train_selected, labels_train_selected)}\")\n",
    "print(f\"Score données de test: {nb_feature_selection.score(data_test_selected, labels_test_selected)}\")\n",
    "\n",
    "cm = confusion_matrix(labels_test_selected, predicted_labels)\n",
    "patho_predicted_as_patho_or_suspect = (cm[2,1]+cm[2,2])/sum(cm[2])\n",
    "\n",
    "accuracies_dataframe = update_line(accuracies_dataframe, 'GaussianNB', True, False, False, nb_feature_selection.score(data_train_selected, labels_train_selected), nb_feature_selection.score(data_test_selected, labels_test_selected), classification_report(labels_test_selected, predicted_labels, target_names=['Normal', 'Suspect', 'Pathologic'], output_dict=True)['Pathologic']['recall'], patho_predicted_as_patho_or_suspect)\n",
    "accuracies_dataframe"
   ]
  },
  {
   "cell_type": "code",
   "execution_count": null,
   "metadata": {
    "ExecuteTime": {
     "end_time": "2024-06-06T13:23:35.154015Z",
     "start_time": "2024-06-06T13:23:35.079268Z"
    }
   },
   "outputs": [
    {
     "name": "stdout",
     "output_type": "stream",
     "text": [
      "              precision    recall  f1-score   support\n",
      "\n",
      "      Normal       0.99      0.69      0.81       332\n",
      "     Suspect       0.34      0.92      0.50        59\n",
      "  Pathologic       0.57      0.60      0.58        35\n",
      "\n",
      "    accuracy                           0.71       426\n",
      "   macro avg       0.63      0.74      0.63       426\n",
      "weighted avg       0.87      0.71      0.75       426\n",
      "\n",
      "Accuracy pour globale\n",
      "Score données d'entrainements: 0.7341176470588235\n",
      "Score données de test: 0.7136150234741784\n"
     ]
    },
    {
     "data": {
      "text/html": [
       "<div>\n",
       "<style scoped>\n",
       "    .dataframe tbody tr th:only-of-type {\n",
       "        vertical-align: middle;\n",
       "    }\n",
       "\n",
       "    .dataframe tbody tr th {\n",
       "        vertical-align: top;\n",
       "    }\n",
       "\n",
       "    .dataframe thead th {\n",
       "        text-align: right;\n",
       "    }\n",
       "</style>\n",
       "<table border=\"1\" class=\"dataframe\">\n",
       "  <thead>\n",
       "    <tr style=\"text-align: right;\">\n",
       "      <th></th>\n",
       "      <th>Algorithm</th>\n",
       "      <th>FeatureSelection</th>\n",
       "      <th>Standardization</th>\n",
       "      <th>Costs</th>\n",
       "      <th>Acc_train</th>\n",
       "      <th>Acc_test</th>\n",
       "      <th>Recall_Pathologic</th>\n",
       "      <th>Pathological predicted as Pathological or Suspect</th>\n",
       "    </tr>\n",
       "  </thead>\n",
       "  <tbody>\n",
       "    <tr>\n",
       "      <th>0</th>\n",
       "      <td>Knn</td>\n",
       "      <td>False</td>\n",
       "      <td>False</td>\n",
       "      <td>False</td>\n",
       "      <td>0.918824</td>\n",
       "      <td>0.884977</td>\n",
       "      <td>0.742857</td>\n",
       "      <td>0.828571</td>\n",
       "    </tr>\n",
       "    <tr>\n",
       "      <th>1</th>\n",
       "      <td>Knn</td>\n",
       "      <td>True</td>\n",
       "      <td>False</td>\n",
       "      <td>False</td>\n",
       "      <td>0.947059</td>\n",
       "      <td>0.901408</td>\n",
       "      <td>0.742857</td>\n",
       "      <td>0.885714</td>\n",
       "    </tr>\n",
       "    <tr>\n",
       "      <th>2</th>\n",
       "      <td>Knn</td>\n",
       "      <td>True</td>\n",
       "      <td>False</td>\n",
       "      <td>True</td>\n",
       "      <td>0.947059</td>\n",
       "      <td>0.901408</td>\n",
       "      <td>0.714286</td>\n",
       "      <td>0.971429</td>\n",
       "    </tr>\n",
       "    <tr>\n",
       "      <th>3</th>\n",
       "      <td>LDA</td>\n",
       "      <td>False</td>\n",
       "      <td>False</td>\n",
       "      <td>False</td>\n",
       "      <td>0.888235</td>\n",
       "      <td>0.847418</td>\n",
       "      <td>0.542857</td>\n",
       "      <td>0.885714</td>\n",
       "    </tr>\n",
       "    <tr>\n",
       "      <th>4</th>\n",
       "      <td>LDA</td>\n",
       "      <td>True</td>\n",
       "      <td>False</td>\n",
       "      <td>False</td>\n",
       "      <td>0.860588</td>\n",
       "      <td>0.823944</td>\n",
       "      <td>0.485714</td>\n",
       "      <td>0.800000</td>\n",
       "    </tr>\n",
       "    <tr>\n",
       "      <th>5</th>\n",
       "      <td>LDA</td>\n",
       "      <td>False</td>\n",
       "      <td>True</td>\n",
       "      <td>False</td>\n",
       "      <td>0.888235</td>\n",
       "      <td>0.847418</td>\n",
       "      <td>0.542857</td>\n",
       "      <td>0.885714</td>\n",
       "    </tr>\n",
       "    <tr>\n",
       "      <th>6</th>\n",
       "      <td>LDA</td>\n",
       "      <td>True</td>\n",
       "      <td>True</td>\n",
       "      <td>False</td>\n",
       "      <td>0.860588</td>\n",
       "      <td>0.823944</td>\n",
       "      <td>0.485714</td>\n",
       "      <td>0.800000</td>\n",
       "    </tr>\n",
       "    <tr>\n",
       "      <th>7</th>\n",
       "      <td>QDA</td>\n",
       "      <td>False</td>\n",
       "      <td>False</td>\n",
       "      <td>False</td>\n",
       "      <td>0.730000</td>\n",
       "      <td>0.720657</td>\n",
       "      <td>0.628571</td>\n",
       "      <td>1.000000</td>\n",
       "    </tr>\n",
       "    <tr>\n",
       "      <th>8</th>\n",
       "      <td>QDA</td>\n",
       "      <td>True</td>\n",
       "      <td>False</td>\n",
       "      <td>False</td>\n",
       "      <td>0.844118</td>\n",
       "      <td>0.802817</td>\n",
       "      <td>0.571429</td>\n",
       "      <td>0.885714</td>\n",
       "    </tr>\n",
       "    <tr>\n",
       "      <th>9</th>\n",
       "      <td>QDA</td>\n",
       "      <td>False</td>\n",
       "      <td>True</td>\n",
       "      <td>False</td>\n",
       "      <td>0.636471</td>\n",
       "      <td>0.638498</td>\n",
       "      <td>0.600000</td>\n",
       "      <td>1.000000</td>\n",
       "    </tr>\n",
       "    <tr>\n",
       "      <th>10</th>\n",
       "      <td>QDA</td>\n",
       "      <td>True</td>\n",
       "      <td>True</td>\n",
       "      <td>False</td>\n",
       "      <td>0.844118</td>\n",
       "      <td>0.802817</td>\n",
       "      <td>0.571429</td>\n",
       "      <td>0.885714</td>\n",
       "    </tr>\n",
       "    <tr>\n",
       "      <th>11</th>\n",
       "      <td>GaussianNB</td>\n",
       "      <td>False</td>\n",
       "      <td>False</td>\n",
       "      <td>False</td>\n",
       "      <td>0.821176</td>\n",
       "      <td>0.800469</td>\n",
       "      <td>0.600000</td>\n",
       "      <td>0.942857</td>\n",
       "    </tr>\n",
       "    <tr>\n",
       "      <th>12</th>\n",
       "      <td>GaussianNB</td>\n",
       "      <td>True</td>\n",
       "      <td>False</td>\n",
       "      <td>False</td>\n",
       "      <td>0.855294</td>\n",
       "      <td>0.833333</td>\n",
       "      <td>0.628571</td>\n",
       "      <td>0.942857</td>\n",
       "    </tr>\n",
       "    <tr>\n",
       "      <th>13</th>\n",
       "      <td>GaussianNB</td>\n",
       "      <td>False</td>\n",
       "      <td>True</td>\n",
       "      <td>False</td>\n",
       "      <td>0.734118</td>\n",
       "      <td>0.713615</td>\n",
       "      <td>0.600000</td>\n",
       "      <td>1.000000</td>\n",
       "    </tr>\n",
       "  </tbody>\n",
       "</table>\n",
       "</div>"
      ],
      "text/plain": [
       "     Algorithm FeatureSelection Standardization  Costs  Acc_train  Acc_test  \\\n",
       "0          Knn            False           False  False   0.918824  0.884977   \n",
       "1          Knn             True           False  False   0.947059  0.901408   \n",
       "2          Knn             True           False   True   0.947059  0.901408   \n",
       "3          LDA            False           False  False   0.888235  0.847418   \n",
       "4          LDA             True           False  False   0.860588  0.823944   \n",
       "5          LDA            False            True  False   0.888235  0.847418   \n",
       "6          LDA             True            True  False   0.860588  0.823944   \n",
       "7          QDA            False           False  False   0.730000  0.720657   \n",
       "8          QDA             True           False  False   0.844118  0.802817   \n",
       "9          QDA            False            True  False   0.636471  0.638498   \n",
       "10         QDA             True            True  False   0.844118  0.802817   \n",
       "11  GaussianNB            False           False  False   0.821176  0.800469   \n",
       "12  GaussianNB             True           False  False   0.855294  0.833333   \n",
       "13  GaussianNB            False            True  False   0.734118  0.713615   \n",
       "\n",
       "    Recall_Pathologic  Pathological predicted as Pathological or Suspect  \n",
       "0            0.742857                                           0.828571  \n",
       "1            0.742857                                           0.885714  \n",
       "2            0.714286                                           0.971429  \n",
       "3            0.542857                                           0.885714  \n",
       "4            0.485714                                           0.800000  \n",
       "5            0.542857                                           0.885714  \n",
       "6            0.485714                                           0.800000  \n",
       "7            0.628571                                           1.000000  \n",
       "8            0.571429                                           0.885714  \n",
       "9            0.600000                                           1.000000  \n",
       "10           0.571429                                           0.885714  \n",
       "11           0.600000                                           0.942857  \n",
       "12           0.628571                                           0.942857  \n",
       "13           0.600000                                           1.000000  "
      ]
     },
     "execution_count": 485,
     "metadata": {},
     "output_type": "execute_result"
    }
   ],
   "source": [
    "# NB Donées brutes normalisées\n",
    "pipeline_standardized_nb = make_pipeline(StandardScaler(),GaussianNB())\n",
    "pipeline_standardized_nb.fit(data_train, labels_train)\n",
    "predicted_labels = pipeline_standardized_nb.predict(data_test)\n",
    "print(classification_report(labels_test, predicted_labels, target_names=['Normal', 'Suspect', 'Pathologic']))\n",
    "print(\"Accuracy pour globale\")\n",
    "print(f\"Score données d'entrainements: {pipeline_standardized_nb.score(data_train, labels_train)}\")\n",
    "print(f\"Score données de test: {pipeline_standardized_nb.score(data_test, labels_test)}\")\n",
    "\n",
    "cm = confusion_matrix(labels_test, predicted_labels)\n",
    "patho_predicted_as_patho_or_suspect = (cm[2,1]+cm[2,2])/sum(cm[2])\n",
    "\n",
    "accuracies_dataframe = update_line(accuracies_dataframe, 'GaussianNB', False, True, False, pipeline_standardized_nb.score(data_train, labels_train), pipeline_standardized_nb.score(data_test, labels_test), classification_report(labels_test, predicted_labels, target_names=['Normal', 'Suspect', 'Pathologic'], output_dict=True)['Pathologic']['recall'], patho_predicted_as_patho_or_suspect)\n",
    "accuracies_dataframe"
   ]
  },
  {
   "cell_type": "code",
   "execution_count": null,
   "metadata": {
    "ExecuteTime": {
     "end_time": "2024-06-06T13:23:35.230818Z",
     "start_time": "2024-06-06T13:23:35.156463Z"
    }
   },
   "outputs": [
    {
     "name": "stdout",
     "output_type": "stream",
     "text": [
      "              precision    recall  f1-score   support\n",
      "\n",
      "      Normal       0.93      0.88      0.90       332\n",
      "     Suspect       0.48      0.56      0.52        59\n",
      "  Pathologic       0.52      0.63      0.57        35\n",
      "\n",
      "    accuracy                           0.81       426\n",
      "   macro avg       0.64      0.69      0.66       426\n",
      "weighted avg       0.83      0.81      0.82       426\n",
      "\n",
      "Accuracy pour globale\n",
      "Score données d'entrainements: 0.8523529411764705\n",
      "Score données de test: 0.8145539906103286\n"
     ]
    },
    {
     "data": {
      "text/html": [
       "<div>\n",
       "<style scoped>\n",
       "    .dataframe tbody tr th:only-of-type {\n",
       "        vertical-align: middle;\n",
       "    }\n",
       "\n",
       "    .dataframe tbody tr th {\n",
       "        vertical-align: top;\n",
       "    }\n",
       "\n",
       "    .dataframe thead th {\n",
       "        text-align: right;\n",
       "    }\n",
       "</style>\n",
       "<table border=\"1\" class=\"dataframe\">\n",
       "  <thead>\n",
       "    <tr style=\"text-align: right;\">\n",
       "      <th></th>\n",
       "      <th>Algorithm</th>\n",
       "      <th>FeatureSelection</th>\n",
       "      <th>Standardization</th>\n",
       "      <th>Costs</th>\n",
       "      <th>Acc_train</th>\n",
       "      <th>Acc_test</th>\n",
       "      <th>Recall_Pathologic</th>\n",
       "      <th>Pathological predicted as Pathological or Suspect</th>\n",
       "    </tr>\n",
       "  </thead>\n",
       "  <tbody>\n",
       "    <tr>\n",
       "      <th>0</th>\n",
       "      <td>Knn</td>\n",
       "      <td>False</td>\n",
       "      <td>False</td>\n",
       "      <td>False</td>\n",
       "      <td>0.918824</td>\n",
       "      <td>0.884977</td>\n",
       "      <td>0.742857</td>\n",
       "      <td>0.828571</td>\n",
       "    </tr>\n",
       "    <tr>\n",
       "      <th>1</th>\n",
       "      <td>Knn</td>\n",
       "      <td>True</td>\n",
       "      <td>False</td>\n",
       "      <td>False</td>\n",
       "      <td>0.947059</td>\n",
       "      <td>0.901408</td>\n",
       "      <td>0.742857</td>\n",
       "      <td>0.885714</td>\n",
       "    </tr>\n",
       "    <tr>\n",
       "      <th>2</th>\n",
       "      <td>Knn</td>\n",
       "      <td>True</td>\n",
       "      <td>False</td>\n",
       "      <td>True</td>\n",
       "      <td>0.947059</td>\n",
       "      <td>0.901408</td>\n",
       "      <td>0.714286</td>\n",
       "      <td>0.971429</td>\n",
       "    </tr>\n",
       "    <tr>\n",
       "      <th>3</th>\n",
       "      <td>LDA</td>\n",
       "      <td>False</td>\n",
       "      <td>False</td>\n",
       "      <td>False</td>\n",
       "      <td>0.888235</td>\n",
       "      <td>0.847418</td>\n",
       "      <td>0.542857</td>\n",
       "      <td>0.885714</td>\n",
       "    </tr>\n",
       "    <tr>\n",
       "      <th>4</th>\n",
       "      <td>LDA</td>\n",
       "      <td>True</td>\n",
       "      <td>False</td>\n",
       "      <td>False</td>\n",
       "      <td>0.860588</td>\n",
       "      <td>0.823944</td>\n",
       "      <td>0.485714</td>\n",
       "      <td>0.800000</td>\n",
       "    </tr>\n",
       "    <tr>\n",
       "      <th>5</th>\n",
       "      <td>LDA</td>\n",
       "      <td>False</td>\n",
       "      <td>True</td>\n",
       "      <td>False</td>\n",
       "      <td>0.888235</td>\n",
       "      <td>0.847418</td>\n",
       "      <td>0.542857</td>\n",
       "      <td>0.885714</td>\n",
       "    </tr>\n",
       "    <tr>\n",
       "      <th>6</th>\n",
       "      <td>LDA</td>\n",
       "      <td>True</td>\n",
       "      <td>True</td>\n",
       "      <td>False</td>\n",
       "      <td>0.860588</td>\n",
       "      <td>0.823944</td>\n",
       "      <td>0.485714</td>\n",
       "      <td>0.800000</td>\n",
       "    </tr>\n",
       "    <tr>\n",
       "      <th>7</th>\n",
       "      <td>QDA</td>\n",
       "      <td>False</td>\n",
       "      <td>False</td>\n",
       "      <td>False</td>\n",
       "      <td>0.730000</td>\n",
       "      <td>0.720657</td>\n",
       "      <td>0.628571</td>\n",
       "      <td>1.000000</td>\n",
       "    </tr>\n",
       "    <tr>\n",
       "      <th>8</th>\n",
       "      <td>QDA</td>\n",
       "      <td>True</td>\n",
       "      <td>False</td>\n",
       "      <td>False</td>\n",
       "      <td>0.844118</td>\n",
       "      <td>0.802817</td>\n",
       "      <td>0.571429</td>\n",
       "      <td>0.885714</td>\n",
       "    </tr>\n",
       "    <tr>\n",
       "      <th>9</th>\n",
       "      <td>QDA</td>\n",
       "      <td>False</td>\n",
       "      <td>True</td>\n",
       "      <td>False</td>\n",
       "      <td>0.636471</td>\n",
       "      <td>0.638498</td>\n",
       "      <td>0.600000</td>\n",
       "      <td>1.000000</td>\n",
       "    </tr>\n",
       "    <tr>\n",
       "      <th>10</th>\n",
       "      <td>QDA</td>\n",
       "      <td>True</td>\n",
       "      <td>True</td>\n",
       "      <td>False</td>\n",
       "      <td>0.844118</td>\n",
       "      <td>0.802817</td>\n",
       "      <td>0.571429</td>\n",
       "      <td>0.885714</td>\n",
       "    </tr>\n",
       "    <tr>\n",
       "      <th>11</th>\n",
       "      <td>GaussianNB</td>\n",
       "      <td>False</td>\n",
       "      <td>False</td>\n",
       "      <td>False</td>\n",
       "      <td>0.821176</td>\n",
       "      <td>0.800469</td>\n",
       "      <td>0.600000</td>\n",
       "      <td>0.942857</td>\n",
       "    </tr>\n",
       "    <tr>\n",
       "      <th>12</th>\n",
       "      <td>GaussianNB</td>\n",
       "      <td>True</td>\n",
       "      <td>False</td>\n",
       "      <td>False</td>\n",
       "      <td>0.855294</td>\n",
       "      <td>0.833333</td>\n",
       "      <td>0.628571</td>\n",
       "      <td>0.942857</td>\n",
       "    </tr>\n",
       "    <tr>\n",
       "      <th>13</th>\n",
       "      <td>GaussianNB</td>\n",
       "      <td>False</td>\n",
       "      <td>True</td>\n",
       "      <td>False</td>\n",
       "      <td>0.734118</td>\n",
       "      <td>0.713615</td>\n",
       "      <td>0.600000</td>\n",
       "      <td>1.000000</td>\n",
       "    </tr>\n",
       "    <tr>\n",
       "      <th>14</th>\n",
       "      <td>GaussianNB</td>\n",
       "      <td>True</td>\n",
       "      <td>True</td>\n",
       "      <td>False</td>\n",
       "      <td>0.852353</td>\n",
       "      <td>0.814554</td>\n",
       "      <td>0.628571</td>\n",
       "      <td>0.942857</td>\n",
       "    </tr>\n",
       "  </tbody>\n",
       "</table>\n",
       "</div>"
      ],
      "text/plain": [
       "     Algorithm FeatureSelection Standardization  Costs  Acc_train  Acc_test  \\\n",
       "0          Knn            False           False  False   0.918824  0.884977   \n",
       "1          Knn             True           False  False   0.947059  0.901408   \n",
       "2          Knn             True           False   True   0.947059  0.901408   \n",
       "3          LDA            False           False  False   0.888235  0.847418   \n",
       "4          LDA             True           False  False   0.860588  0.823944   \n",
       "5          LDA            False            True  False   0.888235  0.847418   \n",
       "6          LDA             True            True  False   0.860588  0.823944   \n",
       "7          QDA            False           False  False   0.730000  0.720657   \n",
       "8          QDA             True           False  False   0.844118  0.802817   \n",
       "9          QDA            False            True  False   0.636471  0.638498   \n",
       "10         QDA             True            True  False   0.844118  0.802817   \n",
       "11  GaussianNB            False           False  False   0.821176  0.800469   \n",
       "12  GaussianNB             True           False  False   0.855294  0.833333   \n",
       "13  GaussianNB            False            True  False   0.734118  0.713615   \n",
       "14  GaussianNB             True            True  False   0.852353  0.814554   \n",
       "\n",
       "    Recall_Pathologic  Pathological predicted as Pathological or Suspect  \n",
       "0            0.742857                                           0.828571  \n",
       "1            0.742857                                           0.885714  \n",
       "2            0.714286                                           0.971429  \n",
       "3            0.542857                                           0.885714  \n",
       "4            0.485714                                           0.800000  \n",
       "5            0.542857                                           0.885714  \n",
       "6            0.485714                                           0.800000  \n",
       "7            0.628571                                           1.000000  \n",
       "8            0.571429                                           0.885714  \n",
       "9            0.600000                                           1.000000  \n",
       "10           0.571429                                           0.885714  \n",
       "11           0.600000                                           0.942857  \n",
       "12           0.628571                                           0.942857  \n",
       "13           0.600000                                           1.000000  \n",
       "14           0.628571                                           0.942857  "
      ]
     },
     "execution_count": 486,
     "metadata": {},
     "output_type": "execute_result"
    }
   ],
   "source": [
    "# NB Séléction de variables + Normalisation\n",
    "\n",
    "pipeline_nb = make_pipeline(StandardScaler(),GaussianNB())\n",
    "pipeline_nb.fit(data_train_selected, labels_train_selected)\n",
    "predicted_labels = pipeline_nb.predict(data_test_selected)\n",
    "print(classification_report(labels_test_selected, predicted_labels, target_names=['Normal', 'Suspect', 'Pathologic']))\n",
    "print(\"Accuracy pour globale\")\n",
    "print(f\"Score données d'entrainements: {pipeline_nb.score(data_train_selected, labels_train_selected)}\")\n",
    "print(f\"Score données de test: {pipeline_nb.score(data_test_selected, labels_test_selected)}\")\n",
    "\n",
    "cm = confusion_matrix(labels_test_selected, predicted_labels)\n",
    "patho_predicted_as_patho_or_suspect = (cm[2,1]+cm[2,2])/sum(cm[2])\n",
    "\n",
    "accuracies_dataframe = update_line(accuracies_dataframe, 'GaussianNB', True, True, False, pipeline_nb.score(data_train_selected, labels_train_selected), pipeline_nb.score(data_test_selected, labels_test_selected), classification_report(labels_test_selected, predicted_labels, target_names=['Normal', 'Suspect', 'Pathologic'], output_dict=True)['Pathologic']['recall'], patho_predicted_as_patho_or_suspect)\n",
    "accuracies_dataframe"
   ]
  },
  {
   "cell_type": "markdown",
   "metadata": {},
   "source": [
    "Les meilleures résultats sont obtenus avec LDA sans sélection de variables (avec ou sans normalisation).\n",
    "\n",
    "Avec QDA et NB, la sélection de variable permet d'améliorer les performances, mais pas pour LDA.\n",
    "\n",
    "La normalisation n'améliore jamais les performances (soit elle les dégrade soit ne change rien)"
   ]
  },
  {
   "cell_type": "code",
   "execution_count": null,
   "metadata": {
    "ExecuteTime": {
     "end_time": "2024-06-06T13:23:35.357279Z",
     "start_time": "2024-06-06T13:23:35.233823Z"
    }
   },
   "outputs": [
    {
     "name": "stdout",
     "output_type": "stream",
     "text": [
      "              precision    recall  f1-score   support\n",
      "\n",
      "      Normal       0.92      0.93      0.93       332\n",
      "     Suspect       0.49      0.58      0.53        59\n",
      "  Pathologic       0.73      0.46      0.56        35\n",
      "\n",
      "    accuracy                           0.84       426\n",
      "   macro avg       0.71      0.65      0.67       426\n",
      "weighted avg       0.85      0.84      0.84       426\n",
      "\n",
      "Accuracy pour globale\n",
      "Score données d'entrainements: 0.888235294117647\n",
      "Score données de test: 0.8427230046948356\n",
      "[[309  20   3]\n",
      " [ 22  34   3]\n",
      " [  4  15  16]]\n"
     ]
    },
    {
     "data": {
      "text/html": [
       "<div>\n",
       "<style scoped>\n",
       "    .dataframe tbody tr th:only-of-type {\n",
       "        vertical-align: middle;\n",
       "    }\n",
       "\n",
       "    .dataframe tbody tr th {\n",
       "        vertical-align: top;\n",
       "    }\n",
       "\n",
       "    .dataframe thead th {\n",
       "        text-align: right;\n",
       "    }\n",
       "</style>\n",
       "<table border=\"1\" class=\"dataframe\">\n",
       "  <thead>\n",
       "    <tr style=\"text-align: right;\">\n",
       "      <th></th>\n",
       "      <th>Algorithm</th>\n",
       "      <th>FeatureSelection</th>\n",
       "      <th>Standardization</th>\n",
       "      <th>Costs</th>\n",
       "      <th>Acc_train</th>\n",
       "      <th>Acc_test</th>\n",
       "      <th>Recall_Pathologic</th>\n",
       "      <th>Pathological predicted as Pathological or Suspect</th>\n",
       "    </tr>\n",
       "  </thead>\n",
       "  <tbody>\n",
       "    <tr>\n",
       "      <th>0</th>\n",
       "      <td>Knn</td>\n",
       "      <td>False</td>\n",
       "      <td>False</td>\n",
       "      <td>False</td>\n",
       "      <td>0.918824</td>\n",
       "      <td>0.884977</td>\n",
       "      <td>0.742857</td>\n",
       "      <td>0.828571</td>\n",
       "    </tr>\n",
       "    <tr>\n",
       "      <th>1</th>\n",
       "      <td>Knn</td>\n",
       "      <td>True</td>\n",
       "      <td>False</td>\n",
       "      <td>False</td>\n",
       "      <td>0.947059</td>\n",
       "      <td>0.901408</td>\n",
       "      <td>0.742857</td>\n",
       "      <td>0.885714</td>\n",
       "    </tr>\n",
       "    <tr>\n",
       "      <th>2</th>\n",
       "      <td>Knn</td>\n",
       "      <td>True</td>\n",
       "      <td>False</td>\n",
       "      <td>True</td>\n",
       "      <td>0.947059</td>\n",
       "      <td>0.901408</td>\n",
       "      <td>0.714286</td>\n",
       "      <td>0.971429</td>\n",
       "    </tr>\n",
       "    <tr>\n",
       "      <th>3</th>\n",
       "      <td>LDA</td>\n",
       "      <td>False</td>\n",
       "      <td>False</td>\n",
       "      <td>False</td>\n",
       "      <td>0.888235</td>\n",
       "      <td>0.847418</td>\n",
       "      <td>0.542857</td>\n",
       "      <td>0.885714</td>\n",
       "    </tr>\n",
       "    <tr>\n",
       "      <th>4</th>\n",
       "      <td>LDA</td>\n",
       "      <td>True</td>\n",
       "      <td>False</td>\n",
       "      <td>False</td>\n",
       "      <td>0.860588</td>\n",
       "      <td>0.823944</td>\n",
       "      <td>0.485714</td>\n",
       "      <td>0.800000</td>\n",
       "    </tr>\n",
       "    <tr>\n",
       "      <th>5</th>\n",
       "      <td>LDA</td>\n",
       "      <td>False</td>\n",
       "      <td>True</td>\n",
       "      <td>False</td>\n",
       "      <td>0.888235</td>\n",
       "      <td>0.847418</td>\n",
       "      <td>0.542857</td>\n",
       "      <td>0.885714</td>\n",
       "    </tr>\n",
       "    <tr>\n",
       "      <th>6</th>\n",
       "      <td>LDA</td>\n",
       "      <td>True</td>\n",
       "      <td>True</td>\n",
       "      <td>False</td>\n",
       "      <td>0.860588</td>\n",
       "      <td>0.823944</td>\n",
       "      <td>0.485714</td>\n",
       "      <td>0.800000</td>\n",
       "    </tr>\n",
       "    <tr>\n",
       "      <th>7</th>\n",
       "      <td>QDA</td>\n",
       "      <td>False</td>\n",
       "      <td>False</td>\n",
       "      <td>False</td>\n",
       "      <td>0.730000</td>\n",
       "      <td>0.720657</td>\n",
       "      <td>0.628571</td>\n",
       "      <td>1.000000</td>\n",
       "    </tr>\n",
       "    <tr>\n",
       "      <th>8</th>\n",
       "      <td>QDA</td>\n",
       "      <td>True</td>\n",
       "      <td>False</td>\n",
       "      <td>False</td>\n",
       "      <td>0.844118</td>\n",
       "      <td>0.802817</td>\n",
       "      <td>0.571429</td>\n",
       "      <td>0.885714</td>\n",
       "    </tr>\n",
       "    <tr>\n",
       "      <th>9</th>\n",
       "      <td>QDA</td>\n",
       "      <td>False</td>\n",
       "      <td>True</td>\n",
       "      <td>False</td>\n",
       "      <td>0.636471</td>\n",
       "      <td>0.638498</td>\n",
       "      <td>0.600000</td>\n",
       "      <td>1.000000</td>\n",
       "    </tr>\n",
       "    <tr>\n",
       "      <th>10</th>\n",
       "      <td>QDA</td>\n",
       "      <td>True</td>\n",
       "      <td>True</td>\n",
       "      <td>False</td>\n",
       "      <td>0.844118</td>\n",
       "      <td>0.802817</td>\n",
       "      <td>0.571429</td>\n",
       "      <td>0.885714</td>\n",
       "    </tr>\n",
       "    <tr>\n",
       "      <th>11</th>\n",
       "      <td>GaussianNB</td>\n",
       "      <td>False</td>\n",
       "      <td>False</td>\n",
       "      <td>False</td>\n",
       "      <td>0.821176</td>\n",
       "      <td>0.800469</td>\n",
       "      <td>0.600000</td>\n",
       "      <td>0.942857</td>\n",
       "    </tr>\n",
       "    <tr>\n",
       "      <th>12</th>\n",
       "      <td>GaussianNB</td>\n",
       "      <td>True</td>\n",
       "      <td>False</td>\n",
       "      <td>False</td>\n",
       "      <td>0.855294</td>\n",
       "      <td>0.833333</td>\n",
       "      <td>0.628571</td>\n",
       "      <td>0.942857</td>\n",
       "    </tr>\n",
       "    <tr>\n",
       "      <th>13</th>\n",
       "      <td>GaussianNB</td>\n",
       "      <td>False</td>\n",
       "      <td>True</td>\n",
       "      <td>False</td>\n",
       "      <td>0.734118</td>\n",
       "      <td>0.713615</td>\n",
       "      <td>0.600000</td>\n",
       "      <td>1.000000</td>\n",
       "    </tr>\n",
       "    <tr>\n",
       "      <th>14</th>\n",
       "      <td>GaussianNB</td>\n",
       "      <td>True</td>\n",
       "      <td>True</td>\n",
       "      <td>False</td>\n",
       "      <td>0.852353</td>\n",
       "      <td>0.814554</td>\n",
       "      <td>0.628571</td>\n",
       "      <td>0.942857</td>\n",
       "    </tr>\n",
       "    <tr>\n",
       "      <th>15</th>\n",
       "      <td>LDA</td>\n",
       "      <td>False</td>\n",
       "      <td>False</td>\n",
       "      <td>True</td>\n",
       "      <td>0.888235</td>\n",
       "      <td>0.842723</td>\n",
       "      <td>0.457143</td>\n",
       "      <td>0.885714</td>\n",
       "    </tr>\n",
       "  </tbody>\n",
       "</table>\n",
       "</div>"
      ],
      "text/plain": [
       "     Algorithm FeatureSelection Standardization  Costs  Acc_train  Acc_test  \\\n",
       "0          Knn            False           False  False   0.918824  0.884977   \n",
       "1          Knn             True           False  False   0.947059  0.901408   \n",
       "2          Knn             True           False   True   0.947059  0.901408   \n",
       "3          LDA            False           False  False   0.888235  0.847418   \n",
       "4          LDA             True           False  False   0.860588  0.823944   \n",
       "5          LDA            False            True  False   0.888235  0.847418   \n",
       "6          LDA             True            True  False   0.860588  0.823944   \n",
       "7          QDA            False           False  False   0.730000  0.720657   \n",
       "8          QDA             True           False  False   0.844118  0.802817   \n",
       "9          QDA            False            True  False   0.636471  0.638498   \n",
       "10         QDA             True            True  False   0.844118  0.802817   \n",
       "11  GaussianNB            False           False  False   0.821176  0.800469   \n",
       "12  GaussianNB             True           False  False   0.855294  0.833333   \n",
       "13  GaussianNB            False            True  False   0.734118  0.713615   \n",
       "14  GaussianNB             True            True  False   0.852353  0.814554   \n",
       "15         LDA            False           False   True   0.888235  0.842723   \n",
       "\n",
       "    Recall_Pathologic  Pathological predicted as Pathological or Suspect  \n",
       "0            0.742857                                           0.828571  \n",
       "1            0.742857                                           0.885714  \n",
       "2            0.714286                                           0.971429  \n",
       "3            0.542857                                           0.885714  \n",
       "4            0.485714                                           0.800000  \n",
       "5            0.542857                                           0.885714  \n",
       "6            0.485714                                           0.800000  \n",
       "7            0.628571                                           1.000000  \n",
       "8            0.571429                                           0.885714  \n",
       "9            0.600000                                           1.000000  \n",
       "10           0.571429                                           0.885714  \n",
       "11           0.600000                                           0.942857  \n",
       "12           0.628571                                           0.942857  \n",
       "13           0.600000                                           1.000000  \n",
       "14           0.628571                                           0.942857  \n",
       "15           0.457143                                           0.885714  "
      ]
     },
     "execution_count": 487,
     "metadata": {},
     "output_type": "execute_result"
    }
   ],
   "source": [
    "def bayes_decision_rule(y_prob, C):\n",
    "\n",
    "    # Calculer le risque bayésien pour chaque classe\n",
    "    R = np.dot(C, y_prob)\n",
    "\n",
    "    # Classe qui minimise le risque bayésien\n",
    "    y_pred = np.argmin(R)\n",
    "\n",
    "    return y_pred+1\n",
    "\n",
    "# Matrice de couts\n",
    "C = np.array([[0, 1, 5],  # couts pour un individu sain\n",
    "              [1, 0, 1],  # couts pour un individu suspect\n",
    "              [10, 5, 0]])  # couts pour un individu malade\n",
    "\n",
    "lda_costs = LinearDiscriminantAnalysis()\n",
    "lda_costs.fit(data_train, labels_train)\n",
    "\n",
    "predicted_labels = lda_costs.predict_proba(data_test)\n",
    "\n",
    "prediction = [bayes_decision_rule(predicted_labels[i], C) for i in range(len(predicted_labels))]\n",
    "prediction = pd.Categorical(prediction, categories=[1.0, 2.0, 3.0], ordered=True)\n",
    "\n",
    "\n",
    "print(classification_report(labels_test, prediction, target_names=['Normal', 'Suspect', 'Pathologic']))\n",
    "\n",
    "print(\"Accuracy pour globale\")\n",
    "print(f\"Score données d'entrainements: {lda_costs.score(data_train, labels_train)}\")\n",
    "print(f\"Score données de test: {accuracy_score(labels_test, prediction)}\")\n",
    "\n",
    "\n",
    "print(confusion_matrix(labels_test, prediction))\n",
    "\n",
    "cm = confusion_matrix(labels_test, prediction)\n",
    "patho_predicted_as_patho_or_suspect = (cm[2,1]+cm[2,2])/sum(cm[2])\n",
    "\n",
    "accuracies_dataframe = update_line(accuracies_dataframe, 'LDA', False, False, True, lda_costs.score(data_train, labels_train), accuracy_score(labels_test, prediction), classification_report(labels_test, prediction, target_names=['Normal', 'Suspect', 'Pathologic'], output_dict=True)['Pathologic']['recall'], patho_predicted_as_patho_or_suspect)\n",
    "accuracies_dataframe\n"
   ]
  },
  {
   "cell_type": "markdown",
   "metadata": {},
   "source": [
    "Les résultats ne sont pas du tout aussi bon qu'avec knn. \n",
    "\n",
    "Non seulement les éléments diagonaux (bonnes prédictions) sont toutes inférieures, mais le nombre d'individus pathologiques prédits sains et multiplié par 4. "
   ]
  },
  {
   "cell_type": "markdown",
   "metadata": {},
   "source": [
    "## Régression logistique"
   ]
  },
  {
   "cell_type": "code",
   "execution_count": null,
   "metadata": {
    "ExecuteTime": {
     "end_time": "2024-06-06T13:23:35.372810Z",
     "start_time": "2024-06-06T13:23:35.359306Z"
    }
   },
   "outputs": [],
   "source": [
    "from sklearn.linear_model import LogisticRegression"
   ]
  },
  {
   "cell_type": "code",
   "execution_count": null,
   "metadata": {
    "ExecuteTime": {
     "end_time": "2024-06-06T13:23:35.729602Z",
     "start_time": "2024-06-06T13:23:35.375812Z"
    }
   },
   "outputs": [
    {
     "name": "stdout",
     "output_type": "stream",
     "text": [
      "              precision    recall  f1-score   support\n",
      "\n",
      "      Normal       0.90      0.96      0.93       332\n",
      "     Suspect       0.61      0.42      0.50        59\n",
      "  Pathologic       0.85      0.80      0.82        35\n",
      "\n",
      "    accuracy                           0.87       426\n",
      "   macro avg       0.79      0.73      0.75       426\n",
      "weighted avg       0.86      0.87      0.86       426\n",
      "\n"
     ]
    },
    {
     "name": "stderr",
     "output_type": "stream",
     "text": [
      "c:\\Users\\Juliette\\AppData\\Local\\Programs\\Python\\Python312\\Lib\\site-packages\\sklearn\\linear_model\\_logistic.py:469: ConvergenceWarning:\n",
      "\n",
      "lbfgs failed to converge (status=1):\n",
      "STOP: TOTAL NO. of ITERATIONS REACHED LIMIT.\n",
      "\n",
      "Increase the number of iterations (max_iter) or scale the data as shown in:\n",
      "    https://scikit-learn.org/stable/modules/preprocessing.html\n",
      "Please also refer to the documentation for alternative solver options:\n",
      "    https://scikit-learn.org/stable/modules/linear_model.html#logistic-regression\n",
      "\n"
     ]
    },
    {
     "data": {
      "text/html": [
       "<div>\n",
       "<style scoped>\n",
       "    .dataframe tbody tr th:only-of-type {\n",
       "        vertical-align: middle;\n",
       "    }\n",
       "\n",
       "    .dataframe tbody tr th {\n",
       "        vertical-align: top;\n",
       "    }\n",
       "\n",
       "    .dataframe thead th {\n",
       "        text-align: right;\n",
       "    }\n",
       "</style>\n",
       "<table border=\"1\" class=\"dataframe\">\n",
       "  <thead>\n",
       "    <tr style=\"text-align: right;\">\n",
       "      <th></th>\n",
       "      <th>Algorithm</th>\n",
       "      <th>FeatureSelection</th>\n",
       "      <th>Standardization</th>\n",
       "      <th>Costs</th>\n",
       "      <th>Acc_train</th>\n",
       "      <th>Acc_test</th>\n",
       "      <th>Recall_Pathologic</th>\n",
       "      <th>Pathological predicted as Pathological or Suspect</th>\n",
       "    </tr>\n",
       "  </thead>\n",
       "  <tbody>\n",
       "    <tr>\n",
       "      <th>0</th>\n",
       "      <td>Knn</td>\n",
       "      <td>False</td>\n",
       "      <td>False</td>\n",
       "      <td>False</td>\n",
       "      <td>0.918824</td>\n",
       "      <td>0.884977</td>\n",
       "      <td>0.742857</td>\n",
       "      <td>0.828571</td>\n",
       "    </tr>\n",
       "    <tr>\n",
       "      <th>1</th>\n",
       "      <td>Knn</td>\n",
       "      <td>True</td>\n",
       "      <td>False</td>\n",
       "      <td>False</td>\n",
       "      <td>0.947059</td>\n",
       "      <td>0.901408</td>\n",
       "      <td>0.742857</td>\n",
       "      <td>0.885714</td>\n",
       "    </tr>\n",
       "    <tr>\n",
       "      <th>2</th>\n",
       "      <td>Knn</td>\n",
       "      <td>True</td>\n",
       "      <td>False</td>\n",
       "      <td>True</td>\n",
       "      <td>0.947059</td>\n",
       "      <td>0.901408</td>\n",
       "      <td>0.714286</td>\n",
       "      <td>0.971429</td>\n",
       "    </tr>\n",
       "    <tr>\n",
       "      <th>3</th>\n",
       "      <td>LDA</td>\n",
       "      <td>False</td>\n",
       "      <td>False</td>\n",
       "      <td>False</td>\n",
       "      <td>0.888235</td>\n",
       "      <td>0.847418</td>\n",
       "      <td>0.542857</td>\n",
       "      <td>0.885714</td>\n",
       "    </tr>\n",
       "    <tr>\n",
       "      <th>4</th>\n",
       "      <td>LDA</td>\n",
       "      <td>True</td>\n",
       "      <td>False</td>\n",
       "      <td>False</td>\n",
       "      <td>0.860588</td>\n",
       "      <td>0.823944</td>\n",
       "      <td>0.485714</td>\n",
       "      <td>0.800000</td>\n",
       "    </tr>\n",
       "    <tr>\n",
       "      <th>5</th>\n",
       "      <td>LDA</td>\n",
       "      <td>False</td>\n",
       "      <td>True</td>\n",
       "      <td>False</td>\n",
       "      <td>0.888235</td>\n",
       "      <td>0.847418</td>\n",
       "      <td>0.542857</td>\n",
       "      <td>0.885714</td>\n",
       "    </tr>\n",
       "    <tr>\n",
       "      <th>6</th>\n",
       "      <td>LDA</td>\n",
       "      <td>True</td>\n",
       "      <td>True</td>\n",
       "      <td>False</td>\n",
       "      <td>0.860588</td>\n",
       "      <td>0.823944</td>\n",
       "      <td>0.485714</td>\n",
       "      <td>0.800000</td>\n",
       "    </tr>\n",
       "    <tr>\n",
       "      <th>7</th>\n",
       "      <td>QDA</td>\n",
       "      <td>False</td>\n",
       "      <td>False</td>\n",
       "      <td>False</td>\n",
       "      <td>0.730000</td>\n",
       "      <td>0.720657</td>\n",
       "      <td>0.628571</td>\n",
       "      <td>1.000000</td>\n",
       "    </tr>\n",
       "    <tr>\n",
       "      <th>8</th>\n",
       "      <td>QDA</td>\n",
       "      <td>True</td>\n",
       "      <td>False</td>\n",
       "      <td>False</td>\n",
       "      <td>0.844118</td>\n",
       "      <td>0.802817</td>\n",
       "      <td>0.571429</td>\n",
       "      <td>0.885714</td>\n",
       "    </tr>\n",
       "    <tr>\n",
       "      <th>9</th>\n",
       "      <td>QDA</td>\n",
       "      <td>False</td>\n",
       "      <td>True</td>\n",
       "      <td>False</td>\n",
       "      <td>0.636471</td>\n",
       "      <td>0.638498</td>\n",
       "      <td>0.600000</td>\n",
       "      <td>1.000000</td>\n",
       "    </tr>\n",
       "    <tr>\n",
       "      <th>10</th>\n",
       "      <td>QDA</td>\n",
       "      <td>True</td>\n",
       "      <td>True</td>\n",
       "      <td>False</td>\n",
       "      <td>0.844118</td>\n",
       "      <td>0.802817</td>\n",
       "      <td>0.571429</td>\n",
       "      <td>0.885714</td>\n",
       "    </tr>\n",
       "    <tr>\n",
       "      <th>11</th>\n",
       "      <td>GaussianNB</td>\n",
       "      <td>False</td>\n",
       "      <td>False</td>\n",
       "      <td>False</td>\n",
       "      <td>0.821176</td>\n",
       "      <td>0.800469</td>\n",
       "      <td>0.600000</td>\n",
       "      <td>0.942857</td>\n",
       "    </tr>\n",
       "    <tr>\n",
       "      <th>12</th>\n",
       "      <td>GaussianNB</td>\n",
       "      <td>True</td>\n",
       "      <td>False</td>\n",
       "      <td>False</td>\n",
       "      <td>0.855294</td>\n",
       "      <td>0.833333</td>\n",
       "      <td>0.628571</td>\n",
       "      <td>0.942857</td>\n",
       "    </tr>\n",
       "    <tr>\n",
       "      <th>13</th>\n",
       "      <td>GaussianNB</td>\n",
       "      <td>False</td>\n",
       "      <td>True</td>\n",
       "      <td>False</td>\n",
       "      <td>0.734118</td>\n",
       "      <td>0.713615</td>\n",
       "      <td>0.600000</td>\n",
       "      <td>1.000000</td>\n",
       "    </tr>\n",
       "    <tr>\n",
       "      <th>14</th>\n",
       "      <td>GaussianNB</td>\n",
       "      <td>True</td>\n",
       "      <td>True</td>\n",
       "      <td>False</td>\n",
       "      <td>0.852353</td>\n",
       "      <td>0.814554</td>\n",
       "      <td>0.628571</td>\n",
       "      <td>0.942857</td>\n",
       "    </tr>\n",
       "    <tr>\n",
       "      <th>15</th>\n",
       "      <td>LDA</td>\n",
       "      <td>False</td>\n",
       "      <td>False</td>\n",
       "      <td>True</td>\n",
       "      <td>0.888235</td>\n",
       "      <td>0.842723</td>\n",
       "      <td>0.457143</td>\n",
       "      <td>0.885714</td>\n",
       "    </tr>\n",
       "    <tr>\n",
       "      <th>16</th>\n",
       "      <td>Logistic Regression</td>\n",
       "      <td>False</td>\n",
       "      <td>False</td>\n",
       "      <td>False</td>\n",
       "      <td>0.890000</td>\n",
       "      <td>0.870892</td>\n",
       "      <td>0.800000</td>\n",
       "      <td>0.942857</td>\n",
       "    </tr>\n",
       "  </tbody>\n",
       "</table>\n",
       "</div>"
      ],
      "text/plain": [
       "              Algorithm FeatureSelection Standardization  Costs  Acc_train  \\\n",
       "0                   Knn            False           False  False   0.918824   \n",
       "1                   Knn             True           False  False   0.947059   \n",
       "2                   Knn             True           False   True   0.947059   \n",
       "3                   LDA            False           False  False   0.888235   \n",
       "4                   LDA             True           False  False   0.860588   \n",
       "5                   LDA            False            True  False   0.888235   \n",
       "6                   LDA             True            True  False   0.860588   \n",
       "7                   QDA            False           False  False   0.730000   \n",
       "8                   QDA             True           False  False   0.844118   \n",
       "9                   QDA            False            True  False   0.636471   \n",
       "10                  QDA             True            True  False   0.844118   \n",
       "11           GaussianNB            False           False  False   0.821176   \n",
       "12           GaussianNB             True           False  False   0.855294   \n",
       "13           GaussianNB            False            True  False   0.734118   \n",
       "14           GaussianNB             True            True  False   0.852353   \n",
       "15                  LDA            False           False   True   0.888235   \n",
       "16  Logistic Regression            False           False  False   0.890000   \n",
       "\n",
       "    Acc_test  Recall_Pathologic  \\\n",
       "0   0.884977           0.742857   \n",
       "1   0.901408           0.742857   \n",
       "2   0.901408           0.714286   \n",
       "3   0.847418           0.542857   \n",
       "4   0.823944           0.485714   \n",
       "5   0.847418           0.542857   \n",
       "6   0.823944           0.485714   \n",
       "7   0.720657           0.628571   \n",
       "8   0.802817           0.571429   \n",
       "9   0.638498           0.600000   \n",
       "10  0.802817           0.571429   \n",
       "11  0.800469           0.600000   \n",
       "12  0.833333           0.628571   \n",
       "13  0.713615           0.600000   \n",
       "14  0.814554           0.628571   \n",
       "15  0.842723           0.457143   \n",
       "16  0.870892           0.800000   \n",
       "\n",
       "    Pathological predicted as Pathological or Suspect  \n",
       "0                                            0.828571  \n",
       "1                                            0.885714  \n",
       "2                                            0.971429  \n",
       "3                                            0.885714  \n",
       "4                                            0.800000  \n",
       "5                                            0.885714  \n",
       "6                                            0.800000  \n",
       "7                                            1.000000  \n",
       "8                                            0.885714  \n",
       "9                                            1.000000  \n",
       "10                                           0.885714  \n",
       "11                                           0.942857  \n",
       "12                                           0.942857  \n",
       "13                                           1.000000  \n",
       "14                                           0.942857  \n",
       "15                                           0.885714  \n",
       "16                                           0.942857  "
      ]
     },
     "execution_count": 489,
     "metadata": {},
     "output_type": "execute_result"
    }
   ],
   "source": [
    "log_reg = LogisticRegression(max_iter=300)\n",
    "\n",
    "# Entraînement du modèle\n",
    "log_reg.fit(data_train, labels_train)\n",
    "\n",
    "# Prédictions\n",
    "predicted_labels = log_reg.predict(data_test)\n",
    "\n",
    "print(classification_report(labels_test, predicted_labels, target_names=['Normal', 'Suspect', 'Pathologic']))\n",
    "\n",
    "cm = confusion_matrix(labels_test, predicted_labels)\n",
    "patho_predicted_as_patho_or_suspect = (cm[2,1]+cm[2,2])/sum(cm[2])\n",
    "\n",
    "accuracies_dataframe = update_line(accuracies_dataframe, 'Logistic Regression', False, False, False, log_reg.score(data_train, labels_train), log_reg.score(data_test, labels_test), classification_report(labels_test, predicted_labels, target_names=['Normal', 'Suspect', 'Pathologic'], output_dict=True)['Pathologic']['recall'], patho_predicted_as_patho_or_suspect)\n",
    "accuracies_dataframe"
   ]
  },
  {
   "cell_type": "code",
   "execution_count": null,
   "metadata": {
    "ExecuteTime": {
     "end_time": "2024-06-06T13:23:35.853251Z",
     "start_time": "2024-06-06T13:23:35.731760Z"
    }
   },
   "outputs": [
    {
     "name": "stdout",
     "output_type": "stream",
     "text": [
      "              precision    recall  f1-score   support\n",
      "\n",
      "      Normal       0.93      0.94      0.93       332\n",
      "     Suspect       0.61      0.64      0.63        59\n",
      "  Pathologic       0.82      0.66      0.73        35\n",
      "\n",
      "    accuracy                           0.88       426\n",
      "   macro avg       0.79      0.75      0.76       426\n",
      "weighted avg       0.88      0.88      0.87       426\n",
      "\n",
      "Accuracy pour globale\n",
      "Score données d'entrainements: 0.9070588235294118\n",
      "Score données de test: 0.8755868544600939\n"
     ]
    },
    {
     "data": {
      "text/html": [
       "<div>\n",
       "<style scoped>\n",
       "    .dataframe tbody tr th:only-of-type {\n",
       "        vertical-align: middle;\n",
       "    }\n",
       "\n",
       "    .dataframe tbody tr th {\n",
       "        vertical-align: top;\n",
       "    }\n",
       "\n",
       "    .dataframe thead th {\n",
       "        text-align: right;\n",
       "    }\n",
       "</style>\n",
       "<table border=\"1\" class=\"dataframe\">\n",
       "  <thead>\n",
       "    <tr style=\"text-align: right;\">\n",
       "      <th></th>\n",
       "      <th>Algorithm</th>\n",
       "      <th>FeatureSelection</th>\n",
       "      <th>Standardization</th>\n",
       "      <th>Costs</th>\n",
       "      <th>Acc_train</th>\n",
       "      <th>Acc_test</th>\n",
       "      <th>Recall_Pathologic</th>\n",
       "      <th>Pathological predicted as Pathological or Suspect</th>\n",
       "    </tr>\n",
       "  </thead>\n",
       "  <tbody>\n",
       "    <tr>\n",
       "      <th>0</th>\n",
       "      <td>Knn</td>\n",
       "      <td>False</td>\n",
       "      <td>False</td>\n",
       "      <td>False</td>\n",
       "      <td>0.918824</td>\n",
       "      <td>0.884977</td>\n",
       "      <td>0.742857</td>\n",
       "      <td>0.828571</td>\n",
       "    </tr>\n",
       "    <tr>\n",
       "      <th>1</th>\n",
       "      <td>Knn</td>\n",
       "      <td>True</td>\n",
       "      <td>False</td>\n",
       "      <td>False</td>\n",
       "      <td>0.947059</td>\n",
       "      <td>0.901408</td>\n",
       "      <td>0.742857</td>\n",
       "      <td>0.885714</td>\n",
       "    </tr>\n",
       "    <tr>\n",
       "      <th>2</th>\n",
       "      <td>Knn</td>\n",
       "      <td>True</td>\n",
       "      <td>False</td>\n",
       "      <td>True</td>\n",
       "      <td>0.947059</td>\n",
       "      <td>0.901408</td>\n",
       "      <td>0.714286</td>\n",
       "      <td>0.971429</td>\n",
       "    </tr>\n",
       "    <tr>\n",
       "      <th>3</th>\n",
       "      <td>LDA</td>\n",
       "      <td>False</td>\n",
       "      <td>False</td>\n",
       "      <td>False</td>\n",
       "      <td>0.888235</td>\n",
       "      <td>0.847418</td>\n",
       "      <td>0.542857</td>\n",
       "      <td>0.885714</td>\n",
       "    </tr>\n",
       "    <tr>\n",
       "      <th>4</th>\n",
       "      <td>LDA</td>\n",
       "      <td>True</td>\n",
       "      <td>False</td>\n",
       "      <td>False</td>\n",
       "      <td>0.860588</td>\n",
       "      <td>0.823944</td>\n",
       "      <td>0.485714</td>\n",
       "      <td>0.800000</td>\n",
       "    </tr>\n",
       "    <tr>\n",
       "      <th>5</th>\n",
       "      <td>LDA</td>\n",
       "      <td>False</td>\n",
       "      <td>True</td>\n",
       "      <td>False</td>\n",
       "      <td>0.888235</td>\n",
       "      <td>0.847418</td>\n",
       "      <td>0.542857</td>\n",
       "      <td>0.885714</td>\n",
       "    </tr>\n",
       "    <tr>\n",
       "      <th>6</th>\n",
       "      <td>LDA</td>\n",
       "      <td>True</td>\n",
       "      <td>True</td>\n",
       "      <td>False</td>\n",
       "      <td>0.860588</td>\n",
       "      <td>0.823944</td>\n",
       "      <td>0.485714</td>\n",
       "      <td>0.800000</td>\n",
       "    </tr>\n",
       "    <tr>\n",
       "      <th>7</th>\n",
       "      <td>QDA</td>\n",
       "      <td>False</td>\n",
       "      <td>False</td>\n",
       "      <td>False</td>\n",
       "      <td>0.730000</td>\n",
       "      <td>0.720657</td>\n",
       "      <td>0.628571</td>\n",
       "      <td>1.000000</td>\n",
       "    </tr>\n",
       "    <tr>\n",
       "      <th>8</th>\n",
       "      <td>QDA</td>\n",
       "      <td>True</td>\n",
       "      <td>False</td>\n",
       "      <td>False</td>\n",
       "      <td>0.844118</td>\n",
       "      <td>0.802817</td>\n",
       "      <td>0.571429</td>\n",
       "      <td>0.885714</td>\n",
       "    </tr>\n",
       "    <tr>\n",
       "      <th>9</th>\n",
       "      <td>QDA</td>\n",
       "      <td>False</td>\n",
       "      <td>True</td>\n",
       "      <td>False</td>\n",
       "      <td>0.636471</td>\n",
       "      <td>0.638498</td>\n",
       "      <td>0.600000</td>\n",
       "      <td>1.000000</td>\n",
       "    </tr>\n",
       "    <tr>\n",
       "      <th>10</th>\n",
       "      <td>QDA</td>\n",
       "      <td>True</td>\n",
       "      <td>True</td>\n",
       "      <td>False</td>\n",
       "      <td>0.844118</td>\n",
       "      <td>0.802817</td>\n",
       "      <td>0.571429</td>\n",
       "      <td>0.885714</td>\n",
       "    </tr>\n",
       "    <tr>\n",
       "      <th>11</th>\n",
       "      <td>GaussianNB</td>\n",
       "      <td>False</td>\n",
       "      <td>False</td>\n",
       "      <td>False</td>\n",
       "      <td>0.821176</td>\n",
       "      <td>0.800469</td>\n",
       "      <td>0.600000</td>\n",
       "      <td>0.942857</td>\n",
       "    </tr>\n",
       "    <tr>\n",
       "      <th>12</th>\n",
       "      <td>GaussianNB</td>\n",
       "      <td>True</td>\n",
       "      <td>False</td>\n",
       "      <td>False</td>\n",
       "      <td>0.855294</td>\n",
       "      <td>0.833333</td>\n",
       "      <td>0.628571</td>\n",
       "      <td>0.942857</td>\n",
       "    </tr>\n",
       "    <tr>\n",
       "      <th>13</th>\n",
       "      <td>GaussianNB</td>\n",
       "      <td>False</td>\n",
       "      <td>True</td>\n",
       "      <td>False</td>\n",
       "      <td>0.734118</td>\n",
       "      <td>0.713615</td>\n",
       "      <td>0.600000</td>\n",
       "      <td>1.000000</td>\n",
       "    </tr>\n",
       "    <tr>\n",
       "      <th>14</th>\n",
       "      <td>GaussianNB</td>\n",
       "      <td>True</td>\n",
       "      <td>True</td>\n",
       "      <td>False</td>\n",
       "      <td>0.852353</td>\n",
       "      <td>0.814554</td>\n",
       "      <td>0.628571</td>\n",
       "      <td>0.942857</td>\n",
       "    </tr>\n",
       "    <tr>\n",
       "      <th>15</th>\n",
       "      <td>LDA</td>\n",
       "      <td>False</td>\n",
       "      <td>False</td>\n",
       "      <td>True</td>\n",
       "      <td>0.888235</td>\n",
       "      <td>0.842723</td>\n",
       "      <td>0.457143</td>\n",
       "      <td>0.885714</td>\n",
       "    </tr>\n",
       "    <tr>\n",
       "      <th>16</th>\n",
       "      <td>Logistic Regression</td>\n",
       "      <td>False</td>\n",
       "      <td>False</td>\n",
       "      <td>False</td>\n",
       "      <td>0.890000</td>\n",
       "      <td>0.870892</td>\n",
       "      <td>0.800000</td>\n",
       "      <td>0.942857</td>\n",
       "    </tr>\n",
       "    <tr>\n",
       "      <th>17</th>\n",
       "      <td>Logistic Regression</td>\n",
       "      <td>False</td>\n",
       "      <td>True</td>\n",
       "      <td>False</td>\n",
       "      <td>0.907059</td>\n",
       "      <td>0.875587</td>\n",
       "      <td>0.657143</td>\n",
       "      <td>0.828571</td>\n",
       "    </tr>\n",
       "  </tbody>\n",
       "</table>\n",
       "</div>"
      ],
      "text/plain": [
       "              Algorithm FeatureSelection Standardization  Costs  Acc_train  \\\n",
       "0                   Knn            False           False  False   0.918824   \n",
       "1                   Knn             True           False  False   0.947059   \n",
       "2                   Knn             True           False   True   0.947059   \n",
       "3                   LDA            False           False  False   0.888235   \n",
       "4                   LDA             True           False  False   0.860588   \n",
       "5                   LDA            False            True  False   0.888235   \n",
       "6                   LDA             True            True  False   0.860588   \n",
       "7                   QDA            False           False  False   0.730000   \n",
       "8                   QDA             True           False  False   0.844118   \n",
       "9                   QDA            False            True  False   0.636471   \n",
       "10                  QDA             True            True  False   0.844118   \n",
       "11           GaussianNB            False           False  False   0.821176   \n",
       "12           GaussianNB             True           False  False   0.855294   \n",
       "13           GaussianNB            False            True  False   0.734118   \n",
       "14           GaussianNB             True            True  False   0.852353   \n",
       "15                  LDA            False           False   True   0.888235   \n",
       "16  Logistic Regression            False           False  False   0.890000   \n",
       "17  Logistic Regression            False            True  False   0.907059   \n",
       "\n",
       "    Acc_test  Recall_Pathologic  \\\n",
       "0   0.884977           0.742857   \n",
       "1   0.901408           0.742857   \n",
       "2   0.901408           0.714286   \n",
       "3   0.847418           0.542857   \n",
       "4   0.823944           0.485714   \n",
       "5   0.847418           0.542857   \n",
       "6   0.823944           0.485714   \n",
       "7   0.720657           0.628571   \n",
       "8   0.802817           0.571429   \n",
       "9   0.638498           0.600000   \n",
       "10  0.802817           0.571429   \n",
       "11  0.800469           0.600000   \n",
       "12  0.833333           0.628571   \n",
       "13  0.713615           0.600000   \n",
       "14  0.814554           0.628571   \n",
       "15  0.842723           0.457143   \n",
       "16  0.870892           0.800000   \n",
       "17  0.875587           0.657143   \n",
       "\n",
       "    Pathological predicted as Pathological or Suspect  \n",
       "0                                            0.828571  \n",
       "1                                            0.885714  \n",
       "2                                            0.971429  \n",
       "3                                            0.885714  \n",
       "4                                            0.800000  \n",
       "5                                            0.885714  \n",
       "6                                            0.800000  \n",
       "7                                            1.000000  \n",
       "8                                            0.885714  \n",
       "9                                            1.000000  \n",
       "10                                           0.885714  \n",
       "11                                           0.942857  \n",
       "12                                           0.942857  \n",
       "13                                           1.000000  \n",
       "14                                           0.942857  \n",
       "15                                           0.885714  \n",
       "16                                           0.942857  \n",
       "17                                           0.828571  "
      ]
     },
     "execution_count": 490,
     "metadata": {},
     "output_type": "execute_result"
    }
   ],
   "source": [
    "pipeline_standardized_log_reg = make_pipeline(StandardScaler(), LogisticRegression(max_iter=200))\n",
    "pipeline_standardized_log_reg.fit(data_train, labels_train)\n",
    "\n",
    "predicted_labels = pipeline_standardized_log_reg.predict(data_test)\n",
    "\n",
    "print(classification_report(labels_test, predicted_labels, target_names=['Normal', 'Suspect', 'Pathologic']))\n",
    "\n",
    "print(\"Accuracy pour globale\")\n",
    "print(f\"Score données d'entrainements: {pipeline_standardized_log_reg.score(data_train, labels_train)}\")\n",
    "print(f\"Score données de test: {pipeline_standardized_log_reg.score(data_test, labels_test)}\")\n",
    "\n",
    "cm = confusion_matrix(labels_test, predicted_labels)\n",
    "patho_predicted_as_patho_or_suspect = (cm[2,1]+cm[2,2])/sum(cm[2])\n",
    "\n",
    "accuracies_dataframe = update_line(accuracies_dataframe, 'Logistic Regression', False, True, False, pipeline_standardized_log_reg.score(data_train, labels_train), pipeline_standardized_log_reg.score(data_test, labels_test), classification_report(labels_test, predicted_labels, target_names=['Normal', 'Suspect', 'Pathologic'], output_dict=True)['Pathologic']['recall'], patho_predicted_as_patho_or_suspect)\n",
    "accuracies_dataframe"
   ]
  },
  {
   "cell_type": "code",
   "execution_count": null,
   "metadata": {
    "ExecuteTime": {
     "end_time": "2024-06-06T13:23:36.259697Z",
     "start_time": "2024-06-06T13:23:35.856253Z"
    }
   },
   "outputs": [
    {
     "data": {
      "text/plain": [
       "<Axes: >"
      ]
     },
     "execution_count": 491,
     "metadata": {},
     "output_type": "execute_result"
    },
    {
     "data": {
      "image/png": "[encoded data removed]",
      "text/plain": [
       "<Figure size 640x480 with 2 Axes>"
      ]
     },
     "metadata": {},
     "output_type": "display_data"
    }
   ],
   "source": [
    "from sklearn.metrics import confusion_matrix\n",
    "\n",
    "cf_matrix = confusion_matrix(labels_test, predicted_labels)\n",
    "sns.heatmap(cf_matrix/np.sum(cf_matrix), annot = True, annot_kws = {'size':15})"
   ]
  },
  {
   "cell_type": "markdown",
   "metadata": {},
   "source": [
    "On obtient de moins bons résultats qu'avec knn avec kopt.\n",
    "\n",
    "Regardons si la selection de variable permet d'améliorer les scores"
   ]
  },
  {
   "cell_type": "code",
   "execution_count": null,
   "metadata": {
    "ExecuteTime": {
     "end_time": "2024-06-06T13:23:36.352624Z",
     "start_time": "2024-06-06T13:23:36.261697Z"
    }
   },
   "outputs": [
    {
     "name": "stdout",
     "output_type": "stream",
     "text": [
      "              precision    recall  f1-score   support\n",
      "\n",
      "      Normal       0.90      0.94      0.92       332\n",
      "     Suspect       0.56      0.41      0.47        59\n",
      "  Pathologic       0.65      0.69      0.67        35\n",
      "\n",
      "    accuracy                           0.84       426\n",
      "   macro avg       0.70      0.68      0.68       426\n",
      "weighted avg       0.83      0.84      0.83       426\n",
      "\n",
      "Accuracy pour globale\n",
      "Score données d'entrainements: 0.8741176470588236\n",
      "Score données de test: 0.8427230046948356\n"
     ]
    },
    {
     "data": {
      "text/html": [
       "<div>\n",
       "<style scoped>\n",
       "    .dataframe tbody tr th:only-of-type {\n",
       "        vertical-align: middle;\n",
       "    }\n",
       "\n",
       "    .dataframe tbody tr th {\n",
       "        vertical-align: top;\n",
       "    }\n",
       "\n",
       "    .dataframe thead th {\n",
       "        text-align: right;\n",
       "    }\n",
       "</style>\n",
       "<table border=\"1\" class=\"dataframe\">\n",
       "  <thead>\n",
       "    <tr style=\"text-align: right;\">\n",
       "      <th></th>\n",
       "      <th>Algorithm</th>\n",
       "      <th>FeatureSelection</th>\n",
       "      <th>Standardization</th>\n",
       "      <th>Costs</th>\n",
       "      <th>Acc_train</th>\n",
       "      <th>Acc_test</th>\n",
       "      <th>Recall_Pathologic</th>\n",
       "      <th>Pathological predicted as Pathological or Suspect</th>\n",
       "    </tr>\n",
       "  </thead>\n",
       "  <tbody>\n",
       "    <tr>\n",
       "      <th>0</th>\n",
       "      <td>Knn</td>\n",
       "      <td>False</td>\n",
       "      <td>False</td>\n",
       "      <td>False</td>\n",
       "      <td>0.918824</td>\n",
       "      <td>0.884977</td>\n",
       "      <td>0.742857</td>\n",
       "      <td>0.828571</td>\n",
       "    </tr>\n",
       "    <tr>\n",
       "      <th>1</th>\n",
       "      <td>Knn</td>\n",
       "      <td>True</td>\n",
       "      <td>False</td>\n",
       "      <td>False</td>\n",
       "      <td>0.947059</td>\n",
       "      <td>0.901408</td>\n",
       "      <td>0.742857</td>\n",
       "      <td>0.885714</td>\n",
       "    </tr>\n",
       "    <tr>\n",
       "      <th>2</th>\n",
       "      <td>Knn</td>\n",
       "      <td>True</td>\n",
       "      <td>False</td>\n",
       "      <td>True</td>\n",
       "      <td>0.947059</td>\n",
       "      <td>0.901408</td>\n",
       "      <td>0.714286</td>\n",
       "      <td>0.971429</td>\n",
       "    </tr>\n",
       "    <tr>\n",
       "      <th>3</th>\n",
       "      <td>LDA</td>\n",
       "      <td>False</td>\n",
       "      <td>False</td>\n",
       "      <td>False</td>\n",
       "      <td>0.888235</td>\n",
       "      <td>0.847418</td>\n",
       "      <td>0.542857</td>\n",
       "      <td>0.885714</td>\n",
       "    </tr>\n",
       "    <tr>\n",
       "      <th>4</th>\n",
       "      <td>LDA</td>\n",
       "      <td>True</td>\n",
       "      <td>False</td>\n",
       "      <td>False</td>\n",
       "      <td>0.860588</td>\n",
       "      <td>0.823944</td>\n",
       "      <td>0.485714</td>\n",
       "      <td>0.800000</td>\n",
       "    </tr>\n",
       "    <tr>\n",
       "      <th>5</th>\n",
       "      <td>LDA</td>\n",
       "      <td>False</td>\n",
       "      <td>True</td>\n",
       "      <td>False</td>\n",
       "      <td>0.888235</td>\n",
       "      <td>0.847418</td>\n",
       "      <td>0.542857</td>\n",
       "      <td>0.885714</td>\n",
       "    </tr>\n",
       "    <tr>\n",
       "      <th>6</th>\n",
       "      <td>LDA</td>\n",
       "      <td>True</td>\n",
       "      <td>True</td>\n",
       "      <td>False</td>\n",
       "      <td>0.860588</td>\n",
       "      <td>0.823944</td>\n",
       "      <td>0.485714</td>\n",
       "      <td>0.800000</td>\n",
       "    </tr>\n",
       "    <tr>\n",
       "      <th>7</th>\n",
       "      <td>QDA</td>\n",
       "      <td>False</td>\n",
       "      <td>False</td>\n",
       "      <td>False</td>\n",
       "      <td>0.730000</td>\n",
       "      <td>0.720657</td>\n",
       "      <td>0.628571</td>\n",
       "      <td>1.000000</td>\n",
       "    </tr>\n",
       "    <tr>\n",
       "      <th>8</th>\n",
       "      <td>QDA</td>\n",
       "      <td>True</td>\n",
       "      <td>False</td>\n",
       "      <td>False</td>\n",
       "      <td>0.844118</td>\n",
       "      <td>0.802817</td>\n",
       "      <td>0.571429</td>\n",
       "      <td>0.885714</td>\n",
       "    </tr>\n",
       "    <tr>\n",
       "      <th>9</th>\n",
       "      <td>QDA</td>\n",
       "      <td>False</td>\n",
       "      <td>True</td>\n",
       "      <td>False</td>\n",
       "      <td>0.636471</td>\n",
       "      <td>0.638498</td>\n",
       "      <td>0.600000</td>\n",
       "      <td>1.000000</td>\n",
       "    </tr>\n",
       "    <tr>\n",
       "      <th>10</th>\n",
       "      <td>QDA</td>\n",
       "      <td>True</td>\n",
       "      <td>True</td>\n",
       "      <td>False</td>\n",
       "      <td>0.844118</td>\n",
       "      <td>0.802817</td>\n",
       "      <td>0.571429</td>\n",
       "      <td>0.885714</td>\n",
       "    </tr>\n",
       "    <tr>\n",
       "      <th>11</th>\n",
       "      <td>GaussianNB</td>\n",
       "      <td>False</td>\n",
       "      <td>False</td>\n",
       "      <td>False</td>\n",
       "      <td>0.821176</td>\n",
       "      <td>0.800469</td>\n",
       "      <td>0.600000</td>\n",
       "      <td>0.942857</td>\n",
       "    </tr>\n",
       "    <tr>\n",
       "      <th>12</th>\n",
       "      <td>GaussianNB</td>\n",
       "      <td>True</td>\n",
       "      <td>False</td>\n",
       "      <td>False</td>\n",
       "      <td>0.855294</td>\n",
       "      <td>0.833333</td>\n",
       "      <td>0.628571</td>\n",
       "      <td>0.942857</td>\n",
       "    </tr>\n",
       "    <tr>\n",
       "      <th>13</th>\n",
       "      <td>GaussianNB</td>\n",
       "      <td>False</td>\n",
       "      <td>True</td>\n",
       "      <td>False</td>\n",
       "      <td>0.734118</td>\n",
       "      <td>0.713615</td>\n",
       "      <td>0.600000</td>\n",
       "      <td>1.000000</td>\n",
       "    </tr>\n",
       "    <tr>\n",
       "      <th>14</th>\n",
       "      <td>GaussianNB</td>\n",
       "      <td>True</td>\n",
       "      <td>True</td>\n",
       "      <td>False</td>\n",
       "      <td>0.852353</td>\n",
       "      <td>0.814554</td>\n",
       "      <td>0.628571</td>\n",
       "      <td>0.942857</td>\n",
       "    </tr>\n",
       "    <tr>\n",
       "      <th>15</th>\n",
       "      <td>LDA</td>\n",
       "      <td>False</td>\n",
       "      <td>False</td>\n",
       "      <td>True</td>\n",
       "      <td>0.888235</td>\n",
       "      <td>0.842723</td>\n",
       "      <td>0.457143</td>\n",
       "      <td>0.885714</td>\n",
       "    </tr>\n",
       "    <tr>\n",
       "      <th>16</th>\n",
       "      <td>Logistic Regression</td>\n",
       "      <td>False</td>\n",
       "      <td>False</td>\n",
       "      <td>False</td>\n",
       "      <td>0.890000</td>\n",
       "      <td>0.870892</td>\n",
       "      <td>0.800000</td>\n",
       "      <td>0.942857</td>\n",
       "    </tr>\n",
       "    <tr>\n",
       "      <th>17</th>\n",
       "      <td>Logistic Regression</td>\n",
       "      <td>False</td>\n",
       "      <td>True</td>\n",
       "      <td>False</td>\n",
       "      <td>0.907059</td>\n",
       "      <td>0.875587</td>\n",
       "      <td>0.657143</td>\n",
       "      <td>0.828571</td>\n",
       "    </tr>\n",
       "    <tr>\n",
       "      <th>18</th>\n",
       "      <td>Logistic Regression</td>\n",
       "      <td>True</td>\n",
       "      <td>True</td>\n",
       "      <td>False</td>\n",
       "      <td>0.874118</td>\n",
       "      <td>0.842723</td>\n",
       "      <td>0.685714</td>\n",
       "      <td>0.857143</td>\n",
       "    </tr>\n",
       "  </tbody>\n",
       "</table>\n",
       "</div>"
      ],
      "text/plain": [
       "              Algorithm FeatureSelection Standardization  Costs  Acc_train  \\\n",
       "0                   Knn            False           False  False   0.918824   \n",
       "1                   Knn             True           False  False   0.947059   \n",
       "2                   Knn             True           False   True   0.947059   \n",
       "3                   LDA            False           False  False   0.888235   \n",
       "4                   LDA             True           False  False   0.860588   \n",
       "5                   LDA            False            True  False   0.888235   \n",
       "6                   LDA             True            True  False   0.860588   \n",
       "7                   QDA            False           False  False   0.730000   \n",
       "8                   QDA             True           False  False   0.844118   \n",
       "9                   QDA            False            True  False   0.636471   \n",
       "10                  QDA             True            True  False   0.844118   \n",
       "11           GaussianNB            False           False  False   0.821176   \n",
       "12           GaussianNB             True           False  False   0.855294   \n",
       "13           GaussianNB            False            True  False   0.734118   \n",
       "14           GaussianNB             True            True  False   0.852353   \n",
       "15                  LDA            False           False   True   0.888235   \n",
       "16  Logistic Regression            False           False  False   0.890000   \n",
       "17  Logistic Regression            False            True  False   0.907059   \n",
       "18  Logistic Regression             True            True  False   0.874118   \n",
       "\n",
       "    Acc_test  Recall_Pathologic  \\\n",
       "0   0.884977           0.742857   \n",
       "1   0.901408           0.742857   \n",
       "2   0.901408           0.714286   \n",
       "3   0.847418           0.542857   \n",
       "4   0.823944           0.485714   \n",
       "5   0.847418           0.542857   \n",
       "6   0.823944           0.485714   \n",
       "7   0.720657           0.628571   \n",
       "8   0.802817           0.571429   \n",
       "9   0.638498           0.600000   \n",
       "10  0.802817           0.571429   \n",
       "11  0.800469           0.600000   \n",
       "12  0.833333           0.628571   \n",
       "13  0.713615           0.600000   \n",
       "14  0.814554           0.628571   \n",
       "15  0.842723           0.457143   \n",
       "16  0.870892           0.800000   \n",
       "17  0.875587           0.657143   \n",
       "18  0.842723           0.685714   \n",
       "\n",
       "    Pathological predicted as Pathological or Suspect  \n",
       "0                                            0.828571  \n",
       "1                                            0.885714  \n",
       "2                                            0.971429  \n",
       "3                                            0.885714  \n",
       "4                                            0.800000  \n",
       "5                                            0.885714  \n",
       "6                                            0.800000  \n",
       "7                                            1.000000  \n",
       "8                                            0.885714  \n",
       "9                                            1.000000  \n",
       "10                                           0.885714  \n",
       "11                                           0.942857  \n",
       "12                                           0.942857  \n",
       "13                                           1.000000  \n",
       "14                                           0.942857  \n",
       "15                                           0.885714  \n",
       "16                                           0.942857  \n",
       "17                                           0.828571  \n",
       "18                                           0.857143  "
      ]
     },
     "execution_count": 492,
     "metadata": {},
     "output_type": "execute_result"
    }
   ],
   "source": [
    "pipeline = make_pipeline(StandardScaler(), LogisticRegression(max_iter=200))\n",
    "pipeline.fit(data_train_selected, labels_train_selected)\n",
    "\n",
    "predicted_labels = pipeline.predict(data_test_selected)\n",
    "\n",
    "print(classification_report(labels_test_selected, predicted_labels, target_names=['Normal', 'Suspect', 'Pathologic']))\n",
    "\n",
    "print(\"Accuracy pour globale\")\n",
    "print(f\"Score données d'entrainements: {pipeline.score(data_train_selected, labels_train_selected)}\")\n",
    "print(f\"Score données de test: {pipeline.score(data_test_selected, labels_test_selected)}\")\n",
    "\n",
    "cm = confusion_matrix(labels_test_selected, predicted_labels)\n",
    "patho_predicted_as_patho_or_suspect = (cm[2,1]+cm[2,2])/sum(cm[2])\n",
    "\n",
    "accuracies_dataframe = update_line(\n",
    "    accuracies_dataframe, \n",
    "    'Logistic Regression', \n",
    "    True, \n",
    "    True, \n",
    "    False, \n",
    "    pipeline.score(data_train_selected, labels_train_selected), \n",
    "    pipeline.score(data_test_selected, labels_test_selected), \n",
    "    classification_report(labels_test_selected, predicted_labels, target_names=['Normal', 'Suspect', 'Pathologic'], output_dict=True)['Pathologic']['recall'], \n",
    "    patho_predicted_as_patho_or_suspect)\n",
    "accuracies_dataframe"
   ]
  },
  {
   "cell_type": "markdown",
   "metadata": {},
   "source": [
    "Les résultats sont moins bons avec sélection de variables. On reste sur des données brutes normalisées."
   ]
  },
  {
   "cell_type": "code",
   "execution_count": null,
   "metadata": {
    "ExecuteTime": {
     "end_time": "2024-06-06T13:23:36.522687Z",
     "start_time": "2024-06-06T13:23:36.355627Z"
    }
   },
   "outputs": [
    {
     "name": "stdout",
     "output_type": "stream",
     "text": [
      "              precision    recall  f1-score   support\n",
      "\n",
      "      Normal       0.94      0.93      0.94       332\n",
      "     Suspect       0.48      0.69      0.57        59\n",
      "  Pathologic       1.00      0.43      0.60        35\n",
      "\n",
      "    accuracy                           0.85       426\n",
      "   macro avg       0.81      0.68      0.70       426\n",
      "weighted avg       0.89      0.85      0.86       426\n",
      "\n",
      "Accuracy pour globale\n",
      "Score données d'entrainements: 0.9071\n",
      "Score données de test: 0.8545\n",
      "Sensitivity for Pathologic class: 0.4286 \n",
      "\n",
      "[[308  24   0]\n",
      " [ 18  41   0]\n",
      " [  0  20  15]]\n"
     ]
    },
    {
     "data": {
      "text/html": [
       "<div>\n",
       "<style scoped>\n",
       "    .dataframe tbody tr th:only-of-type {\n",
       "        vertical-align: middle;\n",
       "    }\n",
       "\n",
       "    .dataframe tbody tr th {\n",
       "        vertical-align: top;\n",
       "    }\n",
       "\n",
       "    .dataframe thead th {\n",
       "        text-align: right;\n",
       "    }\n",
       "</style>\n",
       "<table border=\"1\" class=\"dataframe\">\n",
       "  <thead>\n",
       "    <tr style=\"text-align: right;\">\n",
       "      <th></th>\n",
       "      <th>Algorithm</th>\n",
       "      <th>FeatureSelection</th>\n",
       "      <th>Standardization</th>\n",
       "      <th>Costs</th>\n",
       "      <th>Acc_train</th>\n",
       "      <th>Acc_test</th>\n",
       "      <th>Recall_Pathologic</th>\n",
       "      <th>Pathological predicted as Pathological or Suspect</th>\n",
       "    </tr>\n",
       "  </thead>\n",
       "  <tbody>\n",
       "    <tr>\n",
       "      <th>0</th>\n",
       "      <td>Knn</td>\n",
       "      <td>False</td>\n",
       "      <td>False</td>\n",
       "      <td>False</td>\n",
       "      <td>0.918824</td>\n",
       "      <td>0.884977</td>\n",
       "      <td>0.742857</td>\n",
       "      <td>0.828571</td>\n",
       "    </tr>\n",
       "    <tr>\n",
       "      <th>1</th>\n",
       "      <td>Knn</td>\n",
       "      <td>True</td>\n",
       "      <td>False</td>\n",
       "      <td>False</td>\n",
       "      <td>0.947059</td>\n",
       "      <td>0.901408</td>\n",
       "      <td>0.742857</td>\n",
       "      <td>0.885714</td>\n",
       "    </tr>\n",
       "    <tr>\n",
       "      <th>2</th>\n",
       "      <td>Knn</td>\n",
       "      <td>True</td>\n",
       "      <td>False</td>\n",
       "      <td>True</td>\n",
       "      <td>0.947059</td>\n",
       "      <td>0.901408</td>\n",
       "      <td>0.714286</td>\n",
       "      <td>0.971429</td>\n",
       "    </tr>\n",
       "    <tr>\n",
       "      <th>3</th>\n",
       "      <td>LDA</td>\n",
       "      <td>False</td>\n",
       "      <td>False</td>\n",
       "      <td>False</td>\n",
       "      <td>0.888235</td>\n",
       "      <td>0.847418</td>\n",
       "      <td>0.542857</td>\n",
       "      <td>0.885714</td>\n",
       "    </tr>\n",
       "    <tr>\n",
       "      <th>4</th>\n",
       "      <td>LDA</td>\n",
       "      <td>True</td>\n",
       "      <td>False</td>\n",
       "      <td>False</td>\n",
       "      <td>0.860588</td>\n",
       "      <td>0.823944</td>\n",
       "      <td>0.485714</td>\n",
       "      <td>0.800000</td>\n",
       "    </tr>\n",
       "    <tr>\n",
       "      <th>5</th>\n",
       "      <td>LDA</td>\n",
       "      <td>False</td>\n",
       "      <td>True</td>\n",
       "      <td>False</td>\n",
       "      <td>0.888235</td>\n",
       "      <td>0.847418</td>\n",
       "      <td>0.542857</td>\n",
       "      <td>0.885714</td>\n",
       "    </tr>\n",
       "    <tr>\n",
       "      <th>6</th>\n",
       "      <td>LDA</td>\n",
       "      <td>True</td>\n",
       "      <td>True</td>\n",
       "      <td>False</td>\n",
       "      <td>0.860588</td>\n",
       "      <td>0.823944</td>\n",
       "      <td>0.485714</td>\n",
       "      <td>0.800000</td>\n",
       "    </tr>\n",
       "    <tr>\n",
       "      <th>7</th>\n",
       "      <td>QDA</td>\n",
       "      <td>False</td>\n",
       "      <td>False</td>\n",
       "      <td>False</td>\n",
       "      <td>0.730000</td>\n",
       "      <td>0.720657</td>\n",
       "      <td>0.628571</td>\n",
       "      <td>1.000000</td>\n",
       "    </tr>\n",
       "    <tr>\n",
       "      <th>8</th>\n",
       "      <td>QDA</td>\n",
       "      <td>True</td>\n",
       "      <td>False</td>\n",
       "      <td>False</td>\n",
       "      <td>0.844118</td>\n",
       "      <td>0.802817</td>\n",
       "      <td>0.571429</td>\n",
       "      <td>0.885714</td>\n",
       "    </tr>\n",
       "    <tr>\n",
       "      <th>9</th>\n",
       "      <td>QDA</td>\n",
       "      <td>False</td>\n",
       "      <td>True</td>\n",
       "      <td>False</td>\n",
       "      <td>0.636471</td>\n",
       "      <td>0.638498</td>\n",
       "      <td>0.600000</td>\n",
       "      <td>1.000000</td>\n",
       "    </tr>\n",
       "    <tr>\n",
       "      <th>10</th>\n",
       "      <td>QDA</td>\n",
       "      <td>True</td>\n",
       "      <td>True</td>\n",
       "      <td>False</td>\n",
       "      <td>0.844118</td>\n",
       "      <td>0.802817</td>\n",
       "      <td>0.571429</td>\n",
       "      <td>0.885714</td>\n",
       "    </tr>\n",
       "    <tr>\n",
       "      <th>11</th>\n",
       "      <td>GaussianNB</td>\n",
       "      <td>False</td>\n",
       "      <td>False</td>\n",
       "      <td>False</td>\n",
       "      <td>0.821176</td>\n",
       "      <td>0.800469</td>\n",
       "      <td>0.600000</td>\n",
       "      <td>0.942857</td>\n",
       "    </tr>\n",
       "    <tr>\n",
       "      <th>12</th>\n",
       "      <td>GaussianNB</td>\n",
       "      <td>True</td>\n",
       "      <td>False</td>\n",
       "      <td>False</td>\n",
       "      <td>0.855294</td>\n",
       "      <td>0.833333</td>\n",
       "      <td>0.628571</td>\n",
       "      <td>0.942857</td>\n",
       "    </tr>\n",
       "    <tr>\n",
       "      <th>13</th>\n",
       "      <td>GaussianNB</td>\n",
       "      <td>False</td>\n",
       "      <td>True</td>\n",
       "      <td>False</td>\n",
       "      <td>0.734118</td>\n",
       "      <td>0.713615</td>\n",
       "      <td>0.600000</td>\n",
       "      <td>1.000000</td>\n",
       "    </tr>\n",
       "    <tr>\n",
       "      <th>14</th>\n",
       "      <td>GaussianNB</td>\n",
       "      <td>True</td>\n",
       "      <td>True</td>\n",
       "      <td>False</td>\n",
       "      <td>0.852353</td>\n",
       "      <td>0.814554</td>\n",
       "      <td>0.628571</td>\n",
       "      <td>0.942857</td>\n",
       "    </tr>\n",
       "    <tr>\n",
       "      <th>15</th>\n",
       "      <td>LDA</td>\n",
       "      <td>False</td>\n",
       "      <td>False</td>\n",
       "      <td>True</td>\n",
       "      <td>0.888235</td>\n",
       "      <td>0.842723</td>\n",
       "      <td>0.457143</td>\n",
       "      <td>0.885714</td>\n",
       "    </tr>\n",
       "    <tr>\n",
       "      <th>16</th>\n",
       "      <td>Logistic Regression</td>\n",
       "      <td>False</td>\n",
       "      <td>False</td>\n",
       "      <td>False</td>\n",
       "      <td>0.890000</td>\n",
       "      <td>0.870892</td>\n",
       "      <td>0.800000</td>\n",
       "      <td>0.942857</td>\n",
       "    </tr>\n",
       "    <tr>\n",
       "      <th>17</th>\n",
       "      <td>Logistic Regression</td>\n",
       "      <td>False</td>\n",
       "      <td>True</td>\n",
       "      <td>False</td>\n",
       "      <td>0.907059</td>\n",
       "      <td>0.875587</td>\n",
       "      <td>0.657143</td>\n",
       "      <td>0.828571</td>\n",
       "    </tr>\n",
       "    <tr>\n",
       "      <th>18</th>\n",
       "      <td>Logistic Regression</td>\n",
       "      <td>True</td>\n",
       "      <td>True</td>\n",
       "      <td>False</td>\n",
       "      <td>0.874118</td>\n",
       "      <td>0.842723</td>\n",
       "      <td>0.685714</td>\n",
       "      <td>0.857143</td>\n",
       "    </tr>\n",
       "    <tr>\n",
       "      <th>19</th>\n",
       "      <td>Logistic Regression</td>\n",
       "      <td>False</td>\n",
       "      <td>True</td>\n",
       "      <td>True</td>\n",
       "      <td>0.907059</td>\n",
       "      <td>0.854460</td>\n",
       "      <td>0.428571</td>\n",
       "      <td>1.000000</td>\n",
       "    </tr>\n",
       "  </tbody>\n",
       "</table>\n",
       "</div>"
      ],
      "text/plain": [
       "              Algorithm FeatureSelection Standardization  Costs  Acc_train  \\\n",
       "0                   Knn            False           False  False   0.918824   \n",
       "1                   Knn             True           False  False   0.947059   \n",
       "2                   Knn             True           False   True   0.947059   \n",
       "3                   LDA            False           False  False   0.888235   \n",
       "4                   LDA             True           False  False   0.860588   \n",
       "5                   LDA            False            True  False   0.888235   \n",
       "6                   LDA             True            True  False   0.860588   \n",
       "7                   QDA            False           False  False   0.730000   \n",
       "8                   QDA             True           False  False   0.844118   \n",
       "9                   QDA            False            True  False   0.636471   \n",
       "10                  QDA             True            True  False   0.844118   \n",
       "11           GaussianNB            False           False  False   0.821176   \n",
       "12           GaussianNB             True           False  False   0.855294   \n",
       "13           GaussianNB            False            True  False   0.734118   \n",
       "14           GaussianNB             True            True  False   0.852353   \n",
       "15                  LDA            False           False   True   0.888235   \n",
       "16  Logistic Regression            False           False  False   0.890000   \n",
       "17  Logistic Regression            False            True  False   0.907059   \n",
       "18  Logistic Regression             True            True  False   0.874118   \n",
       "19  Logistic Regression            False            True   True   0.907059   \n",
       "\n",
       "    Acc_test  Recall_Pathologic  \\\n",
       "0   0.884977           0.742857   \n",
       "1   0.901408           0.742857   \n",
       "2   0.901408           0.714286   \n",
       "3   0.847418           0.542857   \n",
       "4   0.823944           0.485714   \n",
       "5   0.847418           0.542857   \n",
       "6   0.823944           0.485714   \n",
       "7   0.720657           0.628571   \n",
       "8   0.802817           0.571429   \n",
       "9   0.638498           0.600000   \n",
       "10  0.802817           0.571429   \n",
       "11  0.800469           0.600000   \n",
       "12  0.833333           0.628571   \n",
       "13  0.713615           0.600000   \n",
       "14  0.814554           0.628571   \n",
       "15  0.842723           0.457143   \n",
       "16  0.870892           0.800000   \n",
       "17  0.875587           0.657143   \n",
       "18  0.842723           0.685714   \n",
       "19  0.854460           0.428571   \n",
       "\n",
       "    Pathological predicted as Pathological or Suspect  \n",
       "0                                            0.828571  \n",
       "1                                            0.885714  \n",
       "2                                            0.971429  \n",
       "3                                            0.885714  \n",
       "4                                            0.800000  \n",
       "5                                            0.885714  \n",
       "6                                            0.800000  \n",
       "7                                            1.000000  \n",
       "8                                            0.885714  \n",
       "9                                            1.000000  \n",
       "10                                           0.885714  \n",
       "11                                           0.942857  \n",
       "12                                           0.942857  \n",
       "13                                           1.000000  \n",
       "14                                           0.942857  \n",
       "15                                           0.885714  \n",
       "16                                           0.942857  \n",
       "17                                           0.828571  \n",
       "18                                           0.857143  \n",
       "19                                           1.000000  "
      ]
     },
     "execution_count": 493,
     "metadata": {},
     "output_type": "execute_result"
    }
   ],
   "source": [
    "def bayes_decision_rule(y_prob, C):\n",
    "\n",
    "    # Calculer le risque bayésien pour chaque classe\n",
    "    R = np.dot(C, y_prob)\n",
    "\n",
    "    # Classe qui minimise le risque bayésien\n",
    "    y_pred = np.argmin(R)\n",
    "\n",
    "    return y_pred+1\n",
    "\n",
    "# Matrice de couts\n",
    "C = np.array([[0, 1, 5],  # couts pour un individu sain\n",
    "              [1, 0, 1],  # couts pour un individu suspect\n",
    "              [10, 5, 0]])  # couts pour un individu malade\n",
    "\n",
    "pipeline_costs_log_reg = make_pipeline(StandardScaler(), LogisticRegression(max_iter=200))\n",
    "pipeline_costs_log_reg.fit(data_train, labels_train)\n",
    "\n",
    "predicted_labels = pipeline_costs_log_reg.predict_proba(data_test)\n",
    "\n",
    "prediction = [bayes_decision_rule(predicted_labels[i], C) for i in range(len(predicted_labels))]\n",
    "prediction = pd.Categorical(prediction, categories=[1.0, 2.0, 3.0], ordered=True)\n",
    "\n",
    "\n",
    "print(classification_report(labels_test, prediction, target_names=['Normal', 'Suspect', 'Pathologic']))\n",
    "\n",
    "print(\"Accuracy pour globale\")\n",
    "print(f\"Score données d'entrainements: {pipeline_costs_log_reg.score(data_train, labels_train):.4f}\")\n",
    "print(f\"Score données de test: {accuracy_score(labels_test, prediction):.4f}\")\n",
    "\n",
    "print(f\"Sensitivity for Pathologic class: {classification_report(labels_test, prediction, target_names=['Normal', 'Suspect', 'Pathologic'], output_dict=True)['Pathologic']['recall']:.4f} \\n\")\n",
    "\n",
    "print(confusion_matrix(labels_test, prediction))\n",
    "\n",
    "cm = confusion_matrix(labels_test, prediction)\n",
    "patho_predicted_as_patho_or_suspect = (cm[2,1]+cm[2,2])/sum(cm[2])\n",
    "\n",
    "accuracies_dataframe = update_line(accuracies_dataframe, 'Logistic Regression', False, True, True, pipeline_costs_log_reg.score(data_train, labels_train), accuracy_score(labels_test, prediction), classification_report(labels_test, prediction, target_names=['Normal', 'Suspect', 'Pathologic'], output_dict=True)['Pathologic']['recall'], patho_predicted_as_patho_or_suspect)\n",
    "accuracies_dataframe\n"
   ]
  },
  {
   "cell_type": "markdown",
   "metadata": {},
   "source": [
    "Chaque element de la diagonale est inferieur à l'élément correspondant en utilisant les couts et l'algo knn.\n",
    "\n",
    "Il y a tout de même un point positif : on a aucun cas pathologique prédit sain. "
   ]
  },
  {
   "cell_type": "markdown",
   "metadata": {},
   "source": [
    "# Arbres binaires"
   ]
  },
  {
   "cell_type": "code",
   "execution_count": null,
   "metadata": {
    "ExecuteTime": {
     "end_time": "2024-06-06T13:23:36.538738Z",
     "start_time": "2024-06-06T13:23:36.526685Z"
    }
   },
   "outputs": [],
   "source": [
    "from sklearn.tree import DecisionTreeClassifier"
   ]
  },
  {
   "cell_type": "code",
   "execution_count": null,
   "metadata": {
    "ExecuteTime": {
     "end_time": "2024-06-06T13:23:36.695991Z",
     "start_time": "2024-06-06T13:23:36.541266Z"
    }
   },
   "outputs": [
    {
     "name": "stdout",
     "output_type": "stream",
     "text": [
      "              precision    recall  f1-score   support\n",
      "\n",
      "      Normal       0.95      0.95      0.95       332\n",
      "     Suspect       0.73      0.80      0.76        59\n",
      "  Pathologic       0.94      0.89      0.91        35\n",
      "\n",
      "    accuracy                           0.92       426\n",
      "   macro avg       0.88      0.88      0.88       426\n",
      "weighted avg       0.92      0.92      0.92       426\n",
      "\n",
      "Score données d'entrainements: 0.9994\n",
      "Score données de test: 0.9202 \n",
      "\n",
      "Sensitivity for Pathologic class: 0.8857 \n",
      "\n",
      "[[314  16   2]\n",
      " [ 12  47   0]\n",
      " [  3   1  31]]\n"
     ]
    },
    {
     "data": {
      "text/html": [
       "<div>\n",
       "<style scoped>\n",
       "    .dataframe tbody tr th:only-of-type {\n",
       "        vertical-align: middle;\n",
       "    }\n",
       "\n",
       "    .dataframe tbody tr th {\n",
       "        vertical-align: top;\n",
       "    }\n",
       "\n",
       "    .dataframe thead th {\n",
       "        text-align: right;\n",
       "    }\n",
       "</style>\n",
       "<table border=\"1\" class=\"dataframe\">\n",
       "  <thead>\n",
       "    <tr style=\"text-align: right;\">\n",
       "      <th></th>\n",
       "      <th>Algorithm</th>\n",
       "      <th>FeatureSelection</th>\n",
       "      <th>Standardization</th>\n",
       "      <th>Costs</th>\n",
       "      <th>Acc_train</th>\n",
       "      <th>Acc_test</th>\n",
       "      <th>Recall_Pathologic</th>\n",
       "      <th>Pathological predicted as Pathological or Suspect</th>\n",
       "    </tr>\n",
       "  </thead>\n",
       "  <tbody>\n",
       "    <tr>\n",
       "      <th>0</th>\n",
       "      <td>Knn</td>\n",
       "      <td>False</td>\n",
       "      <td>False</td>\n",
       "      <td>False</td>\n",
       "      <td>0.918824</td>\n",
       "      <td>0.884977</td>\n",
       "      <td>0.742857</td>\n",
       "      <td>0.828571</td>\n",
       "    </tr>\n",
       "    <tr>\n",
       "      <th>1</th>\n",
       "      <td>Knn</td>\n",
       "      <td>True</td>\n",
       "      <td>False</td>\n",
       "      <td>False</td>\n",
       "      <td>0.947059</td>\n",
       "      <td>0.901408</td>\n",
       "      <td>0.742857</td>\n",
       "      <td>0.885714</td>\n",
       "    </tr>\n",
       "    <tr>\n",
       "      <th>2</th>\n",
       "      <td>Knn</td>\n",
       "      <td>True</td>\n",
       "      <td>False</td>\n",
       "      <td>True</td>\n",
       "      <td>0.947059</td>\n",
       "      <td>0.901408</td>\n",
       "      <td>0.714286</td>\n",
       "      <td>0.971429</td>\n",
       "    </tr>\n",
       "    <tr>\n",
       "      <th>3</th>\n",
       "      <td>LDA</td>\n",
       "      <td>False</td>\n",
       "      <td>False</td>\n",
       "      <td>False</td>\n",
       "      <td>0.888235</td>\n",
       "      <td>0.847418</td>\n",
       "      <td>0.542857</td>\n",
       "      <td>0.885714</td>\n",
       "    </tr>\n",
       "    <tr>\n",
       "      <th>4</th>\n",
       "      <td>LDA</td>\n",
       "      <td>True</td>\n",
       "      <td>False</td>\n",
       "      <td>False</td>\n",
       "      <td>0.860588</td>\n",
       "      <td>0.823944</td>\n",
       "      <td>0.485714</td>\n",
       "      <td>0.800000</td>\n",
       "    </tr>\n",
       "    <tr>\n",
       "      <th>5</th>\n",
       "      <td>LDA</td>\n",
       "      <td>False</td>\n",
       "      <td>True</td>\n",
       "      <td>False</td>\n",
       "      <td>0.888235</td>\n",
       "      <td>0.847418</td>\n",
       "      <td>0.542857</td>\n",
       "      <td>0.885714</td>\n",
       "    </tr>\n",
       "    <tr>\n",
       "      <th>6</th>\n",
       "      <td>LDA</td>\n",
       "      <td>True</td>\n",
       "      <td>True</td>\n",
       "      <td>False</td>\n",
       "      <td>0.860588</td>\n",
       "      <td>0.823944</td>\n",
       "      <td>0.485714</td>\n",
       "      <td>0.800000</td>\n",
       "    </tr>\n",
       "    <tr>\n",
       "      <th>7</th>\n",
       "      <td>QDA</td>\n",
       "      <td>False</td>\n",
       "      <td>False</td>\n",
       "      <td>False</td>\n",
       "      <td>0.730000</td>\n",
       "      <td>0.720657</td>\n",
       "      <td>0.628571</td>\n",
       "      <td>1.000000</td>\n",
       "    </tr>\n",
       "    <tr>\n",
       "      <th>8</th>\n",
       "      <td>QDA</td>\n",
       "      <td>True</td>\n",
       "      <td>False</td>\n",
       "      <td>False</td>\n",
       "      <td>0.844118</td>\n",
       "      <td>0.802817</td>\n",
       "      <td>0.571429</td>\n",
       "      <td>0.885714</td>\n",
       "    </tr>\n",
       "    <tr>\n",
       "      <th>9</th>\n",
       "      <td>QDA</td>\n",
       "      <td>False</td>\n",
       "      <td>True</td>\n",
       "      <td>False</td>\n",
       "      <td>0.636471</td>\n",
       "      <td>0.638498</td>\n",
       "      <td>0.600000</td>\n",
       "      <td>1.000000</td>\n",
       "    </tr>\n",
       "    <tr>\n",
       "      <th>10</th>\n",
       "      <td>QDA</td>\n",
       "      <td>True</td>\n",
       "      <td>True</td>\n",
       "      <td>False</td>\n",
       "      <td>0.844118</td>\n",
       "      <td>0.802817</td>\n",
       "      <td>0.571429</td>\n",
       "      <td>0.885714</td>\n",
       "    </tr>\n",
       "    <tr>\n",
       "      <th>11</th>\n",
       "      <td>GaussianNB</td>\n",
       "      <td>False</td>\n",
       "      <td>False</td>\n",
       "      <td>False</td>\n",
       "      <td>0.821176</td>\n",
       "      <td>0.800469</td>\n",
       "      <td>0.600000</td>\n",
       "      <td>0.942857</td>\n",
       "    </tr>\n",
       "    <tr>\n",
       "      <th>12</th>\n",
       "      <td>GaussianNB</td>\n",
       "      <td>True</td>\n",
       "      <td>False</td>\n",
       "      <td>False</td>\n",
       "      <td>0.855294</td>\n",
       "      <td>0.833333</td>\n",
       "      <td>0.628571</td>\n",
       "      <td>0.942857</td>\n",
       "    </tr>\n",
       "    <tr>\n",
       "      <th>13</th>\n",
       "      <td>GaussianNB</td>\n",
       "      <td>False</td>\n",
       "      <td>True</td>\n",
       "      <td>False</td>\n",
       "      <td>0.734118</td>\n",
       "      <td>0.713615</td>\n",
       "      <td>0.600000</td>\n",
       "      <td>1.000000</td>\n",
       "    </tr>\n",
       "    <tr>\n",
       "      <th>14</th>\n",
       "      <td>GaussianNB</td>\n",
       "      <td>True</td>\n",
       "      <td>True</td>\n",
       "      <td>False</td>\n",
       "      <td>0.852353</td>\n",
       "      <td>0.814554</td>\n",
       "      <td>0.628571</td>\n",
       "      <td>0.942857</td>\n",
       "    </tr>\n",
       "    <tr>\n",
       "      <th>15</th>\n",
       "      <td>LDA</td>\n",
       "      <td>False</td>\n",
       "      <td>False</td>\n",
       "      <td>True</td>\n",
       "      <td>0.888235</td>\n",
       "      <td>0.842723</td>\n",
       "      <td>0.457143</td>\n",
       "      <td>0.885714</td>\n",
       "    </tr>\n",
       "    <tr>\n",
       "      <th>16</th>\n",
       "      <td>Logistic Regression</td>\n",
       "      <td>False</td>\n",
       "      <td>False</td>\n",
       "      <td>False</td>\n",
       "      <td>0.890000</td>\n",
       "      <td>0.870892</td>\n",
       "      <td>0.800000</td>\n",
       "      <td>0.942857</td>\n",
       "    </tr>\n",
       "    <tr>\n",
       "      <th>17</th>\n",
       "      <td>Logistic Regression</td>\n",
       "      <td>False</td>\n",
       "      <td>True</td>\n",
       "      <td>False</td>\n",
       "      <td>0.907059</td>\n",
       "      <td>0.875587</td>\n",
       "      <td>0.657143</td>\n",
       "      <td>0.828571</td>\n",
       "    </tr>\n",
       "    <tr>\n",
       "      <th>18</th>\n",
       "      <td>Logistic Regression</td>\n",
       "      <td>True</td>\n",
       "      <td>True</td>\n",
       "      <td>False</td>\n",
       "      <td>0.874118</td>\n",
       "      <td>0.842723</td>\n",
       "      <td>0.685714</td>\n",
       "      <td>0.857143</td>\n",
       "    </tr>\n",
       "    <tr>\n",
       "      <th>19</th>\n",
       "      <td>Logistic Regression</td>\n",
       "      <td>False</td>\n",
       "      <td>True</td>\n",
       "      <td>True</td>\n",
       "      <td>0.907059</td>\n",
       "      <td>0.854460</td>\n",
       "      <td>0.428571</td>\n",
       "      <td>1.000000</td>\n",
       "    </tr>\n",
       "    <tr>\n",
       "      <th>20</th>\n",
       "      <td>Decision Tree</td>\n",
       "      <td>True</td>\n",
       "      <td>False</td>\n",
       "      <td>False</td>\n",
       "      <td>0.999412</td>\n",
       "      <td>0.920188</td>\n",
       "      <td>0.885714</td>\n",
       "      <td>0.914286</td>\n",
       "    </tr>\n",
       "  </tbody>\n",
       "</table>\n",
       "</div>"
      ],
      "text/plain": [
       "              Algorithm FeatureSelection Standardization  Costs  Acc_train  \\\n",
       "0                   Knn            False           False  False   0.918824   \n",
       "1                   Knn             True           False  False   0.947059   \n",
       "2                   Knn             True           False   True   0.947059   \n",
       "3                   LDA            False           False  False   0.888235   \n",
       "4                   LDA             True           False  False   0.860588   \n",
       "5                   LDA            False            True  False   0.888235   \n",
       "6                   LDA             True            True  False   0.860588   \n",
       "7                   QDA            False           False  False   0.730000   \n",
       "8                   QDA             True           False  False   0.844118   \n",
       "9                   QDA            False            True  False   0.636471   \n",
       "10                  QDA             True            True  False   0.844118   \n",
       "11           GaussianNB            False           False  False   0.821176   \n",
       "12           GaussianNB             True           False  False   0.855294   \n",
       "13           GaussianNB            False            True  False   0.734118   \n",
       "14           GaussianNB             True            True  False   0.852353   \n",
       "15                  LDA            False           False   True   0.888235   \n",
       "16  Logistic Regression            False           False  False   0.890000   \n",
       "17  Logistic Regression            False            True  False   0.907059   \n",
       "18  Logistic Regression             True            True  False   0.874118   \n",
       "19  Logistic Regression            False            True   True   0.907059   \n",
       "20        Decision Tree             True           False  False   0.999412   \n",
       "\n",
       "    Acc_test  Recall_Pathologic  \\\n",
       "0   0.884977           0.742857   \n",
       "1   0.901408           0.742857   \n",
       "2   0.901408           0.714286   \n",
       "3   0.847418           0.542857   \n",
       "4   0.823944           0.485714   \n",
       "5   0.847418           0.542857   \n",
       "6   0.823944           0.485714   \n",
       "7   0.720657           0.628571   \n",
       "8   0.802817           0.571429   \n",
       "9   0.638498           0.600000   \n",
       "10  0.802817           0.571429   \n",
       "11  0.800469           0.600000   \n",
       "12  0.833333           0.628571   \n",
       "13  0.713615           0.600000   \n",
       "14  0.814554           0.628571   \n",
       "15  0.842723           0.457143   \n",
       "16  0.870892           0.800000   \n",
       "17  0.875587           0.657143   \n",
       "18  0.842723           0.685714   \n",
       "19  0.854460           0.428571   \n",
       "20  0.920188           0.885714   \n",
       "\n",
       "    Pathological predicted as Pathological or Suspect  \n",
       "0                                            0.828571  \n",
       "1                                            0.885714  \n",
       "2                                            0.971429  \n",
       "3                                            0.885714  \n",
       "4                                            0.800000  \n",
       "5                                            0.885714  \n",
       "6                                            0.800000  \n",
       "7                                            1.000000  \n",
       "8                                            0.885714  \n",
       "9                                            1.000000  \n",
       "10                                           0.885714  \n",
       "11                                           0.942857  \n",
       "12                                           0.942857  \n",
       "13                                           1.000000  \n",
       "14                                           0.942857  \n",
       "15                                           0.885714  \n",
       "16                                           0.942857  \n",
       "17                                           0.828571  \n",
       "18                                           0.857143  \n",
       "19                                           1.000000  \n",
       "20                                           0.914286  "
      ]
     },
     "execution_count": 495,
     "metadata": {},
     "output_type": "execute_result"
    }
   ],
   "source": [
    "dtc = DecisionTreeClassifier(criterion='entropy', class_weight='balanced')\n",
    "dtc.fit(data_train_selected, labels_train_selected)\n",
    "predicted_labels = dtc.predict(data_test_selected)\n",
    "print(classification_report(labels_test_selected, predicted_labels, target_names=['Normal', 'Suspect', 'Pathologic']))\n",
    "\n",
    "\n",
    "print(f\"Score données d'entrainements: {dtc.score(data_train_selected, labels_train_selected):.4f}\")\n",
    "print(f\"Score données de test: {dtc.score(data_test_selected, labels_test_selected):.4f} \\n\")\n",
    "print(f\"Sensitivity for Pathologic class: {classification_report(labels_test_selected, predicted_labels, target_names=['Normal', 'Suspect', 'Pathologic'], output_dict=True)['Pathologic']['recall']:.4f} \\n\")\n",
    "print(confusion_matrix(labels_test_selected, predicted_labels))\n",
    "\n",
    "cm = confusion_matrix(labels_test_selected, predicted_labels)\n",
    "patho_predicted_as_patho_or_suspect = (cm[2,1]+cm[2,2])/sum(cm[2])\n",
    "\n",
    "accuracies_dataframe = update_line(accuracies_dataframe, 'Decision Tree', True, False, False, dtc.score(data_train_selected, labels_train_selected), dtc.score(data_test_selected, labels_test_selected), classification_report(labels_test_selected, predicted_labels, target_names=['Normal', 'Suspect', 'Pathologic'], output_dict=True)['Pathologic']['recall'], patho_predicted_as_patho_or_suspect)\n",
    "accuracies_dataframe\n"
   ]
  },
  {
   "cell_type": "code",
   "execution_count": null,
   "metadata": {
    "ExecuteTime": {
     "end_time": "2024-06-06T13:23:36.839149Z",
     "start_time": "2024-06-06T13:23:36.698993Z"
    }
   },
   "outputs": [
    {
     "name": "stdout",
     "output_type": "stream",
     "text": [
      "              precision    recall  f1-score   support\n",
      "\n",
      "      Normal       0.95      0.98      0.97       332\n",
      "     Suspect       0.88      0.78      0.83        59\n",
      "  Pathologic       0.94      0.89      0.91        35\n",
      "\n",
      "    accuracy                           0.94       426\n",
      "   macro avg       0.93      0.88      0.90       426\n",
      "weighted avg       0.94      0.94      0.94       426\n",
      "\n",
      "Score données d'entrainements: 1.0\n",
      "Score données de test: 0.9437 \n",
      "\n",
      "Sensitivity for Pathologic class: 0.8857 \n",
      "\n",
      "Consusion Matrix : \n",
      " [[325   5   2]\n",
      " [ 13  46   0]\n",
      " [  3   1  31]]\n"
     ]
    },
    {
     "data": {
      "text/html": [
       "<div>\n",
       "<style scoped>\n",
       "    .dataframe tbody tr th:only-of-type {\n",
       "        vertical-align: middle;\n",
       "    }\n",
       "\n",
       "    .dataframe tbody tr th {\n",
       "        vertical-align: top;\n",
       "    }\n",
       "\n",
       "    .dataframe thead th {\n",
       "        text-align: right;\n",
       "    }\n",
       "</style>\n",
       "<table border=\"1\" class=\"dataframe\">\n",
       "  <thead>\n",
       "    <tr style=\"text-align: right;\">\n",
       "      <th></th>\n",
       "      <th>Algorithm</th>\n",
       "      <th>FeatureSelection</th>\n",
       "      <th>Standardization</th>\n",
       "      <th>Costs</th>\n",
       "      <th>Acc_train</th>\n",
       "      <th>Acc_test</th>\n",
       "      <th>Recall_Pathologic</th>\n",
       "      <th>Pathological predicted as Pathological or Suspect</th>\n",
       "    </tr>\n",
       "  </thead>\n",
       "  <tbody>\n",
       "    <tr>\n",
       "      <th>0</th>\n",
       "      <td>Knn</td>\n",
       "      <td>False</td>\n",
       "      <td>False</td>\n",
       "      <td>False</td>\n",
       "      <td>0.918824</td>\n",
       "      <td>0.884977</td>\n",
       "      <td>0.742857</td>\n",
       "      <td>0.828571</td>\n",
       "    </tr>\n",
       "    <tr>\n",
       "      <th>1</th>\n",
       "      <td>Knn</td>\n",
       "      <td>True</td>\n",
       "      <td>False</td>\n",
       "      <td>False</td>\n",
       "      <td>0.947059</td>\n",
       "      <td>0.901408</td>\n",
       "      <td>0.742857</td>\n",
       "      <td>0.885714</td>\n",
       "    </tr>\n",
       "    <tr>\n",
       "      <th>2</th>\n",
       "      <td>Knn</td>\n",
       "      <td>True</td>\n",
       "      <td>False</td>\n",
       "      <td>True</td>\n",
       "      <td>0.947059</td>\n",
       "      <td>0.901408</td>\n",
       "      <td>0.714286</td>\n",
       "      <td>0.971429</td>\n",
       "    </tr>\n",
       "    <tr>\n",
       "      <th>3</th>\n",
       "      <td>LDA</td>\n",
       "      <td>False</td>\n",
       "      <td>False</td>\n",
       "      <td>False</td>\n",
       "      <td>0.888235</td>\n",
       "      <td>0.847418</td>\n",
       "      <td>0.542857</td>\n",
       "      <td>0.885714</td>\n",
       "    </tr>\n",
       "    <tr>\n",
       "      <th>4</th>\n",
       "      <td>LDA</td>\n",
       "      <td>True</td>\n",
       "      <td>False</td>\n",
       "      <td>False</td>\n",
       "      <td>0.860588</td>\n",
       "      <td>0.823944</td>\n",
       "      <td>0.485714</td>\n",
       "      <td>0.800000</td>\n",
       "    </tr>\n",
       "    <tr>\n",
       "      <th>5</th>\n",
       "      <td>LDA</td>\n",
       "      <td>False</td>\n",
       "      <td>True</td>\n",
       "      <td>False</td>\n",
       "      <td>0.888235</td>\n",
       "      <td>0.847418</td>\n",
       "      <td>0.542857</td>\n",
       "      <td>0.885714</td>\n",
       "    </tr>\n",
       "    <tr>\n",
       "      <th>6</th>\n",
       "      <td>LDA</td>\n",
       "      <td>True</td>\n",
       "      <td>True</td>\n",
       "      <td>False</td>\n",
       "      <td>0.860588</td>\n",
       "      <td>0.823944</td>\n",
       "      <td>0.485714</td>\n",
       "      <td>0.800000</td>\n",
       "    </tr>\n",
       "    <tr>\n",
       "      <th>7</th>\n",
       "      <td>QDA</td>\n",
       "      <td>False</td>\n",
       "      <td>False</td>\n",
       "      <td>False</td>\n",
       "      <td>0.730000</td>\n",
       "      <td>0.720657</td>\n",
       "      <td>0.628571</td>\n",
       "      <td>1.000000</td>\n",
       "    </tr>\n",
       "    <tr>\n",
       "      <th>8</th>\n",
       "      <td>QDA</td>\n",
       "      <td>True</td>\n",
       "      <td>False</td>\n",
       "      <td>False</td>\n",
       "      <td>0.844118</td>\n",
       "      <td>0.802817</td>\n",
       "      <td>0.571429</td>\n",
       "      <td>0.885714</td>\n",
       "    </tr>\n",
       "    <tr>\n",
       "      <th>9</th>\n",
       "      <td>QDA</td>\n",
       "      <td>False</td>\n",
       "      <td>True</td>\n",
       "      <td>False</td>\n",
       "      <td>0.636471</td>\n",
       "      <td>0.638498</td>\n",
       "      <td>0.600000</td>\n",
       "      <td>1.000000</td>\n",
       "    </tr>\n",
       "    <tr>\n",
       "      <th>10</th>\n",
       "      <td>QDA</td>\n",
       "      <td>True</td>\n",
       "      <td>True</td>\n",
       "      <td>False</td>\n",
       "      <td>0.844118</td>\n",
       "      <td>0.802817</td>\n",
       "      <td>0.571429</td>\n",
       "      <td>0.885714</td>\n",
       "    </tr>\n",
       "    <tr>\n",
       "      <th>11</th>\n",
       "      <td>GaussianNB</td>\n",
       "      <td>False</td>\n",
       "      <td>False</td>\n",
       "      <td>False</td>\n",
       "      <td>0.821176</td>\n",
       "      <td>0.800469</td>\n",
       "      <td>0.600000</td>\n",
       "      <td>0.942857</td>\n",
       "    </tr>\n",
       "    <tr>\n",
       "      <th>12</th>\n",
       "      <td>GaussianNB</td>\n",
       "      <td>True</td>\n",
       "      <td>False</td>\n",
       "      <td>False</td>\n",
       "      <td>0.855294</td>\n",
       "      <td>0.833333</td>\n",
       "      <td>0.628571</td>\n",
       "      <td>0.942857</td>\n",
       "    </tr>\n",
       "    <tr>\n",
       "      <th>13</th>\n",
       "      <td>GaussianNB</td>\n",
       "      <td>False</td>\n",
       "      <td>True</td>\n",
       "      <td>False</td>\n",
       "      <td>0.734118</td>\n",
       "      <td>0.713615</td>\n",
       "      <td>0.600000</td>\n",
       "      <td>1.000000</td>\n",
       "    </tr>\n",
       "    <tr>\n",
       "      <th>14</th>\n",
       "      <td>GaussianNB</td>\n",
       "      <td>True</td>\n",
       "      <td>True</td>\n",
       "      <td>False</td>\n",
       "      <td>0.852353</td>\n",
       "      <td>0.814554</td>\n",
       "      <td>0.628571</td>\n",
       "      <td>0.942857</td>\n",
       "    </tr>\n",
       "    <tr>\n",
       "      <th>15</th>\n",
       "      <td>LDA</td>\n",
       "      <td>False</td>\n",
       "      <td>False</td>\n",
       "      <td>True</td>\n",
       "      <td>0.888235</td>\n",
       "      <td>0.842723</td>\n",
       "      <td>0.457143</td>\n",
       "      <td>0.885714</td>\n",
       "    </tr>\n",
       "    <tr>\n",
       "      <th>16</th>\n",
       "      <td>Logistic Regression</td>\n",
       "      <td>False</td>\n",
       "      <td>False</td>\n",
       "      <td>False</td>\n",
       "      <td>0.890000</td>\n",
       "      <td>0.870892</td>\n",
       "      <td>0.800000</td>\n",
       "      <td>0.942857</td>\n",
       "    </tr>\n",
       "    <tr>\n",
       "      <th>17</th>\n",
       "      <td>Logistic Regression</td>\n",
       "      <td>False</td>\n",
       "      <td>True</td>\n",
       "      <td>False</td>\n",
       "      <td>0.907059</td>\n",
       "      <td>0.875587</td>\n",
       "      <td>0.657143</td>\n",
       "      <td>0.828571</td>\n",
       "    </tr>\n",
       "    <tr>\n",
       "      <th>18</th>\n",
       "      <td>Logistic Regression</td>\n",
       "      <td>True</td>\n",
       "      <td>True</td>\n",
       "      <td>False</td>\n",
       "      <td>0.874118</td>\n",
       "      <td>0.842723</td>\n",
       "      <td>0.685714</td>\n",
       "      <td>0.857143</td>\n",
       "    </tr>\n",
       "    <tr>\n",
       "      <th>19</th>\n",
       "      <td>Logistic Regression</td>\n",
       "      <td>False</td>\n",
       "      <td>True</td>\n",
       "      <td>True</td>\n",
       "      <td>0.907059</td>\n",
       "      <td>0.854460</td>\n",
       "      <td>0.428571</td>\n",
       "      <td>1.000000</td>\n",
       "    </tr>\n",
       "    <tr>\n",
       "      <th>20</th>\n",
       "      <td>Decision Tree</td>\n",
       "      <td>True</td>\n",
       "      <td>False</td>\n",
       "      <td>False</td>\n",
       "      <td>0.999412</td>\n",
       "      <td>0.920188</td>\n",
       "      <td>0.885714</td>\n",
       "      <td>0.914286</td>\n",
       "    </tr>\n",
       "    <tr>\n",
       "      <th>21</th>\n",
       "      <td>Decision Tree</td>\n",
       "      <td>False</td>\n",
       "      <td>False</td>\n",
       "      <td>False</td>\n",
       "      <td>1.000000</td>\n",
       "      <td>0.943662</td>\n",
       "      <td>0.885714</td>\n",
       "      <td>0.914286</td>\n",
       "    </tr>\n",
       "  </tbody>\n",
       "</table>\n",
       "</div>"
      ],
      "text/plain": [
       "              Algorithm FeatureSelection Standardization  Costs  Acc_train  \\\n",
       "0                   Knn            False           False  False   0.918824   \n",
       "1                   Knn             True           False  False   0.947059   \n",
       "2                   Knn             True           False   True   0.947059   \n",
       "3                   LDA            False           False  False   0.888235   \n",
       "4                   LDA             True           False  False   0.860588   \n",
       "5                   LDA            False            True  False   0.888235   \n",
       "6                   LDA             True            True  False   0.860588   \n",
       "7                   QDA            False           False  False   0.730000   \n",
       "8                   QDA             True           False  False   0.844118   \n",
       "9                   QDA            False            True  False   0.636471   \n",
       "10                  QDA             True            True  False   0.844118   \n",
       "11           GaussianNB            False           False  False   0.821176   \n",
       "12           GaussianNB             True           False  False   0.855294   \n",
       "13           GaussianNB            False            True  False   0.734118   \n",
       "14           GaussianNB             True            True  False   0.852353   \n",
       "15                  LDA            False           False   True   0.888235   \n",
       "16  Logistic Regression            False           False  False   0.890000   \n",
       "17  Logistic Regression            False            True  False   0.907059   \n",
       "18  Logistic Regression             True            True  False   0.874118   \n",
       "19  Logistic Regression            False            True   True   0.907059   \n",
       "20        Decision Tree             True           False  False   0.999412   \n",
       "21        Decision Tree            False           False  False   1.000000   \n",
       "\n",
       "    Acc_test  Recall_Pathologic  \\\n",
       "0   0.884977           0.742857   \n",
       "1   0.901408           0.742857   \n",
       "2   0.901408           0.714286   \n",
       "3   0.847418           0.542857   \n",
       "4   0.823944           0.485714   \n",
       "5   0.847418           0.542857   \n",
       "6   0.823944           0.485714   \n",
       "7   0.720657           0.628571   \n",
       "8   0.802817           0.571429   \n",
       "9   0.638498           0.600000   \n",
       "10  0.802817           0.571429   \n",
       "11  0.800469           0.600000   \n",
       "12  0.833333           0.628571   \n",
       "13  0.713615           0.600000   \n",
       "14  0.814554           0.628571   \n",
       "15  0.842723           0.457143   \n",
       "16  0.870892           0.800000   \n",
       "17  0.875587           0.657143   \n",
       "18  0.842723           0.685714   \n",
       "19  0.854460           0.428571   \n",
       "20  0.920188           0.885714   \n",
       "21  0.943662           0.885714   \n",
       "\n",
       "    Pathological predicted as Pathological or Suspect  \n",
       "0                                            0.828571  \n",
       "1                                            0.885714  \n",
       "2                                            0.971429  \n",
       "3                                            0.885714  \n",
       "4                                            0.800000  \n",
       "5                                            0.885714  \n",
       "6                                            0.800000  \n",
       "7                                            1.000000  \n",
       "8                                            0.885714  \n",
       "9                                            1.000000  \n",
       "10                                           0.885714  \n",
       "11                                           0.942857  \n",
       "12                                           0.942857  \n",
       "13                                           1.000000  \n",
       "14                                           0.942857  \n",
       "15                                           0.885714  \n",
       "16                                           0.942857  \n",
       "17                                           0.828571  \n",
       "18                                           0.857143  \n",
       "19                                           1.000000  \n",
       "20                                           0.914286  \n",
       "21                                           0.914286  "
      ]
     },
     "execution_count": 496,
     "metadata": {},
     "output_type": "execute_result"
    }
   ],
   "source": [
    "dtc = DecisionTreeClassifier(criterion='entropy', class_weight=None)\n",
    "dtc.fit(data_train, labels_train)\n",
    "predicted_labels = dtc.predict(data_test)\n",
    "print( classification_report(labels_test, predicted_labels, target_names=['Normal', 'Suspect', 'Pathologic']))\n",
    "# Print the accuracy scores for the training and test data\n",
    "\n",
    "print(f\"Score données d'entrainements: {dtc.score(data_train, labels_train)}\")\n",
    "print(f\"Score données de test: {dtc.score(data_test, labels_test):.4f} \\n\")\n",
    "print(f\"Sensitivity for Pathologic class: {classification_report(labels_test, predicted_labels, target_names=['Normal', 'Suspect', 'Pathologic'], output_dict=True)['Pathologic']['recall']:.4f} \\n\")\n",
    "print(f\"Consusion Matrix : \\n {confusion_matrix(labels_test, predicted_labels)}\")\n",
    "\n",
    "cm = confusion_matrix(labels_test, predicted_labels)\n",
    "patho_predicted_as_patho_or_suspect = (cm[2,1]+cm[2,2])/sum(cm[2])\n",
    "\n",
    "cm = confusion_matrix(labels_test, predicted_labels)\n",
    "patho_predicted_as_patho_or_suspect = (cm[2,1]+cm[2,2])/sum(cm[2])\n",
    "\n",
    "accuracies_dataframe = update_line(accuracies_dataframe, 'Decision Tree', False, False, False, dtc.score(data_train, labels_train), dtc.score(data_test, labels_test), classification_report(labels_test, predicted_labels, target_names=['Normal', 'Suspect', 'Pathologic'], output_dict=True)['Pathologic']['recall'], patho_predicted_as_patho_or_suspect)\n",
    "accuracies_dataframe\n",
    "\n"
   ]
  },
  {
   "cell_type": "code",
   "execution_count": null,
   "metadata": {},
   "outputs": [
    {
     "name": "stdout",
     "output_type": "stream",
     "text": [
      "              precision    recall  f1-score   support\n",
      "\n",
      "      Normal       0.95      0.97      0.96       332\n",
      "     Suspect       0.80      0.76      0.78        59\n",
      "  Pathologic       0.97      0.86      0.91        35\n",
      "\n",
      "    accuracy                           0.93       426\n",
      "   macro avg       0.91      0.86      0.88       426\n",
      "weighted avg       0.93      0.93      0.93       426\n",
      "\n",
      "Score données d'entrainements: 1.0000\n",
      "Score données de test: 0.9295774647887324 \n",
      "\n",
      "Sensitivity for Pathologic class: 0.8571 \n",
      "\n",
      "[[321  10   1]\n",
      " [ 14  45   0]\n",
      " [  4   1  30]]\n"
     ]
    },
    {
     "data": {
      "text/html": [
       "<div>\n",
       "<style scoped>\n",
       "    .dataframe tbody tr th:only-of-type {\n",
       "        vertical-align: middle;\n",
       "    }\n",
       "\n",
       "    .dataframe tbody tr th {\n",
       "        vertical-align: top;\n",
       "    }\n",
       "\n",
       "    .dataframe thead th {\n",
       "        text-align: right;\n",
       "    }\n",
       "</style>\n",
       "<table border=\"1\" class=\"dataframe\">\n",
       "  <thead>\n",
       "    <tr style=\"text-align: right;\">\n",
       "      <th></th>\n",
       "      <th>Algorithm</th>\n",
       "      <th>FeatureSelection</th>\n",
       "      <th>Standardization</th>\n",
       "      <th>Costs</th>\n",
       "      <th>Acc_train</th>\n",
       "      <th>Acc_test</th>\n",
       "      <th>Recall_Pathologic</th>\n",
       "      <th>Pathological predicted as Pathological or Suspect</th>\n",
       "    </tr>\n",
       "  </thead>\n",
       "  <tbody>\n",
       "    <tr>\n",
       "      <th>0</th>\n",
       "      <td>Knn</td>\n",
       "      <td>False</td>\n",
       "      <td>False</td>\n",
       "      <td>False</td>\n",
       "      <td>0.918824</td>\n",
       "      <td>0.884977</td>\n",
       "      <td>0.742857</td>\n",
       "      <td>0.828571</td>\n",
       "    </tr>\n",
       "    <tr>\n",
       "      <th>1</th>\n",
       "      <td>Knn</td>\n",
       "      <td>True</td>\n",
       "      <td>False</td>\n",
       "      <td>False</td>\n",
       "      <td>0.947059</td>\n",
       "      <td>0.901408</td>\n",
       "      <td>0.742857</td>\n",
       "      <td>0.885714</td>\n",
       "    </tr>\n",
       "    <tr>\n",
       "      <th>2</th>\n",
       "      <td>Knn</td>\n",
       "      <td>True</td>\n",
       "      <td>False</td>\n",
       "      <td>True</td>\n",
       "      <td>0.947059</td>\n",
       "      <td>0.901408</td>\n",
       "      <td>0.714286</td>\n",
       "      <td>0.971429</td>\n",
       "    </tr>\n",
       "    <tr>\n",
       "      <th>3</th>\n",
       "      <td>LDA</td>\n",
       "      <td>False</td>\n",
       "      <td>False</td>\n",
       "      <td>False</td>\n",
       "      <td>0.888235</td>\n",
       "      <td>0.847418</td>\n",
       "      <td>0.542857</td>\n",
       "      <td>0.885714</td>\n",
       "    </tr>\n",
       "    <tr>\n",
       "      <th>4</th>\n",
       "      <td>LDA</td>\n",
       "      <td>True</td>\n",
       "      <td>False</td>\n",
       "      <td>False</td>\n",
       "      <td>0.860588</td>\n",
       "      <td>0.823944</td>\n",
       "      <td>0.485714</td>\n",
       "      <td>0.800000</td>\n",
       "    </tr>\n",
       "    <tr>\n",
       "      <th>5</th>\n",
       "      <td>LDA</td>\n",
       "      <td>False</td>\n",
       "      <td>True</td>\n",
       "      <td>False</td>\n",
       "      <td>0.888235</td>\n",
       "      <td>0.847418</td>\n",
       "      <td>0.542857</td>\n",
       "      <td>0.885714</td>\n",
       "    </tr>\n",
       "    <tr>\n",
       "      <th>6</th>\n",
       "      <td>LDA</td>\n",
       "      <td>True</td>\n",
       "      <td>True</td>\n",
       "      <td>False</td>\n",
       "      <td>0.860588</td>\n",
       "      <td>0.823944</td>\n",
       "      <td>0.485714</td>\n",
       "      <td>0.800000</td>\n",
       "    </tr>\n",
       "    <tr>\n",
       "      <th>7</th>\n",
       "      <td>QDA</td>\n",
       "      <td>False</td>\n",
       "      <td>False</td>\n",
       "      <td>False</td>\n",
       "      <td>0.730000</td>\n",
       "      <td>0.720657</td>\n",
       "      <td>0.628571</td>\n",
       "      <td>1.000000</td>\n",
       "    </tr>\n",
       "    <tr>\n",
       "      <th>8</th>\n",
       "      <td>QDA</td>\n",
       "      <td>True</td>\n",
       "      <td>False</td>\n",
       "      <td>False</td>\n",
       "      <td>0.844118</td>\n",
       "      <td>0.802817</td>\n",
       "      <td>0.571429</td>\n",
       "      <td>0.885714</td>\n",
       "    </tr>\n",
       "    <tr>\n",
       "      <th>9</th>\n",
       "      <td>QDA</td>\n",
       "      <td>False</td>\n",
       "      <td>True</td>\n",
       "      <td>False</td>\n",
       "      <td>0.636471</td>\n",
       "      <td>0.638498</td>\n",
       "      <td>0.600000</td>\n",
       "      <td>1.000000</td>\n",
       "    </tr>\n",
       "    <tr>\n",
       "      <th>10</th>\n",
       "      <td>QDA</td>\n",
       "      <td>True</td>\n",
       "      <td>True</td>\n",
       "      <td>False</td>\n",
       "      <td>0.844118</td>\n",
       "      <td>0.802817</td>\n",
       "      <td>0.571429</td>\n",
       "      <td>0.885714</td>\n",
       "    </tr>\n",
       "    <tr>\n",
       "      <th>11</th>\n",
       "      <td>GaussianNB</td>\n",
       "      <td>False</td>\n",
       "      <td>False</td>\n",
       "      <td>False</td>\n",
       "      <td>0.821176</td>\n",
       "      <td>0.800469</td>\n",
       "      <td>0.600000</td>\n",
       "      <td>0.942857</td>\n",
       "    </tr>\n",
       "    <tr>\n",
       "      <th>12</th>\n",
       "      <td>GaussianNB</td>\n",
       "      <td>True</td>\n",
       "      <td>False</td>\n",
       "      <td>False</td>\n",
       "      <td>0.855294</td>\n",
       "      <td>0.833333</td>\n",
       "      <td>0.628571</td>\n",
       "      <td>0.942857</td>\n",
       "    </tr>\n",
       "    <tr>\n",
       "      <th>13</th>\n",
       "      <td>GaussianNB</td>\n",
       "      <td>False</td>\n",
       "      <td>True</td>\n",
       "      <td>False</td>\n",
       "      <td>0.734118</td>\n",
       "      <td>0.713615</td>\n",
       "      <td>0.600000</td>\n",
       "      <td>1.000000</td>\n",
       "    </tr>\n",
       "    <tr>\n",
       "      <th>14</th>\n",
       "      <td>GaussianNB</td>\n",
       "      <td>True</td>\n",
       "      <td>True</td>\n",
       "      <td>False</td>\n",
       "      <td>0.852353</td>\n",
       "      <td>0.814554</td>\n",
       "      <td>0.628571</td>\n",
       "      <td>0.942857</td>\n",
       "    </tr>\n",
       "    <tr>\n",
       "      <th>15</th>\n",
       "      <td>LDA</td>\n",
       "      <td>False</td>\n",
       "      <td>False</td>\n",
       "      <td>True</td>\n",
       "      <td>0.888235</td>\n",
       "      <td>0.842723</td>\n",
       "      <td>0.457143</td>\n",
       "      <td>0.885714</td>\n",
       "    </tr>\n",
       "    <tr>\n",
       "      <th>16</th>\n",
       "      <td>Logistic Regression</td>\n",
       "      <td>False</td>\n",
       "      <td>False</td>\n",
       "      <td>False</td>\n",
       "      <td>0.890000</td>\n",
       "      <td>0.870892</td>\n",
       "      <td>0.800000</td>\n",
       "      <td>0.942857</td>\n",
       "    </tr>\n",
       "    <tr>\n",
       "      <th>17</th>\n",
       "      <td>Logistic Regression</td>\n",
       "      <td>False</td>\n",
       "      <td>True</td>\n",
       "      <td>False</td>\n",
       "      <td>0.907059</td>\n",
       "      <td>0.875587</td>\n",
       "      <td>0.657143</td>\n",
       "      <td>0.828571</td>\n",
       "    </tr>\n",
       "    <tr>\n",
       "      <th>18</th>\n",
       "      <td>Logistic Regression</td>\n",
       "      <td>True</td>\n",
       "      <td>True</td>\n",
       "      <td>False</td>\n",
       "      <td>0.874118</td>\n",
       "      <td>0.842723</td>\n",
       "      <td>0.685714</td>\n",
       "      <td>0.857143</td>\n",
       "    </tr>\n",
       "    <tr>\n",
       "      <th>19</th>\n",
       "      <td>Logistic Regression</td>\n",
       "      <td>False</td>\n",
       "      <td>True</td>\n",
       "      <td>True</td>\n",
       "      <td>0.907059</td>\n",
       "      <td>0.854460</td>\n",
       "      <td>0.428571</td>\n",
       "      <td>1.000000</td>\n",
       "    </tr>\n",
       "    <tr>\n",
       "      <th>20</th>\n",
       "      <td>Decision Tree</td>\n",
       "      <td>True</td>\n",
       "      <td>False</td>\n",
       "      <td>False</td>\n",
       "      <td>0.999412</td>\n",
       "      <td>0.920188</td>\n",
       "      <td>0.885714</td>\n",
       "      <td>0.914286</td>\n",
       "    </tr>\n",
       "    <tr>\n",
       "      <th>21</th>\n",
       "      <td>Decision Tree</td>\n",
       "      <td>False</td>\n",
       "      <td>False</td>\n",
       "      <td>False</td>\n",
       "      <td>1.000000</td>\n",
       "      <td>0.943662</td>\n",
       "      <td>0.885714</td>\n",
       "      <td>0.914286</td>\n",
       "    </tr>\n",
       "    <tr>\n",
       "      <th>22</th>\n",
       "      <td>Decision Tree</td>\n",
       "      <td>False</td>\n",
       "      <td>False</td>\n",
       "      <td>True</td>\n",
       "      <td>1.000000</td>\n",
       "      <td>0.929577</td>\n",
       "      <td>0.857143</td>\n",
       "      <td>0.885714</td>\n",
       "    </tr>\n",
       "  </tbody>\n",
       "</table>\n",
       "</div>"
      ],
      "text/plain": [
       "              Algorithm FeatureSelection Standardization  Costs  Acc_train  \\\n",
       "0                   Knn            False           False  False   0.918824   \n",
       "1                   Knn             True           False  False   0.947059   \n",
       "2                   Knn             True           False   True   0.947059   \n",
       "3                   LDA            False           False  False   0.888235   \n",
       "4                   LDA             True           False  False   0.860588   \n",
       "5                   LDA            False            True  False   0.888235   \n",
       "6                   LDA             True            True  False   0.860588   \n",
       "7                   QDA            False           False  False   0.730000   \n",
       "8                   QDA             True           False  False   0.844118   \n",
       "9                   QDA            False            True  False   0.636471   \n",
       "10                  QDA             True            True  False   0.844118   \n",
       "11           GaussianNB            False           False  False   0.821176   \n",
       "12           GaussianNB             True           False  False   0.855294   \n",
       "13           GaussianNB            False            True  False   0.734118   \n",
       "14           GaussianNB             True            True  False   0.852353   \n",
       "15                  LDA            False           False   True   0.888235   \n",
       "16  Logistic Regression            False           False  False   0.890000   \n",
       "17  Logistic Regression            False            True  False   0.907059   \n",
       "18  Logistic Regression             True            True  False   0.874118   \n",
       "19  Logistic Regression            False            True   True   0.907059   \n",
       "20        Decision Tree             True           False  False   0.999412   \n",
       "21        Decision Tree            False           False  False   1.000000   \n",
       "22        Decision Tree            False           False   True   1.000000   \n",
       "\n",
       "    Acc_test  Recall_Pathologic  \\\n",
       "0   0.884977           0.742857   \n",
       "1   0.901408           0.742857   \n",
       "2   0.901408           0.714286   \n",
       "3   0.847418           0.542857   \n",
       "4   0.823944           0.485714   \n",
       "5   0.847418           0.542857   \n",
       "6   0.823944           0.485714   \n",
       "7   0.720657           0.628571   \n",
       "8   0.802817           0.571429   \n",
       "9   0.638498           0.600000   \n",
       "10  0.802817           0.571429   \n",
       "11  0.800469           0.600000   \n",
       "12  0.833333           0.628571   \n",
       "13  0.713615           0.600000   \n",
       "14  0.814554           0.628571   \n",
       "15  0.842723           0.457143   \n",
       "16  0.870892           0.800000   \n",
       "17  0.875587           0.657143   \n",
       "18  0.842723           0.685714   \n",
       "19  0.854460           0.428571   \n",
       "20  0.920188           0.885714   \n",
       "21  0.943662           0.885714   \n",
       "22  0.929577           0.857143   \n",
       "\n",
       "    Pathological predicted as Pathological or Suspect  \n",
       "0                                            0.828571  \n",
       "1                                            0.885714  \n",
       "2                                            0.971429  \n",
       "3                                            0.885714  \n",
       "4                                            0.800000  \n",
       "5                                            0.885714  \n",
       "6                                            0.800000  \n",
       "7                                            1.000000  \n",
       "8                                            0.885714  \n",
       "9                                            1.000000  \n",
       "10                                           0.885714  \n",
       "11                                           0.942857  \n",
       "12                                           0.942857  \n",
       "13                                           1.000000  \n",
       "14                                           0.942857  \n",
       "15                                           0.885714  \n",
       "16                                           0.942857  \n",
       "17                                           0.828571  \n",
       "18                                           0.857143  \n",
       "19                                           1.000000  \n",
       "20                                           0.914286  \n",
       "21                                           0.914286  \n",
       "22                                           0.885714  "
      ]
     },
     "execution_count": 497,
     "metadata": {},
     "output_type": "execute_result"
    }
   ],
   "source": [
    "# Test en attribuant des couts\n",
    "\n",
    "def bayes_decision_rule(y_prob, C):\n",
    "    # Calculer le risque bayésien pour chaque classe\n",
    "    R = np.dot(C, y_prob)\n",
    "\n",
    "    # Classe qui minimise le risque bayésien\n",
    "    y_pred = np.argmin(R)\n",
    "\n",
    "    return y_pred+1\n",
    "\n",
    "\n",
    "# Matrice de couts\n",
    "C = np.array([[0, 1, 5],  # couts pour un individu sain\n",
    "              [1, 0, 1],  # couts pour un individu suspect\n",
    "              [10, 5, 0]])  # couts pour un individu malade\n",
    "\n",
    "dtc_costs = DecisionTreeClassifier(criterion='entropy', class_weight='balanced')\n",
    "dtc_costs.fit(data_train, labels_train)\n",
    "\n",
    "y_prob = dtc_costs.predict_proba(data_test)\n",
    "prediction = [bayes_decision_rule(y_prob[i], C) for i in range(len(y_prob))]\n",
    "prediction = pd.Categorical(prediction, categories=[1.0, 2.0, 3.0], ordered=True)\n",
    "\n",
    "print(classification_report(labels_test, prediction, target_names=['Normal', 'Suspect', 'Pathologic']))\n",
    "\n",
    "\n",
    "print(f\"Score données d'entrainements: {dtc_costs.score(data_train, labels_train):.4f}\")\n",
    "print(f\"Score données de test: {accuracy_score(labels_test, prediction)} \\n\")\n",
    "print(f\"Sensitivity for Pathologic class: {classification_report(labels_test, prediction, target_names=['Normal', 'Suspect', 'Pathologic'], output_dict=True)['Pathologic']['recall']:.4f} \\n\")\n",
    "\n",
    "cm = confusion_matrix(labels_test, prediction)\n",
    "print(cm)\n",
    "patho_predicted_as_patho_or_suspect = (cm[2,1]+cm[2,2])/sum(cm[2])\n",
    "\n",
    "accuracies_dataframe = update_line(\n",
    "    accuracies_dataframe, \n",
    "    'Decision Tree', \n",
    "    False, \n",
    "    False, \n",
    "    True, \n",
    "    dtc_costs.score(data_train, labels_train), \n",
    "    dtc_costs.score(data_test, labels_test), \n",
    "    classification_report(labels_test, prediction, target_names=['Normal', 'Suspect', 'Pathologic'], output_dict=True)['Pathologic']['recall'], \n",
    "    patho_predicted_as_patho_or_suspect\n",
    ")\n",
    "accuracies_dataframe"
   ]
  },
  {
   "cell_type": "code",
   "execution_count": 16,
   "metadata": {},
   "outputs": [
    {
     "ename": "ImportError",
     "evalue": "cannot import name 'dtreeviz' from 'dtreeviz.trees' (c:\\Users\\samma\\AppData\\Local\\Programs\\Python\\Python310\\lib\\site-packages\\dtreeviz\\trees.py)",
     "output_type": "error",
     "traceback": [
      "\u001b[1;31m---------------------------------------------------------------------------\u001b[0m",
      "\u001b[1;31mImportError\u001b[0m                               Traceback (most recent call last)",
      "Cell \u001b[1;32mIn[16], line 1\u001b[0m\n\u001b[1;32m----> 1\u001b[0m \u001b[38;5;28;01mfrom\u001b[39;00m \u001b[38;5;21;01mdtreeviz\u001b[39;00m\u001b[38;5;21;01m.\u001b[39;00m\u001b[38;5;21;01mtrees\u001b[39;00m \u001b[38;5;28;01mimport\u001b[39;00m dtreeviz \n\u001b[0;32m      3\u001b[0m viz \u001b[38;5;241m=\u001b[39m dtreeviz(dtc_costs, data_train, labels_train,\n\u001b[0;32m      4\u001b[0m                 target_name\u001b[38;5;241m=\u001b[39m\u001b[38;5;124m\"\u001b[39m\u001b[38;5;124mtarget\u001b[39m\u001b[38;5;124m\"\u001b[39m,\n\u001b[0;32m      5\u001b[0m                 feature_names\u001b[38;5;241m=\u001b[39m \u001b[38;5;28mlist\u001b[39m(data\u001b[38;5;241m.\u001b[39mcolumns),\n\u001b[0;32m      6\u001b[0m                 class_names\u001b[38;5;241m=\u001b[39m\u001b[38;5;28mlist\u001b[39m(labels\u001b[38;5;241m.\u001b[39munique()))\n\u001b[0;32m      8\u001b[0m viz\n",
      "\u001b[1;31mImportError\u001b[0m: cannot import name 'dtreeviz' from 'dtreeviz.trees' (c:\\Users\\samma\\AppData\\Local\\Programs\\Python\\Python310\\lib\\site-packages\\dtreeviz\\trees.py)"
     ]
    }
   ],
   "source": [
    "from dtreeviz.trees import dtreeviz \n",
    "\n",
    "viz = dtreeviz(dtc_costs, data_train, labels_train,\n",
    "                target_name=\"target\",\n",
    "                feature_names= list(data.columns),\n",
    "                class_names=list(labels.unique()))\n"
   ]
  },
  {
   "cell_type": "code",
   "execution_count": null,
   "metadata": {},
   "outputs": [],
   "source": []
  }
 ],
 "metadata": {
  "kernelspec": {
   "display_name": "Python 3",
   "language": "python",
   "name": "python3"
  },
  "language_info": {
   "codemirror_mode": {
    "name": "ipython",
    "version": 3
   },
   "file_extension": ".py",
   "mimetype": "text/x-python",
   "name": "python",
   "nbconvert_exporter": "python",
   "pygments_lexer": "ipython3",
   "version": "3.10.5"
  }
 },
 "nbformat": 4,
 "nbformat_minor": 2
}
